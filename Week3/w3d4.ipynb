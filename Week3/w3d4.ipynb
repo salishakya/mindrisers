{
 "cells": [
  {
   "cell_type": "markdown",
   "metadata": {},
   "source": [
    "Connected to .conda (Python 3.11.9)"
   ]
  },
  {
   "cell_type": "code",
   "execution_count": null,
   "id": "696f8972-84f7-48a3-b02d-eab7c338a683",
   "metadata": {},
   "outputs": [
    {
     "data": {
      "text/html": [
       "<div>\n",
       "<style scoped>\n",
       "    .dataframe tbody tr th:only-of-type {\n",
       "        vertical-align: middle;\n",
       "    }\n",
       "\n",
       "    .dataframe tbody tr th {\n",
       "        vertical-align: top;\n",
       "    }\n",
       "\n",
       "    .dataframe thead th {\n",
       "        text-align: right;\n",
       "    }\n",
       "</style>\n",
       "<table border=\"1\" class=\"dataframe\">\n",
       "  <thead>\n",
       "    <tr style=\"text-align: right;\">\n",
       "      <th></th>\n",
       "      <th>key</th>\n",
       "      <th>data1</th>\n",
       "      <th>data2</th>\n",
       "    </tr>\n",
       "  </thead>\n",
       "  <tbody>\n",
       "    <tr>\n",
       "      <th>0</th>\n",
       "      <td>A</td>\n",
       "      <td>0</td>\n",
       "      <td>5</td>\n",
       "    </tr>\n",
       "    <tr>\n",
       "      <th>1</th>\n",
       "      <td>B</td>\n",
       "      <td>1</td>\n",
       "      <td>0</td>\n",
       "    </tr>\n",
       "    <tr>\n",
       "      <th>2</th>\n",
       "      <td>C</td>\n",
       "      <td>2</td>\n",
       "      <td>3</td>\n",
       "    </tr>\n",
       "    <tr>\n",
       "      <th>3</th>\n",
       "      <td>A</td>\n",
       "      <td>3</td>\n",
       "      <td>3</td>\n",
       "    </tr>\n",
       "    <tr>\n",
       "      <th>4</th>\n",
       "      <td>B</td>\n",
       "      <td>4</td>\n",
       "      <td>7</td>\n",
       "    </tr>\n",
       "    <tr>\n",
       "      <th>5</th>\n",
       "      <td>C</td>\n",
       "      <td>5</td>\n",
       "      <td>9</td>\n",
       "    </tr>\n",
       "  </tbody>\n",
       "</table>\n",
       "</div>"
      ],
      "text/plain": [
       "  key  data1  data2\n",
       "0   A      0      5\n",
       "1   B      1      0\n",
       "2   C      2      3\n",
       "3   A      3      3\n",
       "4   B      4      7\n",
       "5   C      5      9"
      ]
     },
     "execution_count": 2,
     "metadata": {},
     "output_type": "execute_result"
    }
   ],
   "source": [
    "import numpy as np\n",
    "import pandas as pd\n",
    "\n",
    "rng = np.random.RandomState(0)\n",
    "df = pd.DataFrame(\n",
    "    {\n",
    "        \"key\": [\"A\", \"B\", \"C\", \"A\", \"B\", \"C\"],\n",
    "        \"data1\": range(6),\n",
    "        \"data2\": rng.randint(0, 10, 6),\n",
    "    },\n",
    "    columns=[\"key\", \"data1\", \"data2\"],\n",
    ")\n",
    "\n",
    "df"
   ]
  },
  {
   "cell_type": "code",
   "execution_count": null,
   "id": "18b1dc14-728f-4fb2-b3a1-6988fa769e93",
   "metadata": {},
   "outputs": [],
   "source": [
    "# reserved keywords ma chai = halni ani hami le define gareko ma chai colon"
   ]
  },
  {
   "cell_type": "code",
   "execution_count": null,
   "id": "03dbf16b-a2c0-41d9-afcd-dc9fc78b66d7",
   "metadata": {},
   "outputs": [
    {
     "name": "stderr",
     "output_type": "stream",
     "text": [
      "<ipython-input-6-8c3f715d8fbb>:1: FutureWarning: The provided callable <built-in function min> is currently using SeriesGroupBy.min. In a future version of pandas, the provided callable will be used directly. To keep current behavior pass the string \"min\" instead.\n",
      "  df.groupby('key').aggregate([min, np.mean, np.max])\n",
      "<ipython-input-6-8c3f715d8fbb>:1: FutureWarning: The provided callable <function mean at 0x00000222742B89A0> is currently using SeriesGroupBy.mean. In a future version of pandas, the provided callable will be used directly. To keep current behavior pass the string \"mean\" instead.\n",
      "  df.groupby('key').aggregate([min, np.mean, np.max])\n",
      "<ipython-input-6-8c3f715d8fbb>:1: FutureWarning: The provided callable <function max at 0x00000222742A7F60> is currently using SeriesGroupBy.max. In a future version of pandas, the provided callable will be used directly. To keep current behavior pass the string \"max\" instead.\n",
      "  df.groupby('key').aggregate([min, np.mean, np.max])\n",
      "<ipython-input-6-8c3f715d8fbb>:1: FutureWarning: The provided callable <built-in function min> is currently using SeriesGroupBy.min. In a future version of pandas, the provided callable will be used directly. To keep current behavior pass the string \"min\" instead.\n",
      "  df.groupby('key').aggregate([min, np.mean, np.max])\n"
     ]
    },
    {
     "data": {
      "text/html": [
       "<div>\n",
       "<style scoped>\n",
       "    .dataframe tbody tr th:only-of-type {\n",
       "        vertical-align: middle;\n",
       "    }\n",
       "\n",
       "    .dataframe tbody tr th {\n",
       "        vertical-align: top;\n",
       "    }\n",
       "\n",
       "    .dataframe thead tr th {\n",
       "        text-align: left;\n",
       "    }\n",
       "\n",
       "    .dataframe thead tr:last-of-type th {\n",
       "        text-align: right;\n",
       "    }\n",
       "</style>\n",
       "<table border=\"1\" class=\"dataframe\">\n",
       "  <thead>\n",
       "    <tr>\n",
       "      <th></th>\n",
       "      <th colspan=\"3\" halign=\"left\">data1</th>\n",
       "      <th colspan=\"3\" halign=\"left\">data2</th>\n",
       "    </tr>\n",
       "    <tr>\n",
       "      <th></th>\n",
       "      <th>min</th>\n",
       "      <th>mean</th>\n",
       "      <th>max</th>\n",
       "      <th>min</th>\n",
       "      <th>mean</th>\n",
       "      <th>max</th>\n",
       "    </tr>\n",
       "    <tr>\n",
       "      <th>key</th>\n",
       "      <th></th>\n",
       "      <th></th>\n",
       "      <th></th>\n",
       "      <th></th>\n",
       "      <th></th>\n",
       "      <th></th>\n",
       "    </tr>\n",
       "  </thead>\n",
       "  <tbody>\n",
       "    <tr>\n",
       "      <th>A</th>\n",
       "      <td>0</td>\n",
       "      <td>1.5</td>\n",
       "      <td>3</td>\n",
       "      <td>3</td>\n",
       "      <td>4.0</td>\n",
       "      <td>5</td>\n",
       "    </tr>\n",
       "    <tr>\n",
       "      <th>B</th>\n",
       "      <td>1</td>\n",
       "      <td>2.5</td>\n",
       "      <td>4</td>\n",
       "      <td>0</td>\n",
       "      <td>3.5</td>\n",
       "      <td>7</td>\n",
       "    </tr>\n",
       "    <tr>\n",
       "      <th>C</th>\n",
       "      <td>2</td>\n",
       "      <td>3.5</td>\n",
       "      <td>5</td>\n",
       "      <td>3</td>\n",
       "      <td>6.0</td>\n",
       "      <td>9</td>\n",
       "    </tr>\n",
       "  </tbody>\n",
       "</table>\n",
       "</div>"
      ],
      "text/plain": [
       "    data1          data2         \n",
       "      min mean max   min mean max\n",
       "key                              \n",
       "A       0  1.5   3     3  4.0   5\n",
       "B       1  2.5   4     0  3.5   7\n",
       "C       2  3.5   5     3  6.0   9"
      ]
     },
     "execution_count": 6,
     "metadata": {},
     "output_type": "execute_result"
    }
   ],
   "source": [
    "df.groupby('key').aggregate([min, np.mean, np.max])"
   ]
  },
  {
   "cell_type": "code",
   "execution_count": null,
   "id": "907a6793-4e2f-4e90-a257-b28f570cc129",
   "metadata": {},
   "outputs": [],
   "source": [
    "#list ma pass gareko"
   ]
  },
  {
   "cell_type": "code",
   "execution_count": null,
   "id": "a1b62fca-27de-4ba2-8eb9-0d6136a8373a",
   "metadata": {},
   "outputs": [
    {
     "data": {
      "text/html": [
       "<div>\n",
       "<style scoped>\n",
       "    .dataframe tbody tr th:only-of-type {\n",
       "        vertical-align: middle;\n",
       "    }\n",
       "\n",
       "    .dataframe tbody tr th {\n",
       "        vertical-align: top;\n",
       "    }\n",
       "\n",
       "    .dataframe thead th {\n",
       "        text-align: right;\n",
       "    }\n",
       "</style>\n",
       "<table border=\"1\" class=\"dataframe\">\n",
       "  <thead>\n",
       "    <tr style=\"text-align: right;\">\n",
       "      <th></th>\n",
       "      <th>data1</th>\n",
       "      <th>data2</th>\n",
       "    </tr>\n",
       "    <tr>\n",
       "      <th>key</th>\n",
       "      <th></th>\n",
       "      <th></th>\n",
       "    </tr>\n",
       "  </thead>\n",
       "  <tbody>\n",
       "    <tr>\n",
       "      <th>A</th>\n",
       "      <td>0</td>\n",
       "      <td>5</td>\n",
       "    </tr>\n",
       "    <tr>\n",
       "      <th>B</th>\n",
       "      <td>1</td>\n",
       "      <td>7</td>\n",
       "    </tr>\n",
       "    <tr>\n",
       "      <th>C</th>\n",
       "      <td>2</td>\n",
       "      <td>9</td>\n",
       "    </tr>\n",
       "  </tbody>\n",
       "</table>\n",
       "</div>"
      ],
      "text/plain": [
       "     data1  data2\n",
       "key              \n",
       "A        0      5\n",
       "B        1      7\n",
       "C        2      9"
      ]
     },
     "execution_count": 8,
     "metadata": {},
     "output_type": "execute_result"
    }
   ],
   "source": [
    "# aba chai dataframe ma\n",
    "df.groupby(\"key\").aggregate({\"data1\": \"min\", \"data2\": \"max\"})"
   ]
  },
  {
   "cell_type": "code",
   "execution_count": null,
   "id": "727a02a5-5444-4b15-97a5-79239194ffd1",
   "metadata": {},
   "outputs": [
    {
     "data": {
      "text/html": [
       "<div>\n",
       "<style scoped>\n",
       "    .dataframe tbody tr th:only-of-type {\n",
       "        vertical-align: middle;\n",
       "    }\n",
       "\n",
       "    .dataframe tbody tr th {\n",
       "        vertical-align: top;\n",
       "    }\n",
       "\n",
       "    .dataframe thead th {\n",
       "        text-align: right;\n",
       "    }\n",
       "</style>\n",
       "<table border=\"1\" class=\"dataframe\">\n",
       "  <thead>\n",
       "    <tr style=\"text-align: right;\">\n",
       "      <th></th>\n",
       "      <th>data1</th>\n",
       "      <th>data2</th>\n",
       "    </tr>\n",
       "  </thead>\n",
       "  <tbody>\n",
       "    <tr>\n",
       "      <th>0</th>\n",
       "      <td>-1.5</td>\n",
       "      <td>1.0</td>\n",
       "    </tr>\n",
       "    <tr>\n",
       "      <th>1</th>\n",
       "      <td>-1.5</td>\n",
       "      <td>-3.5</td>\n",
       "    </tr>\n",
       "    <tr>\n",
       "      <th>2</th>\n",
       "      <td>-1.5</td>\n",
       "      <td>-3.0</td>\n",
       "    </tr>\n",
       "    <tr>\n",
       "      <th>3</th>\n",
       "      <td>1.5</td>\n",
       "      <td>-1.0</td>\n",
       "    </tr>\n",
       "    <tr>\n",
       "      <th>4</th>\n",
       "      <td>1.5</td>\n",
       "      <td>3.5</td>\n",
       "    </tr>\n",
       "    <tr>\n",
       "      <th>5</th>\n",
       "      <td>1.5</td>\n",
       "      <td>3.0</td>\n",
       "    </tr>\n",
       "  </tbody>\n",
       "</table>\n",
       "</div>"
      ],
      "text/plain": [
       "   data1  data2\n",
       "0   -1.5    1.0\n",
       "1   -1.5   -3.5\n",
       "2   -1.5   -3.0\n",
       "3    1.5   -1.0\n",
       "4    1.5    3.5\n",
       "5    1.5    3.0"
      ]
     },
     "execution_count": 10,
     "metadata": {},
     "output_type": "execute_result"
    }
   ],
   "source": [
    "# transformation\n",
    "df.groupby(\"key\").transform(lambda x: x - x.mean())"
   ]
  },
  {
   "cell_type": "code",
   "execution_count": null,
   "id": "14b56c78-282e-404b-8e11-e84cdedd7432",
   "metadata": {},
   "outputs": [
    {
     "data": {
      "text/plain": [
       "datetime.datetime(2016, 5, 3, 0, 0)"
      ]
     },
     "execution_count": 11,
     "metadata": {},
     "output_type": "execute_result"
    }
   ],
   "source": [
    "from dateutil import parser\n",
    "\n",
    "date = parser.parse(\"3rd of may, 2016\")\n",
    "date"
   ]
  },
  {
   "cell_type": "code",
   "execution_count": null,
   "id": "73b12cc6-a44c-4343-b324-d7cebd52e85f",
   "metadata": {},
   "outputs": [
    {
     "data": {
      "text/plain": [
       "datetime.datetime(2016, 7, 24, 0, 0)"
      ]
     },
     "execution_count": 12,
     "metadata": {},
     "output_type": "execute_result"
    }
   ],
   "source": [
    "from datetime import datetime\n",
    "\n",
    "datetime(year=2016, month=7, day=24)"
   ]
  },
  {
   "cell_type": "code",
   "execution_count": null,
   "id": "f7131392-fbc6-4f0a-8786-2101e13905d6",
   "metadata": {},
   "outputs": [],
   "source": [
    "# both of them are native python functions"
   ]
  },
  {
   "cell_type": "code",
   "execution_count": null,
   "id": "f89420df-4cf0-42cb-bca7-c1b8552497b9",
   "metadata": {},
   "outputs": [
    {
     "data": {
      "text/plain": [
       "'Tuesday'"
      ]
     },
     "execution_count": 14,
     "metadata": {},
     "output_type": "execute_result"
    }
   ],
   "source": [
    "date.strftime(\"%A\")"
   ]
  },
  {
   "cell_type": "code",
   "execution_count": null,
   "id": "9e5270fd-32a4-4e71-a704-0b96520765b4",
   "metadata": {},
   "outputs": [],
   "source": [
    "# tyo timee ma k day pareko cha?"
   ]
  },
  {
   "cell_type": "code",
   "execution_count": null,
   "id": "61cf76c2-3d7b-4196-b81f-09c9c46b06e3",
   "metadata": {},
   "outputs": [],
   "source": [
    "date = pd.to_datetime(\"5th of august, 1963\")"
   ]
  },
  {
   "cell_type": "code",
   "execution_count": null,
   "id": "5b1a8cfc-ac99-458a-8f02-6566ffc97601",
   "metadata": {},
   "outputs": [
    {
     "data": {
      "text/plain": [
       "Timestamp('1963-08-05 00:00:00')"
      ]
     },
     "execution_count": 17,
     "metadata": {},
     "output_type": "execute_result"
    }
   ],
   "source": [
    "date"
   ]
  },
  {
   "cell_type": "code",
   "execution_count": null,
   "id": "a86fa75b-1e1e-4557-8ce7-327453f26e1e",
   "metadata": {},
   "outputs": [
    {
     "data": {
      "text/plain": [
       "'Monday'"
      ]
     },
     "execution_count": 18,
     "metadata": {},
     "output_type": "execute_result"
    }
   ],
   "source": [
    "date.strftime(\"%A\")"
   ]
  },
  {
   "cell_type": "code",
   "execution_count": null,
   "id": "f06083a1-b985-453c-b053-e94982cba644",
   "metadata": {},
   "outputs": [
    {
     "ename": "ValueError",
     "evalue": "Units 'M', 'Y', and 'y' are no longer supported, as they do not represent unambiguous timedelta values durations.",
     "output_type": "error",
     "traceback": [
      "\u001b[1;31m---------------------------------------------------------------------------\u001b[0m",
      "\u001b[1;31mValueError\u001b[0m                                Traceback (most recent call last)",
      "File \u001b[1;32mc:\\Users\\salis\\Desktop\\python\\Week3\\w3d4.py:1\u001b[0m\n\u001b[1;32m----> 1\u001b[0m date \u001b[39m+\u001b[39m pd\u001b[39m.\u001b[39;49mto_timedelta(np\u001b[39m.\u001b[39;49marange(\u001b[39m12\u001b[39;49m), \u001b[39m\"\u001b[39;49m\u001b[39mM\u001b[39;49m\u001b[39m\"\u001b[39;49m)\n",
      "File \u001b[1;32mc:\\Users\\salis\\Desktop\\python\\.conda\\Lib\\site-packages\\pandas\\core\\tools\\timedeltas.py:184\u001b[0m, in \u001b[0;36mto_timedelta\u001b[1;34m(arg, unit, errors)\u001b[0m\n\u001b[0;32m    182\u001b[0m \u001b[39mif\u001b[39;00m unit \u001b[39mis\u001b[39;00m \u001b[39mnot\u001b[39;00m \u001b[39mNone\u001b[39;00m:\n\u001b[0;32m    183\u001b[0m     unit \u001b[39m=\u001b[39m parse_timedelta_unit(unit)\n\u001b[1;32m--> 184\u001b[0m     disallow_ambiguous_unit(unit)\n\u001b[0;32m    186\u001b[0m \u001b[39mif\u001b[39;00m errors \u001b[39mnot\u001b[39;00m \u001b[39min\u001b[39;00m (\u001b[39m\"\u001b[39m\u001b[39mignore\u001b[39m\u001b[39m\"\u001b[39m, \u001b[39m\"\u001b[39m\u001b[39mraise\u001b[39m\u001b[39m\"\u001b[39m, \u001b[39m\"\u001b[39m\u001b[39mcoerce\u001b[39m\u001b[39m\"\u001b[39m):\n\u001b[0;32m    187\u001b[0m     \u001b[39mraise\u001b[39;00m \u001b[39mValueError\u001b[39;00m(\u001b[39m\"\u001b[39m\u001b[39merrors must be one of \u001b[39m\u001b[39m'\u001b[39m\u001b[39mignore\u001b[39m\u001b[39m'\u001b[39m\u001b[39m, \u001b[39m\u001b[39m'\u001b[39m\u001b[39mraise\u001b[39m\u001b[39m'\u001b[39m\u001b[39m, or \u001b[39m\u001b[39m'\u001b[39m\u001b[39mcoerce\u001b[39m\u001b[39m'\u001b[39m\u001b[39m.\u001b[39m\u001b[39m\"\u001b[39m)\n",
      "File \u001b[1;32mtimedeltas.pyx:825\u001b[0m, in \u001b[0;36mpandas._libs.tslibs.timedeltas.disallow_ambiguous_unit\u001b[1;34m()\u001b[0m\n",
      "File \u001b[1;32mtimedeltas.pyx:827\u001b[0m, in \u001b[0;36mpandas._libs.tslibs.timedeltas.disallow_ambiguous_unit\u001b[1;34m()\u001b[0m\n",
      "\u001b[1;31mValueError\u001b[0m: Units 'M', 'Y', and 'y' are no longer supported, as they do not represent unambiguous timedelta values durations."
     ]
    }
   ],
   "source": [
    "date + pd.to_timedelta(np.arange(12), \"M\")"
   ]
  },
  {
   "cell_type": "code",
   "execution_count": null,
   "id": "5ece27d7-b81c-473c-bb07-f4eebec7b2af",
   "metadata": {},
   "outputs": [
    {
     "name": "stderr",
     "output_type": "stream",
     "text": [
      "<ipython-input-20-a6bd370682f2>:1: FutureWarning: 'H' is deprecated and will be removed in a future version. Please use 'h' instead of 'H'.\n",
      "  date + pd.to_timedelta(np.arange(12), \"H\")\n"
     ]
    },
    {
     "data": {
      "text/plain": [
       "DatetimeIndex(['1963-08-05 00:00:00', '1963-08-05 01:00:00',\n",
       "               '1963-08-05 02:00:00', '1963-08-05 03:00:00',\n",
       "               '1963-08-05 04:00:00', '1963-08-05 05:00:00',\n",
       "               '1963-08-05 06:00:00', '1963-08-05 07:00:00',\n",
       "               '1963-08-05 08:00:00', '1963-08-05 09:00:00',\n",
       "               '1963-08-05 10:00:00', '1963-08-05 11:00:00'],\n",
       "              dtype='datetime64[ns]', freq=None)"
      ]
     },
     "execution_count": 20,
     "metadata": {},
     "output_type": "execute_result"
    }
   ],
   "source": [
    "date + pd.to_timedelta(np.arange(12), \"H\")"
   ]
  },
  {
   "cell_type": "code",
   "execution_count": null,
   "id": "6e44b896-89ca-4f4a-b8c7-38ad666b8e30",
   "metadata": {},
   "outputs": [
    {
     "data": {
      "text/plain": [
       "2015-01-22 00:00:00    0\n",
       "2016-09-21 16:00:00    1\n",
       "2018-05-23 08:00:00    2\n",
       "2020-01-22 00:00:00    3\n",
       "dtype: int64"
      ]
     },
     "execution_count": 21,
     "metadata": {},
     "output_type": "execute_result"
    }
   ],
   "source": [
    "index = pd.DatetimeIndex(pd.date_range(\"2015-1-22\", \"2020-1-22\", periods=4))\n",
    "data = pd.Series([0, 1, 2, 3], index=index)\n",
    "data"
   ]
  },
  {
   "cell_type": "code",
   "execution_count": null,
   "id": "9aacb004-3203-4b27-9bcd-d6dfea0fde87",
   "metadata": {},
   "outputs": [
    {
     "data": {
      "text/plain": [
       "PeriodIndex(['2016-07', '2016-08', '2016-09', '2016-10', '2016-11', '2016-12',\n",
       "             '2017-01'],\n",
       "            dtype='period[M]')"
      ]
     },
     "execution_count": 22,
     "metadata": {},
     "output_type": "execute_result"
    }
   ],
   "source": [
    "pd.period_range(\"2016-07\", periods=7, freq=\"M\")"
   ]
  },
  {
   "cell_type": "code",
   "execution_count": null,
   "id": "45d93c3d-c7da-4fcd-981e-be5bf27904ee",
   "metadata": {},
   "outputs": [
    {
     "data": {
      "text/html": [
       "<div>\n",
       "<style scoped>\n",
       "    .dataframe tbody tr th:only-of-type {\n",
       "        vertical-align: middle;\n",
       "    }\n",
       "\n",
       "    .dataframe tbody tr th {\n",
       "        vertical-align: top;\n",
       "    }\n",
       "\n",
       "    .dataframe thead th {\n",
       "        text-align: right;\n",
       "    }\n",
       "</style>\n",
       "<table border=\"1\" class=\"dataframe\">\n",
       "  <thead>\n",
       "    <tr style=\"text-align: right;\">\n",
       "      <th></th>\n",
       "      <th>Date</th>\n",
       "      <th>Open</th>\n",
       "      <th>High</th>\n",
       "      <th>Low</th>\n",
       "      <th>Close</th>\n",
       "      <th>Adj Close</th>\n",
       "      <th>Volume</th>\n",
       "    </tr>\n",
       "  </thead>\n",
       "  <tbody>\n",
       "    <tr>\n",
       "      <th>9453</th>\n",
       "      <td>2023-09-15</td>\n",
       "      <td>336.920013</td>\n",
       "      <td>337.399994</td>\n",
       "      <td>329.649994</td>\n",
       "      <td>330.220001</td>\n",
       "      <td>330.220001</td>\n",
       "      <td>37666900</td>\n",
       "    </tr>\n",
       "    <tr>\n",
       "      <th>9454</th>\n",
       "      <td>2023-09-18</td>\n",
       "      <td>327.799988</td>\n",
       "      <td>330.399994</td>\n",
       "      <td>326.359985</td>\n",
       "      <td>329.059998</td>\n",
       "      <td>329.059998</td>\n",
       "      <td>16834200</td>\n",
       "    </tr>\n",
       "    <tr>\n",
       "      <th>9455</th>\n",
       "      <td>2023-09-19</td>\n",
       "      <td>326.170013</td>\n",
       "      <td>329.390015</td>\n",
       "      <td>324.510010</td>\n",
       "      <td>328.649994</td>\n",
       "      <td>328.649994</td>\n",
       "      <td>16505900</td>\n",
       "    </tr>\n",
       "    <tr>\n",
       "      <th>9456</th>\n",
       "      <td>2023-09-20</td>\n",
       "      <td>329.510010</td>\n",
       "      <td>329.589996</td>\n",
       "      <td>320.510010</td>\n",
       "      <td>320.769989</td>\n",
       "      <td>320.769989</td>\n",
       "      <td>21436500</td>\n",
       "    </tr>\n",
       "    <tr>\n",
       "      <th>9457</th>\n",
       "      <td>2023-09-21</td>\n",
       "      <td>319.260010</td>\n",
       "      <td>325.350006</td>\n",
       "      <td>315.000000</td>\n",
       "      <td>319.529999</td>\n",
       "      <td>319.529999</td>\n",
       "      <td>35529500</td>\n",
       "    </tr>\n",
       "  </tbody>\n",
       "</table>\n",
       "</div>"
      ],
      "text/plain": [
       "            Date        Open        High         Low       Close   Adj Close  \\\n",
       "9453  2023-09-15  336.920013  337.399994  329.649994  330.220001  330.220001   \n",
       "9454  2023-09-18  327.799988  330.399994  326.359985  329.059998  329.059998   \n",
       "9455  2023-09-19  326.170013  329.390015  324.510010  328.649994  328.649994   \n",
       "9456  2023-09-20  329.510010  329.589996  320.510010  320.769989  320.769989   \n",
       "9457  2023-09-21  319.260010  325.350006  315.000000  319.529999  319.529999   \n",
       "\n",
       "        Volume  \n",
       "9453  37666900  \n",
       "9454  16834200  \n",
       "9455  16505900  \n",
       "9456  21436500  \n",
       "9457  35529500  "
      ]
     },
     "execution_count": 23,
     "metadata": {},
     "output_type": "execute_result"
    }
   ],
   "source": [
    "msft = pd.read_csv(\"MSFT_Stock_data.csv\")\n",
    "msft.tail()"
   ]
  },
  {
   "cell_type": "code",
   "execution_count": null,
   "id": "28e5c0ba-6eca-4b1a-8904-c408d7a7e563",
   "metadata": {},
   "outputs": [
    {
     "name": "stdout",
     "output_type": "stream",
     "text": [
      " Volume in drive C is Windows-SSD\n",
      " Volume Serial Number is DC47-5B35\n",
      "\n",
      " Directory of c:\\Users\\salis\\Desktop\\python\\Week3\n",
      "\n",
      "09/04/2024  07:41 AM    <DIR>          .\n",
      "09/01/2024  02:18 PM    <DIR>          ..\n",
      "09/02/2024  08:00 AM           655,199 03 - Python_for_Data_Science_Numpy_Pandas_Course_Notes.pdf\n",
      "09/22/2023  11:25 AM           976,103 MSFT_Stock_data.csv\n",
      "09/02/2024  07:43 AM               872 state-abbrevs.csv\n",
      "09/02/2024  07:41 AM               835 state-areas.csv\n",
      "09/02/2024  07:41 AM            57,935 state-population.csv\n",
      "09/01/2024  07:57 AM            47,126 w3d1.ipynb\n",
      "09/01/2024  02:16 PM             1,601 w3d1.py\n",
      "09/02/2024  07:59 AM            48,514 w3d2.ipynb\n",
      "09/04/2024  07:02 AM             3,345 w3d2.py\n",
      "09/03/2024  08:00 AM           183,210 w3d3.ipynb\n",
      "09/03/2024  08:00 AM             2,318 w3d3.py\n",
      "09/04/2024  07:42 AM             1,219 w3d4.py\n",
      "              12 File(s)      1,978,277 bytes\n",
      "               2 Dir(s)  40,027,127,808 bytes free\n"
     ]
    }
   ],
   "source": [
    "ls"
   ]
  },
  {
   "cell_type": "code",
   "execution_count": null,
   "id": "40221afe-78ff-4a78-93ec-83b5e7a9d3c8",
   "metadata": {},
   "outputs": [
    {
     "data": {
      "text/html": [
       "<div>\n",
       "<style scoped>\n",
       "    .dataframe tbody tr th:only-of-type {\n",
       "        vertical-align: middle;\n",
       "    }\n",
       "\n",
       "    .dataframe tbody tr th {\n",
       "        vertical-align: top;\n",
       "    }\n",
       "\n",
       "    .dataframe thead th {\n",
       "        text-align: right;\n",
       "    }\n",
       "</style>\n",
       "<table border=\"1\" class=\"dataframe\">\n",
       "  <thead>\n",
       "    <tr style=\"text-align: right;\">\n",
       "      <th></th>\n",
       "      <th>Open</th>\n",
       "      <th>High</th>\n",
       "      <th>Low</th>\n",
       "      <th>Close</th>\n",
       "      <th>Adj Close</th>\n",
       "      <th>Volume</th>\n",
       "    </tr>\n",
       "    <tr>\n",
       "      <th>Date</th>\n",
       "      <th></th>\n",
       "      <th></th>\n",
       "      <th></th>\n",
       "      <th></th>\n",
       "      <th></th>\n",
       "      <th></th>\n",
       "    </tr>\n",
       "  </thead>\n",
       "  <tbody>\n",
       "    <tr>\n",
       "      <th>1986-03-13</th>\n",
       "      <td>0.088542</td>\n",
       "      <td>0.101563</td>\n",
       "      <td>0.088542</td>\n",
       "      <td>0.097222</td>\n",
       "      <td>0.060396</td>\n",
       "      <td>1031788800</td>\n",
       "    </tr>\n",
       "    <tr>\n",
       "      <th>1986-03-14</th>\n",
       "      <td>0.097222</td>\n",
       "      <td>0.102431</td>\n",
       "      <td>0.097222</td>\n",
       "      <td>0.100694</td>\n",
       "      <td>0.062553</td>\n",
       "      <td>308160000</td>\n",
       "    </tr>\n",
       "    <tr>\n",
       "      <th>1986-03-17</th>\n",
       "      <td>0.100694</td>\n",
       "      <td>0.103299</td>\n",
       "      <td>0.100694</td>\n",
       "      <td>0.102431</td>\n",
       "      <td>0.063632</td>\n",
       "      <td>133171200</td>\n",
       "    </tr>\n",
       "    <tr>\n",
       "      <th>1986-03-18</th>\n",
       "      <td>0.102431</td>\n",
       "      <td>0.103299</td>\n",
       "      <td>0.098958</td>\n",
       "      <td>0.099826</td>\n",
       "      <td>0.062014</td>\n",
       "      <td>67766400</td>\n",
       "    </tr>\n",
       "    <tr>\n",
       "      <th>1986-03-19</th>\n",
       "      <td>0.099826</td>\n",
       "      <td>0.100694</td>\n",
       "      <td>0.097222</td>\n",
       "      <td>0.098090</td>\n",
       "      <td>0.060936</td>\n",
       "      <td>47894400</td>\n",
       "    </tr>\n",
       "  </tbody>\n",
       "</table>\n",
       "</div>"
      ],
      "text/plain": [
       "                Open      High       Low     Close  Adj Close      Volume\n",
       "Date                                                                     \n",
       "1986-03-13  0.088542  0.101563  0.088542  0.097222   0.060396  1031788800\n",
       "1986-03-14  0.097222  0.102431  0.097222  0.100694   0.062553   308160000\n",
       "1986-03-17  0.100694  0.103299  0.100694  0.102431   0.063632   133171200\n",
       "1986-03-18  0.102431  0.103299  0.098958  0.099826   0.062014    67766400\n",
       "1986-03-19  0.099826  0.100694  0.097222  0.098090   0.060936    47894400"
      ]
     },
     "execution_count": 26,
     "metadata": {},
     "output_type": "execute_result"
    }
   ],
   "source": [
    "msft.set_index(\"Date\", inplace=True)\n",
    "msft.head()"
   ]
  },
  {
   "cell_type": "code",
   "execution_count": null,
   "id": "9d6df85d-01ae-4711-80cb-242335bf1e1b",
   "metadata": {},
   "outputs": [],
   "source": [
    "# set index is explicit always"
   ]
  },
  {
   "cell_type": "code",
   "execution_count": null,
   "id": "1c716e8a-7410-4814-8ff3-fe972b0e54c5",
   "metadata": {},
   "outputs": [],
   "source": [
    "# check notes here"
   ]
  },
  {
   "cell_type": "markdown",
   "metadata": {},
   "source": [
    "No kernel connected"
   ]
  },
  {
   "cell_type": "code",
   "execution_count": null,
   "id": "71f639e5-8389-43a7-9435-a1b8e3ffbf4c",
   "metadata": {},
   "outputs": [],
   "source": [
    "import numpy as np\n",
    "import pandas as pd"
   ]
  },
  {
   "cell_type": "code",
   "execution_count": null,
   "id": "a52325e9-e718-429e-9b88-c349254e201b",
   "metadata": {},
   "outputs": [],
   "source": [
    "msft = pd.read_csv(\"MSFT_Stock_data.csv\")"
   ]
  },
  {
   "cell_type": "code",
   "execution_count": null,
   "id": "dcfec07d-bd0f-4d42-a22e-25886d66f88b",
   "metadata": {},
   "outputs": [],
   "source": [
    "index = pd.DatetimeIndex(pd.date_range(\"2015-1-22\", \"2020-1-22\", periods=4))"
   ]
  },
  {
   "cell_type": "code",
   "execution_count": null,
   "id": "0e50cfad-c926-405a-8832-22f191355a9c",
   "metadata": {},
   "outputs": [
    {
     "data": {
      "text/plain": [
       "2015-01-22 00:00:00    0\n",
       "2016-09-21 16:00:00    1\n",
       "2018-05-23 08:00:00    2\n",
       "2020-01-22 00:00:00    3\n",
       "dtype: int64"
      ]
     },
     "execution_count": 6,
     "metadata": {},
     "output_type": "execute_result"
    }
   ],
   "source": [
    "data = pd.Series([0, 1, 2, 3], index=index)\n",
    "data"
   ]
  },
  {
   "cell_type": "code",
   "execution_count": null,
   "id": "44b9c0b0-6bd0-4fe4-9d65-a793e70c8185",
   "metadata": {},
   "outputs": [],
   "source": [
    "from datetime import datetime"
   ]
  },
  {
   "cell_type": "code",
   "execution_count": null,
   "id": "aeeec53f-f30d-46a3-a344-bf6e39c8dba3",
   "metadata": {},
   "outputs": [],
   "source": [
    "from dateutil import parser"
   ]
  },
  {
   "cell_type": "code",
   "execution_count": null,
   "id": "bf598ffc-3e66-4bf6-95ad-ad6993a7f373",
   "metadata": {},
   "outputs": [
    {
     "name": "stdout",
     "output_type": "stream",
     "text": [
      "DatetimeIndex([          '1970-01-01 00:00:00',\n",
      "               '1970-01-01 00:00:00.000000001',\n",
      "               '1970-01-01 00:00:00.000000002',\n",
      "               '1970-01-01 00:00:00.000000003',\n",
      "               '1970-01-01 00:00:00.000000004',\n",
      "               '1970-01-01 00:00:00.000000005',\n",
      "               '1970-01-01 00:00:00.000000006',\n",
      "               '1970-01-01 00:00:00.000000007',\n",
      "               '1970-01-01 00:00:00.000000008',\n",
      "               '1970-01-01 00:00:00.000000009',\n",
      "               ...\n",
      "               '1970-01-01 00:00:00.000009448',\n",
      "               '1970-01-01 00:00:00.000009449',\n",
      "               '1970-01-01 00:00:00.000009450',\n",
      "               '1970-01-01 00:00:00.000009451',\n",
      "               '1970-01-01 00:00:00.000009452',\n",
      "               '1970-01-01 00:00:00.000009453',\n",
      "               '1970-01-01 00:00:00.000009454',\n",
      "               '1970-01-01 00:00:00.000009455',\n",
      "               '1970-01-01 00:00:00.000009456',\n",
      "               '1970-01-01 00:00:00.000009457'],\n",
      "              dtype='datetime64[ns]', length=9458, freq=None)\n",
      "previous data type is datetime64[ns]\n",
      "----------------------------------------\n",
      "DatetimeIndex([          '1970-01-01 00:00:00',\n",
      "               '1970-01-01 00:00:00.000000001',\n",
      "               '1970-01-01 00:00:00.000000002',\n",
      "               '1970-01-01 00:00:00.000000003',\n",
      "               '1970-01-01 00:00:00.000000004',\n",
      "               '1970-01-01 00:00:00.000000005',\n",
      "               '1970-01-01 00:00:00.000000006',\n",
      "               '1970-01-01 00:00:00.000000007',\n",
      "               '1970-01-01 00:00:00.000000008',\n",
      "               '1970-01-01 00:00:00.000000009',\n",
      "               ...\n",
      "               '1970-01-01 00:00:00.000009448',\n",
      "               '1970-01-01 00:00:00.000009449',\n",
      "               '1970-01-01 00:00:00.000009450',\n",
      "               '1970-01-01 00:00:00.000009451',\n",
      "               '1970-01-01 00:00:00.000009452',\n",
      "               '1970-01-01 00:00:00.000009453',\n",
      "               '1970-01-01 00:00:00.000009454',\n",
      "               '1970-01-01 00:00:00.000009455',\n",
      "               '1970-01-01 00:00:00.000009456',\n",
      "               '1970-01-01 00:00:00.000009457'],\n",
      "              dtype='datetime64[ns]', length=9458, freq=None)\n",
      "----------------------------------------\n",
      "new data type is  datetime64[ns]\n",
      "----------------------------------------\n"
     ]
    }
   ],
   "source": [
    "msft_close = msft[\"Close\"]\n",
    "print(msft_close.index)\n",
    "print(\"previous data type is\", msft_close.index.dtype)\n",
    "print(\"-\" * 40)\n",
    "msft_close.index = pd.to_datetime(msft_close.index)\n",
    "print(msft_close.index)\n",
    "print(\"-\" * 40)\n",
    "print(\"new data type is \", msft_close.index.dtype)\n",
    "print(\"-\" * 40)"
   ]
  },
  {
   "cell_type": "code",
   "execution_count": null,
   "id": "385a04fc-c69d-46a3-8628-67b848180633",
   "metadata": {},
   "outputs": [
    {
     "data": {
      "text/plain": [
       "<Axes: >"
      ]
     },
     "execution_count": 13,
     "metadata": {},
     "output_type": "execute_result"
    },
    {
     "data": {
      "image/png": "[encoded data removed]",
      "text/plain": [
       "<Figure size 640x480 with 1 Axes>"
      ]
     },
     "metadata": {},
     "output_type": "display_data"
    }
   ],
   "source": [
    "%matplotlib inline\n",
    "# Ensures that any plots generated by Matplotlib will be displayed directly in the Jupyter Notebook.\n",
    "\n",
    "import matplotlib.pyplot as plt\n",
    "# Imports the Matplotlib library and its 'pyplot' module, which provides a MATLAB-like interface for creating plots and visualizations.\n",
    "\n",
    "import seaborn\n",
    "# Imports the Seaborn library, which is built on top of Matplotlib and provides a high-level interface for drawing attractive and informative statistical graphics.\n",
    "\n",
    "seaborn.set_theme()\n",
    "# Sets the theme for Seaborn plots to the default theme, which enhances the visual aesthetics of the plots by using Seaborn's style settings.\n",
    "\n",
    "msft_close.plot()\n",
    "# Plots the data contained in the 'msft_close' variable, which is assumed to be a pandas Series or DataFrame, using Matplotlib's plotting function."
   ]
  },
  {
   "cell_type": "code",
   "execution_count": null,
   "id": "fd92f748-0957-41b9-a798-a28569a82b89",
   "metadata": {},
   "outputs": [
    {
     "data": {
      "text/plain": [
       "1970-01-01 00:00:00.000000000      0.097222\n",
       "1970-01-01 00:00:00.000000001      0.100694\n",
       "1970-01-01 00:00:00.000000002      0.102431\n",
       "1970-01-01 00:00:00.000000003      0.099826\n",
       "1970-01-01 00:00:00.000000004      0.098090\n",
       "                                    ...    \n",
       "1970-01-01 00:00:00.000009453    330.220001\n",
       "1970-01-01 00:00:00.000009454    329.059998\n",
       "1970-01-01 00:00:00.000009455    328.649994\n",
       "1970-01-01 00:00:00.000009456    320.769989\n",
       "1970-01-01 00:00:00.000009457    319.529999\n",
       "Name: Close, Length: 9458, dtype: float64"
      ]
     },
     "execution_count": 14,
     "metadata": {},
     "output_type": "execute_result"
    }
   ],
   "source": [
    "msft_close"
   ]
  },
  {
   "cell_type": "code",
   "execution_count": null,
   "id": "1636b649-19ae-40b8-8ad4-38730e047279",
   "metadata": {},
   "outputs": [
    {
     "name": "stderr",
     "output_type": "stream",
     "text": [
      "<ipython-input-19-6255b2c6bf44>:4: FutureWarning: 'BA' is deprecated and will be removed in a future version, please use 'BYE' instead.\n",
      "  msft_close.resample(\"BA\").mean().plot(style=\":\")\n"
     ]
    },
    {
     "data": {
      "text/plain": [
       "<matplotlib.legend.Legend at 0x1dccc4c0ed0>"
      ]
     },
     "execution_count": 19,
     "metadata": {},
     "output_type": "execute_result"
    },
    {
     "data": {
      "image/png": "[encoded data removed]",
      "text/plain": [
       "<Figure size 640x480 with 1 Axes>"
      ]
     },
     "metadata": {},
     "output_type": "display_data"
    }
   ],
   "source": [
    "msft_close.plot(alpha=0.5, style=\"-\")\n",
    "# Plots the original time series data from 'msft_close' with 50% transparency (alpha=0.5) and a solid line ('-').\n",
    "\n",
    "msft_close.resample(\"BA\").mean().plot(style=\":\")\n",
    "# Resamples the 'msft_close' data to the Business Year-End frequency ('BA'), taking the mean of the values within each business year.\n",
    "# Then, it plots the resampled data with a dotted line (style=':').\n",
    "\n",
    "# msft_close.asfreq('BA', method='ffill').plot(style='--')\n",
    "# Converts the frequency of the 'msft_close' data to the Business Year-End frequency ('BA') using asfreq(), which selects the data at the specified frequency without aggregation.\n",
    "# It plots the data with a dashed line (style='--').\n",
    "\n",
    "plt.legend([\"input\", \"resample\"], loc=\"upper left\")\n",
    "# Adds a legend to the plot with labels for the original input data, the resampled data, and the asfreq-converted data.\n",
    "# The legend is positioned in the upper-left corner of the plot."
   ]
  },
  {
   "cell_type": "code",
   "execution_count": null,
   "id": "dce2cabe-aebb-4ef9-b391-78e9991e69bf",
   "metadata": {},
   "outputs": [],
   "source": [
    "msft_close = msft[\"Close\"]"
   ]
  },
  {
   "cell_type": "code",
   "execution_count": null,
   "id": "994a637a-baa1-4590-b974-22cef07ea183",
   "metadata": {},
   "outputs": [
    {
     "name": "stderr",
     "output_type": "stream",
     "text": [
      "<ipython-input-21-fc2baa02e263>:5: FutureWarning: 'BA' is deprecated and will be removed in a future version, please use 'BYE' instead.\n",
      "  msft_close.resample(\"BA\").mean().plot(style=\":\")\n",
      "<ipython-input-21-fc2baa02e263>:9: FutureWarning: 'BA' is deprecated and will be removed in a future version, please use 'BYE' instead.\n",
      "  msft_close.asfreq(\"BA\", method=\"ffill\").plot(style=\"--\")\n"
     ]
    },
    {
     "ename": "ValueError",
     "evalue": "zero-size array to reduction operation fmin which has no identity",
     "output_type": "error",
     "traceback": [
      "\u001b[1;31m---------------------------------------------------------------------------\u001b[0m",
      "\u001b[1;31mValueError\u001b[0m                                Traceback (most recent call last)",
      "File \u001b[1;32mc:\\Users\\salis\\Desktop\\python\\Week3\\w3d4.py:9\u001b[0m\n\u001b[0;32m      5\u001b[0m msft_close\u001b[39m.\u001b[39mresample(\u001b[39m\"\u001b[39m\u001b[39mBA\u001b[39m\u001b[39m\"\u001b[39m)\u001b[39m.\u001b[39mmean()\u001b[39m.\u001b[39mplot(style\u001b[39m=\u001b[39m\u001b[39m\"\u001b[39m\u001b[39m:\u001b[39m\u001b[39m\"\u001b[39m)\n\u001b[0;32m      6\u001b[0m \u001b[39m# Resamples the 'msft_close' data to the Business Year-End frequency ('BA'), taking the mean of the values within each business year.\u001b[39;00m\n\u001b[0;32m      7\u001b[0m \u001b[39m# Then, it plots the resampled data with a dotted line (style=':').\u001b[39;00m\n\u001b[1;32m----> 9\u001b[0m msft_close\u001b[39m.\u001b[39;49masfreq(\u001b[39m\"\u001b[39;49m\u001b[39mBA\u001b[39;49m\u001b[39m\"\u001b[39;49m, method\u001b[39m=\u001b[39;49m\u001b[39m\"\u001b[39;49m\u001b[39mffill\u001b[39;49m\u001b[39m\"\u001b[39;49m)\u001b[39m.\u001b[39;49mplot(style\u001b[39m=\u001b[39;49m\u001b[39m\"\u001b[39;49m\u001b[39m--\u001b[39;49m\u001b[39m\"\u001b[39;49m)\n\u001b[0;32m     10\u001b[0m \u001b[39m# Converts the frequency of the 'msft_close' data to the Business Year-End frequency ('BA') using asfreq(), which selects the data at the specified frequency without aggregation.\u001b[39;00m\n\u001b[0;32m     11\u001b[0m \u001b[39m# It plots the data with a dashed line (style='--').\u001b[39;00m\n\u001b[0;32m     13\u001b[0m plt\u001b[39m.\u001b[39mlegend([\u001b[39m\"\u001b[39m\u001b[39minput\u001b[39m\u001b[39m\"\u001b[39m, \u001b[39m\"\u001b[39m\u001b[39mresample\u001b[39m\u001b[39m\"\u001b[39m, \u001b[39m\"\u001b[39m\u001b[39masfreq\u001b[39m\u001b[39m\"\u001b[39m], loc\u001b[39m=\u001b[39m\u001b[39m\"\u001b[39m\u001b[39mupper left\u001b[39m\u001b[39m\"\u001b[39m)\n",
      "File \u001b[1;32mc:\\Users\\salis\\Desktop\\python\\.conda\\Lib\\site-packages\\pandas\\plotting\\_core.py:1030\u001b[0m, in \u001b[0;36mPlotAccessor.__call__\u001b[1;34m(self, *args, **kwargs)\u001b[0m\n\u001b[0;32m   1027\u001b[0m             label_name \u001b[39m=\u001b[39m label_kw \u001b[39mor\u001b[39;00m data\u001b[39m.\u001b[39mcolumns\n\u001b[0;32m   1028\u001b[0m             data\u001b[39m.\u001b[39mcolumns \u001b[39m=\u001b[39m label_name\n\u001b[1;32m-> 1030\u001b[0m \u001b[39mreturn\u001b[39;00m plot_backend\u001b[39m.\u001b[39;49mplot(data, kind\u001b[39m=\u001b[39;49mkind, \u001b[39m*\u001b[39;49m\u001b[39m*\u001b[39;49mkwargs)\n",
      "File \u001b[1;32mc:\\Users\\salis\\Desktop\\python\\.conda\\Lib\\site-packages\\pandas\\plotting\\_matplotlib\\__init__.py:71\u001b[0m, in \u001b[0;36mplot\u001b[1;34m(data, kind, **kwargs)\u001b[0m\n\u001b[0;32m     69\u001b[0m         kwargs[\u001b[39m\"\u001b[39m\u001b[39max\u001b[39m\u001b[39m\"\u001b[39m] \u001b[39m=\u001b[39m \u001b[39mgetattr\u001b[39m(ax, \u001b[39m\"\u001b[39m\u001b[39mleft_ax\u001b[39m\u001b[39m\"\u001b[39m, ax)\n\u001b[0;32m     70\u001b[0m plot_obj \u001b[39m=\u001b[39m PLOT_CLASSES[kind](data, \u001b[39m*\u001b[39m\u001b[39m*\u001b[39mkwargs)\n\u001b[1;32m---> 71\u001b[0m plot_obj\u001b[39m.\u001b[39;49mgenerate()\n\u001b[0;32m     72\u001b[0m plot_obj\u001b[39m.\u001b[39mdraw()\n\u001b[0;32m     73\u001b[0m \u001b[39mreturn\u001b[39;00m plot_obj\u001b[39m.\u001b[39mresult\n",
      "File \u001b[1;32mc:\\Users\\salis\\Desktop\\python\\.conda\\Lib\\site-packages\\pandas\\plotting\\_matplotlib\\core.py:501\u001b[0m, in \u001b[0;36mMPLPlot.generate\u001b[1;34m(self)\u001b[0m\n\u001b[0;32m    499\u001b[0m \u001b[39mself\u001b[39m\u001b[39m.\u001b[39m_compute_plot_data()\n\u001b[0;32m    500\u001b[0m fig \u001b[39m=\u001b[39m \u001b[39mself\u001b[39m\u001b[39m.\u001b[39mfig\n\u001b[1;32m--> 501\u001b[0m \u001b[39mself\u001b[39;49m\u001b[39m.\u001b[39;49m_make_plot(fig)\n\u001b[0;32m    502\u001b[0m \u001b[39mself\u001b[39m\u001b[39m.\u001b[39m_add_table()\n\u001b[0;32m    503\u001b[0m \u001b[39mself\u001b[39m\u001b[39m.\u001b[39m_make_legend()\n",
      "File \u001b[1;32mc:\\Users\\salis\\Desktop\\python\\.conda\\Lib\\site-packages\\pandas\\plotting\\_matplotlib\\core.py:1560\u001b[0m, in \u001b[0;36mLinePlot._make_plot\u001b[1;34m(self, fig)\u001b[0m\n\u001b[0;32m   1556\u001b[0m \u001b[39mif\u001b[39;00m \u001b[39mself\u001b[39m\u001b[39m.\u001b[39m_is_ts_plot():\n\u001b[0;32m   1557\u001b[0m     \u001b[39m# reset of xlim should be used for ts data\u001b[39;00m\n\u001b[0;32m   1558\u001b[0m     \u001b[39m# TODO: GH28021, should find a way to change view limit on xaxis\u001b[39;00m\n\u001b[0;32m   1559\u001b[0m     lines \u001b[39m=\u001b[39m get_all_lines(ax)\n\u001b[1;32m-> 1560\u001b[0m     left, right \u001b[39m=\u001b[39m get_xlim(lines)\n\u001b[0;32m   1561\u001b[0m     ax\u001b[39m.\u001b[39mset_xlim(left, right)\n",
      "File \u001b[1;32mc:\\Users\\salis\\Desktop\\python\\.conda\\Lib\\site-packages\\pandas\\plotting\\_matplotlib\\tools.py:490\u001b[0m, in \u001b[0;36mget_xlim\u001b[1;34m(lines)\u001b[0m\n\u001b[0;32m    488\u001b[0m \u001b[39mfor\u001b[39;00m line \u001b[39min\u001b[39;00m lines:\n\u001b[0;32m    489\u001b[0m     x \u001b[39m=\u001b[39m line\u001b[39m.\u001b[39mget_xdata(orig\u001b[39m=\u001b[39m\u001b[39mFalse\u001b[39;00m)\n\u001b[1;32m--> 490\u001b[0m     left \u001b[39m=\u001b[39m \u001b[39mmin\u001b[39m(np\u001b[39m.\u001b[39;49mnanmin(x), left)\n\u001b[0;32m    491\u001b[0m     right \u001b[39m=\u001b[39m \u001b[39mmax\u001b[39m(np\u001b[39m.\u001b[39mnanmax(x), right)\n\u001b[0;32m    492\u001b[0m \u001b[39mreturn\u001b[39;00m left, right\n",
      "File \u001b[1;32mc:\\Users\\salis\\Desktop\\python\\.conda\\Lib\\site-packages\\numpy\\lib\\_nanfunctions_impl.py:361\u001b[0m, in \u001b[0;36mnanmin\u001b[1;34m(a, axis, out, keepdims, initial, where)\u001b[0m\n\u001b[0;32m    356\u001b[0m     kwargs[\u001b[39m'\u001b[39m\u001b[39mwhere\u001b[39m\u001b[39m'\u001b[39m] \u001b[39m=\u001b[39m where\n\u001b[0;32m    358\u001b[0m \u001b[39mif\u001b[39;00m \u001b[39mtype\u001b[39m(a) \u001b[39mis\u001b[39;00m np\u001b[39m.\u001b[39mndarray \u001b[39mand\u001b[39;00m a\u001b[39m.\u001b[39mdtype \u001b[39m!=\u001b[39m np\u001b[39m.\u001b[39mobject_:\n\u001b[0;32m    359\u001b[0m     \u001b[39m# Fast, but not safe for subclasses of ndarray, or object arrays,\u001b[39;00m\n\u001b[0;32m    360\u001b[0m     \u001b[39m# which do not implement isnan (gh-9009), or fmin correctly (gh-8975)\u001b[39;00m\n\u001b[1;32m--> 361\u001b[0m     res \u001b[39m=\u001b[39m np\u001b[39m.\u001b[39;49mfmin\u001b[39m.\u001b[39;49mreduce(a, axis\u001b[39m=\u001b[39;49maxis, out\u001b[39m=\u001b[39;49mout, \u001b[39m*\u001b[39;49m\u001b[39m*\u001b[39;49mkwargs)\n\u001b[0;32m    362\u001b[0m     \u001b[39mif\u001b[39;00m np\u001b[39m.\u001b[39misnan(res)\u001b[39m.\u001b[39many():\n\u001b[0;32m    363\u001b[0m         warnings\u001b[39m.\u001b[39mwarn(\u001b[39m\"\u001b[39m\u001b[39mAll-NaN slice encountered\u001b[39m\u001b[39m\"\u001b[39m, \u001b[39mRuntimeWarning\u001b[39;00m,\n\u001b[0;32m    364\u001b[0m                       stacklevel\u001b[39m=\u001b[39m\u001b[39m2\u001b[39m)\n",
      "\u001b[1;31mValueError\u001b[0m: zero-size array to reduction operation fmin which has no identity"
     ]
    },
    {
     "data": {
      "image/png": "[encoded data removed]",
      "text/plain": [
       "<Figure size 640x480 with 1 Axes>"
      ]
     },
     "metadata": {},
     "output_type": "display_data"
    }
   ],
   "source": [
    "msft_close = msft[\"Close\"]\n",
    "msft_close.plot(alpha=0.5, style=\"-\")\n",
    "# Plots the original time series data from 'msft_close' with 50% transparency (alpha=0.5) and a solid line ('-').\n",
    "\n",
    "msft_close.resample(\"BA\").mean().plot(style=\":\")\n",
    "# Resamples the 'msft_close' data to the Business Year-End frequency ('BA'), taking the mean of the values within each business year.\n",
    "# Then, it plots the resampled data with a dotted line (style=':').\n",
    "\n",
    "msft_close.asfreq(\"BA\", method=\"ffill\").plot(style=\"--\")\n",
    "# Converts the frequency of the 'msft_close' data to the Business Year-End frequency ('BA') using asfreq(), which selects the data at the specified frequency without aggregation.\n",
    "# It plots the data with a dashed line (style='--').\n",
    "\n",
    "plt.legend([\"input\", \"resample\", \"asfreq\"], loc=\"upper left\")\n",
    "# Adds a legend to the plot with labels for the original input data, the resampled data, and the asfreq-converted data.\n",
    "# The legend is positioned in the upper-left corner of the plot."
   ]
  },
  {
   "cell_type": "code",
   "execution_count": null,
   "id": "0c998ad6-bbbe-4871-97cd-e4c02246ebce",
   "metadata": {},
   "outputs": [
    {
     "data": {
      "text/plain": [
       "1970-01-01 00:00:00.000000000      0.097222\n",
       "1970-01-01 00:00:00.000000001      0.100694\n",
       "1970-01-01 00:00:00.000000002      0.102431\n",
       "1970-01-01 00:00:00.000000003      0.099826\n",
       "1970-01-01 00:00:00.000000004      0.098090\n",
       "                                    ...    \n",
       "1970-01-01 00:00:00.000009453    330.220001\n",
       "1970-01-01 00:00:00.000009454    329.059998\n",
       "1970-01-01 00:00:00.000009455    328.649994\n",
       "1970-01-01 00:00:00.000009456    320.769989\n",
       "1970-01-01 00:00:00.000009457    319.529999\n",
       "Name: Close, Length: 9458, dtype: float64"
      ]
     },
     "execution_count": 22,
     "metadata": {},
     "output_type": "execute_result"
    }
   ],
   "source": [
    "msft_close"
   ]
  },
  {
   "cell_type": "code",
   "execution_count": null,
   "id": "1157d956-d6b2-4b98-8e45-2e87966d909e",
   "metadata": {},
   "outputs": [
    {
     "data": {
      "text/html": [
       "<div>\n",
       "<style scoped>\n",
       "    .dataframe tbody tr th:only-of-type {\n",
       "        vertical-align: middle;\n",
       "    }\n",
       "\n",
       "    .dataframe tbody tr th {\n",
       "        vertical-align: top;\n",
       "    }\n",
       "\n",
       "    .dataframe thead th {\n",
       "        text-align: right;\n",
       "    }\n",
       "</style>\n",
       "<table border=\"1\" class=\"dataframe\">\n",
       "  <thead>\n",
       "    <tr style=\"text-align: right;\">\n",
       "      <th></th>\n",
       "      <th>Date</th>\n",
       "      <th>Open</th>\n",
       "      <th>High</th>\n",
       "      <th>Low</th>\n",
       "      <th>Close</th>\n",
       "      <th>Adj Close</th>\n",
       "      <th>Volume</th>\n",
       "    </tr>\n",
       "  </thead>\n",
       "  <tbody>\n",
       "    <tr>\n",
       "      <th>9453</th>\n",
       "      <td>2023-09-15</td>\n",
       "      <td>336.920013</td>\n",
       "      <td>337.399994</td>\n",
       "      <td>329.649994</td>\n",
       "      <td>330.220001</td>\n",
       "      <td>330.220001</td>\n",
       "      <td>37666900</td>\n",
       "    </tr>\n",
       "    <tr>\n",
       "      <th>9454</th>\n",
       "      <td>2023-09-18</td>\n",
       "      <td>327.799988</td>\n",
       "      <td>330.399994</td>\n",
       "      <td>326.359985</td>\n",
       "      <td>329.059998</td>\n",
       "      <td>329.059998</td>\n",
       "      <td>16834200</td>\n",
       "    </tr>\n",
       "    <tr>\n",
       "      <th>9455</th>\n",
       "      <td>2023-09-19</td>\n",
       "      <td>326.170013</td>\n",
       "      <td>329.390015</td>\n",
       "      <td>324.510010</td>\n",
       "      <td>328.649994</td>\n",
       "      <td>328.649994</td>\n",
       "      <td>16505900</td>\n",
       "    </tr>\n",
       "    <tr>\n",
       "      <th>9456</th>\n",
       "      <td>2023-09-20</td>\n",
       "      <td>329.510010</td>\n",
       "      <td>329.589996</td>\n",
       "      <td>320.510010</td>\n",
       "      <td>320.769989</td>\n",
       "      <td>320.769989</td>\n",
       "      <td>21436500</td>\n",
       "    </tr>\n",
       "    <tr>\n",
       "      <th>9457</th>\n",
       "      <td>2023-09-21</td>\n",
       "      <td>319.260010</td>\n",
       "      <td>325.350006</td>\n",
       "      <td>315.000000</td>\n",
       "      <td>319.529999</td>\n",
       "      <td>319.529999</td>\n",
       "      <td>35529500</td>\n",
       "    </tr>\n",
       "  </tbody>\n",
       "</table>\n",
       "</div>"
      ],
      "text/plain": [
       "            Date        Open        High         Low       Close   Adj Close  \\\n",
       "9453  2023-09-15  336.920013  337.399994  329.649994  330.220001  330.220001   \n",
       "9454  2023-09-18  327.799988  330.399994  326.359985  329.059998  329.059998   \n",
       "9455  2023-09-19  326.170013  329.390015  324.510010  328.649994  328.649994   \n",
       "9456  2023-09-20  329.510010  329.589996  320.510010  320.769989  320.769989   \n",
       "9457  2023-09-21  319.260010  325.350006  315.000000  319.529999  319.529999   \n",
       "\n",
       "        Volume  \n",
       "9453  37666900  \n",
       "9454  16834200  \n",
       "9455  16505900  \n",
       "9456  21436500  \n",
       "9457  35529500  "
      ]
     },
     "execution_count": 23,
     "metadata": {},
     "output_type": "execute_result"
    }
   ],
   "source": [
    "msft = pd.read_csv(\"MSFT_Stock_data.csv\")\n",
    "msft.tail()"
   ]
  },
  {
   "cell_type": "code",
   "execution_count": null,
   "id": "0deaea9c-07ae-4966-81d3-9406ae4ab7ac",
   "metadata": {},
   "outputs": [
    {
     "data": {
      "text/html": [
       "<div>\n",
       "<style scoped>\n",
       "    .dataframe tbody tr th:only-of-type {\n",
       "        vertical-align: middle;\n",
       "    }\n",
       "\n",
       "    .dataframe tbody tr th {\n",
       "        vertical-align: top;\n",
       "    }\n",
       "\n",
       "    .dataframe thead th {\n",
       "        text-align: right;\n",
       "    }\n",
       "</style>\n",
       "<table border=\"1\" class=\"dataframe\">\n",
       "  <thead>\n",
       "    <tr style=\"text-align: right;\">\n",
       "      <th></th>\n",
       "      <th>Open</th>\n",
       "      <th>High</th>\n",
       "      <th>Low</th>\n",
       "      <th>Close</th>\n",
       "      <th>Adj Close</th>\n",
       "      <th>Volume</th>\n",
       "    </tr>\n",
       "    <tr>\n",
       "      <th>Date</th>\n",
       "      <th></th>\n",
       "      <th></th>\n",
       "      <th></th>\n",
       "      <th></th>\n",
       "      <th></th>\n",
       "      <th></th>\n",
       "    </tr>\n",
       "  </thead>\n",
       "  <tbody>\n",
       "    <tr>\n",
       "      <th>1986-03-13</th>\n",
       "      <td>0.088542</td>\n",
       "      <td>0.101563</td>\n",
       "      <td>0.088542</td>\n",
       "      <td>0.097222</td>\n",
       "      <td>0.060396</td>\n",
       "      <td>1031788800</td>\n",
       "    </tr>\n",
       "    <tr>\n",
       "      <th>1986-03-14</th>\n",
       "      <td>0.097222</td>\n",
       "      <td>0.102431</td>\n",
       "      <td>0.097222</td>\n",
       "      <td>0.100694</td>\n",
       "      <td>0.062553</td>\n",
       "      <td>308160000</td>\n",
       "    </tr>\n",
       "    <tr>\n",
       "      <th>1986-03-17</th>\n",
       "      <td>0.100694</td>\n",
       "      <td>0.103299</td>\n",
       "      <td>0.100694</td>\n",
       "      <td>0.102431</td>\n",
       "      <td>0.063632</td>\n",
       "      <td>133171200</td>\n",
       "    </tr>\n",
       "    <tr>\n",
       "      <th>1986-03-18</th>\n",
       "      <td>0.102431</td>\n",
       "      <td>0.103299</td>\n",
       "      <td>0.098958</td>\n",
       "      <td>0.099826</td>\n",
       "      <td>0.062014</td>\n",
       "      <td>67766400</td>\n",
       "    </tr>\n",
       "    <tr>\n",
       "      <th>1986-03-19</th>\n",
       "      <td>0.099826</td>\n",
       "      <td>0.100694</td>\n",
       "      <td>0.097222</td>\n",
       "      <td>0.098090</td>\n",
       "      <td>0.060936</td>\n",
       "      <td>47894400</td>\n",
       "    </tr>\n",
       "  </tbody>\n",
       "</table>\n",
       "</div>"
      ],
      "text/plain": [
       "                Open      High       Low     Close  Adj Close      Volume\n",
       "Date                                                                     \n",
       "1986-03-13  0.088542  0.101563  0.088542  0.097222   0.060396  1031788800\n",
       "1986-03-14  0.097222  0.102431  0.097222  0.100694   0.062553   308160000\n",
       "1986-03-17  0.100694  0.103299  0.100694  0.102431   0.063632   133171200\n",
       "1986-03-18  0.102431  0.103299  0.098958  0.099826   0.062014    67766400\n",
       "1986-03-19  0.099826  0.100694  0.097222  0.098090   0.060936    47894400"
      ]
     },
     "execution_count": 24,
     "metadata": {},
     "output_type": "execute_result"
    }
   ],
   "source": [
    "msft.set_index(\"Date\", inplace=True)\n",
    "msft.head()"
   ]
  },
  {
   "cell_type": "code",
   "execution_count": null,
   "id": "0eac30ae-8dad-47dd-9f50-24b6f91eea8a",
   "metadata": {},
   "outputs": [],
   "source": [
    "msft_close = msft[\"Close\"]"
   ]
  },
  {
   "cell_type": "code",
   "execution_count": null,
   "id": "8e276645-9392-465d-816e-a92fc739a83e",
   "metadata": {},
   "outputs": [
    {
     "data": {
      "text/plain": [
       "Date\n",
       "1986-03-13      0.097222\n",
       "1986-03-14      0.100694\n",
       "1986-03-17      0.102431\n",
       "1986-03-18      0.099826\n",
       "1986-03-19      0.098090\n",
       "                 ...    \n",
       "2023-09-15    330.220001\n",
       "2023-09-18    329.059998\n",
       "2023-09-19    328.649994\n",
       "2023-09-20    320.769989\n",
       "2023-09-21    319.529999\n",
       "Name: Close, Length: 9458, dtype: float64"
      ]
     },
     "execution_count": 26,
     "metadata": {},
     "output_type": "execute_result"
    }
   ],
   "source": [
    "msft_close"
   ]
  },
  {
   "cell_type": "code",
   "execution_count": null,
   "id": "bba29715-c30d-4735-b23e-e3645a66d9b5",
   "metadata": {},
   "outputs": [
    {
     "name": "stderr",
     "output_type": "stream",
     "text": [
      "<ipython-input-27-b7560a05dc21>:4: FutureWarning: 'BA' is deprecated and will be removed in a future version, please use 'BYE' instead.\n",
      "  msft_close.resample(\"BA\").mean().plot(style=\":\")\n"
     ]
    },
    {
     "ename": "TypeError",
     "evalue": "Only valid with DatetimeIndex, TimedeltaIndex or PeriodIndex, but got an instance of 'Index'",
     "output_type": "error",
     "traceback": [
      "\u001b[1;31m---------------------------------------------------------------------------\u001b[0m",
      "\u001b[1;31mTypeError\u001b[0m                                 Traceback (most recent call last)",
      "File \u001b[1;32mc:\\Users\\salis\\Desktop\\python\\Week3\\w3d4.py:4\u001b[0m\n\u001b[0;32m      1\u001b[0m msft_close\u001b[39m.\u001b[39mplot(alpha\u001b[39m=\u001b[39m\u001b[39m0.5\u001b[39m, style\u001b[39m=\u001b[39m\u001b[39m\"\u001b[39m\u001b[39m-\u001b[39m\u001b[39m\"\u001b[39m)\n\u001b[0;32m      2\u001b[0m \u001b[39m# Plots the original time series data from 'msft_close' with 50% transparency (alpha=0.5) and a solid line ('-').\u001b[39;00m\n\u001b[1;32m----> 4\u001b[0m msft_close\u001b[39m.\u001b[39;49mresample(\u001b[39m\"\u001b[39;49m\u001b[39mBA\u001b[39;49m\u001b[39m\"\u001b[39;49m)\u001b[39m.\u001b[39mmean()\u001b[39m.\u001b[39mplot(style\u001b[39m=\u001b[39m\u001b[39m\"\u001b[39m\u001b[39m:\u001b[39m\u001b[39m\"\u001b[39m)\n\u001b[0;32m      5\u001b[0m \u001b[39m# Resamples the 'msft_close' data to the Business Year-End frequency ('BA'), taking the mean of the values within each business year.\u001b[39;00m\n\u001b[0;32m      6\u001b[0m \u001b[39m# Then, it plots the resampled data with a dotted line (style=':').\u001b[39;00m\n\u001b[0;32m      8\u001b[0m msft_close\u001b[39m.\u001b[39masfreq(\u001b[39m\"\u001b[39m\u001b[39mBA\u001b[39m\u001b[39m\"\u001b[39m, method\u001b[39m=\u001b[39m\u001b[39m\"\u001b[39m\u001b[39mffill\u001b[39m\u001b[39m\"\u001b[39m)\u001b[39m.\u001b[39mplot(style\u001b[39m=\u001b[39m\u001b[39m\"\u001b[39m\u001b[39m--\u001b[39m\u001b[39m\"\u001b[39m)\n",
      "File \u001b[1;32mc:\\Users\\salis\\Desktop\\python\\.conda\\Lib\\site-packages\\pandas\\core\\generic.py:9771\u001b[0m, in \u001b[0;36mNDFrame.resample\u001b[1;34m(self, rule, axis, closed, label, convention, kind, on, level, origin, offset, group_keys)\u001b[0m\n\u001b[0;32m   9768\u001b[0m \u001b[39melse\u001b[39;00m:\n\u001b[0;32m   9769\u001b[0m     convention \u001b[39m=\u001b[39m \u001b[39m\"\u001b[39m\u001b[39mstart\u001b[39m\u001b[39m\"\u001b[39m\n\u001b[1;32m-> 9771\u001b[0m \u001b[39mreturn\u001b[39;00m get_resampler(\n\u001b[0;32m   9772\u001b[0m     cast(\u001b[39m\"\u001b[39;49m\u001b[39mSeries | DataFrame\u001b[39;49m\u001b[39m\"\u001b[39;49m, \u001b[39mself\u001b[39;49m),\n\u001b[0;32m   9773\u001b[0m     freq\u001b[39m=\u001b[39;49mrule,\n\u001b[0;32m   9774\u001b[0m     label\u001b[39m=\u001b[39;49mlabel,\n\u001b[0;32m   9775\u001b[0m     closed\u001b[39m=\u001b[39;49mclosed,\n\u001b[0;32m   9776\u001b[0m     axis\u001b[39m=\u001b[39;49maxis,\n\u001b[0;32m   9777\u001b[0m     kind\u001b[39m=\u001b[39;49mkind,\n\u001b[0;32m   9778\u001b[0m     convention\u001b[39m=\u001b[39;49mconvention,\n\u001b[0;32m   9779\u001b[0m     key\u001b[39m=\u001b[39;49mon,\n\u001b[0;32m   9780\u001b[0m     level\u001b[39m=\u001b[39;49mlevel,\n\u001b[0;32m   9781\u001b[0m     origin\u001b[39m=\u001b[39;49morigin,\n\u001b[0;32m   9782\u001b[0m     offset\u001b[39m=\u001b[39;49moffset,\n\u001b[0;32m   9783\u001b[0m     group_keys\u001b[39m=\u001b[39;49mgroup_keys,\n\u001b[0;32m   9784\u001b[0m )\n",
      "File \u001b[1;32mc:\\Users\\salis\\Desktop\\python\\.conda\\Lib\\site-packages\\pandas\\core\\resample.py:2050\u001b[0m, in \u001b[0;36mget_resampler\u001b[1;34m(obj, kind, **kwds)\u001b[0m\n\u001b[0;32m   2046\u001b[0m \u001b[39m\u001b[39m\u001b[39m\"\"\"\u001b[39;00m\n\u001b[0;32m   2047\u001b[0m \u001b[39mCreate a TimeGrouper and return our resampler.\u001b[39;00m\n\u001b[0;32m   2048\u001b[0m \u001b[39m\"\"\"\u001b[39;00m\n\u001b[0;32m   2049\u001b[0m tg \u001b[39m=\u001b[39m TimeGrouper(obj, \u001b[39m*\u001b[39m\u001b[39m*\u001b[39mkwds)  \u001b[39m# type: ignore[arg-type]\u001b[39;00m\n\u001b[1;32m-> 2050\u001b[0m \u001b[39mreturn\u001b[39;00m tg\u001b[39m.\u001b[39;49m_get_resampler(obj, kind\u001b[39m=\u001b[39;49mkind)\n",
      "File \u001b[1;32mc:\\Users\\salis\\Desktop\\python\\.conda\\Lib\\site-packages\\pandas\\core\\resample.py:2272\u001b[0m, in \u001b[0;36mTimeGrouper._get_resampler\u001b[1;34m(self, obj, kind)\u001b[0m\n\u001b[0;32m   2263\u001b[0m \u001b[39melif\u001b[39;00m \u001b[39misinstance\u001b[39m(ax, TimedeltaIndex):\n\u001b[0;32m   2264\u001b[0m     \u001b[39mreturn\u001b[39;00m TimedeltaIndexResampler(\n\u001b[0;32m   2265\u001b[0m         obj,\n\u001b[0;32m   2266\u001b[0m         timegrouper\u001b[39m=\u001b[39m\u001b[39mself\u001b[39m,\n\u001b[1;32m   (...)\u001b[0m\n\u001b[0;32m   2269\u001b[0m         gpr_index\u001b[39m=\u001b[39max,\n\u001b[0;32m   2270\u001b[0m     )\n\u001b[1;32m-> 2272\u001b[0m \u001b[39mraise\u001b[39;00m \u001b[39mTypeError\u001b[39;00m(\n\u001b[0;32m   2273\u001b[0m     \u001b[39m\"\u001b[39m\u001b[39mOnly valid with DatetimeIndex, \u001b[39m\u001b[39m\"\u001b[39m\n\u001b[0;32m   2274\u001b[0m     \u001b[39m\"\u001b[39m\u001b[39mTimedeltaIndex or PeriodIndex, \u001b[39m\u001b[39m\"\u001b[39m\n\u001b[0;32m   2275\u001b[0m     \u001b[39mf\u001b[39m\u001b[39m\"\u001b[39m\u001b[39mbut got an instance of \u001b[39m\u001b[39m'\u001b[39m\u001b[39m{\u001b[39;00m\u001b[39mtype\u001b[39m(ax)\u001b[39m.\u001b[39m\u001b[39m__name__\u001b[39m\u001b[39m}\u001b[39;00m\u001b[39m'\u001b[39m\u001b[39m\"\u001b[39m\n\u001b[0;32m   2276\u001b[0m )\n",
      "\u001b[1;31mTypeError\u001b[0m: Only valid with DatetimeIndex, TimedeltaIndex or PeriodIndex, but got an instance of 'Index'"
     ]
    },
    {
     "data": {
      "image/png": "[encoded data removed]",
      "text/plain": [
       "<Figure size 640x480 with 1 Axes>"
      ]
     },
     "metadata": {},
     "output_type": "display_data"
    }
   ],
   "source": [
    "msft_close.plot(alpha=0.5, style=\"-\")\n",
    "# Plots the original time series data from 'msft_close' with 50% transparency (alpha=0.5) and a solid line ('-').\n",
    "\n",
    "msft_close.resample(\"BA\").mean().plot(style=\":\")\n",
    "# Resamples the 'msft_close' data to the Business Year-End frequency ('BA'), taking the mean of the values within each business year.\n",
    "# Then, it plots the resampled data with a dotted line (style=':').\n",
    "\n",
    "msft_close.asfreq(\"BA\", method=\"ffill\").plot(style=\"--\")\n",
    "# Converts the frequency of the 'msft_close' data to the Business Year-End frequency ('BA') using asfreq(), which selects the data at the specified frequency without aggregation.\n",
    "# It plots the data with a dashed line (style='--').\n",
    "\n",
    "plt.legend([\"input\", \"resample\", \"asfreq\"], loc=\"upper left\")\n",
    "# Adds a legend to the plot with labels for the original input data, the resampled data, and the asfreq-converted data.\n",
    "# The legend is positioned in the upper-left corner of the plot."
   ]
  },
  {
   "cell_type": "code",
   "execution_count": null,
   "id": "a30cb2ac-e0c9-472b-bb30-554a496036bf",
   "metadata": {},
   "outputs": [],
   "source": [
    "msft_close.index = pd.to_datetime(msft_close.index)"
   ]
  },
  {
   "cell_type": "code",
   "execution_count": null,
   "id": "97253cc0-1ace-423f-9e51-9377bdf095ed",
   "metadata": {},
   "outputs": [
    {
     "name": "stdout",
     "output_type": "stream",
     "text": [
      "new data type is  datetime64[ns]\n"
     ]
    }
   ],
   "source": [
    "print(\"new data type is \", msft_close.index.dtype)"
   ]
  },
  {
   "cell_type": "code",
   "execution_count": null,
   "id": "c4a62c52-22d3-4e90-8e76-b24663be0916",
   "metadata": {},
   "outputs": [
    {
     "data": {
      "text/plain": [
       "Date\n",
       "1986-03-13      0.097222\n",
       "1986-03-14      0.100694\n",
       "1986-03-17      0.102431\n",
       "1986-03-18      0.099826\n",
       "1986-03-19      0.098090\n",
       "                 ...    \n",
       "2023-09-15    330.220001\n",
       "2023-09-18    329.059998\n",
       "2023-09-19    328.649994\n",
       "2023-09-20    320.769989\n",
       "2023-09-21    319.529999\n",
       "Name: Close, Length: 9458, dtype: float64"
      ]
     },
     "execution_count": 30,
     "metadata": {},
     "output_type": "execute_result"
    }
   ],
   "source": [
    "msft_close"
   ]
  },
  {
   "cell_type": "code",
   "execution_count": null,
   "id": "6a87cc74-a963-48f3-a18c-149a030b2f85",
   "metadata": {},
   "outputs": [
    {
     "name": "stderr",
     "output_type": "stream",
     "text": [
      "<ipython-input-31-b7560a05dc21>:4: FutureWarning: 'BA' is deprecated and will be removed in a future version, please use 'BYE' instead.\n",
      "  msft_close.resample(\"BA\").mean().plot(style=\":\")\n",
      "<ipython-input-31-b7560a05dc21>:8: FutureWarning: 'BA' is deprecated and will be removed in a future version, please use 'BYE' instead.\n",
      "  msft_close.asfreq(\"BA\", method=\"ffill\").plot(style=\"--\")\n"
     ]
    },
    {
     "data": {
      "text/plain": [
       "<matplotlib.legend.Legend at 0x1dcce24ee90>"
      ]
     },
     "execution_count": 31,
     "metadata": {},
     "output_type": "execute_result"
    },
    {
     "data": {
      "image/png": "[encoded data removed]",
      "text/plain": [
       "<Figure size 640x480 with 1 Axes>"
      ]
     },
     "metadata": {},
     "output_type": "display_data"
    }
   ],
   "source": [
    "msft_close.plot(alpha=0.5, style=\"-\")\n",
    "# Plots the original time series data from 'msft_close' with 50% transparency (alpha=0.5) and a solid line ('-').\n",
    "\n",
    "msft_close.resample(\"BA\").mean().plot(style=\":\")\n",
    "# Resamples the 'msft_close' data to the Business Year-End frequency ('BA'), taking the mean of the values within each business year.\n",
    "# Then, it plots the resampled data with a dotted line (style=':').\n",
    "\n",
    "msft_close.asfreq(\"BA\", method=\"ffill\").plot(style=\"--\")\n",
    "# Converts the frequency of the 'msft_close' data to the Business Year-End frequency ('BA') using asfreq(), which selects the data at the specified frequency without aggregation.\n",
    "# It plots the data with a dashed line (style='--').\n",
    "\n",
    "plt.legend([\"input\", \"resample\", \"asfreq\"], loc=\"upper left\")\n",
    "# Adds a legend to the plot with labels for the original input data, the resampled data, and the asfreq-converted data.\n",
    "# The legend is positioned in the upper-left corner of the plot."
   ]
  },
  {
   "cell_type": "code",
   "execution_count": null,
   "id": "21d1ea1a-0fc9-4957-9935-a80b944dcc5b",
   "metadata": {},
   "outputs": [
    {
     "data": {
      "text/plain": [
       "Date\n",
       "2010-01-04    30.950001\n",
       "2010-01-05    30.959999\n",
       "2010-01-06    30.770000\n",
       "2010-01-07    30.450001\n",
       "2010-01-08    30.660000\n",
       "                ...    \n",
       "2014-12-24    48.139999\n",
       "2014-12-26    47.880001\n",
       "2014-12-29    47.450001\n",
       "2014-12-30    47.020000\n",
       "2014-12-31    46.450001\n",
       "Name: Close, Length: 1258, dtype: float64"
      ]
     },
     "execution_count": 32,
     "metadata": {},
     "output_type": "execute_result"
    }
   ],
   "source": [
    "msft10_14 = msft_close['2010':'2014']\n",
    "msft10_14"
   ]
  }
 ],
 "metadata": {
  "language_info": {
   "codemirror_mode": {
    "name": "ipython",
    "version": 3
   },
   "file_extension": ".py",
   "mimetype": "text/x-python",
   "name": "python",
   "nbconvert_exporter": "python",
   "pygments_lexer": "ipython3",
   "version": 3
  }
 },
 "nbformat": 4,
 "nbformat_minor": 2
}
