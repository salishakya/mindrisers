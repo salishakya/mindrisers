{
 "cells": [
  {
   "cell_type": "code",
   "execution_count": 12,
   "id": "276df64f-350e-460a-b81f-4604f20868b6",
   "metadata": {},
   "outputs": [
    {
     "name": "stdout",
     "output_type": "stream",
     "text": [
      "Hello World!\n"
     ]
    }
   ],
   "source": [
    "print(\"Hello World!\")"
   ]
  },
  {
   "cell_type": "code",
   "execution_count": 14,
   "id": "efea362d-be27-42fb-90ed-4f1011b0b8f5",
   "metadata": {},
   "outputs": [
    {
     "name": "stdout",
     "output_type": "stream",
     "text": [
      "I love python\n"
     ]
    }
   ],
   "source": [
    "print('I love python')"
   ]
  },
  {
   "cell_type": "code",
   "execution_count": 16,
   "id": "f6233494-24d9-4b11-a69a-47b22a2ef251",
   "metadata": {},
   "outputs": [],
   "source": [
    "#This is a single-line comment. Always comment on your code."
   ]
  },
  {
   "cell_type": "code",
   "execution_count": 18,
   "id": "32870be8-a70a-417f-b482-e88ac0c73bce",
   "metadata": {},
   "outputs": [
    {
     "data": {
      "text/plain": [
       "'sjdhadhvaidhvadjhadlkjhadkjvhaldkjvhadlkvhdkjhadskjhavdlvh\\nadslkjvhadlskjvhadkjvhaldkjavhdkvajh\\ndavjdhkd\\njhsvkajhdjkdha\\ndjshvkjdsvsd'"
      ]
     },
     "execution_count": 18,
     "metadata": {},
     "output_type": "execute_result"
    }
   ],
   "source": [
    "\"\"\"sjdhadhvaidhvadjhadlkjhadkjvhaldkjvhadlkvhdkjhadskjhavdlvh\n",
    "adslkjvhadlskjvhadkjvhaldkjavhdkvajh\n",
    "davjdhkd\n",
    "jhsvkajhdjkdha\n",
    "djshvkjdsvsd\"\"\""
   ]
  },
  {
   "cell_type": "markdown",
   "id": "af874d96-8ef5-40f6-a8ff-2e6567668a18",
   "metadata": {},
   "source": [
    "## \"\"\"multi\n",
    "line\n",
    "comment\"\"\""
   ]
  },
  {
   "cell_type": "code",
   "execution_count": 24,
   "id": "ce4f222c-a5da-43d2-911d-3fff11da0681",
   "metadata": {},
   "outputs": [
    {
     "name": "stdout",
     "output_type": "stream",
     "text": [
      "2 5\n"
     ]
    }
   ],
   "source": [
    "x=2\n",
    "X=5\n",
    "print(x, X)"
   ]
  },
  {
   "cell_type": "code",
   "execution_count": 26,
   "id": "f27d17f7-daa2-4ab9-90a5-de4a49d89e7f",
   "metadata": {},
   "outputs": [
    {
     "name": "stdout",
     "output_type": "stream",
     "text": [
      "5\n"
     ]
    }
   ],
   "source": [
    "print(X)"
   ]
  },
  {
   "cell_type": "code",
   "execution_count": 28,
   "id": "e05090f7-8602-450e-96b3-e6ed641eaea8",
   "metadata": {},
   "outputs": [
    {
     "name": "stdout",
     "output_type": "stream",
     "text": [
      "x= 2\n"
     ]
    }
   ],
   "source": [
    "print('x=',x)"
   ]
  },
  {
   "cell_type": "code",
   "execution_count": 30,
   "id": "338a0b61-1bad-43de-88ac-5efb711a7874",
   "metadata": {},
   "outputs": [],
   "source": [
    "X=3"
   ]
  },
  {
   "cell_type": "code",
   "execution_count": 32,
   "id": "21ccaf88-c6ed-4ca6-a407-f26678f9955f",
   "metadata": {},
   "outputs": [
    {
     "name": "stdout",
     "output_type": "stream",
     "text": [
      "3\n"
     ]
    }
   ],
   "source": [
    "print(X)"
   ]
  },
  {
   "cell_type": "code",
   "execution_count": 34,
   "id": "b97f3b71-e5a1-42d5-85ff-87f95edeb66e",
   "metadata": {},
   "outputs": [
    {
     "name": "stdout",
     "output_type": "stream",
     "text": [
      "salish python\n"
     ]
    }
   ],
   "source": [
    "language=\"python\"\n",
    "name=\"salish\"\n",
    "print(name, language)"
   ]
  },
  {
   "cell_type": "code",
   "execution_count": 36,
   "id": "e1740dbf-1109-49cd-ba8e-da5a89bdf02d",
   "metadata": {},
   "outputs": [],
   "source": [
    "name='john'"
   ]
  },
  {
   "cell_type": "code",
   "execution_count": 38,
   "id": "7d2e4488-6593-4e07-aa4d-1eaa359ec158",
   "metadata": {},
   "outputs": [
    {
     "name": "stdout",
     "output_type": "stream",
     "text": [
      "john python\n"
     ]
    }
   ],
   "source": [
    "print(name, language)"
   ]
  },
  {
   "cell_type": "code",
   "execution_count": 40,
   "id": "b062c06a-e2e9-4a8c-8337-bededc9c5b7d",
   "metadata": {},
   "outputs": [
    {
     "ename": "SyntaxError",
     "evalue": "invalid decimal literal (1827744322.py, line 1)",
     "output_type": "error",
     "traceback": [
      "\u001b[1;36m  Cell \u001b[1;32mIn[40], line 1\u001b[1;36m\u001b[0m\n\u001b[1;33m    7name=\"harry\"\u001b[0m\n\u001b[1;37m    ^\u001b[0m\n\u001b[1;31mSyntaxError\u001b[0m\u001b[1;31m:\u001b[0m invalid decimal literal\n"
     ]
    }
   ],
   "source": [
    "7name=\"harry\""
   ]
  },
  {
   "cell_type": "code",
   "execution_count": 42,
   "id": "1ac84aec-1e25-41b1-8023-8052519cac34",
   "metadata": {},
   "outputs": [],
   "source": [
    "_age=25\n",
    "name7=\"Sarah\""
   ]
  },
  {
   "cell_type": "code",
   "execution_count": 44,
   "id": "a5b15f47-fb98-462c-8a47-8a53adf027f0",
   "metadata": {},
   "outputs": [
    {
     "name": "stdout",
     "output_type": "stream",
     "text": [
      "my name is Salish and age is 25\n"
     ]
    }
   ],
   "source": [
    "name=\"Salish\"\n",
    "age=25\n",
    "print('my name is',name, \"and age is\",age)"
   ]
  },
  {
   "cell_type": "code",
   "execution_count": 46,
   "id": "fbbd4613-d1af-4997-89dc-118a5fa2f4ee",
   "metadata": {},
   "outputs": [
    {
     "data": {
      "text/plain": [
       "int"
      ]
     },
     "execution_count": 46,
     "metadata": {},
     "output_type": "execute_result"
    }
   ],
   "source": [
    "type(age)\n"
   ]
  },
  {
   "cell_type": "code",
   "execution_count": 48,
   "id": "27d263fe-b9a9-488a-90f8-b991b4c9898c",
   "metadata": {},
   "outputs": [
    {
     "ename": "TypeError",
     "evalue": "type() takes 1 or 3 arguments",
     "output_type": "error",
     "traceback": [
      "\u001b[1;31m---------------------------------------------------------------------------\u001b[0m",
      "\u001b[1;31mTypeError\u001b[0m                                 Traceback (most recent call last)",
      "Cell \u001b[1;32mIn[48], line 3\u001b[0m\n\u001b[0;32m      1\u001b[0m fruits\u001b[38;5;241m=\u001b[39m[\u001b[38;5;124m\"\u001b[39m\u001b[38;5;124mapple\u001b[39m\u001b[38;5;124m\"\u001b[39m,\u001b[38;5;124m\"\u001b[39m\u001b[38;5;124mbanana\u001b[39m\u001b[38;5;124m\"\u001b[39m]\n\u001b[0;32m      2\u001b[0m my_info\u001b[38;5;241m=\u001b[39m{name:\u001b[38;5;124m\"\u001b[39m\u001b[38;5;124msalish\u001b[39m\u001b[38;5;124m\"\u001b[39m, age:\u001b[38;5;241m25\u001b[39m}\n\u001b[1;32m----> 3\u001b[0m \u001b[38;5;28mtype\u001b[39m(fruits, my_info)\n",
      "\u001b[1;31mTypeError\u001b[0m: type() takes 1 or 3 arguments"
     ]
    }
   ],
   "source": [
    "fruits=[\"apple\",\"banana\"]\n",
    "my_info={name:\"salish\", age:25}\n",
    "    type(fruits, my_info)"
   ]
  },
  {
   "cell_type": "code",
   "execution_count": 50,
   "id": "4c3a919d-f990-47e3-8071-f47f1c0fd565",
   "metadata": {},
   "outputs": [
    {
     "ename": "TypeError",
     "evalue": "type.__new__() argument 1 must be str, not list",
     "output_type": "error",
     "traceback": [
      "\u001b[1;31m---------------------------------------------------------------------------\u001b[0m",
      "\u001b[1;31mTypeError\u001b[0m                                 Traceback (most recent call last)",
      "Cell \u001b[1;32mIn[50], line 1\u001b[0m\n\u001b[1;32m----> 1\u001b[0m \u001b[38;5;28mtype\u001b[39m(fruits, my_info, name)\n",
      "\u001b[1;31mTypeError\u001b[0m: type.__new__() argument 1 must be str, not list"
     ]
    }
   ],
   "source": [
    "type(fruits, my_info, name)"
   ]
  },
  {
   "cell_type": "code",
   "execution_count": 52,
   "id": "1343e6ec-695f-40fe-8bfc-259ba7f6dd1f",
   "metadata": {},
   "outputs": [
    {
     "data": {
      "text/plain": [
       "dict"
      ]
     },
     "execution_count": 52,
     "metadata": {},
     "output_type": "execute_result"
    }
   ],
   "source": [
    "type(fruits)\n",
    "type(my_info)"
   ]
  },
  {
   "cell_type": "code",
   "execution_count": 54,
   "id": "cec10d54-d799-43e2-bcc5-003d8add3345",
   "metadata": {},
   "outputs": [
    {
     "name": "stdout",
     "output_type": "stream",
     "text": [
      "<class 'list'> <class 'dict'>\n"
     ]
    }
   ],
   "source": [
    "print(type(fruits),type(my_info))"
   ]
  },
  {
   "cell_type": "code",
   "execution_count": 56,
   "id": "7e2bc413-e46f-4875-b265-efea2520f296",
   "metadata": {},
   "outputs": [],
   "source": [
    "int_var=int(2.5)\n",
    "str_var=str(45)\n",
    "float_var=float(\"3.14\")\n"
   ]
  },
  {
   "cell_type": "code",
   "execution_count": 58,
   "id": "a92c982b-6284-43bd-ac5f-6ad06c5cc360",
   "metadata": {},
   "outputs": [
    {
     "name": "stdout",
     "output_type": "stream",
     "text": [
      "<class 'int'> <class 'str'> <class 'float'>\n"
     ]
    }
   ],
   "source": [
    "print(type(int_var),type(str_var),type(float_var))"
   ]
  },
  {
   "cell_type": "code",
   "execution_count": 60,
   "id": "35297734-955d-4bc5-848d-2787c172c79f",
   "metadata": {},
   "outputs": [
    {
     "name": "stdout",
     "output_type": "stream",
     "text": [
      "3.14 45 2\n"
     ]
    }
   ],
   "source": [
    "print(float_var, str_var, int_var)"
   ]
  },
  {
   "cell_type": "code",
   "execution_count": 62,
   "id": "b6d4a37a-3deb-41ea-8185-19a8f47d72be",
   "metadata": {},
   "outputs": [
    {
     "ename": "TypeError",
     "evalue": "unsupported operand type(s) for +: 'float' and 'str'",
     "output_type": "error",
     "traceback": [
      "\u001b[1;31m---------------------------------------------------------------------------\u001b[0m",
      "\u001b[1;31mTypeError\u001b[0m                                 Traceback (most recent call last)",
      "Cell \u001b[1;32mIn[62], line 1\u001b[0m\n\u001b[1;32m----> 1\u001b[0m \u001b[38;5;28mprint\u001b[39m(float_var\u001b[38;5;241m+\u001b[39mstr_var)\n",
      "\u001b[1;31mTypeError\u001b[0m: unsupported operand type(s) for +: 'float' and 'str'"
     ]
    }
   ],
   "source": [
    "print(float_var+str_var)"
   ]
  },
  {
   "cell_type": "code",
   "execution_count": 64,
   "id": "653fdb0e-fb75-4fbc-a7da-ce195ef38d6b",
   "metadata": {},
   "outputs": [
    {
     "name": "stdout",
     "output_type": "stream",
     "text": [
      "5.140000000000001\n"
     ]
    }
   ],
   "source": [
    "print(float_var+int_var)"
   ]
  },
  {
   "cell_type": "code",
   "execution_count": null,
   "id": "6bd4d488-ad2f-4dc0-beda-e0eebd3ea847",
   "metadata": {},
   "outputs": [],
   "source": []
  }
 ],
 "metadata": {
  "kernelspec": {
   "display_name": "Python 3 (ipykernel)",
   "language": "python",
   "name": "python3"
  },
  "language_info": {
   "codemirror_mode": {
    "name": "ipython",
    "version": 3
   },
   "file_extension": ".py",
   "mimetype": "text/x-python",
   "name": "python",
   "nbconvert_exporter": "python",
   "pygments_lexer": "ipython3",
   "version": "3.12.5"
  }
 },
 "nbformat": 4,
 "nbformat_minor": 5
}
