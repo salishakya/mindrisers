{
 "cells": [
  {
   "cell_type": "code",
   "execution_count": null,
   "id": "afec28af-438f-4a74-a9c6-77d62167486d",
   "metadata": {},
   "outputs": [
    {
     "data": {
      "text/plain": [
       "array([0.        , 0.15530303, 0.05681818, 0.        , 0.        ,\n",
       "       0.01136364, 0.46212121, 0.36742424, 0.21969697, 0.16287879,\n",
       "       0.80681818, 0.05681818, 0.        , 0.        , 0.        ,\n",
       "       0.        , 0.        , 0.        , 0.        , 0.        ,\n",
       "       0.        , 0.01893939, 0.        , 0.        , 0.        ,\n",
       "       0.        , 0.        , 0.33712121, 0.81818182, 0.        ,\n",
       "       0.08712121, 0.07575758, 0.        , 0.        , 0.        ,\n",
       "       0.        , 0.        , 0.        , 0.19318182, 0.01893939,\n",
       "       0.69318182, 0.64393939, 0.17424242, 0.06818182, 0.35606061,\n",
       "       0.44318182, 1.        , 0.54924242, 0.57575758, 0.03787879,\n",
       "       0.11363636, 0.10606061, 0.09469697, 0.23106061, 0.49242424,\n",
       "       0.01136364, 0.        , 0.        , 0.        , 0.01893939,\n",
       "       0.72348485, 0.40530303, 0.625     , 1.76893939, 0.11363636,\n",
       "       0.        , 1.22348485, 0.16287879, 0.71212121, 0.        ,\n",
       "       0.        , 0.01893939, 0.26136364, 0.30681818, 1.04924242,\n",
       "       0.01136364, 0.        , 0.01893939, 0.        , 0.        ,\n",
       "       0.        , 0.        , 0.        , 0.15530303, 0.13636364,\n",
       "       0.01136364, 0.83712121, 0.53030303, 0.        , 0.        ,\n",
       "       0.        , 0.        , 0.09469697, 0.        , 0.17424242,\n",
       "       0.        , 0.        , 0.17424242, 0.        , 0.        ,\n",
       "       0.        , 0.        , 0.        , 0.        , 0.01893939,\n",
       "       0.41287879, 0.70075758, 0.        , 0.51893939, 0.        ,\n",
       "       0.19318182, 0.53787879, 0.33712121, 0.46969697, 0.        ,\n",
       "       0.125     , 0.26136364, 0.        , 0.        , 0.        ,\n",
       "       0.        , 0.        , 1.26136364, 0.60606061, 0.19318182,\n",
       "       0.        , 0.        , 0.51893939, 0.07575758, 0.01893939,\n",
       "       0.        , 0.        , 0.        , 0.        , 0.        ,\n",
       "       0.        , 0.        , 0.        , 0.        , 0.        ,\n",
       "       0.        , 0.        , 0.14393939, 0.        , 0.21212121,\n",
       "       0.        , 0.        , 0.        , 0.        , 0.        ,\n",
       "       0.        , 0.        , 0.        , 0.        , 0.        ,\n",
       "       0.        , 0.        , 0.        , 0.        , 0.        ,\n",
       "       0.        , 0.        , 0.06818182, 0.24242424, 0.        ,\n",
       "       0.01893939, 0.13636364, 0.04924242, 0.        , 0.03030303,\n",
       "       0.01136364, 0.        , 0.        , 0.        , 0.        ,\n",
       "       0.        , 0.        , 0.06818182, 0.08712121, 0.        ,\n",
       "       0.        , 0.        , 0.        , 0.        , 0.        ,\n",
       "       0.        , 0.        , 0.        , 0.        , 0.        ,\n",
       "       0.        , 0.        , 0.        , 0.        , 0.        ,\n",
       "       0.        , 0.        , 0.        , 0.        , 0.        ,\n",
       "       0.        , 0.        , 0.01136364, 0.73106061, 0.        ,\n",
       "       0.        , 0.        , 0.        , 0.        , 0.        ,\n",
       "       0.        , 0.        , 0.        , 0.01893939, 0.        ,\n",
       "       0.        , 0.        , 0.        , 0.        , 0.        ,\n",
       "       0.        , 0.        , 0.01893939, 0.48106061, 0.81818182,\n",
       "       0.        , 0.03787879, 0.        , 0.        , 0.        ,\n",
       "       0.        , 0.        , 0.        , 0.        , 0.        ,\n",
       "       0.        , 0.        , 0.        , 0.        , 0.        ,\n",
       "       0.        , 0.31818182, 0.04924242, 0.        , 0.11363636,\n",
       "       0.        , 0.        , 0.        , 0.        , 0.        ,\n",
       "       0.        , 0.        , 0.        , 0.        , 0.        ,\n",
       "       0.        , 0.        , 0.        , 0.        , 0.01893939,\n",
       "       0.01136364, 0.        , 0.        , 0.        , 0.01136364,\n",
       "       0.69318182, 0.76893939, 0.16287879, 0.33712121, 0.        ,\n",
       "       0.        , 0.03030303, 0.        , 0.        , 0.        ,\n",
       "       0.        , 0.        , 0.        , 0.        , 0.        ,\n",
       "       0.        , 0.        , 0.01136364, 0.28030303, 0.        ,\n",
       "       0.28787879, 0.26893939, 0.32575758, 0.        , 0.125     ,\n",
       "       0.56818182, 0.        , 0.44318182, 0.03787879, 1.21212121,\n",
       "       0.35606061, 0.15530303, 0.23106061, 0.05681818, 0.03030303,\n",
       "       0.48106061, 0.01893939, 0.96212121, 0.64393939, 0.        ,\n",
       "       0.06818182, 0.41287879, 0.15530303, 0.18181818, 0.15530303,\n",
       "       0.        , 0.        , 0.19318182, 0.        , 0.        ,\n",
       "       0.        , 0.        , 0.        , 0.        , 0.        ,\n",
       "       0.        , 0.        , 0.        , 0.13636364, 0.57575758,\n",
       "       0.01893939, 0.45075758, 0.04924242, 0.69318182, 0.01136364,\n",
       "       0.125     , 1.29924242, 0.13636364, 0.        , 0.        ,\n",
       "       0.        , 0.        , 0.03030303, 0.11363636, 0.28030303,\n",
       "       0.        , 0.34469697, 0.375     , 0.49242424, 0.26136364,\n",
       "       0.        , 0.        , 0.        , 0.        , 0.        ,\n",
       "       0.10606061, 0.49242424, 0.11363636, 0.74242424, 0.        ,\n",
       "       0.        , 0.78030303, 0.20075758, 0.        , 0.        ,\n",
       "       0.125     , 0.15530303, 0.        , 0.        , 0.        ])"
      ]
     },
     "execution_count": 1,
     "metadata": {},
     "output_type": "execute_result"
    }
   ],
   "source": [
    "import numpy as np\n",
    "import pandas as pd\n",
    "\n",
    "data1 = pd.read_csv(\"Seattle2014.csv\")\n",
    "\n",
    "rainfall = data1[\"PRCP\"].values\n",
    "rainfall\n",
    "\n",
    "inches = rainfall / 264  # converting to inches\n",
    "inches"
   ]
  },
  {
   "cell_type": "code",
   "execution_count": null,
   "id": "9d4bebaf-8e61-4f9e-ade5-264a355336b7",
   "metadata": {},
   "outputs": [],
   "source": [
    "import matplotlib as plt"
   ]
  },
  {
   "cell_type": "code",
   "execution_count": null,
   "id": "b2dcfccc-b9ab-493c-86f9-e140b6f66d81",
   "metadata": {},
   "outputs": [
    {
     "ename": "AttributeError",
     "evalue": "module 'matplotlib' has no attribute 'hist'",
     "output_type": "error",
     "traceback": [
      "\u001b[1;31m---------------------------------------------------------------------------\u001b[0m",
      "\u001b[1;31mAttributeError\u001b[0m                            Traceback (most recent call last)",
      "File \u001b[1;32mc:\\Users\\salis\\Desktop\\python\\Week2\\W2D3.py:1\u001b[0m\n\u001b[1;32m----> 1\u001b[0m plt\u001b[39m.\u001b[39;49mhist(inches, bins\u001b[39m=\u001b[39m\u001b[39m30\u001b[39m)\n",
      "File \u001b[1;32mc:\\Users\\salis\\Desktop\\python\\.conda\\Lib\\site-packages\\matplotlib\\_api\\__init__.py:217\u001b[0m, in \u001b[0;36mcaching_module_getattr.<locals>.__getattr__\u001b[1;34m(name)\u001b[0m\n\u001b[0;32m    215\u001b[0m \u001b[39mif\u001b[39;00m name \u001b[39min\u001b[39;00m props:\n\u001b[0;32m    216\u001b[0m     \u001b[39mreturn\u001b[39;00m props[name]\u001b[39m.\u001b[39m\u001b[39m__get__\u001b[39m(instance)\n\u001b[1;32m--> 217\u001b[0m \u001b[39mraise\u001b[39;00m \u001b[39mAttributeError\u001b[39;00m(\n\u001b[0;32m    218\u001b[0m     \u001b[39mf\u001b[39m\u001b[39m\"\u001b[39m\u001b[39mmodule \u001b[39m\u001b[39m{\u001b[39;00m\u001b[39mcls\u001b[39m\u001b[39m.\u001b[39m\u001b[39m__module__\u001b[39m\u001b[39m!r}\u001b[39;00m\u001b[39m has no attribute \u001b[39m\u001b[39m{\u001b[39;00mname\u001b[39m!r}\u001b[39;00m\u001b[39m\"\u001b[39m)\n",
      "\u001b[1;31mAttributeError\u001b[0m: module 'matplotlib' has no attribute 'hist'"
     ]
    }
   ],
   "source": [
    "plt.hist(inches, bins=30)"
   ]
  },
  {
   "cell_type": "code",
   "execution_count": null,
   "id": "4b9e1689-4245-47b0-9c5e-463b9e076aa4",
   "metadata": {},
   "outputs": [],
   "source": [
    "import seaborn  # noqa: E402\n",
    "\n",
    "seaborn.set_theme()"
   ]
  },
  {
   "cell_type": "code",
   "execution_count": null,
   "id": "00932486-8fc7-431d-b619-493b1b293938",
   "metadata": {},
   "outputs": [
    {
     "ename": "AttributeError",
     "evalue": "module 'matplotlib' has no attribute 'hist'",
     "output_type": "error",
     "traceback": [
      "\u001b[1;31m---------------------------------------------------------------------------\u001b[0m",
      "\u001b[1;31mAttributeError\u001b[0m                            Traceback (most recent call last)",
      "File \u001b[1;32mc:\\Users\\salis\\Desktop\\python\\Week2\\W2D3.py:1\u001b[0m\n\u001b[1;32m----> 1\u001b[0m plt\u001b[39m.\u001b[39;49mhist(inches, bins\u001b[39m=\u001b[39m\u001b[39m30\u001b[39m)\n",
      "File \u001b[1;32mc:\\Users\\salis\\Desktop\\python\\.conda\\Lib\\site-packages\\matplotlib\\_api\\__init__.py:217\u001b[0m, in \u001b[0;36mcaching_module_getattr.<locals>.__getattr__\u001b[1;34m(name)\u001b[0m\n\u001b[0;32m    215\u001b[0m \u001b[39mif\u001b[39;00m name \u001b[39min\u001b[39;00m props:\n\u001b[0;32m    216\u001b[0m     \u001b[39mreturn\u001b[39;00m props[name]\u001b[39m.\u001b[39m\u001b[39m__get__\u001b[39m(instance)\n\u001b[1;32m--> 217\u001b[0m \u001b[39mraise\u001b[39;00m \u001b[39mAttributeError\u001b[39;00m(\n\u001b[0;32m    218\u001b[0m     \u001b[39mf\u001b[39m\u001b[39m\"\u001b[39m\u001b[39mmodule \u001b[39m\u001b[39m{\u001b[39;00m\u001b[39mcls\u001b[39m\u001b[39m.\u001b[39m\u001b[39m__module__\u001b[39m\u001b[39m!r}\u001b[39;00m\u001b[39m has no attribute \u001b[39m\u001b[39m{\u001b[39;00mname\u001b[39m!r}\u001b[39;00m\u001b[39m\"\u001b[39m)\n",
      "\u001b[1;31mAttributeError\u001b[0m: module 'matplotlib' has no attribute 'hist'"
     ]
    }
   ],
   "source": [
    "plt.hist(inches, bins=30)"
   ]
  },
  {
   "cell_type": "code",
   "execution_count": null,
   "id": "67a9eafd-93ca-49b5-920d-4b68fafb55cd",
   "metadata": {},
   "outputs": [],
   "source": [
    "import matplotlib.pyplot as plt"
   ]
  },
  {
   "cell_type": "code",
   "execution_count": null,
   "id": "1714b6a4-82c1-4fbb-8490-e5f55c3c2ede",
   "metadata": {},
   "outputs": [
    {
     "data": {
      "text/plain": [
       "(array([251.,  17.,  21.,  10.,   8.,   7.,   5.,   7.,   8.,   5.,   4.,\n",
       "          4.,   4.,   5.,   1.,   0.,   2.,   1.,   0.,   0.,   2.,   1.,\n",
       "          1.,   0.,   0.,   0.,   0.,   0.,   0.,   1.]),\n",
       " array([0.        , 0.05896465, 0.11792929, 0.17689394, 0.23585859,\n",
       "        0.29482323, 0.35378788, 0.41275253, 0.47171717, 0.53068182,\n",
       "        0.58964646, 0.64861111, 0.70757576, 0.7665404 , 0.82550505,\n",
       "        0.8844697 , 0.94343434, 1.00239899, 1.06136364, 1.12032828,\n",
       "        1.17929293, 1.23825758, 1.29722222, 1.35618687, 1.41515152,\n",
       "        1.47411616, 1.53308081, 1.59204545, 1.6510101 , 1.70997475,\n",
       "        1.76893939]),\n",
       " <BarContainer object of 30 artists>)"
      ]
     },
     "execution_count": 9,
     "metadata": {},
     "output_type": "execute_result"
    },
    {
     "data": {
      "image/png": "[encoded data removed]",
      "text/plain": [
       "<Figure size 640x480 with 1 Axes>"
      ]
     },
     "metadata": {},
     "output_type": "display_data"
    }
   ],
   "source": [
    "plt.hist(inches, bins=30)"
   ]
  },
  {
   "cell_type": "code",
   "execution_count": null,
   "id": "a5fc33e8-9812-4a02-abea-1428f324c570",
   "metadata": {},
   "outputs": [
    {
     "data": {
      "text/plain": [
       "34"
      ]
     },
     "execution_count": 10,
     "metadata": {},
     "output_type": "execute_result"
    }
   ],
   "source": [
    "np.count_nonzero(inches > 0.5)"
   ]
  },
  {
   "cell_type": "code",
   "execution_count": null,
   "id": "09a577fa-3595-46d3-8279-145e71594f80",
   "metadata": {},
   "outputs": [
    {
     "data": {
      "text/plain": [
       "np.int64(27)"
      ]
     },
     "execution_count": 11,
     "metadata": {},
     "output_type": "execute_result"
    }
   ],
   "source": [
    "np.sum((inches > 0.5) & (inches <1.0))"
   ]
  },
  {
   "cell_type": "code",
   "execution_count": null,
   "id": "8852a990-4949-4fc4-a4f6-8cff560af9e8",
   "metadata": {},
   "outputs": [
    {
     "data": {
      "text/plain": [
       "array([False,  True,  True, False, False,  True,  True,  True,  True,\n",
       "        True,  True,  True, False, False, False, False, False, False,\n",
       "       False, False])"
      ]
     },
     "execution_count": 13,
     "metadata": {},
     "output_type": "execute_result"
    }
   ],
   "source": [
    "# mask of all rainy days\n",
    "rainy = inches > 0\n",
    "rainy[:20]"
   ]
  },
  {
   "cell_type": "code",
   "execution_count": null,
   "id": "7e05b0bd-7814-43d5-96f8-a92625d303a4",
   "metadata": {},
   "outputs": [
    {
     "data": {
      "text/plain": [
       "150"
      ]
     },
     "execution_count": 14,
     "metadata": {},
     "output_type": "execute_result"
    }
   ],
   "source": [
    "np.count_nonzero(rainy)"
   ]
  },
  {
   "cell_type": "code",
   "execution_count": null,
   "id": "751101ee-51bb-49d9-b280-6bf161fc1f87",
   "metadata": {},
   "outputs": [],
   "source": [
    "summer = (np.arange(365) - 172 < 90) & (np.arange(365) - 172 > 0)"
   ]
  },
  {
   "cell_type": "code",
   "execution_count": null,
   "id": "9ecb9e88-8b75-4ea0-97fe-79b6a2961c41",
   "metadata": {},
   "outputs": [
    {
     "data": {
      "text/plain": [
       "array([False, False, False, False, False, False, False, False, False,\n",
       "       False, False, False, False, False, False, False, False, False,\n",
       "       False, False, False, False, False, False, False, False, False,\n",
       "       False, False, False, False, False, False, False, False, False,\n",
       "       False, False, False, False, False, False, False, False, False,\n",
       "       False, False, False, False, False, False, False, False, False,\n",
       "       False, False, False, False, False, False, False, False, False,\n",
       "       False, False, False, False, False, False, False, False, False,\n",
       "       False, False, False, False, False, False, False, False, False,\n",
       "       False, False, False, False, False, False, False, False, False,\n",
       "       False, False, False, False, False, False, False, False, False,\n",
       "       False, False, False, False, False, False, False, False, False,\n",
       "       False, False, False, False, False, False, False, False, False,\n",
       "       False, False, False, False, False, False, False, False, False,\n",
       "       False, False, False, False, False, False, False, False, False,\n",
       "       False, False, False, False, False, False, False, False, False,\n",
       "       False, False, False, False, False, False, False, False, False,\n",
       "       False, False, False, False, False, False, False, False, False,\n",
       "       False, False, False, False, False, False, False, False, False,\n",
       "       False, False,  True,  True,  True,  True,  True,  True,  True,\n",
       "        True,  True,  True,  True,  True,  True,  True,  True,  True,\n",
       "        True,  True,  True,  True,  True,  True,  True,  True,  True,\n",
       "        True,  True,  True,  True,  True,  True,  True,  True,  True,\n",
       "        True,  True,  True,  True,  True,  True,  True,  True,  True,\n",
       "        True,  True,  True,  True,  True,  True,  True,  True,  True,\n",
       "        True,  True,  True,  True,  True,  True,  True,  True,  True,\n",
       "        True,  True,  True,  True,  True,  True,  True,  True,  True,\n",
       "        True,  True,  True,  True,  True,  True,  True,  True,  True,\n",
       "        True,  True,  True,  True,  True,  True,  True,  True,  True,\n",
       "        True, False, False, False, False, False, False, False, False,\n",
       "       False, False, False, False, False, False, False, False, False,\n",
       "       False, False, False, False, False, False, False, False, False,\n",
       "       False, False, False, False, False, False, False, False, False,\n",
       "       False, False, False, False, False, False, False, False, False,\n",
       "       False, False, False, False, False, False, False, False, False,\n",
       "       False, False, False, False, False, False, False, False, False,\n",
       "       False, False, False, False, False, False, False, False, False,\n",
       "       False, False, False, False, False, False, False, False, False,\n",
       "       False, False, False, False, False, False, False, False, False,\n",
       "       False, False, False, False, False, False, False, False, False,\n",
       "       False, False, False, False, False])"
      ]
     },
     "execution_count": 16,
     "metadata": {},
     "output_type": "execute_result"
    }
   ],
   "source": [
    "summer"
   ]
  },
  {
   "cell_type": "code",
   "execution_count": null,
   "id": "f8218ca5-e2fd-4fe2-bba1-8c8d94568945",
   "metadata": {},
   "outputs": [],
   "source": [
    "# summer inches ko see at home"
   ]
  },
  {
   "cell_type": "code",
   "execution_count": null,
   "id": "c5255457-8f3d-47d9-8a10-2ed369919257",
   "metadata": {},
   "outputs": [],
   "source": [
    "rand = np.random.RandomState(42) # memory location ma gayera rakhcha just like seed"
   ]
  },
  {
   "cell_type": "code",
   "execution_count": null,
   "id": "3d17483e-6f22-4d5b-beb3-887a4b4aab70",
   "metadata": {},
   "outputs": [],
   "source": [
    "x = rand.randint(100, size=10)"
   ]
  },
  {
   "cell_type": "code",
   "execution_count": null,
   "id": "dc7ab180-7811-4f6d-bdbc-4c080748b15e",
   "metadata": {},
   "outputs": [
    {
     "data": {
      "text/plain": [
       "array([51, 92, 14, 71, 60, 20, 82, 86, 74, 74], dtype=int32)"
      ]
     },
     "execution_count": 20,
     "metadata": {},
     "output_type": "execute_result"
    }
   ],
   "source": [
    "x"
   ]
  },
  {
   "cell_type": "code",
   "execution_count": null,
   "id": "f6207af8-ae78-49c1-831d-cb58c063cfd6",
   "metadata": {},
   "outputs": [],
   "source": [
    "# access elements"
   ]
  },
  {
   "cell_type": "code",
   "execution_count": null,
   "id": "93ae8207-f8c5-49ef-bf2a-76028d3600d6",
   "metadata": {},
   "outputs": [
    {
     "data": {
      "text/plain": [
       "[np.int32(92), np.int32(71)]"
      ]
     },
     "execution_count": 22,
     "metadata": {},
     "output_type": "execute_result"
    }
   ],
   "source": [
    "[x[1], x[3]]"
   ]
  },
  {
   "cell_type": "code",
   "execution_count": null,
   "id": "02f03d73-9746-46cd-b1bb-309bd1d997c5",
   "metadata": {},
   "outputs": [
    {
     "data": {
      "text/plain": [
       "array([92, 71, 51], dtype=int32)"
      ]
     },
     "execution_count": 23,
     "metadata": {},
     "output_type": "execute_result"
    }
   ],
   "source": [
    "indices = [1, 3, 0]\n",
    "x[indices]"
   ]
  },
  {
   "cell_type": "code",
   "execution_count": null,
   "id": "fe020587-caa4-4c13-8cd4-8e0a8ebc5c84",
   "metadata": {},
   "outputs": [
    {
     "data": {
      "text/plain": [
       "array([[2, 7],\n",
       "       [8, 4]])"
      ]
     },
     "execution_count": 24,
     "metadata": {},
     "output_type": "execute_result"
    }
   ],
   "source": [
    "indices = np.array([[2, 7], [8, 4]])\n",
    "indices"
   ]
  },
  {
   "cell_type": "code",
   "execution_count": null,
   "id": "c237d024-0bd3-49b3-ac3d-eb98b06b025f",
   "metadata": {},
   "outputs": [
    {
     "data": {
      "text/plain": [
       "array([[14, 86],\n",
       "       [74, 60]], dtype=int32)"
      ]
     },
     "execution_count": 25,
     "metadata": {},
     "output_type": "execute_result"
    }
   ],
   "source": [
    "x[indices]"
   ]
  },
  {
   "cell_type": "code",
   "execution_count": null,
   "id": "a200f8c7-c6e8-4504-bc10-6219b34890bb",
   "metadata": {},
   "outputs": [],
   "source": [
    "# fancy indexing vancha eslai"
   ]
  },
  {
   "cell_type": "code",
   "execution_count": null,
   "id": "a162f19b-4b4c-4648-b0a8-9a318516bf73",
   "metadata": {},
   "outputs": [
    {
     "data": {
      "text/plain": [
       "array([1, 2, 3, 4, 5])"
      ]
     },
     "execution_count": 27,
     "metadata": {},
     "output_type": "execute_result"
    }
   ],
   "source": [
    "x = np.array([1, 3, 2, 4, 5])\n",
    "np.sort(x)"
   ]
  },
  {
   "cell_type": "code",
   "execution_count": null,
   "id": "fb4a8659-e81b-4db2-b861-c2b1479cdaeb",
   "metadata": {},
   "outputs": [],
   "source": [
    "# x will be unchanged"
   ]
  },
  {
   "cell_type": "code",
   "execution_count": null,
   "id": "a1f54aba-46d6-4e04-bb50-dee9f802db94",
   "metadata": {},
   "outputs": [],
   "source": [
    "x.sort()"
   ]
  },
  {
   "cell_type": "code",
   "execution_count": null,
   "id": "e9376fea-e7e9-495e-938f-4959888a12fb",
   "metadata": {},
   "outputs": [
    {
     "data": {
      "text/plain": [
       "array([1, 2, 3, 4, 5])"
      ]
     },
     "execution_count": 30,
     "metadata": {},
     "output_type": "execute_result"
    }
   ],
   "source": [
    "x"
   ]
  },
  {
   "cell_type": "code",
   "execution_count": null,
   "id": "f07c631f-8d4e-42ca-b7c2-68bc1a8a8457",
   "metadata": {},
   "outputs": [],
   "source": [
    "# this now changes the value, np le chai chudaina but python ko x.sort le chai chuncha"
   ]
  },
  {
   "cell_type": "code",
   "execution_count": null,
   "id": "eef1be96-95b0-4c38-bb6e-42e9bf0409d5",
   "metadata": {},
   "outputs": [
    {
     "data": {
      "text/plain": [
       "array([2, 4, 0, 1, 3])"
      ]
     },
     "execution_count": 32,
     "metadata": {},
     "output_type": "execute_result"
    }
   ],
   "source": [
    "x = np.array([2, 3, -2, 7, 0])\n",
    "np.argsort(x)"
   ]
  },
  {
   "cell_type": "code",
   "execution_count": null,
   "id": "44bf0145-12be-4689-bf35-a766b1673717",
   "metadata": {},
   "outputs": [],
   "source": [
    "# argument sort figureouts the position of the array"
   ]
  },
  {
   "cell_type": "code",
   "execution_count": null,
   "id": "5f1bd09b-d3f1-431d-a7bd-6e64fdfe1921",
   "metadata": {},
   "outputs": [],
   "source": [
    "# partial sorts"
   ]
  },
  {
   "cell_type": "code",
   "execution_count": null,
   "id": "40fb8799-8996-4e43-8aa2-c2a99701ef35",
   "metadata": {},
   "outputs": [
    {
     "name": "stdout",
     "output_type": "stream",
     "text": [
      "[7 2 3 4 6 8 9]\n"
     ]
    },
    {
     "data": {
      "text/plain": [
       "array([2, 3, 4, 6, 7, 8, 9])"
      ]
     },
     "execution_count": 35,
     "metadata": {},
     "output_type": "execute_result"
    }
   ],
   "source": [
    "x = np.array([7, 2, 3, 4, 6, 8, 9])\n",
    "print(x)\n",
    "np.partition(x, 3)"
   ]
  },
  {
   "cell_type": "code",
   "execution_count": null,
   "id": "f9dda425-6605-4ebf-adf6-9f39b6fbda93",
   "metadata": {},
   "outputs": [
    {
     "name": "stdout",
     "output_type": "stream",
     "text": [
      "[1000    2    3    4    6    8    9]\n"
     ]
    },
    {
     "data": {
      "text/plain": [
       "array([   2,    3,    4,    6,    8,    9, 1000])"
      ]
     },
     "execution_count": 36,
     "metadata": {},
     "output_type": "execute_result"
    }
   ],
   "source": [
    "x = np.array([1000, 2, 3, 4, 6, 8, 9])\n",
    "print(x)\n",
    "np.partition(x, 3)"
   ]
  },
  {
   "cell_type": "code",
   "execution_count": null,
   "id": "6a21409c-ecac-448c-90a2-aa581d63b3a7",
   "metadata": {},
   "outputs": [
    {
     "name": "stdout",
     "output_type": "stream",
     "text": [
      "[1000    2    3    4   10    8    9]\n"
     ]
    },
    {
     "data": {
      "text/plain": [
       "array([   2,    3,    4,    8,    9,   10, 1000])"
      ]
     },
     "execution_count": 37,
     "metadata": {},
     "output_type": "execute_result"
    }
   ],
   "source": [
    "x = np.array([1000, 2, 3, 4, 10, 8, 9])\n",
    "print(x)\n",
    "np.partition(x, 3)"
   ]
  },
  {
   "cell_type": "code",
   "execution_count": null,
   "id": "55f841ad-0249-439d-af77-ceb5f831aade",
   "metadata": {},
   "outputs": [
    {
     "name": "stdout",
     "output_type": "stream",
     "text": [
      "[1000    2    4    1   10    8    9]\n"
     ]
    },
    {
     "data": {
      "text/plain": [
       "array([   1,    2,    4,    8,    9,   10, 1000])"
      ]
     },
     "execution_count": 38,
     "metadata": {},
     "output_type": "execute_result"
    }
   ],
   "source": [
    "x = np.array([1000, 2, 4, 1, 10, 8, 9])\n",
    "print(x)\n",
    "np.partition(x, 3)"
   ]
  },
  {
   "cell_type": "code",
   "execution_count": null,
   "id": "1e8acc15-87a0-426c-94ff-4f8d0760464b",
   "metadata": {},
   "outputs": [],
   "source": [
    "name = [\"Alice\", \"Bob\", \"Cathy\", \"Steve\"]\n",
    "age = [35, 42, 25, 15]\n",
    "weight = [60.3, 90.2, 75.1, 51.0]"
   ]
  },
  {
   "cell_type": "code",
   "execution_count": null,
   "id": "bdfbddfe-a8f7-451a-aca2-bb7c6c8bc362",
   "metadata": {},
   "outputs": [
    {
     "data": {
      "text/plain": [
       "dtype([('name', '<U10'), ('age', '<i4'), ('weight', '<f8')])"
      ]
     },
     "execution_count": 40,
     "metadata": {},
     "output_type": "execute_result"
    }
   ],
   "source": [
    "data = np.zeros(\n",
    "    4, dtype={\"names\": (\"name\", \"age\", \"weight\"), \"formats\": (\"U10\", \"i4\", \"f8\")}\n",
    ")\n",
    "data.dtype"
   ]
  },
  {
   "cell_type": "code",
   "execution_count": null,
   "id": "e560cc3a-94f9-48bf-9922-a35eccaa1f14",
   "metadata": {},
   "outputs": [
    {
     "data": {
      "text/plain": [
       "array(['', '', '', ''], dtype='<U10')"
      ]
     },
     "execution_count": 41,
     "metadata": {},
     "output_type": "execute_result"
    }
   ],
   "source": [
    "data['name']"
   ]
  },
  {
   "cell_type": "code",
   "execution_count": null,
   "id": "bada77e0-88a2-4935-ba06-1f68bc166758",
   "metadata": {},
   "outputs": [
    {
     "data": {
      "text/plain": [
       "array([('Alice', 35, 60.3), ('Bob', 42, 90.2), ('Cathy', 25, 75.1),\n",
       "       ('Steve', 15, 51. )],\n",
       "      dtype=[('name', '<U10'), ('age', '<i4'), ('weight', '<f8')])"
      ]
     },
     "execution_count": 42,
     "metadata": {},
     "output_type": "execute_result"
    }
   ],
   "source": [
    "data[\"name\"] = name\n",
    "data[\"age\"] = age\n",
    "data['weight'] = weight\n",
    "data"
   ]
  },
  {
   "cell_type": "code",
   "execution_count": null,
   "id": "b88d25b7-3133-49f8-8b06-6b2f2bb5f964",
   "metadata": {},
   "outputs": [],
   "source": [
    "# structure banako, relation banako"
   ]
  },
  {
   "cell_type": "code",
   "execution_count": null,
   "id": "e5d933bc-5dd5-4af7-812f-aa8520329cae",
   "metadata": {},
   "outputs": [
    {
     "data": {
      "text/plain": [
       "array(['Alice', 'Bob', 'Cathy', 'Steve'], dtype='<U10')"
      ]
     },
     "execution_count": 44,
     "metadata": {},
     "output_type": "execute_result"
    }
   ],
   "source": [
    "data['name']"
   ]
  },
  {
   "cell_type": "code",
   "execution_count": null,
   "id": "e4f1201a-cc5a-4187-80c1-57d8b9afcece",
   "metadata": {},
   "outputs": [
    {
     "data": {
      "text/plain": [
       "np.void(('Alice', 35, 60.3), dtype=[('name', '<U10'), ('age', '<i4'), ('weight', '<f8')])"
      ]
     },
     "execution_count": 45,
     "metadata": {},
     "output_type": "execute_result"
    }
   ],
   "source": [
    "data[0]"
   ]
  },
  {
   "cell_type": "code",
   "execution_count": null,
   "id": "199717c3-be81-4bd6-a2af-8d90e0bccece",
   "metadata": {},
   "outputs": [
    {
     "ename": "KeyError",
     "evalue": "'Alice'",
     "output_type": "error",
     "traceback": [
      "\u001b[1;31m---------------------------------------------------------------------------\u001b[0m",
      "\u001b[1;31mKeyError\u001b[0m                                  Traceback (most recent call last)",
      "File \u001b[1;32mc:\\Users\\salis\\Desktop\\python\\Week2\\W2D3.py:1\u001b[0m\n\u001b[1;32m----> 1\u001b[0m data[\u001b[39m0\u001b[39;49m][name]\n",
      "\u001b[1;31mKeyError\u001b[0m: 'Alice'"
     ]
    }
   ],
   "source": [
    "data[0][name]"
   ]
  },
  {
   "cell_type": "code",
   "execution_count": null,
   "id": "e268f013-e80c-4e8e-ab1a-e884fcc4526d",
   "metadata": {},
   "outputs": [
    {
     "data": {
      "text/plain": [
       "np.str_('Alice')"
      ]
     },
     "execution_count": 47,
     "metadata": {},
     "output_type": "execute_result"
    }
   ],
   "source": [
    "data[0]['name']"
   ]
  },
  {
   "cell_type": "code",
   "execution_count": null,
   "id": "c06c8975-e8f8-4a63-a9df-3d1a92ebccc8",
   "metadata": {},
   "outputs": [
    {
     "data": {
      "text/plain": [
       "np.void(('Micheal', 35, 60.3), dtype=[('name', '<U10'), ('age', '<i4'), ('weight', '<f8')])"
      ]
     },
     "execution_count": 48,
     "metadata": {},
     "output_type": "execute_result"
    }
   ],
   "source": [
    "data[0][\"name\"] = \"Micheal\"\n",
    "data[0]"
   ]
  },
  {
   "cell_type": "code",
   "execution_count": null,
   "id": "6e6fdf41-d60f-4877-9588-bc12b8774c28",
   "metadata": {},
   "outputs": [
    {
     "data": {
      "text/plain": [
       "array(['Cathy', 'Steve'], dtype='<U10')"
      ]
     },
     "execution_count": 49,
     "metadata": {},
     "output_type": "execute_result"
    }
   ],
   "source": [
    "data[data[\"age\"] < 30][\"name\"]"
   ]
  },
  {
   "cell_type": "code",
   "execution_count": null,
   "id": "9cd9a40e-f99b-4b2f-b0ed-ca549d633714",
   "metadata": {},
   "outputs": [],
   "source": [
    "#inline gareko"
   ]
  },
  {
   "cell_type": "code",
   "execution_count": null,
   "id": "63d81084-7de0-4cd0-a07f-8cebf00b3075",
   "metadata": {},
   "outputs": [
    {
     "data": {
      "text/plain": [
       "np.int64(27)"
      ]
     },
     "execution_count": 51,
     "metadata": {},
     "output_type": "execute_result"
    }
   ],
   "source": [
    "np.sum((inches > 0.5) & (inches < 1.0))  # true and false count garcha"
   ]
  }
 ],
 "metadata": {
  "language_info": {
   "codemirror_mode": {
    "name": "ipython",
    "version": 3
   },
   "file_extension": ".py",
   "mimetype": "text/x-python",
   "name": "python",
   "nbconvert_exporter": "python",
   "pygments_lexer": "ipython3",
   "version": 3
  }
 },
 "nbformat": 4,
 "nbformat_minor": 2
}
