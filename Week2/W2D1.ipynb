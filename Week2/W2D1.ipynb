{
 "cells": [
  {
   "cell_type": "code",
   "execution_count": null,
   "id": "7a41a637-3b94-43c9-8582-853f98cc5e81",
   "metadata": {},
   "outputs": [
    {
     "data": {
      "text/plain": [
       "array([0, 0, 7, 1, 5, 9], dtype=int32)"
      ]
     },
     "execution_count": 1,
     "metadata": {},
     "output_type": "execute_result"
    }
   ],
   "source": [
    "import numpy as np\n",
    "\n",
    "x1 = np.random.randint(10, size=6)\n",
    "x2 = np.random.randint(10, size=(4, 3))\n",
    "x3 = np.random.randint(10, size=(2, 3, 4))\n",
    "x1"
   ]
  },
  {
   "cell_type": "code",
   "execution_count": null,
   "id": "3805bc32-8d4e-4556-a783-ec95bfe999ac",
   "metadata": {},
   "outputs": [],
   "source": [
    "# ndim = no. of dimensions?"
   ]
  },
  {
   "cell_type": "code",
   "execution_count": null,
   "id": "15f7f9b1-78a0-4cca-ad8b-8240d47f7cdd",
   "metadata": {},
   "outputs": [
    {
     "name": "stdout",
     "output_type": "stream",
     "text": [
      "1\n"
     ]
    }
   ],
   "source": [
    "print(x1.ndim)"
   ]
  },
  {
   "cell_type": "code",
   "execution_count": null,
   "id": "03c54374-ce41-4719-be94-7e65fbcb3d02",
   "metadata": {},
   "outputs": [
    {
     "name": "stdout",
     "output_type": "stream",
     "text": [
      "2\n"
     ]
    }
   ],
   "source": [
    "print(x2.ndim)"
   ]
  },
  {
   "cell_type": "code",
   "execution_count": null,
   "id": "7d497816-6f1c-48a7-b301-07b661e12f86",
   "metadata": {},
   "outputs": [
    {
     "name": "stdout",
     "output_type": "stream",
     "text": [
      "3\n"
     ]
    }
   ],
   "source": [
    "print(x3.ndim)"
   ]
  },
  {
   "cell_type": "code",
   "execution_count": null,
   "id": "4977212a-101f-443b-8bf7-d5499e211315",
   "metadata": {},
   "outputs": [],
   "source": [
    "#shape = size of each dimension (v .imp)"
   ]
  },
  {
   "cell_type": "code",
   "execution_count": null,
   "id": "2f979823-16bb-4785-a514-d3fa8b5fc0f7",
   "metadata": {},
   "outputs": [
    {
     "name": "stdout",
     "output_type": "stream",
     "text": [
      "(6,)\n",
      "(4, 3)\n",
      "(2, 3, 4)\n"
     ]
    }
   ],
   "source": [
    "print(x1.shape)\n",
    "print(x2.shape)\n",
    "print(x3.shape)"
   ]
  },
  {
   "cell_type": "code",
   "execution_count": null,
   "id": "1f901694-b783-4a6e-be45-c6972b49e4a4",
   "metadata": {},
   "outputs": [],
   "source": [
    "# size = how many elements in total"
   ]
  },
  {
   "cell_type": "code",
   "execution_count": null,
   "id": "8b11ad50-7a24-430a-97fe-6b883c3d06db",
   "metadata": {},
   "outputs": [
    {
     "name": "stdout",
     "output_type": "stream",
     "text": [
      "6\n",
      "12\n",
      "24\n"
     ]
    }
   ],
   "source": [
    "print(x1.size)\n",
    "print(x2.size)\n",
    "print(x3.size)"
   ]
  },
  {
   "cell_type": "code",
   "execution_count": null,
   "id": "d11c0272-62f6-4bd9-897b-966a54e76856",
   "metadata": {},
   "outputs": [],
   "source": [
    "# shape and size is the first step in DS mostly"
   ]
  },
  {
   "cell_type": "code",
   "execution_count": null,
   "id": "3cdc5ba2-5fba-42a7-a0e3-9b58a64e5561",
   "metadata": {},
   "outputs": [
    {
     "data": {
      "text/plain": [
       "dtype('int32')"
      ]
     },
     "execution_count": 13,
     "metadata": {},
     "output_type": "execute_result"
    }
   ],
   "source": [
    "x1.dtype"
   ]
  },
  {
   "cell_type": "code",
   "execution_count": null,
   "id": "1eeafeac-aa44-4100-aee3-e36644e96cab",
   "metadata": {},
   "outputs": [],
   "source": [
    "# x1 is an array which has int. x1 associated with numpy"
   ]
  },
  {
   "cell_type": "code",
   "execution_count": null,
   "id": "931146bb-c233-4829-a6c3-255f2cad75d6",
   "metadata": {},
   "outputs": [
    {
     "name": "stdout",
     "output_type": "stream",
     "text": [
      "x2.itemsize = 4\n",
      "x2.nbytes= 48\n"
     ]
    }
   ],
   "source": [
    "print(\"x2.itemsize =\", x2.itemsize)\n",
    "print(\"x2.nbytes=\", x2.nbytes)"
   ]
  },
  {
   "cell_type": "code",
   "execution_count": null,
   "id": "877c1dbd-9197-4df9-9adf-a0aaf5de8c02",
   "metadata": {},
   "outputs": [
    {
     "name": "stdout",
     "output_type": "stream",
     "text": [
      "[0 0 7 1 5 9]\n",
      "0\n"
     ]
    }
   ],
   "source": [
    "print(x1)\n",
    "print(x1[0])"
   ]
  },
  {
   "cell_type": "code",
   "execution_count": null,
   "id": "8d395370-fd98-4c18-9479-da8942da8a29",
   "metadata": {},
   "outputs": [
    {
     "name": "stdout",
     "output_type": "stream",
     "text": [
      "[[5 0 0]\n",
      " [1 7 7]\n",
      " [7 2 7]\n",
      " [1 9 8]]\n"
     ]
    }
   ],
   "source": [
    "print(x2)"
   ]
  },
  {
   "cell_type": "code",
   "execution_count": null,
   "id": "89ef98dd-1780-48dc-82b1-e859a300de05",
   "metadata": {},
   "outputs": [
    {
     "name": "stdout",
     "output_type": "stream",
     "text": [
      "item at 3rd row and 2nd column is 2\n"
     ]
    }
   ],
   "source": [
    "print(\"item at 3rd row and 2nd column is\", x2[2, 1])"
   ]
  },
  {
   "cell_type": "code",
   "execution_count": null,
   "id": "795736b3-6f10-43ff-9956-b32d0fdd4fed",
   "metadata": {},
   "outputs": [
    {
     "name": "stdout",
     "output_type": "stream",
     "text": [
      "item at 3rd row and last column is 7\n"
     ]
    }
   ],
   "source": [
    "print(\"item at 3rd row and last column is\", x2[2, -1])"
   ]
  },
  {
   "cell_type": "code",
   "execution_count": null,
   "id": "12c3c680-f4f7-4736-8305-be74cd53d0b1",
   "metadata": {},
   "outputs": [
    {
     "name": "stdout",
     "output_type": "stream",
     "text": [
      "[[5 0 0]\n",
      " [1 7 7]\n",
      " [7 2 3]\n",
      " [1 9 8]]\n",
      "Updated =  3\n"
     ]
    }
   ],
   "source": [
    "x2[2, -1] = 3.1415\n",
    "print(x2)\n",
    "print(\"Updated = \", x2[2, -1])"
   ]
  },
  {
   "cell_type": "code",
   "execution_count": null,
   "id": "f9d6bb5b-a5be-47a7-824e-32502cde91a4",
   "metadata": {},
   "outputs": [],
   "source": [
    "x = np.arange(10)"
   ]
  },
  {
   "cell_type": "code",
   "execution_count": null,
   "id": "6c3fc48b-679d-4eec-b658-5415e13880bf",
   "metadata": {},
   "outputs": [
    {
     "data": {
      "text/plain": [
       "array([0, 1, 2, 3, 4, 5, 6, 7, 8, 9])"
      ]
     },
     "execution_count": 26,
     "metadata": {},
     "output_type": "execute_result"
    }
   ],
   "source": [
    "x"
   ]
  },
  {
   "cell_type": "code",
   "execution_count": null,
   "id": "f058914d-b50e-4752-89f6-5d36276e7242",
   "metadata": {},
   "outputs": [],
   "source": [
    "#slicing"
   ]
  },
  {
   "cell_type": "code",
   "execution_count": null,
   "id": "e4ac260f-ae6e-4bd1-8c94-15c6b083b465",
   "metadata": {},
   "outputs": [
    {
     "data": {
      "text/plain": [
       "array([0, 1, 2, 3, 4, 5, 6])"
      ]
     },
     "execution_count": 28,
     "metadata": {},
     "output_type": "execute_result"
    }
   ],
   "source": [
    "x[:7]"
   ]
  },
  {
   "cell_type": "code",
   "execution_count": null,
   "id": "11f155d9-b010-47c4-8b9d-78070013f203",
   "metadata": {},
   "outputs": [
    {
     "data": {
      "text/plain": [
       "array([3, 4, 5, 6, 7])"
      ]
     },
     "execution_count": 29,
     "metadata": {},
     "output_type": "execute_result"
    }
   ],
   "source": [
    "x[3:8]"
   ]
  },
  {
   "cell_type": "code",
   "execution_count": null,
   "id": "ca495ad8-cd47-46de-84a1-dcd80299f217",
   "metadata": {},
   "outputs": [
    {
     "data": {
      "text/plain": [
       "array([0, 2, 4, 6, 8])"
      ]
     },
     "execution_count": 30,
     "metadata": {},
     "output_type": "execute_result"
    }
   ],
   "source": [
    "x[::2]"
   ]
  },
  {
   "cell_type": "code",
   "execution_count": null,
   "id": "0d63987c-872d-498b-a86c-8f6bfec39389",
   "metadata": {},
   "outputs": [
    {
     "data": {
      "text/plain": [
       "array([2, 4, 6, 8])"
      ]
     },
     "execution_count": 32,
     "metadata": {},
     "output_type": "execute_result"
    }
   ],
   "source": [
    "x[2::2]"
   ]
  },
  {
   "cell_type": "code",
   "execution_count": null,
   "id": "4d9a206e-a4bc-412a-8ff5-0de0189da479",
   "metadata": {},
   "outputs": [
    {
     "data": {
      "text/plain": [
       "array([7, 6, 5, 4])"
      ]
     },
     "execution_count": 34,
     "metadata": {},
     "output_type": "execute_result"
    }
   ],
   "source": [
    "x[7:3:-1] #index 7 to index 4 decrement by 1"
   ]
  },
  {
   "cell_type": "code",
   "execution_count": null,
   "id": "cbdbf11c-d215-4106-88bd-edfadbfd1f27",
   "metadata": {},
   "outputs": [
    {
     "data": {
      "text/plain": [
       "array([0, 1, 2, 3, 4, 5, 6, 7, 8, 9])"
      ]
     },
     "execution_count": 35,
     "metadata": {},
     "output_type": "execute_result"
    }
   ],
   "source": [
    "x[::]"
   ]
  },
  {
   "cell_type": "code",
   "execution_count": null,
   "id": "fd20907c-1185-4125-a54e-0926f6907f93",
   "metadata": {},
   "outputs": [
    {
     "data": {
      "text/plain": [
       "array([[5, 0, 0],\n",
       "       [1, 7, 7],\n",
       "       [7, 2, 3],\n",
       "       [1, 9, 8]], dtype=int32)"
      ]
     },
     "execution_count": 36,
     "metadata": {},
     "output_type": "execute_result"
    }
   ],
   "source": [
    "x2"
   ]
  },
  {
   "cell_type": "code",
   "execution_count": null,
   "id": "d6ce83b8-22df-4707-9d50-5e36beaf2db5",
   "metadata": {},
   "outputs": [
    {
     "data": {
      "text/plain": [
       "array([[5, 0],\n",
       "       [1, 7],\n",
       "       [7, 2]], dtype=int32)"
      ]
     },
     "execution_count": 38,
     "metadata": {},
     "output_type": "execute_result"
    }
   ],
   "source": [
    "x2[:3, :2]  # rows = index 0 to 2, columns = index 0 to 1"
   ]
  },
  {
   "cell_type": "code",
   "execution_count": null,
   "id": "b95525c2-24c5-4fa0-9d79-5d959273f9cd",
   "metadata": {},
   "outputs": [
    {
     "data": {
      "text/plain": [
       "array([[5, 0, 0],\n",
       "       [7, 2, 3]], dtype=int32)"
      ]
     },
     "execution_count": 39,
     "metadata": {},
     "output_type": "execute_result"
    }
   ],
   "source": [
    "x2[::2, :]  # every other 2 rows, all columns"
   ]
  },
  {
   "cell_type": "code",
   "execution_count": null,
   "id": "0df2b30c-a1d8-43d0-9c6c-1879bd2b6a09",
   "metadata": {},
   "outputs": [
    {
     "data": {
      "text/plain": [
       "array([[8, 9, 1],\n",
       "       [3, 2, 7],\n",
       "       [7, 7, 1],\n",
       "       [0, 0, 5]], dtype=int32)"
      ]
     },
     "execution_count": 41,
     "metadata": {},
     "output_type": "execute_result"
    }
   ],
   "source": [
    "x2[::-1, ::-1]"
   ]
  },
  {
   "cell_type": "code",
   "execution_count": null,
   "id": "36d6e33b-cb38-4f72-9eab-987a2ba53423",
   "metadata": {},
   "outputs": [
    {
     "data": {
      "text/plain": [
       "array([0, 7, 2, 9], dtype=int32)"
      ]
     },
     "execution_count": 42,
     "metadata": {},
     "output_type": "execute_result"
    }
   ],
   "source": [
    "x2[:, 1]"
   ]
  },
  {
   "cell_type": "code",
   "execution_count": null,
   "id": "f35aba9b-a32c-48dc-8582-bdcdd05a16a7",
   "metadata": {},
   "outputs": [],
   "source": [
    "# reshaping arrays"
   ]
  },
  {
   "cell_type": "code",
   "execution_count": null,
   "id": "6952822d-3a2d-4c9a-8e82-26dbee6e5f8a",
   "metadata": {},
   "outputs": [],
   "source": [
    "z = np.arange(1, 10)"
   ]
  },
  {
   "cell_type": "code",
   "execution_count": null,
   "id": "d36da304-b194-43a0-b29f-a851a57842b9",
   "metadata": {},
   "outputs": [
    {
     "data": {
      "text/plain": [
       "array([1, 2, 3, 4, 5, 6, 7, 8, 9])"
      ]
     },
     "execution_count": 47,
     "metadata": {},
     "output_type": "execute_result"
    }
   ],
   "source": [
    "z"
   ]
  },
  {
   "cell_type": "code",
   "execution_count": null,
   "id": "2ca704dd-9f46-430b-8a35-d3f384667f0c",
   "metadata": {},
   "outputs": [
    {
     "data": {
      "text/plain": [
       "array([[1, 2, 3],\n",
       "       [4, 5, 6],\n",
       "       [7, 8, 9]])"
      ]
     },
     "execution_count": 49,
     "metadata": {},
     "output_type": "execute_result"
    }
   ],
   "source": [
    "z.reshape((3, 3))"
   ]
  },
  {
   "cell_type": "code",
   "execution_count": null,
   "id": "a591b811-8eb8-4fbc-b505-a6fa904be37d",
   "metadata": {},
   "outputs": [
    {
     "ename": "ValueError",
     "evalue": "cannot reshape array of size 9 into shape (4,4)",
     "output_type": "error",
     "traceback": [
      "\u001b[1;31m---------------------------------------------------------------------------\u001b[0m",
      "\u001b[1;31mValueError\u001b[0m                                Traceback (most recent call last)",
      "File \u001b[1;32mc:\\Users\\salis\\Desktop\\python\\Week2\\W2D1.py:1\u001b[0m\n\u001b[1;32m----> 1\u001b[0m z\u001b[39m.\u001b[39;49mreshape((\u001b[39m4\u001b[39;49m, \u001b[39m4\u001b[39;49m))\n",
      "\u001b[1;31mValueError\u001b[0m: cannot reshape array of size 9 into shape (4,4)"
     ]
    }
   ],
   "source": [
    "z.reshape((4, 4))"
   ]
  },
  {
   "cell_type": "code",
   "execution_count": null,
   "id": "3b360b40-de17-4f8f-b557-e8e11671f20a",
   "metadata": {},
   "outputs": [],
   "source": [
    "# array concatenation and spliting"
   ]
  },
  {
   "cell_type": "code",
   "execution_count": null,
   "id": "8de41bca-949f-4eef-a207-14c49b66becc",
   "metadata": {},
   "outputs": [
    {
     "data": {
      "text/plain": [
       "array([1, 2, 3, 4, 5, 6])"
      ]
     },
     "execution_count": 54,
     "metadata": {},
     "output_type": "execute_result"
    }
   ],
   "source": [
    "x = np.array([1, 2, 3])\n",
    "y = np.array([4, 5, 6])\n",
    "np.concatenate([x, y])"
   ]
  },
  {
   "cell_type": "code",
   "execution_count": null,
   "id": "fa82a8a9-aa8b-4df1-bdf2-88ab4d84879e",
   "metadata": {},
   "outputs": [
    {
     "data": {
      "text/plain": [
       "array([[1, 2, 3],\n",
       "       [4, 5, 6],\n",
       "       [1, 2, 3],\n",
       "       [4, 5, 6]])"
      ]
     },
     "execution_count": 57,
     "metadata": {},
     "output_type": "execute_result"
    }
   ],
   "source": [
    "arr2d = np.array([[1, 2, 3], [4, 5, 6]])\n",
    "np.concatenate([arr2d, arr2d])  # by default rpws ma huncha i.e. x=0"
   ]
  },
  {
   "cell_type": "code",
   "execution_count": null,
   "id": "2bd25e01-04fc-4b52-9227-8cf2c3b1a086",
   "metadata": {},
   "outputs": [
    {
     "data": {
      "text/plain": [
       "array([[1, 2, 3, 1, 2, 3],\n",
       "       [4, 5, 6, 4, 5, 6]])"
      ]
     },
     "execution_count": 58,
     "metadata": {},
     "output_type": "execute_result"
    }
   ],
   "source": [
    "arr2d = np.array([[1, 2, 3], [4, 5, 6]])\n",
    "np.concatenate([arr2d, arr2d], axis=1)  # axis 1 vaneko columns"
   ]
  },
  {
   "cell_type": "code",
   "execution_count": null,
   "id": "d1a9f9e4-52e2-4348-8ea6-b9175ee3e216",
   "metadata": {},
   "outputs": [],
   "source": [
    "# horizontal and vertical add is hstack and vstack"
   ]
  },
  {
   "cell_type": "code",
   "execution_count": null,
   "id": "b3d1a150-61c8-43ca-b579-915d94dac67e",
   "metadata": {},
   "outputs": [
    {
     "data": {
      "text/plain": [
       "array([[1, 2, 3],\n",
       "       [1, 2, 3],\n",
       "       [4, 5, 6]])"
      ]
     },
     "execution_count": 60,
     "metadata": {},
     "output_type": "execute_result"
    }
   ],
   "source": [
    "np.vstack([x, arr2d])"
   ]
  },
  {
   "cell_type": "code",
   "execution_count": null,
   "id": "ca4a8842-63b3-47de-b78e-91b32d76d9f9",
   "metadata": {},
   "outputs": [],
   "source": [
    "# do hstack yourself at home"
   ]
  },
  {
   "cell_type": "code",
   "execution_count": null,
   "id": "07b7afe3-d31a-4867-a337-efa4703903ee",
   "metadata": {},
   "outputs": [],
   "source": [
    "# splitting arrays"
   ]
  },
  {
   "cell_type": "code",
   "execution_count": null,
   "id": "e975a3e6-dc70-4e6f-beac-a4af15f73e23",
   "metadata": {},
   "outputs": [
    {
     "name": "stdout",
     "output_type": "stream",
     "text": [
      "[1 2 3] [4 5] [6 7 8]\n"
     ]
    }
   ],
   "source": [
    "x = [1, 2, 3, 4, 5, 6, 7, 8]\n",
    "x1, x2, x3 = np.split(x, [3, 5])\n",
    "print(x1, x2, x3)"
   ]
  },
  {
   "cell_type": "code",
   "execution_count": null,
   "id": "f1e054c8-2d9c-4f8d-a14f-41c6ca6d26c3",
   "metadata": {},
   "outputs": [],
   "source": [
    "# do hsplit and vsplit at home"
   ]
  },
  {
   "cell_type": "code",
   "execution_count": null,
   "id": "4caf2b6b-6039-4af9-a054-2c2d03e09e40",
   "metadata": {},
   "outputs": [],
   "source": [
    "# check how much time it took for operation %timeit check in pdf at home"
   ]
  },
  {
   "cell_type": "code",
   "execution_count": null,
   "id": "5c522117-b54f-49de-9ed8-2857d15b63b3",
   "metadata": {},
   "outputs": [],
   "source": [
    "x = np.array([-2, -3, 10, -1])"
   ]
  },
  {
   "cell_type": "code",
   "execution_count": null,
   "id": "8869b78d-14f5-4bbe-9672-170ae498da8e",
   "metadata": {},
   "outputs": [
    {
     "data": {
      "text/plain": [
       "array([ 2,  3, 10,  1])"
      ]
     },
     "execution_count": 70,
     "metadata": {},
     "output_type": "execute_result"
    }
   ],
   "source": [
    "np.abs(x)"
   ]
  },
  {
   "cell_type": "code",
   "execution_count": null,
   "id": "b9811b86-85ab-4780-97f9-00f0e6d0c1d6",
   "metadata": {},
   "outputs": [],
   "source": [
    "theta = np.linspace(0, np.pi, 3)"
   ]
  },
  {
   "cell_type": "code",
   "execution_count": null,
   "id": "ab82b3a3-b1d6-42a8-a9ae-0ad1534527bd",
   "metadata": {},
   "outputs": [
    {
     "data": {
      "text/plain": [
       "array([0.        , 1.57079633, 3.14159265])"
      ]
     },
     "execution_count": 73,
     "metadata": {},
     "output_type": "execute_result"
    }
   ],
   "source": [
    "theta"
   ]
  },
  {
   "cell_type": "code",
   "execution_count": null,
   "id": "c7176ffd-86a7-4b0d-a1c0-48b39105b9f3",
   "metadata": {},
   "outputs": [
    {
     "name": "stdout",
     "output_type": "stream",
     "text": [
      "sin(theta) = [0.0000000e+00 1.0000000e+00 1.2246468e-16]\n"
     ]
    }
   ],
   "source": [
    "print(\"sin(theta) =\", np.sin(theta))"
   ]
  },
  {
   "cell_type": "code",
   "execution_count": null,
   "id": "a2884227-97ee-4ccf-9a96-f5759e1e18fd",
   "metadata": {},
   "outputs": [],
   "source": [
    "# linspace is linear spacing so pi is 180 degree so 0 to 180 ko three spaces lincha"
   ]
  }
 ],
 "metadata": {
  "language_info": {
   "codemirror_mode": {
    "name": "ipython",
    "version": 3
   },
   "file_extension": ".py",
   "mimetype": "text/x-python",
   "name": "python",
   "nbconvert_exporter": "python",
   "pygments_lexer": "ipython3",
   "version": 3
  }
 },
 "nbformat": 4,
 "nbformat_minor": 2
}
