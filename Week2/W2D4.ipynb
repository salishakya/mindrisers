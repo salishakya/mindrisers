{
 "cells": [
  {
   "cell_type": "code",
   "execution_count": null,
   "id": "0324c184-f940-4a3b-a611-4972a4b07103",
   "metadata": {},
   "outputs": [],
   "source": [
    "# 1D arrays are series\n",
    "# 2D arrays are dataframes\n",
    "# pandas is mostly for data cleaning and ML\n",
    "\n",
    "# array banauni vaye numpy nei use garnu parcha"
   ]
  },
  {
   "cell_type": "code",
   "execution_count": null,
   "id": "3245f5f3-8a67-46f8-b8f6-b40c4e05b751",
   "metadata": {},
   "outputs": [
    {
     "name": "stdout",
     "output_type": "stream",
     "text": [
      "Series:  0    0.25\n",
      "1    0.50\n",
      "2    0.75\n",
      "3    1.00\n",
      "dtype: float64\n",
      "Array:  [0.25 0.5  0.75 1.  ]\n"
     ]
    }
   ],
   "source": [
    "import pandas as pd\n",
    "import numpy as np\n",
    "\n",
    "data = pd.Series([0.25, 0.5, 0.75, 1.0])\n",
    "data1 = np.array([0.25, 0.5, 0.75, 1.0])\n",
    "print(\"Series: \", data)\n",
    "print(\"Array: \", data1)"
   ]
  },
  {
   "cell_type": "code",
   "execution_count": null,
   "id": "871f1c4f-b06f-404b-a812-fbae0a603c43",
   "metadata": {},
   "outputs": [],
   "source": [
    "# Series le tabular structure ma rakhdyo"
   ]
  },
  {
   "cell_type": "code",
   "execution_count": null,
   "id": "fe8072c4-0793-45f6-a792-4f760f936d32",
   "metadata": {},
   "outputs": [
    {
     "data": {
      "text/plain": [
       "array([0.25, 0.5 , 0.75, 1.  ])"
      ]
     },
     "execution_count": 4,
     "metadata": {},
     "output_type": "execute_result"
    }
   ],
   "source": [
    "data.values"
   ]
  },
  {
   "cell_type": "code",
   "execution_count": null,
   "id": "69f26f90-5720-4873-8727-10bf9ba54156",
   "metadata": {},
   "outputs": [],
   "source": [
    "# series ko value sabai array mei store huncha"
   ]
  },
  {
   "cell_type": "code",
   "execution_count": null,
   "id": "92c2f229-1c03-4216-844e-2fcf7ff4e566",
   "metadata": {},
   "outputs": [
    {
     "data": {
      "text/plain": [
       "RangeIndex(start=0, stop=4, step=1)"
      ]
     },
     "execution_count": 6,
     "metadata": {},
     "output_type": "execute_result"
    }
   ],
   "source": [
    "data.index"
   ]
  },
  {
   "cell_type": "code",
   "execution_count": null,
   "id": "6d0430fd-cb27-4d59-a5f6-b0e2e724f3d2",
   "metadata": {},
   "outputs": [
    {
     "data": {
      "text/plain": [
       "np.float64(0.75)"
      ]
     },
     "execution_count": 7,
     "metadata": {},
     "output_type": "execute_result"
    }
   ],
   "source": [
    "data[2]"
   ]
  },
  {
   "cell_type": "code",
   "execution_count": null,
   "id": "1f977e6c-ba66-4cee-aca2-11ddc6615aca",
   "metadata": {},
   "outputs": [
    {
     "data": {
      "text/plain": [
       "a    0.25\n",
       "b    0.50\n",
       "c    0.75\n",
       "d    1.00\n",
       "dtype: float64"
      ]
     },
     "execution_count": 8,
     "metadata": {},
     "output_type": "execute_result"
    }
   ],
   "source": [
    "# numpy array defines implicitly\n",
    "# pandas series is explicitly defined\n",
    "\n",
    "data = pd.Series([0.25, 0.5, 0.75, 1.0], index=[\"a\", \"b\", \"c\", \"d\"])\n",
    "data"
   ]
  },
  {
   "cell_type": "code",
   "execution_count": null,
   "id": "b57a2140-bf7f-4b3b-a972-4ef7063973b3",
   "metadata": {},
   "outputs": [
    {
     "data": {
      "text/plain": [
       "np.float64(0.75)"
      ]
     },
     "execution_count": 9,
     "metadata": {},
     "output_type": "execute_result"
    }
   ],
   "source": [
    "data['c']"
   ]
  },
  {
   "cell_type": "code",
   "execution_count": null,
   "id": "f20987fc-a1aa-48a7-a067-81ca0693c1fb",
   "metadata": {},
   "outputs": [
    {
     "data": {
      "text/plain": [
       "California    38\n",
       "Texas         26\n",
       "New York      20\n",
       "Florida       19\n",
       "Illinois      13\n",
       "dtype: int64"
      ]
     },
     "execution_count": 10,
     "metadata": {},
     "output_type": "execute_result"
    }
   ],
   "source": [
    "population_dic = {\n",
    "    \"California\": 38,\n",
    "    \"Texas\": 26,\n",
    "    \"New York\": 20,\n",
    "    \"Florida\": 19,\n",
    "    \"Illinois\": 13,\n",
    "}\n",
    "\n",
    "population = pd.Series(population_dic)\n",
    "population"
   ]
  },
  {
   "cell_type": "code",
   "execution_count": null,
   "id": "0e023690-6001-448a-8f87-10f7a5c3f848",
   "metadata": {},
   "outputs": [],
   "source": [
    "# keys lai index ma halyo ani values side ma"
   ]
  },
  {
   "cell_type": "code",
   "execution_count": null,
   "id": "d5af073e-0efe-40f3-b889-b15398d7276f",
   "metadata": {},
   "outputs": [
    {
     "data": {
      "text/plain": [
       "California    38\n",
       "Texas         26\n",
       "New York      20\n",
       "dtype: int64"
      ]
     },
     "execution_count": 13,
     "metadata": {},
     "output_type": "execute_result"
    }
   ],
   "source": [
    "# explicit ma chai last item pani lincha explicitly vako le\n",
    "\n",
    "population[\"California\":\"New York\"]"
   ]
  },
  {
   "cell_type": "code",
   "execution_count": null,
   "id": "ad7601fa-9bf6-476f-b828-b67188344bd9",
   "metadata": {},
   "outputs": [
    {
     "data": {
      "text/plain": [
       "10    7\n",
       "20    7\n",
       "30    7\n",
       "30    7\n",
       "dtype: int64"
      ]
     },
     "execution_count": 14,
     "metadata": {},
     "output_type": "execute_result"
    }
   ],
   "source": [
    "pd.Series(7, index=[10, 20, 30, 30])"
   ]
  },
  {
   "cell_type": "code",
   "execution_count": null,
   "id": "d7c9ebd7-c5ee-4b2e-831d-7ec28ca76b4c",
   "metadata": {},
   "outputs": [
    {
     "data": {
      "text/plain": [
       "2    a\n",
       "5    b\n",
       "3    c\n",
       "dtype: object"
      ]
     },
     "execution_count": 15,
     "metadata": {},
     "output_type": "execute_result"
    }
   ],
   "source": [
    "pd.Series({2: \"a\", 5: \"b\", 3: \"c\"})"
   ]
  },
  {
   "cell_type": "code",
   "execution_count": null,
   "id": "243ad78f-5b36-4802-aec9-da3edd04f02e",
   "metadata": {},
   "outputs": [
    {
     "data": {
      "text/plain": [
       "3    c\n",
       "2    a\n",
       "dtype: object"
      ]
     },
     "execution_count": 16,
     "metadata": {},
     "output_type": "execute_result"
    }
   ],
   "source": [
    "# user's code overrides the library\n",
    "pd.Series({2: \"a\", 5: \"b\", 3: \"c\"}, index=[3, 2])"
   ]
  },
  {
   "cell_type": "code",
   "execution_count": null,
   "id": "3f583de2-ccc4-4f8c-9991-96d0c12608ef",
   "metadata": {},
   "outputs": [],
   "source": [
    "# 2D - dataframes"
   ]
  },
  {
   "cell_type": "code",
   "execution_count": null,
   "id": "bdad5a27-32e1-4884-bdae-4677bae16c05",
   "metadata": {},
   "outputs": [
    {
     "data": {
      "text/plain": [
       "California    423\n",
       "Texas         695\n",
       "New York      141\n",
       "Florida       170\n",
       "Illinois      150\n",
       "dtype: int64"
      ]
     },
     "execution_count": 18,
     "metadata": {},
     "output_type": "execute_result"
    }
   ],
   "source": [
    "# 2D - dataframes\n",
    "\n",
    "area_dic = {\n",
    "    \"California\": 423,\n",
    "    \"Texas\": 695,\n",
    "    \"New York\": 141,\n",
    "    \"Florida\": 170,\n",
    "    \"Illinois\": 150,\n",
    "}\n",
    "\n",
    "area = pd.Series(area_dic)\n",
    "area"
   ]
  },
  {
   "cell_type": "code",
   "execution_count": null,
   "id": "04c1317f-5199-40df-a211-0ece4ea4a033",
   "metadata": {},
   "outputs": [],
   "source": [
    "states = pd.DataFrame({\"population\": population, \"area\": area})"
   ]
  },
  {
   "cell_type": "code",
   "execution_count": null,
   "id": "8a1bba5c-3368-4408-8c59-a2c607e42ef5",
   "metadata": {},
   "outputs": [
    {
     "data": {
      "text/html": [
       "<div>\n",
       "<style scoped>\n",
       "    .dataframe tbody tr th:only-of-type {\n",
       "        vertical-align: middle;\n",
       "    }\n",
       "\n",
       "    .dataframe tbody tr th {\n",
       "        vertical-align: top;\n",
       "    }\n",
       "\n",
       "    .dataframe thead th {\n",
       "        text-align: right;\n",
       "    }\n",
       "</style>\n",
       "<table border=\"1\" class=\"dataframe\">\n",
       "  <thead>\n",
       "    <tr style=\"text-align: right;\">\n",
       "      <th></th>\n",
       "      <th>population</th>\n",
       "      <th>area</th>\n",
       "    </tr>\n",
       "  </thead>\n",
       "  <tbody>\n",
       "    <tr>\n",
       "      <th>California</th>\n",
       "      <td>38</td>\n",
       "      <td>423</td>\n",
       "    </tr>\n",
       "    <tr>\n",
       "      <th>Texas</th>\n",
       "      <td>26</td>\n",
       "      <td>695</td>\n",
       "    </tr>\n",
       "    <tr>\n",
       "      <th>New York</th>\n",
       "      <td>20</td>\n",
       "      <td>141</td>\n",
       "    </tr>\n",
       "    <tr>\n",
       "      <th>Florida</th>\n",
       "      <td>19</td>\n",
       "      <td>170</td>\n",
       "    </tr>\n",
       "    <tr>\n",
       "      <th>Illinois</th>\n",
       "      <td>13</td>\n",
       "      <td>150</td>\n",
       "    </tr>\n",
       "  </tbody>\n",
       "</table>\n",
       "</div>"
      ],
      "text/plain": [
       "            population  area\n",
       "California          38   423\n",
       "Texas               26   695\n",
       "New York            20   141\n",
       "Florida             19   170\n",
       "Illinois            13   150"
      ]
     },
     "execution_count": 20,
     "metadata": {},
     "output_type": "execute_result"
    }
   ],
   "source": [
    "states"
   ]
  },
  {
   "cell_type": "code",
   "execution_count": null,
   "id": "11036675-d8da-41a4-a3e3-9e713042d9a1",
   "metadata": {},
   "outputs": [],
   "source": [
    "# matrix form ma garo hunthyo so we just did in dataframe for visualization"
   ]
  },
  {
   "cell_type": "code",
   "execution_count": null,
   "id": "d12f04bb-ff6f-41dd-b483-77d823d5504b",
   "metadata": {},
   "outputs": [
    {
     "data": {
      "text/plain": [
       "pandas.core.frame.DataFrame"
      ]
     },
     "execution_count": 22,
     "metadata": {},
     "output_type": "execute_result"
    }
   ],
   "source": [
    "type(states)"
   ]
  },
  {
   "cell_type": "code",
   "execution_count": null,
   "id": "fd33b31e-4f22-4792-9b57-106f39c73934",
   "metadata": {},
   "outputs": [
    {
     "data": {
      "text/plain": [
       "Index(['California', 'Texas', 'New York', 'Florida', 'Illinois'], dtype='object')"
      ]
     },
     "execution_count": 23,
     "metadata": {},
     "output_type": "execute_result"
    }
   ],
   "source": [
    "states.index"
   ]
  },
  {
   "cell_type": "code",
   "execution_count": null,
   "id": "9fa12867-6f56-4f6a-a5d0-804454ad89d4",
   "metadata": {},
   "outputs": [
    {
     "data": {
      "text/plain": [
       "Index(['population', 'area'], dtype='object')"
      ]
     },
     "execution_count": 24,
     "metadata": {},
     "output_type": "execute_result"
    }
   ],
   "source": [
    "states.columns"
   ]
  },
  {
   "cell_type": "code",
   "execution_count": null,
   "id": "922d6caf-7349-45e8-8bcb-5004b19b802c",
   "metadata": {},
   "outputs": [
    {
     "data": {
      "text/plain": [
       "California    423\n",
       "Texas         695\n",
       "New York      141\n",
       "Florida       170\n",
       "Illinois      150\n",
       "Name: area, dtype: int64"
      ]
     },
     "execution_count": 26,
     "metadata": {},
     "output_type": "execute_result"
    }
   ],
   "source": [
    "states['area']"
   ]
  },
  {
   "cell_type": "code",
   "execution_count": null,
   "id": "dec93953-630c-4e95-b85f-71bc74da7d2e",
   "metadata": {},
   "outputs": [
    {
     "name": "stdout",
     "output_type": "stream",
     "text": [
      "California    38\n",
      "Texas         26\n",
      "New York      20\n",
      "Florida       19\n",
      "Illinois      13\n",
      "dtype: int64\n"
     ]
    }
   ],
   "source": [
    "print(population)"
   ]
  },
  {
   "cell_type": "code",
   "execution_count": null,
   "id": "4a41308a-8bf4-4cd6-b853-3e8fbb545cc4",
   "metadata": {},
   "outputs": [
    {
     "data": {
      "text/html": [
       "<div>\n",
       "<style scoped>\n",
       "    .dataframe tbody tr th:only-of-type {\n",
       "        vertical-align: middle;\n",
       "    }\n",
       "\n",
       "    .dataframe tbody tr th {\n",
       "        vertical-align: top;\n",
       "    }\n",
       "\n",
       "    .dataframe thead th {\n",
       "        text-align: right;\n",
       "    }\n",
       "</style>\n",
       "<table border=\"1\" class=\"dataframe\">\n",
       "  <thead>\n",
       "    <tr style=\"text-align: right;\">\n",
       "      <th></th>\n",
       "      <th>population</th>\n",
       "    </tr>\n",
       "  </thead>\n",
       "  <tbody>\n",
       "    <tr>\n",
       "      <th>California</th>\n",
       "      <td>38</td>\n",
       "    </tr>\n",
       "    <tr>\n",
       "      <th>Texas</th>\n",
       "      <td>26</td>\n",
       "    </tr>\n",
       "    <tr>\n",
       "      <th>New York</th>\n",
       "      <td>20</td>\n",
       "    </tr>\n",
       "    <tr>\n",
       "      <th>Florida</th>\n",
       "      <td>19</td>\n",
       "    </tr>\n",
       "    <tr>\n",
       "      <th>Illinois</th>\n",
       "      <td>13</td>\n",
       "    </tr>\n",
       "  </tbody>\n",
       "</table>\n",
       "</div>"
      ],
      "text/plain": [
       "            population\n",
       "California          38\n",
       "Texas               26\n",
       "New York            20\n",
       "Florida             19\n",
       "Illinois            13"
      ]
     },
     "execution_count": 28,
     "metadata": {},
     "output_type": "execute_result"
    }
   ],
   "source": [
    "pd.DataFrame(population, columns=[\"population\"])"
   ]
  },
  {
   "cell_type": "code",
   "execution_count": null,
   "id": "177618fa-9146-4246-a273-232d52db1cdf",
   "metadata": {},
   "outputs": [],
   "source": [
    "# population series thyo tyo chai column ma rakheko"
   ]
  },
  {
   "cell_type": "code",
   "execution_count": null,
   "id": "568f078a-e6cf-4870-b17a-eac92e7fff31",
   "metadata": {},
   "outputs": [
    {
     "data": {
      "text/plain": [
       "[{'a': 0, 'b': 0},\n",
       " {'a': 1, 'b': 2},\n",
       " {'a': 2, 'b': 4},\n",
       " {'a': 3, 'b': 6},\n",
       " {'a': 4, 'b': 8},\n",
       " {'a': 5, 'b': 10}]"
      ]
     },
     "execution_count": 31,
     "metadata": {},
     "output_type": "execute_result"
    }
   ],
   "source": [
    "data = [{\"a\": i, \"b\": 2 * i} for i in range(6)]\n",
    "pd.DataFrame(data)\n",
    "data"
   ]
  },
  {
   "cell_type": "code",
   "execution_count": null,
   "id": "1d512286-5072-4d41-a107-bd764ca52317",
   "metadata": {},
   "outputs": [
    {
     "data": {
      "text/html": [
       "<div>\n",
       "<style scoped>\n",
       "    .dataframe tbody tr th:only-of-type {\n",
       "        vertical-align: middle;\n",
       "    }\n",
       "\n",
       "    .dataframe tbody tr th {\n",
       "        vertical-align: top;\n",
       "    }\n",
       "\n",
       "    .dataframe thead th {\n",
       "        text-align: right;\n",
       "    }\n",
       "</style>\n",
       "<table border=\"1\" class=\"dataframe\">\n",
       "  <thead>\n",
       "    <tr style=\"text-align: right;\">\n",
       "      <th></th>\n",
       "      <th>a</th>\n",
       "      <th>b</th>\n",
       "    </tr>\n",
       "  </thead>\n",
       "  <tbody>\n",
       "    <tr>\n",
       "      <th>0</th>\n",
       "      <td>0</td>\n",
       "      <td>0</td>\n",
       "    </tr>\n",
       "    <tr>\n",
       "      <th>1</th>\n",
       "      <td>1</td>\n",
       "      <td>2</td>\n",
       "    </tr>\n",
       "    <tr>\n",
       "      <th>2</th>\n",
       "      <td>2</td>\n",
       "      <td>4</td>\n",
       "    </tr>\n",
       "    <tr>\n",
       "      <th>3</th>\n",
       "      <td>3</td>\n",
       "      <td>6</td>\n",
       "    </tr>\n",
       "    <tr>\n",
       "      <th>4</th>\n",
       "      <td>4</td>\n",
       "      <td>8</td>\n",
       "    </tr>\n",
       "    <tr>\n",
       "      <th>5</th>\n",
       "      <td>5</td>\n",
       "      <td>10</td>\n",
       "    </tr>\n",
       "  </tbody>\n",
       "</table>\n",
       "</div>"
      ],
      "text/plain": [
       "   a   b\n",
       "0  0   0\n",
       "1  1   2\n",
       "2  2   4\n",
       "3  3   6\n",
       "4  4   8\n",
       "5  5  10"
      ]
     },
     "execution_count": 32,
     "metadata": {},
     "output_type": "execute_result"
    }
   ],
   "source": [
    "pd.DataFrame(data)"
   ]
  },
  {
   "cell_type": "code",
   "execution_count": null,
   "id": "b85e82ea-638a-4161-b895-1d60d13ecedb",
   "metadata": {},
   "outputs": [],
   "source": [
    "# table ma kei data chaina vaney chai pandas le NaN rakhdincha"
   ]
  },
  {
   "cell_type": "code",
   "execution_count": null,
   "id": "0d87acd1-ef36-4eee-99da-9186be2b776f",
   "metadata": {},
   "outputs": [],
   "source": [
    "# NaN is not a number"
   ]
  },
  {
   "cell_type": "code",
   "execution_count": null,
   "id": "2cc0ab60-99e9-4770-a249-373adef10a4a",
   "metadata": {},
   "outputs": [
    {
     "data": {
      "text/html": [
       "<div>\n",
       "<style scoped>\n",
       "    .dataframe tbody tr th:only-of-type {\n",
       "        vertical-align: middle;\n",
       "    }\n",
       "\n",
       "    .dataframe tbody tr th {\n",
       "        vertical-align: top;\n",
       "    }\n",
       "\n",
       "    .dataframe thead th {\n",
       "        text-align: right;\n",
       "    }\n",
       "</style>\n",
       "<table border=\"1\" class=\"dataframe\">\n",
       "  <thead>\n",
       "    <tr style=\"text-align: right;\">\n",
       "      <th></th>\n",
       "      <th>a</th>\n",
       "      <th>b</th>\n",
       "      <th>c</th>\n",
       "    </tr>\n",
       "  </thead>\n",
       "  <tbody>\n",
       "    <tr>\n",
       "      <th>0</th>\n",
       "      <td>0.0</td>\n",
       "      <td>1</td>\n",
       "      <td>NaN</td>\n",
       "    </tr>\n",
       "    <tr>\n",
       "      <th>1</th>\n",
       "      <td>NaN</td>\n",
       "      <td>2</td>\n",
       "      <td>3.0</td>\n",
       "    </tr>\n",
       "  </tbody>\n",
       "</table>\n",
       "</div>"
      ],
      "text/plain": [
       "     a  b    c\n",
       "0  0.0  1  NaN\n",
       "1  NaN  2  3.0"
      ]
     },
     "execution_count": 37,
     "metadata": {},
     "output_type": "execute_result"
    }
   ],
   "source": [
    "pd.DataFrame([{\"a\": 0, \"b\": 1}, {\"b\": 2, \"c\": 3}])"
   ]
  },
  {
   "cell_type": "code",
   "execution_count": null,
   "id": "01800f51-dda1-4dcb-a09a-00dd7d727bbd",
   "metadata": {},
   "outputs": [],
   "source": [
    "# NaN ma kei operation garyo vaney NaN nei aucha so data cleaning ma first step is to check NaN values"
   ]
  },
  {
   "cell_type": "code",
   "execution_count": null,
   "id": "6b56da5c-16a7-4c58-b199-a01322a0eeda",
   "metadata": {},
   "outputs": [],
   "source": [
    "#interview question\n",
    "# data exploration is the starting point \n",
    "# such as .ndim, .shape, .size, .dtype, .describe, .info"
   ]
  },
  {
   "cell_type": "code",
   "execution_count": null,
   "id": "3c2b1e39-77a4-437f-922a-9564ebf665ef",
   "metadata": {},
   "outputs": [
    {
     "data": {
      "text/plain": [
       "a    0.25\n",
       "b    0.50\n",
       "c    0.75\n",
       "d    1.00\n",
       "dtype: float64"
      ]
     },
     "execution_count": 40,
     "metadata": {},
     "output_type": "execute_result"
    }
   ],
   "source": [
    "data = pd.Series([0.25, 0.5, 0.75, 1.0], index=[\"a\", \"b\", \"c\", \"d\"])\n",
    "data"
   ]
  },
  {
   "cell_type": "code",
   "execution_count": null,
   "id": "82864762-e2d6-45e7-b28e-7606ea3aacff",
   "metadata": {},
   "outputs": [
    {
     "data": {
      "text/plain": [
       "Index(['a', 'b', 'c', 'd'], dtype='object')"
      ]
     },
     "execution_count": 42,
     "metadata": {},
     "output_type": "execute_result"
    }
   ],
   "source": [
    "data.keys() # check what the keys we have"
   ]
  },
  {
   "cell_type": "code",
   "execution_count": null,
   "id": "7c429e10-d676-4f2d-933b-73914e45df98",
   "metadata": {},
   "outputs": [
    {
     "data": {
      "text/plain": [
       "array([0.25, 0.5 , 0.75, 1.  ])"
      ]
     },
     "execution_count": 43,
     "metadata": {},
     "output_type": "execute_result"
    }
   ],
   "source": [
    "data.values"
   ]
  },
  {
   "cell_type": "code",
   "execution_count": null,
   "id": "054946ab-db37-4881-aca0-1b3ff7c034f2",
   "metadata": {},
   "outputs": [
    {
     "data": {
      "text/plain": [
       "<zip at 0x201f2b3cf80>"
      ]
     },
     "execution_count": 45,
     "metadata": {},
     "output_type": "execute_result"
    }
   ],
   "source": [
    "data.items()"
   ]
  },
  {
   "cell_type": "code",
   "execution_count": null,
   "id": "15c85ec6-bfc8-4206-954c-b091ac15060c",
   "metadata": {},
   "outputs": [
    {
     "name": "stdout",
     "output_type": "stream",
     "text": [
      "<zip object at 0x00000201F2B3CB00>\n"
     ]
    }
   ],
   "source": [
    "print(data.items())"
   ]
  },
  {
   "cell_type": "code",
   "execution_count": null,
   "id": "9e8ab2d5-4599-453b-a202-89eea4c686ac",
   "metadata": {},
   "outputs": [
    {
     "data": {
      "text/plain": [
       "[('a', 0.25), ('b', 0.5), ('c', 0.75), ('d', 1.0)]"
      ]
     },
     "execution_count": 47,
     "metadata": {},
     "output_type": "execute_result"
    }
   ],
   "source": [
    "list(data.items())"
   ]
  },
  {
   "cell_type": "code",
   "execution_count": null,
   "id": "6a0d38c3-7d84-45c1-b158-29718c182816",
   "metadata": {},
   "outputs": [],
   "source": [
    "data['e'] = 1.25"
   ]
  },
  {
   "cell_type": "code",
   "execution_count": null,
   "id": "ecefa86b-2cc7-445c-aaaf-d13983213d03",
   "metadata": {},
   "outputs": [],
   "source": [
    "data['d'] = 1.25"
   ]
  },
  {
   "cell_type": "code",
   "execution_count": null,
   "id": "877492ec-8d7a-401e-9967-a29e2409f3f6",
   "metadata": {},
   "outputs": [
    {
     "data": {
      "text/plain": [
       "a    0.25\n",
       "b    0.50\n",
       "c    0.75\n",
       "d    1.25\n",
       "e    1.25\n",
       "dtype: float64"
      ]
     },
     "execution_count": 51,
     "metadata": {},
     "output_type": "execute_result"
    }
   ],
   "source": [
    "data"
   ]
  },
  {
   "cell_type": "code",
   "execution_count": null,
   "id": "05e67507-4d4b-456c-bba0-2f35803194f1",
   "metadata": {},
   "outputs": [],
   "source": [
    "data = pd.Series([\"x\", \"y\", \"z\"], index=[1, 3, 5])"
   ]
  },
  {
   "cell_type": "code",
   "execution_count": null,
   "id": "b83ccc15-fc17-4317-8516-2a24e467bb85",
   "metadata": {},
   "outputs": [
    {
     "data": {
      "text/plain": [
       "'x'"
      ]
     },
     "execution_count": 53,
     "metadata": {},
     "output_type": "execute_result"
    }
   ],
   "source": [
    "data[1]"
   ]
  },
  {
   "cell_type": "code",
   "execution_count": null,
   "id": "3d9039f0-00c4-401c-bfc9-3c2bfe13526f",
   "metadata": {},
   "outputs": [],
   "source": [
    "# user defined priority thyo 1 index ma"
   ]
  },
  {
   "cell_type": "code",
   "execution_count": null,
   "id": "8ebf7562-60f5-4355-b4fa-09d3708c4994",
   "metadata": {},
   "outputs": [],
   "source": [
    "# loc = location and iloc = implicit location"
   ]
  },
  {
   "cell_type": "code",
   "execution_count": null,
   "id": "d368b5b3-ff49-42f3-b03b-d92f475cce61",
   "metadata": {},
   "outputs": [
    {
     "data": {
      "text/plain": [
       "'x'"
      ]
     },
     "execution_count": 56,
     "metadata": {},
     "output_type": "execute_result"
    }
   ],
   "source": [
    "data.loc[1]"
   ]
  },
  {
   "cell_type": "code",
   "execution_count": null,
   "id": "8f550757-fe1b-4bef-a9c0-f2bb945d1f09",
   "metadata": {},
   "outputs": [
    {
     "data": {
      "text/plain": [
       "'y'"
      ]
     },
     "execution_count": 57,
     "metadata": {},
     "output_type": "execute_result"
    }
   ],
   "source": [
    "data.iloc[1]"
   ]
  },
  {
   "cell_type": "code",
   "execution_count": null,
   "id": "37e45018-a2ba-42a4-bec9-737df1413e4d",
   "metadata": {},
   "outputs": [],
   "source": [
    "# explicit is better than implicit"
   ]
  },
  {
   "cell_type": "code",
   "execution_count": null,
   "id": "47b44f6f-dd71-4e5f-b918-38610d1c4cfa",
   "metadata": {},
   "outputs": [
    {
     "data": {
      "text/html": [
       "<div>\n",
       "<style scoped>\n",
       "    .dataframe tbody tr th:only-of-type {\n",
       "        vertical-align: middle;\n",
       "    }\n",
       "\n",
       "    .dataframe tbody tr th {\n",
       "        vertical-align: top;\n",
       "    }\n",
       "\n",
       "    .dataframe thead th {\n",
       "        text-align: right;\n",
       "    }\n",
       "</style>\n",
       "<table border=\"1\" class=\"dataframe\">\n",
       "  <thead>\n",
       "    <tr style=\"text-align: right;\">\n",
       "      <th></th>\n",
       "      <th>population</th>\n",
       "      <th>area</th>\n",
       "    </tr>\n",
       "  </thead>\n",
       "  <tbody>\n",
       "    <tr>\n",
       "      <th>California</th>\n",
       "      <td>38</td>\n",
       "      <td>423</td>\n",
       "    </tr>\n",
       "    <tr>\n",
       "      <th>Texas</th>\n",
       "      <td>26</td>\n",
       "      <td>695</td>\n",
       "    </tr>\n",
       "    <tr>\n",
       "      <th>New York</th>\n",
       "      <td>20</td>\n",
       "      <td>141</td>\n",
       "    </tr>\n",
       "    <tr>\n",
       "      <th>Florida</th>\n",
       "      <td>19</td>\n",
       "      <td>170</td>\n",
       "    </tr>\n",
       "    <tr>\n",
       "      <th>Illinois</th>\n",
       "      <td>13</td>\n",
       "      <td>150</td>\n",
       "    </tr>\n",
       "  </tbody>\n",
       "</table>\n",
       "</div>"
      ],
      "text/plain": [
       "            population  area\n",
       "California          38   423\n",
       "Texas               26   695\n",
       "New York            20   141\n",
       "Florida             19   170\n",
       "Illinois            13   150"
      ]
     },
     "execution_count": 59,
     "metadata": {},
     "output_type": "execute_result"
    }
   ],
   "source": [
    "states"
   ]
  },
  {
   "cell_type": "code",
   "execution_count": null,
   "id": "078167e6-f3da-4fe7-85d0-e720b4997571",
   "metadata": {},
   "outputs": [],
   "source": [
    "states[\"density\"] = states[\"population\"] / states[\"area\"]"
   ]
  },
  {
   "cell_type": "code",
   "execution_count": null,
   "id": "67c0079d-fc86-4112-9f3a-fb10de4ec7e7",
   "metadata": {},
   "outputs": [
    {
     "data": {
      "text/html": [
       "<div>\n",
       "<style scoped>\n",
       "    .dataframe tbody tr th:only-of-type {\n",
       "        vertical-align: middle;\n",
       "    }\n",
       "\n",
       "    .dataframe tbody tr th {\n",
       "        vertical-align: top;\n",
       "    }\n",
       "\n",
       "    .dataframe thead th {\n",
       "        text-align: right;\n",
       "    }\n",
       "</style>\n",
       "<table border=\"1\" class=\"dataframe\">\n",
       "  <thead>\n",
       "    <tr style=\"text-align: right;\">\n",
       "      <th></th>\n",
       "      <th>population</th>\n",
       "      <th>area</th>\n",
       "      <th>density</th>\n",
       "    </tr>\n",
       "  </thead>\n",
       "  <tbody>\n",
       "    <tr>\n",
       "      <th>California</th>\n",
       "      <td>38</td>\n",
       "      <td>423</td>\n",
       "      <td>0.089835</td>\n",
       "    </tr>\n",
       "    <tr>\n",
       "      <th>Texas</th>\n",
       "      <td>26</td>\n",
       "      <td>695</td>\n",
       "      <td>0.037410</td>\n",
       "    </tr>\n",
       "    <tr>\n",
       "      <th>New York</th>\n",
       "      <td>20</td>\n",
       "      <td>141</td>\n",
       "      <td>0.141844</td>\n",
       "    </tr>\n",
       "    <tr>\n",
       "      <th>Florida</th>\n",
       "      <td>19</td>\n",
       "      <td>170</td>\n",
       "      <td>0.111765</td>\n",
       "    </tr>\n",
       "    <tr>\n",
       "      <th>Illinois</th>\n",
       "      <td>13</td>\n",
       "      <td>150</td>\n",
       "      <td>0.086667</td>\n",
       "    </tr>\n",
       "  </tbody>\n",
       "</table>\n",
       "</div>"
      ],
      "text/plain": [
       "            population  area   density\n",
       "California          38   423  0.089835\n",
       "Texas               26   695  0.037410\n",
       "New York            20   141  0.141844\n",
       "Florida             19   170  0.111765\n",
       "Illinois            13   150  0.086667"
      ]
     },
     "execution_count": 61,
     "metadata": {},
     "output_type": "execute_result"
    }
   ],
   "source": [
    "states"
   ]
  }
 ],
 "metadata": {
  "language_info": {
   "codemirror_mode": {
    "name": "ipython",
    "version": 3
   },
   "file_extension": ".py",
   "mimetype": "text/x-python",
   "name": "python",
   "nbconvert_exporter": "python",
   "pygments_lexer": "ipython3",
   "version": 3
  }
 },
 "nbformat": 4,
 "nbformat_minor": 2
}
