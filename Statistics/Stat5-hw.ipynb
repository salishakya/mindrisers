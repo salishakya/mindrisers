{
 "cells": [
  {
   "cell_type": "code",
   "execution_count": null,
   "id": "1990b1d9-980e-46d2-8321-b2b973324b93",
   "metadata": {},
   "outputs": [],
   "source": [
    "# Activity: Explore hypothesis testing\n",
    "\n",
    "import numpy as np\n",
    "import pandas as pd\n",
    "from scipy import stats"
   ]
  },
  {
   "cell_type": "code",
   "execution_count": null,
   "id": "25090681-3277-4143-bcca-38d61d4ea425",
   "metadata": {},
   "outputs": [],
   "source": [
    "aqi = pd.read_csv(\"c4_epa_air_quality.csv\")"
   ]
  },
  {
   "cell_type": "code",
   "execution_count": null,
   "id": "fde7139c-97d5-4340-a211-484dbb28a0c8",
   "metadata": {},
   "outputs": [
    {
     "data": {
      "text/html": [
       "<div>\n",
       "<style scoped>\n",
       "    .dataframe tbody tr th:only-of-type {\n",
       "        vertical-align: middle;\n",
       "    }\n",
       "\n",
       "    .dataframe tbody tr th {\n",
       "        vertical-align: top;\n",
       "    }\n",
       "\n",
       "    .dataframe thead th {\n",
       "        text-align: right;\n",
       "    }\n",
       "</style>\n",
       "<table border=\"1\" class=\"dataframe\">\n",
       "  <thead>\n",
       "    <tr style=\"text-align: right;\">\n",
       "      <th></th>\n",
       "      <th>Unnamed: 0</th>\n",
       "      <th>arithmetic_mean</th>\n",
       "      <th>aqi</th>\n",
       "    </tr>\n",
       "  </thead>\n",
       "  <tbody>\n",
       "    <tr>\n",
       "      <th>count</th>\n",
       "      <td>260.000000</td>\n",
       "      <td>260.000000</td>\n",
       "      <td>260.000000</td>\n",
       "    </tr>\n",
       "    <tr>\n",
       "      <th>mean</th>\n",
       "      <td>129.500000</td>\n",
       "      <td>0.403169</td>\n",
       "      <td>6.757692</td>\n",
       "    </tr>\n",
       "    <tr>\n",
       "      <th>std</th>\n",
       "      <td>75.199734</td>\n",
       "      <td>0.317902</td>\n",
       "      <td>7.061707</td>\n",
       "    </tr>\n",
       "    <tr>\n",
       "      <th>min</th>\n",
       "      <td>0.000000</td>\n",
       "      <td>0.000000</td>\n",
       "      <td>0.000000</td>\n",
       "    </tr>\n",
       "    <tr>\n",
       "      <th>25%</th>\n",
       "      <td>64.750000</td>\n",
       "      <td>0.200000</td>\n",
       "      <td>2.000000</td>\n",
       "    </tr>\n",
       "    <tr>\n",
       "      <th>50%</th>\n",
       "      <td>129.500000</td>\n",
       "      <td>0.276315</td>\n",
       "      <td>5.000000</td>\n",
       "    </tr>\n",
       "    <tr>\n",
       "      <th>75%</th>\n",
       "      <td>194.250000</td>\n",
       "      <td>0.516009</td>\n",
       "      <td>9.000000</td>\n",
       "    </tr>\n",
       "    <tr>\n",
       "      <th>max</th>\n",
       "      <td>259.000000</td>\n",
       "      <td>1.921053</td>\n",
       "      <td>50.000000</td>\n",
       "    </tr>\n",
       "  </tbody>\n",
       "</table>\n",
       "</div>"
      ],
      "text/plain": [
       "       Unnamed: 0  arithmetic_mean         aqi\n",
       "count  260.000000       260.000000  260.000000\n",
       "mean   129.500000         0.403169    6.757692\n",
       "std     75.199734         0.317902    7.061707\n",
       "min      0.000000         0.000000    0.000000\n",
       "25%     64.750000         0.200000    2.000000\n",
       "50%    129.500000         0.276315    5.000000\n",
       "75%    194.250000         0.516009    9.000000\n",
       "max    259.000000         1.921053   50.000000"
      ]
     },
     "execution_count": 3,
     "metadata": {},
     "output_type": "execute_result"
    }
   ],
   "source": [
    "aqi.describe()"
   ]
  },
  {
   "cell_type": "code",
   "execution_count": null,
   "id": "648e0303-e6a7-499e-8562-1be5160affec",
   "metadata": {},
   "outputs": [
    {
     "data": {
      "text/plain": [
       "Index(['Unnamed: 0', 'date_local', 'state_name', 'county_name', 'city_name',\n",
       "       'local_site_name', 'parameter_name', 'units_of_measure',\n",
       "       'arithmetic_mean', 'aqi'],\n",
       "      dtype='object')"
      ]
     },
     "execution_count": 4,
     "metadata": {},
     "output_type": "execute_result"
    }
   ],
   "source": [
    "aqi.columns"
   ]
  },
  {
   "cell_type": "code",
   "execution_count": null,
   "id": "b6d3ef9b-6320-435a-b69f-e24020b25db4",
   "metadata": {},
   "outputs": [
    {
     "data": {
      "text/plain": [
       "array(['Maricopa', 'Belmont', 'Teton', 'Philadelphia', 'Polk', 'Honolulu',\n",
       "       'Erie', 'Larimer', 'Dakota', 'Marion', 'Hamilton', 'Jackson',\n",
       "       'Hartford', 'San Bernardino', 'Washoe', 'Sacramento', 'Pima',\n",
       "       'Roanoke', 'Linn', 'Stark', 'Providence', 'Harris', 'Clark',\n",
       "       'Orange', 'Alameda', 'Cook', 'Wyandotte', 'Baltimore', 'Hennepin',\n",
       "       'Bergen', 'Los Angeles', 'Fresno', 'Anoka', 'Suffolk',\n",
       "       'Cumberland', 'Ada', 'San Mateo', 'La Plata', 'Contra Costa',\n",
       "       'Arlington', 'Butte', 'Riverside', 'Chittenden', 'Hillsborough',\n",
       "       'Shelby', 'DeKalb', 'Summit', 'Hampden', 'Minnehaha',\n",
       "       'Mecklenburg', 'Kanawha', 'Denver', 'Essex', 'Kern', 'Cuyahoga',\n",
       "       'Scott', 'Allegheny', 'Wayne', 'Douglas', 'St. Louis City',\n",
       "       'Jefferson', 'King', 'Wake', 'San Joaquin', 'Garrett',\n",
       "       'Santa Barbara', 'Laramie', 'Edmonson', 'Tulsa', 'Santa Clara',\n",
       "       'Humboldt', 'Union', 'Howard', 'El Paso', 'Oklahoma', 'Pinellas',\n",
       "       'Mesa', 'Adams', 'New Haven', 'Imperial', 'Burleigh', 'Litchfield',\n",
       "       'Bronx', 'Miami-Dade', 'Lewis and Clark', 'Richmond City',\n",
       "       'San Diego', 'Converse', 'Monroe', 'Salt Lake', 'Broward', 'Marin',\n",
       "       'Gallatin', 'New Castle', 'York', 'Duval', 'San Francisco',\n",
       "       'Worcester', 'Franklin', 'East Baton Rouge', 'Bexar', 'Rutland',\n",
       "       'Stanislaus', 'Camden', 'Hinds', 'Bernalillo', 'Lake', 'Weber',\n",
       "       'Hudson', 'New York', 'Saint Clair', 'Wakulla', 'Inyo', 'Queens',\n",
       "       'Adair', 'Multnomah', 'Hancock', 'Rockingham',\n",
       "       'District of Columbia', 'Steuben', 'Champaign', 'Pulaski', 'Ponce',\n",
       "       'Madera', 'Hampton City', 'Ramsey', 'Weld', 'Tarrant',\n",
       "       'Vanderburgh', 'Sonoma', 'Napa', 'Richland', \"Prince George's\",\n",
       "       'Kent', 'Fulton', 'Travis', 'Monterey', 'Montgomery', 'Albany',\n",
       "       'Lackawanna', 'Solano', 'Anchorage ', 'La Paz', 'Preble',\n",
       "       'Fairbanks North Star ', 'Fairfield', 'Dallas', 'Washington',\n",
       "       'Dodge'], dtype=object)"
      ]
     },
     "execution_count": 5,
     "metadata": {},
     "output_type": "execute_result"
    }
   ],
   "source": [
    "aqi[\"county_name\"].unique()"
   ]
  },
  {
   "cell_type": "code",
   "execution_count": null,
   "id": "5c520979-e55f-482f-8e68-f28a375cbc5f",
   "metadata": {},
   "outputs": [],
   "source": [
    "la = aqi[aqi[\"county_name\"] == \"Los Angeles\"]\n",
    "not_la = aqi[aqi[\"county_name\"] != \"Los Angeles\"]"
   ]
  },
  {
   "cell_type": "code",
   "execution_count": null,
   "id": "b6c18988-295a-4a27-a67e-0d83be3891cc",
   "metadata": {},
   "outputs": [
    {
     "data": {
      "text/plain": [
       "(14, 10)"
      ]
     },
     "execution_count": 7,
     "metadata": {},
     "output_type": "execute_result"
    }
   ],
   "source": [
    "la.shape"
   ]
  },
  {
   "cell_type": "code",
   "execution_count": null,
   "id": "55a8c928-66dc-4db7-8668-855c2f150a41",
   "metadata": {},
   "outputs": [
    {
     "data": {
      "text/plain": [
       "(246, 10)"
      ]
     },
     "execution_count": 8,
     "metadata": {},
     "output_type": "execute_result"
    }
   ],
   "source": [
    "not_la.shape"
   ]
  },
  {
   "cell_type": "code",
   "execution_count": null,
   "id": "ee64a1f2-8ba3-424b-8408-62d377b5d880",
   "metadata": {},
   "outputs": [],
   "source": [
    "sample_la = la.sample(n=10, replace=False, random_state=42)"
   ]
  },
  {
   "cell_type": "code",
   "execution_count": null,
   "id": "0a7748aa-9282-46e2-a3ef-6d21dcf50c6e",
   "metadata": {},
   "outputs": [],
   "source": [
    "sample_not_la = not_la.sample(n=10, replace=False, random_state=42)"
   ]
  },
  {
   "cell_type": "code",
   "execution_count": null,
   "id": "c175c6de-711c-47e8-965f-b1fc9b90af67",
   "metadata": {},
   "outputs": [
    {
     "data": {
      "text/plain": [
       "Index(['Unnamed: 0', 'date_local', 'state_name', 'county_name', 'city_name',\n",
       "       'local_site_name', 'parameter_name', 'units_of_measure',\n",
       "       'arithmetic_mean', 'aqi'],\n",
       "      dtype='object')"
      ]
     },
     "execution_count": 11,
     "metadata": {},
     "output_type": "execute_result"
    }
   ],
   "source": [
    "sample_la.columns"
   ]
  },
  {
   "cell_type": "code",
   "execution_count": null,
   "id": "f09885ed-2ed5-4b01-a98e-528eb8326ebc",
   "metadata": {},
   "outputs": [
    {
     "data": {
      "text/plain": [
       "TtestResult(statistic=np.float64(1.8187954468925667), pvalue=np.float64(0.08876287834333375), df=np.float64(15.150720568684816))"
      ]
     },
     "execution_count": 12,
     "metadata": {},
     "output_type": "execute_result"
    }
   ],
   "source": [
    "stats.ttest_ind(a=sample_la[\"aqi\"], b=sample_not_la[\"aqi\"], equal_var=False)"
   ]
  },
  {
   "cell_type": "code",
   "execution_count": null,
   "id": "da2a1c2e-94c3-4700-bca9-d7f7dbf9eb7e",
   "metadata": {},
   "outputs": [],
   "source": [
    "# the p value is 0.0887 so it's 8.87% which means that, Since the p-value (0.0887) is greater than the significance level (0.05):\n",
    "\n",
    "# You fail to reject the null hypothesis.\n",
    "# This means there isn't enough evidence to conclude that the observed result is statistically significant at the 5% significance level.\n",
    "# In simple terms, the data doesn't provide strong enough evidence to reject the null hypothesis, meaning the results could have occurred by random chance under the assumption that the null hypothesis is true.\n",
    "\n",
    "# you fail to reject the null hypothesis, so null hypothesis is true."
   ]
  },
  {
   "cell_type": "code",
   "execution_count": null,
   "id": "24c7e151-e8bb-4626-8873-5d5f7d8cefae",
   "metadata": {},
   "outputs": [],
   "source": [
    "# #Hypothesis 2: With limited resources, ROA has to choose between New York\n",
    "# and Ohio for their next regional office. Does New York have a lower AQI than\n",
    "# Ohio?"
   ]
  },
  {
   "cell_type": "code",
   "execution_count": null,
   "id": "ac6c6a04-d508-4f61-aacb-b3f66f6bc8cc",
   "metadata": {},
   "outputs": [
    {
     "data": {
      "text/plain": [
       "array(['Arizona', 'Ohio', 'Wyoming', 'Pennsylvania', 'Iowa', 'Hawaii',\n",
       "       'Colorado', 'Minnesota', 'Indiana', 'Missouri', 'Connecticut',\n",
       "       'California', 'Nevada', 'Virginia', 'Rhode Island', 'Texas',\n",
       "       'Illinois', 'Kansas', 'Maryland', 'New Jersey', 'Massachusetts',\n",
       "       'Maine', 'Idaho', 'Florida', 'Vermont', 'Tennessee', 'Georgia',\n",
       "       'South Dakota', 'North Carolina', 'West Virginia', 'Michigan',\n",
       "       'Nebraska', 'Alabama', 'Washington', 'Kentucky', 'Oklahoma',\n",
       "       'New York', 'North Dakota', 'Montana', 'Utah', 'Delaware',\n",
       "       'New Hampshire', 'Louisiana', 'Mississippi', 'New Mexico',\n",
       "       'Oregon', 'District Of Columbia', 'Arkansas', 'Puerto Rico',\n",
       "       'South Carolina', 'Alaska', 'Wisconsin'], dtype=object)"
      ]
     },
     "execution_count": 15,
     "metadata": {},
     "output_type": "execute_result"
    }
   ],
   "source": [
    "aqi[\"state_name\"].unique()"
   ]
  },
  {
   "cell_type": "code",
   "execution_count": null,
   "id": "cc608e3b-9aac-4b2b-8210-43a9a081dd57",
   "metadata": {},
   "outputs": [],
   "source": [
    "ny = aqi[aqi[\"state_name\"] == \"New York\"]\n",
    "ohio = aqi[aqi[\"state_name\"] == \"Ohio\"]"
   ]
  },
  {
   "cell_type": "code",
   "execution_count": null,
   "id": "97907711-ab59-4236-bb85-4a76377fa3bb",
   "metadata": {},
   "outputs": [
    {
     "data": {
      "text/plain": [
       "(10, 10)"
      ]
     },
     "execution_count": 17,
     "metadata": {},
     "output_type": "execute_result"
    }
   ],
   "source": [
    "ny.shape"
   ]
  },
  {
   "cell_type": "code",
   "execution_count": null,
   "id": "7f1e08d2-3ebb-4126-8800-78f910c932ab",
   "metadata": {},
   "outputs": [
    {
     "data": {
      "text/plain": [
       "(12, 10)"
      ]
     },
     "execution_count": 18,
     "metadata": {},
     "output_type": "execute_result"
    }
   ],
   "source": [
    "ohio.shape"
   ]
  },
  {
   "cell_type": "code",
   "execution_count": null,
   "id": "1843fa2c-0f5c-4e55-901c-5adb1ada3e4a",
   "metadata": {},
   "outputs": [],
   "source": [
    "sample_ny = ny.sample(n=50, replace=True, random_state=42)\n",
    "sample_ohio = ohio.sample(n=50, replace=True, random_state=42)"
   ]
  },
  {
   "cell_type": "code",
   "execution_count": null,
   "id": "55df9c19-1320-41cc-9007-a076282f1878",
   "metadata": {},
   "outputs": [
    {
     "data": {
      "text/plain": [
       "TtestResult(statistic=np.float64(-3.9130296393824104), pvalue=np.float64(0.0002210681483284815), df=np.float64(64.86787455319335))"
      ]
     },
     "execution_count": 21,
     "metadata": {},
     "output_type": "execute_result"
    }
   ],
   "source": [
    "stats.ttest_ind(a=sample_ny[\"aqi\"], b=sample_ohio[\"aqi\"], equal_var=False)"
   ]
  },
  {
   "cell_type": "code",
   "execution_count": null,
   "id": "dc3f49b5-0c98-41fb-b45d-b018f73f8aa9",
   "metadata": {},
   "outputs": [],
   "source": [
    "# since the pvalue is less than 5% so we can accept the null hypothesis that The mean AQI of New York is greater than or equal to that of Ohio."
   ]
  },
  {
   "cell_type": "code",
   "execution_count": null,
   "id": "27bd92e0-b0da-413e-8efc-004b9502d0c3",
   "metadata": {},
   "outputs": [],
   "source": [
    "# Hypothesis 3: A new policy will affect those states with a mean AQI of 10 or\n",
    "# greater. Will Michigan be affected by this new policy?"
   ]
  },
  {
   "cell_type": "code",
   "execution_count": null,
   "id": "7d31ad8f-1183-4571-a6a9-9df66f22a2b0",
   "metadata": {},
   "outputs": [],
   "source": [
    "mich = aqi[aqi[\"state_name\"] == \"Michigan\"]"
   ]
  },
  {
   "cell_type": "code",
   "execution_count": null,
   "id": "4840741e-1be5-4754-bd5d-c0b88ddcbc11",
   "metadata": {},
   "outputs": [],
   "source": [
    "sample_mich = mich.sample(n=50, replace=True)"
   ]
  },
  {
   "cell_type": "code",
   "execution_count": null,
   "id": "a99fcf1f-788e-4399-8017-c5ed95433e3a",
   "metadata": {},
   "outputs": [
    {
     "ename": "TypeError",
     "evalue": "ttest_1samp() got an unexpected keyword argument 'b'",
     "output_type": "error",
     "traceback": [
      "\u001b[1;31m---------------------------------------------------------------------------\u001b[0m",
      "\u001b[1;31mKeyError\u001b[0m                                  Traceback (most recent call last)",
      "File \u001b[1;32mc:\\Users\\salis\\Desktop\\python\\.conda\\Lib\\site-packages\\scipy\\stats\\_axis_nan_policy.py:497\u001b[0m, in \u001b[0;36m_axis_nan_policy_factory.<locals>.axis_nan_policy_decorator.<locals>.axis_nan_policy_wrapper\u001b[1;34m(_no_deco, *args, **kwds)\u001b[0m\n\u001b[0;32m    496\u001b[0m \u001b[39mtry\u001b[39;00m:  \u001b[39m# if something is missing\u001b[39;00m\n\u001b[1;32m--> 497\u001b[0m     samples \u001b[39m=\u001b[39m [np\u001b[39m.\u001b[39;49matleast_1d(kwds\u001b[39m.\u001b[39;49mpop(param))\n\u001b[0;32m    498\u001b[0m                \u001b[39mfor\u001b[39;49;00m param \u001b[39min\u001b[39;49;00m (params[:n_samp] \u001b[39m+\u001b[39;49m kwd_samp)]\n\u001b[0;32m    499\u001b[0m \u001b[39mexcept\u001b[39;00m \u001b[39mKeyError\u001b[39;00m:  \u001b[39m# let the function raise the right error\u001b[39;00m\n\u001b[0;32m    500\u001b[0m     \u001b[39m# might need to revisit this if required arg is not a \"sample\"\u001b[39;00m\n",
      "File \u001b[1;32mc:\\Users\\salis\\Desktop\\python\\.conda\\Lib\\site-packages\\scipy\\stats\\_axis_nan_policy.py:497\u001b[0m, in \u001b[0;36m<listcomp>\u001b[1;34m(.0)\u001b[0m\n\u001b[0;32m    496\u001b[0m \u001b[39mtry\u001b[39;00m:  \u001b[39m# if something is missing\u001b[39;00m\n\u001b[1;32m--> 497\u001b[0m     samples \u001b[39m=\u001b[39m [np\u001b[39m.\u001b[39matleast_1d(kwds\u001b[39m.\u001b[39mpop(param))\n\u001b[0;32m    498\u001b[0m                \u001b[39mfor\u001b[39;00m param \u001b[39min\u001b[39;00m (params[:n_samp] \u001b[39m+\u001b[39m kwd_samp)]\n\u001b[0;32m    499\u001b[0m \u001b[39mexcept\u001b[39;00m \u001b[39mKeyError\u001b[39;00m:  \u001b[39m# let the function raise the right error\u001b[39;00m\n\u001b[0;32m    500\u001b[0m     \u001b[39m# might need to revisit this if required arg is not a \"sample\"\u001b[39;00m\n",
      "\u001b[1;31mKeyError\u001b[0m: 'popmean'",
      "\nDuring handling of the above exception, another exception occurred:\n",
      "\u001b[1;31mTypeError\u001b[0m                                 Traceback (most recent call last)",
      "File \u001b[1;32mc:\\Users\\salis\\Desktop\\python\\Statistics\\Stat5-hw.py:1\u001b[0m\n\u001b[1;32m----> 1\u001b[0m stats\u001b[39m.\u001b[39;49mttest_1samp(a\u001b[39m=\u001b[39;49msample_mich[\u001b[39m\"\u001b[39;49m\u001b[39maqi\u001b[39;49m\u001b[39m\"\u001b[39;49m]\u001b[39m.\u001b[39;49mmean(), b\u001b[39m=\u001b[39;49m\u001b[39m10\u001b[39;49m, alternative\u001b[39m=\u001b[39;49m\u001b[39m\"\u001b[39;49m\u001b[39mgreater\u001b[39;49m\u001b[39m\"\u001b[39;49m)\n",
      "File \u001b[1;32mc:\\Users\\salis\\Desktop\\python\\.conda\\Lib\\site-packages\\scipy\\stats\\_axis_nan_policy.py:501\u001b[0m, in \u001b[0;36m_axis_nan_policy_factory.<locals>.axis_nan_policy_decorator.<locals>.axis_nan_policy_wrapper\u001b[1;34m(_no_deco, *args, **kwds)\u001b[0m\n\u001b[0;32m    497\u001b[0m     samples \u001b[39m=\u001b[39m [np\u001b[39m.\u001b[39matleast_1d(kwds\u001b[39m.\u001b[39mpop(param))\n\u001b[0;32m    498\u001b[0m                \u001b[39mfor\u001b[39;00m param \u001b[39min\u001b[39;00m (params[:n_samp] \u001b[39m+\u001b[39m kwd_samp)]\n\u001b[0;32m    499\u001b[0m \u001b[39mexcept\u001b[39;00m \u001b[39mKeyError\u001b[39;00m:  \u001b[39m# let the function raise the right error\u001b[39;00m\n\u001b[0;32m    500\u001b[0m     \u001b[39m# might need to revisit this if required arg is not a \"sample\"\u001b[39;00m\n\u001b[1;32m--> 501\u001b[0m     hypotest_fun_in(\u001b[39m*\u001b[39;49margs, \u001b[39m*\u001b[39;49m\u001b[39m*\u001b[39;49mkwds)\n\u001b[0;32m    502\u001b[0m vectorized \u001b[39m=\u001b[39m \u001b[39mTrue\u001b[39;00m \u001b[39mif\u001b[39;00m \u001b[39m'\u001b[39m\u001b[39maxis\u001b[39m\u001b[39m'\u001b[39m \u001b[39min\u001b[39;00m params \u001b[39melse\u001b[39;00m \u001b[39mFalse\u001b[39;00m\n\u001b[0;32m    503\u001b[0m vectorized \u001b[39m=\u001b[39m vectorized \u001b[39mand\u001b[39;00m \u001b[39mnot\u001b[39;00m override[\u001b[39m'\u001b[39m\u001b[39mvectorization\u001b[39m\u001b[39m'\u001b[39m]\n",
      "\u001b[1;31mTypeError\u001b[0m: ttest_1samp() got an unexpected keyword argument 'b'"
     ]
    }
   ],
   "source": [
    "stats.ttest_1samp(a=sample_mich[\"aqi\"].mean(), b=10, alternative=\"greater\")"
   ]
  },
  {
   "cell_type": "code",
   "execution_count": null,
   "id": "7ca5b450-e3dc-4731-9024-36408711011b",
   "metadata": {},
   "outputs": [],
   "source": [
    "# check documentation for 1sample. https://docs.scipy.org/doc/scipy/reference/generated/scipy.stats.ttest_1samp.html"
   ]
  },
  {
   "cell_type": "code",
   "execution_count": null,
   "id": "807cbbbf-0a13-4e4a-8c42-65cc3b5821ae",
   "metadata": {},
   "outputs": [
    {
     "data": {
      "text/plain": [
       "TtestResult(statistic=np.float64(-4.016733292299032), pvalue=np.float64(0.9998987958539883), df=np.int64(49))"
      ]
     },
     "execution_count": 32,
     "metadata": {},
     "output_type": "execute_result"
    }
   ],
   "source": [
    "stats.ttest_1samp(sample_mich[\"aqi\"], 10, alternative=\"greater\")"
   ]
  },
  {
   "cell_type": "code",
   "execution_count": null,
   "id": "f021ecb9-a32e-4726-b21a-0f802e2cd767",
   "metadata": {},
   "outputs": [],
   "source": [
    "# here p value is 99.98% so we failed to reject null hypothesis which means that the mean AQI of Michigan is NOT less than or equal to 10."
   ]
  }
 ],
 "metadata": {
  "kernelspec": {
   "display_name": "Python 3",
   "language": "python",
   "name": "python3"
  },
  "language_info": {
   "codemirror_mode": {
    "name": "ipython",
    "version": 3
   },
   "file_extension": ".py",
   "mimetype": "text/x-python",
   "name": "python",
   "nbconvert_exporter": "python",
   "pygments_lexer": "ipython3",
   "version": "3.11.9"
  }
 },
 "nbformat": 4,
 "nbformat_minor": 2
}
