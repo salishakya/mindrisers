{
 "cells": [
  {
   "cell_type": "code",
   "execution_count": null,
   "id": "9d3fd07c-5d3e-479c-a949-564e5094b479",
   "metadata": {},
   "outputs": [],
   "source": [
    "import pandas as pd\n",
    "from scipy import stats\n",
    "\n",
    "education_districtwise = pd.read_csv(\"../Week4/education_districtwise.csv\")\n",
    "education_districtwise = education_districtwise.dropna()"
   ]
  },
  {
   "cell_type": "code",
   "execution_count": null,
   "id": "0f877bff-6541-44ef-ac17-3fcf46aac3f6",
   "metadata": {},
   "outputs": [
    {
     "data": {
      "text/plain": [
       "Index(['AC_YEAR', 'STATCD', 'DISTCD', 'STATNAME', 'DISTNAME', 'DISTRICTS',\n",
       "       'BLOCKS', 'VILLAGES', 'CLUSTERS', 'TOTPOPULAT',\n",
       "       ...\n",
       "       'UUNI_ALL', 'UUNI_SC', 'UUNI_ST', 'TOTCLS1G', 'TOTCLS2G', 'TOTCLS3G',\n",
       "       'TOTCLS4G', 'TOTCLS5G', 'TOTCLS6G', 'TOTCLS7G'],\n",
       "      dtype='object', length=819)"
      ]
     },
     "execution_count": 2,
     "metadata": {},
     "output_type": "execute_result"
    }
   ],
   "source": [
    "education_districtwise.columns"
   ]
  },
  {
   "cell_type": "code",
   "execution_count": null,
   "id": "534fd03c-ec4f-41f4-9758-3e65c43f7b69",
   "metadata": {},
   "outputs": [
    {
     "data": {
      "text/plain": [
       "array(['JAMMU & KASHMIR', 'HIMACHAL PRADESH', 'PUNJAB', 'CHANDIGARH',\n",
       "       'UTTARAKHAND', 'HARYANA', 'DELHI', 'RAJASTHAN', 'UTTAR PRADESH',\n",
       "       'BIHAR', 'SIKKIM', 'ARUNACHAL PRADESH', 'NAGALAND', 'MANIPUR',\n",
       "       'MIZORAM', 'TRIPURA', 'MEGHALAYA', 'ASSAM', 'WEST BENGAL',\n",
       "       'JHARKHAND', 'ODISHA', 'CHHATTISGARH', 'MADHYA PRADESH', 'GUJARAT',\n",
       "       'DAMAN & DIU', 'DADRA & NAGAR HAVELI', 'MAHARASHTRA',\n",
       "       'ANDHRA PRADESH', 'KARNATAKA', 'GOA', 'LAKSHADWEEP', 'KERALA',\n",
       "       'TAMIL NADU', 'PUDUCHERRY', 'A & N ISLANDS', 'TELANGANA'],\n",
       "      dtype=object)"
      ]
     },
     "execution_count": 3,
     "metadata": {},
     "output_type": "execute_result"
    }
   ],
   "source": [
    "education_districtwise[\"STATNAME\"].unique()"
   ]
  },
  {
   "cell_type": "code",
   "execution_count": null,
   "id": "a98d73d7-a305-4d5d-b6ff-855dfb99e031",
   "metadata": {},
   "outputs": [],
   "source": [
    "punjab = education_districtwise[education_districtwise[\"STATNAME\"] == \"PUNJAB\"]\n",
    "bihar = education_districtwise[education_districtwise[\"STATNAME\"] == \"BIHAR\"]"
   ]
  },
  {
   "cell_type": "code",
   "execution_count": null,
   "id": "bc2c3419-6c6c-4195-9ca7-41b283bc8cd8",
   "metadata": {},
   "outputs": [
    {
     "data": {
      "text/html": [
       "<div>\n",
       "<style scoped>\n",
       "    .dataframe tbody tr th:only-of-type {\n",
       "        vertical-align: middle;\n",
       "    }\n",
       "\n",
       "    .dataframe tbody tr th {\n",
       "        vertical-align: top;\n",
       "    }\n",
       "\n",
       "    .dataframe thead th {\n",
       "        text-align: right;\n",
       "    }\n",
       "</style>\n",
       "<table border=\"1\" class=\"dataframe\">\n",
       "  <thead>\n",
       "    <tr style=\"text-align: right;\">\n",
       "      <th></th>\n",
       "      <th>AC_YEAR</th>\n",
       "      <th>STATCD</th>\n",
       "      <th>DISTCD</th>\n",
       "      <th>STATNAME</th>\n",
       "      <th>DISTNAME</th>\n",
       "      <th>DISTRICTS</th>\n",
       "      <th>BLOCKS</th>\n",
       "      <th>VILLAGES</th>\n",
       "      <th>CLUSTERS</th>\n",
       "      <th>TOTPOPULAT</th>\n",
       "      <th>...</th>\n",
       "      <th>UUNI_ALL</th>\n",
       "      <th>UUNI_SC</th>\n",
       "      <th>UUNI_ST</th>\n",
       "      <th>TOTCLS1G</th>\n",
       "      <th>TOTCLS2G</th>\n",
       "      <th>TOTCLS3G</th>\n",
       "      <th>TOTCLS4G</th>\n",
       "      <th>TOTCLS5G</th>\n",
       "      <th>TOTCLS6G</th>\n",
       "      <th>TOTCLS7G</th>\n",
       "    </tr>\n",
       "  </thead>\n",
       "  <tbody>\n",
       "    <tr>\n",
       "      <th>34</th>\n",
       "      <td>2015-16</td>\n",
       "      <td>3</td>\n",
       "      <td>301</td>\n",
       "      <td>PUNJAB</td>\n",
       "      <td>GURDASPUR</td>\n",
       "      <td>1</td>\n",
       "      <td>11</td>\n",
       "      <td>1107</td>\n",
       "      <td>166</td>\n",
       "      <td>2299026.0</td>\n",
       "      <td>...</td>\n",
       "      <td>36876</td>\n",
       "      <td>18715</td>\n",
       "      <td>197</td>\n",
       "      <td>4152</td>\n",
       "      <td>1592</td>\n",
       "      <td>2156</td>\n",
       "      <td>692</td>\n",
       "      <td>530</td>\n",
       "      <td>2319</td>\n",
       "      <td>402</td>\n",
       "    </tr>\n",
       "    <tr>\n",
       "      <th>35</th>\n",
       "      <td>2015-16</td>\n",
       "      <td>3</td>\n",
       "      <td>302</td>\n",
       "      <td>PUNJAB</td>\n",
       "      <td>AMRITSAR</td>\n",
       "      <td>1</td>\n",
       "      <td>9</td>\n",
       "      <td>816</td>\n",
       "      <td>125</td>\n",
       "      <td>2490891.0</td>\n",
       "      <td>...</td>\n",
       "      <td>51273</td>\n",
       "      <td>37287</td>\n",
       "      <td>77</td>\n",
       "      <td>4538</td>\n",
       "      <td>3180</td>\n",
       "      <td>3705</td>\n",
       "      <td>674</td>\n",
       "      <td>621</td>\n",
       "      <td>3126</td>\n",
       "      <td>542</td>\n",
       "    </tr>\n",
       "    <tr>\n",
       "      <th>36</th>\n",
       "      <td>2015-16</td>\n",
       "      <td>3</td>\n",
       "      <td>303</td>\n",
       "      <td>PUNJAB</td>\n",
       "      <td>KAPURTHALA</td>\n",
       "      <td>1</td>\n",
       "      <td>5</td>\n",
       "      <td>539</td>\n",
       "      <td>68</td>\n",
       "      <td>817668.0</td>\n",
       "      <td>...</td>\n",
       "      <td>20203</td>\n",
       "      <td>13748</td>\n",
       "      <td>10</td>\n",
       "      <td>1954</td>\n",
       "      <td>563</td>\n",
       "      <td>1481</td>\n",
       "      <td>406</td>\n",
       "      <td>218</td>\n",
       "      <td>995</td>\n",
       "      <td>250</td>\n",
       "    </tr>\n",
       "    <tr>\n",
       "      <th>37</th>\n",
       "      <td>2015-16</td>\n",
       "      <td>3</td>\n",
       "      <td>304</td>\n",
       "      <td>PUNJAB</td>\n",
       "      <td>JALANDHAR</td>\n",
       "      <td>1</td>\n",
       "      <td>11</td>\n",
       "      <td>982</td>\n",
       "      <td>156</td>\n",
       "      <td>2181753.0</td>\n",
       "      <td>...</td>\n",
       "      <td>43946</td>\n",
       "      <td>34590</td>\n",
       "      <td>40</td>\n",
       "      <td>4427</td>\n",
       "      <td>2124</td>\n",
       "      <td>3096</td>\n",
       "      <td>601</td>\n",
       "      <td>694</td>\n",
       "      <td>2598</td>\n",
       "      <td>491</td>\n",
       "    </tr>\n",
       "    <tr>\n",
       "      <th>38</th>\n",
       "      <td>2015-16</td>\n",
       "      <td>3</td>\n",
       "      <td>305</td>\n",
       "      <td>PUNJAB</td>\n",
       "      <td>HOSHIARPUR</td>\n",
       "      <td>1</td>\n",
       "      <td>10</td>\n",
       "      <td>1266</td>\n",
       "      <td>175</td>\n",
       "      <td>1582793.0</td>\n",
       "      <td>...</td>\n",
       "      <td>36885</td>\n",
       "      <td>24065</td>\n",
       "      <td>36</td>\n",
       "      <td>4327</td>\n",
       "      <td>1262</td>\n",
       "      <td>1730</td>\n",
       "      <td>724</td>\n",
       "      <td>588</td>\n",
       "      <td>2224</td>\n",
       "      <td>494</td>\n",
       "    </tr>\n",
       "  </tbody>\n",
       "</table>\n",
       "<p>5 rows × 819 columns</p>\n",
       "</div>"
      ],
      "text/plain": [
       "    AC_YEAR  STATCD  DISTCD STATNAME    DISTNAME  DISTRICTS  BLOCKS  VILLAGES  \\\n",
       "34  2015-16       3     301   PUNJAB   GURDASPUR          1      11      1107   \n",
       "35  2015-16       3     302   PUNJAB    AMRITSAR          1       9       816   \n",
       "36  2015-16       3     303   PUNJAB  KAPURTHALA          1       5       539   \n",
       "37  2015-16       3     304   PUNJAB   JALANDHAR          1      11       982   \n",
       "38  2015-16       3     305   PUNJAB  HOSHIARPUR          1      10      1266   \n",
       "\n",
       "    CLUSTERS  TOTPOPULAT  ...  UUNI_ALL  UUNI_SC  UUNI_ST  TOTCLS1G  TOTCLS2G  \\\n",
       "34       166   2299026.0  ...     36876    18715      197      4152      1592   \n",
       "35       125   2490891.0  ...     51273    37287       77      4538      3180   \n",
       "36        68    817668.0  ...     20203    13748       10      1954       563   \n",
       "37       156   2181753.0  ...     43946    34590       40      4427      2124   \n",
       "38       175   1582793.0  ...     36885    24065       36      4327      1262   \n",
       "\n",
       "    TOTCLS3G  TOTCLS4G  TOTCLS5G  TOTCLS6G  TOTCLS7G  \n",
       "34      2156       692       530      2319       402  \n",
       "35      3705       674       621      3126       542  \n",
       "36      1481       406       218       995       250  \n",
       "37      3096       601       694      2598       491  \n",
       "38      1730       724       588      2224       494  \n",
       "\n",
       "[5 rows x 819 columns]"
      ]
     },
     "execution_count": 5,
     "metadata": {},
     "output_type": "execute_result"
    }
   ],
   "source": [
    "punjab.head()"
   ]
  },
  {
   "cell_type": "code",
   "execution_count": null,
   "id": "23b99086-b758-4f23-8793-5bd3b6c3a65d",
   "metadata": {},
   "outputs": [],
   "source": [
    "sample_punjab = punjab.sample(n=20, replace=True, random_state=42)\n",
    "sample_bihar = bihar.sample(n=20, replace=True, random_state=42)"
   ]
  },
  {
   "cell_type": "code",
   "execution_count": null,
   "id": "2d4dd274-f67e-45e2-b8aa-24e585b62299",
   "metadata": {},
   "outputs": [
    {
     "data": {
      "text/plain": [
       "np.float64(74.64399999999999)"
      ]
     },
     "execution_count": 7,
     "metadata": {},
     "output_type": "execute_result"
    }
   ],
   "source": [
    "sample_punjab[\"OVERALL_LI\"].mean()"
   ]
  },
  {
   "cell_type": "code",
   "execution_count": null,
   "id": "a2a25741-fe26-460e-8a43-c3c3085a4a03",
   "metadata": {},
   "outputs": [
    {
     "data": {
      "text/plain": [
       "np.float64(63.93449999999999)"
      ]
     },
     "execution_count": 8,
     "metadata": {},
     "output_type": "execute_result"
    }
   ],
   "source": [
    "sample_bihar[\"OVERALL_LI\"].mean()"
   ]
  },
  {
   "cell_type": "code",
   "execution_count": null,
   "id": "5dc8eff1-6ef1-4e88-92f6-62e487656de2",
   "metadata": {},
   "outputs": [],
   "source": [
    "# Hypothesis Testing"
   ]
  },
  {
   "cell_type": "code",
   "execution_count": null,
   "id": "9aa48cdf-a466-468d-83ce-e8503685f572",
   "metadata": {},
   "outputs": [],
   "source": [
    "# Null hypothesis: There is not difference in literacy rate\n",
    "# Alternate hypothesis: There is difference in hypotesis\n",
    "# significance level: 5% error vaye null hypothesis manne"
   ]
  },
  {
   "cell_type": "code",
   "execution_count": null,
   "id": "06a25652-e1bf-461b-8f3c-fae7235adc59",
   "metadata": {},
   "outputs": [
    {
     "data": {
      "text/plain": [
       "TtestResult(statistic=np.float64(-5.015791975106108), pvalue=np.float64(1.2648989984788033e-05), df=np.float64(37.98457672271091))"
      ]
     },
     "execution_count": 11,
     "metadata": {},
     "output_type": "execute_result"
    }
   ],
   "source": [
    "stats.ttest_ind(\n",
    "    a=sample_bihar[\"OVERALL_LI\"], b=sample_punjab[\"OVERALL_LI\"], equal_var=False\n",
    ")"
   ]
  },
  {
   "cell_type": "code",
   "execution_count": null,
   "id": "446b916f-2b77-4016-908d-fec14313a673",
   "metadata": {},
   "outputs": [],
   "source": [
    "# T value is -5.01579\n",
    "# p value = 1.2648"
   ]
  },
  {
   "cell_type": "code",
   "execution_count": null,
   "id": "80201290-fcfa-41b6-b430-0e7d6f1bb138",
   "metadata": {},
   "outputs": [
    {
     "data": {
      "text/plain": [
       "TtestResult(statistic=np.float64(5.015791975106108), pvalue=np.float64(1.2648989984788033e-05), df=np.float64(37.98457672271091))"
      ]
     },
     "execution_count": 13,
     "metadata": {},
     "output_type": "execute_result"
    }
   ],
   "source": [
    "stats.ttest_ind(\n",
    "    a=sample_punjab[\"OVERALL_LI\"], b=sample_bihar[\"OVERALL_LI\"], equal_var=False\n",
    ")"
   ]
  }
 ],
 "metadata": {
  "language_info": {
   "codemirror_mode": {
    "name": "ipython",
    "version": 3
   },
   "file_extension": ".py",
   "mimetype": "text/x-python",
   "name": "python",
   "nbconvert_exporter": "python",
   "pygments_lexer": "ipython3",
   "version": 3
  }
 },
 "nbformat": 4,
 "nbformat_minor": 2
}
