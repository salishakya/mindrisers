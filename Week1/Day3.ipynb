{
 "cells": [
  {
   "cell_type": "code",
   "execution_count": 1,
   "id": "18edfd81-231d-4548-ba25-ab45149f485f",
   "metadata": {},
   "outputs": [],
   "source": [
    "days_of_week=[\"sunday\", \"monday\",\"tuesday\", \"wednesday\", \"thursday\", \"friday\",\"saturday\" ]"
   ]
  },
  {
   "cell_type": "code",
   "execution_count": 2,
   "id": "7c3af272-eba3-45b6-abc1-e5a7241bc6f2",
   "metadata": {},
   "outputs": [
    {
     "data": {
      "text/plain": [
       "['sunday', 'monday', 'tuesday', 'wednesday', 'thursday', 'friday', 'saturday']"
      ]
     },
     "execution_count": 2,
     "metadata": {},
     "output_type": "execute_result"
    }
   ],
   "source": [
    "days_of_week"
   ]
  },
  {
   "cell_type": "code",
   "execution_count": 3,
   "id": "eadd48eb-a7cd-4495-a4f8-4e401a3499bf",
   "metadata": {},
   "outputs": [],
   "source": [
    "#ordered items => List is ordered"
   ]
  },
  {
   "cell_type": "code",
   "execution_count": 4,
   "id": "23146109-cb8a-4bbf-9b18-ac15040b6dd4",
   "metadata": {},
   "outputs": [],
   "source": [
    "#negative indexing"
   ]
  },
  {
   "cell_type": "code",
   "execution_count": 5,
   "id": "9a9e7686-62ac-4b33-a06f-84dad78c3b9e",
   "metadata": {},
   "outputs": [
    {
     "data": {
      "text/plain": [
       "'saturday'"
      ]
     },
     "execution_count": 5,
     "metadata": {},
     "output_type": "execute_result"
    }
   ],
   "source": [
    "days_of_week[-1]\n"
   ]
  },
  {
   "cell_type": "code",
   "execution_count": 6,
   "id": "611ad5e5-9ac3-4e55-86cd-28be640a9d63",
   "metadata": {},
   "outputs": [
    {
     "data": {
      "text/plain": [
       "'thursday'"
      ]
     },
     "execution_count": 6,
     "metadata": {},
     "output_type": "execute_result"
    }
   ],
   "source": [
    "days_of_week[-3]"
   ]
  },
  {
   "cell_type": "code",
   "execution_count": 7,
   "id": "0aefcd20-025d-47ba-ac8e-f347cbe11897",
   "metadata": {},
   "outputs": [
    {
     "ename": "IndexError",
     "evalue": "list index out of range",
     "output_type": "error",
     "traceback": [
      "\u001b[1;31m---------------------------------------------------------------------------\u001b[0m",
      "\u001b[1;31mIndexError\u001b[0m                                Traceback (most recent call last)",
      "Cell \u001b[1;32mIn[7], line 1\u001b[0m\n\u001b[1;32m----> 1\u001b[0m \u001b[43mdays_of_week\u001b[49m\u001b[43m[\u001b[49m\u001b[38;5;241;43m-\u001b[39;49m\u001b[38;5;241;43m8\u001b[39;49m\u001b[43m]\u001b[49m\n",
      "\u001b[1;31mIndexError\u001b[0m: list index out of range"
     ]
    }
   ],
   "source": [
    "days_of_week[-8]"
   ]
  },
  {
   "cell_type": "code",
   "execution_count": 8,
   "id": "2d357514-331f-4306-a88d-5e96eced7a23",
   "metadata": {},
   "outputs": [],
   "source": [
    "#Slicing"
   ]
  },
  {
   "cell_type": "code",
   "execution_count": 9,
   "id": "31a88cce-83fa-48d7-b8b0-82ba7017d01d",
   "metadata": {},
   "outputs": [
    {
     "data": {
      "text/plain": [
       "['monday', 'tuesday', 'wednesday']"
      ]
     },
     "execution_count": 9,
     "metadata": {},
     "output_type": "execute_result"
    }
   ],
   "source": [
    "days_of_week[1:4]"
   ]
  },
  {
   "cell_type": "code",
   "execution_count": 11,
   "id": "40c8ebe2-26ec-49b2-9064-92d8076df3b0",
   "metadata": {},
   "outputs": [],
   "source": [
    "#here 4-1 huncha, so data from 1st, 2nd and third positions. The original list is unchanged."
   ]
  },
  {
   "cell_type": "code",
   "execution_count": 12,
   "id": "7bdce784-94bc-4f56-a9c2-1cf40e009d40",
   "metadata": {},
   "outputs": [
    {
     "data": {
      "text/plain": [
       "['sunday', 'monday', 'tuesday']"
      ]
     },
     "execution_count": 12,
     "metadata": {},
     "output_type": "execute_result"
    }
   ],
   "source": [
    "days_of_week[:3]"
   ]
  },
  {
   "cell_type": "code",
   "execution_count": 14,
   "id": "5e08390b-0eea-464c-bbb3-03652c3044d9",
   "metadata": {},
   "outputs": [],
   "source": [
    "#takes 0 as default. This gave the indexes 0,1,2 "
   ]
  },
  {
   "cell_type": "code",
   "execution_count": 15,
   "id": "cb948a9e-a568-4e43-b4c2-7001b719b2b3",
   "metadata": {},
   "outputs": [
    {
     "data": {
      "text/plain": [
       "['friday', 'saturday']"
      ]
     },
     "execution_count": 15,
     "metadata": {},
     "output_type": "execute_result"
    }
   ],
   "source": [
    "days_of_week[5:] #this gives the items from 5 and 6 only."
   ]
  },
  {
   "cell_type": "code",
   "execution_count": 16,
   "id": "74886ecd-7364-4388-a869-736be4205eff",
   "metadata": {},
   "outputs": [
    {
     "data": {
      "text/plain": [
       "True"
      ]
     },
     "execution_count": 16,
     "metadata": {},
     "output_type": "execute_result"
    }
   ],
   "source": [
    "'saturday' in days_of_week"
   ]
  },
  {
   "cell_type": "code",
   "execution_count": 17,
   "id": "f4441365-3c2d-4f15-ad48-008dd43b2218",
   "metadata": {},
   "outputs": [
    {
     "data": {
      "text/plain": [
       "False"
      ]
     },
     "execution_count": 17,
     "metadata": {},
     "output_type": "execute_result"
    }
   ],
   "source": [
    "'Someday' in days_of_week"
   ]
  },
  {
   "cell_type": "code",
   "execution_count": 18,
   "id": "5e9040a7-e91b-41c2-8098-5115d07c6715",
   "metadata": {},
   "outputs": [
    {
     "data": {
      "text/plain": [
       "False"
      ]
     },
     "execution_count": 18,
     "metadata": {},
     "output_type": "execute_result"
    }
   ],
   "source": [
    "'sun' in days_of_week"
   ]
  },
  {
   "cell_type": "code",
   "execution_count": 19,
   "id": "dc5f77f8-9931-4cc3-ad51-6748a561a359",
   "metadata": {},
   "outputs": [
    {
     "data": {
      "text/plain": [
       "['sunday', 'mon', 'tuesday', 'wednesday', 'thursday', 'friday', 'saturday']"
      ]
     },
     "execution_count": 19,
     "metadata": {},
     "output_type": "execute_result"
    }
   ],
   "source": [
    "days_of_week[1]='mon'\n",
    "days_of_week"
   ]
  },
  {
   "cell_type": "code",
   "execution_count": 20,
   "id": "bf507a37-29eb-470a-b5cd-57c6803a4328",
   "metadata": {},
   "outputs": [],
   "source": [
    "days_of_week= ['sun','mon','tue','wed','thurs','fri','sat']"
   ]
  },
  {
   "cell_type": "code",
   "execution_count": 21,
   "id": "6b1f03c9-9c14-41fa-ba87-7720cabf1494",
   "metadata": {},
   "outputs": [
    {
     "data": {
      "text/plain": [
       "['sun', 'mon', 'tue', 'wed', 'thurs', 'fri', 'sat']"
      ]
     },
     "execution_count": 21,
     "metadata": {},
     "output_type": "execute_result"
    }
   ],
   "source": [
    "days_of_week"
   ]
  },
  {
   "cell_type": "code",
   "execution_count": 22,
   "id": "6c365357-8df6-4feb-8ba3-e833ce87c827",
   "metadata": {},
   "outputs": [],
   "source": [
    "days_of_week[2:4]=['tue','wed'] #change 2 and 3 to tue and wed"
   ]
  },
  {
   "cell_type": "code",
   "execution_count": 23,
   "id": "3d4709d9-874f-4913-9a74-d352f3500070",
   "metadata": {},
   "outputs": [
    {
     "data": {
      "text/plain": [
       "['sun', 'mon', 'tue', 'wed', 'thurs', 'fri', 'sat']"
      ]
     },
     "execution_count": 23,
     "metadata": {},
     "output_type": "execute_result"
    }
   ],
   "source": [
    "days_of_week"
   ]
  },
  {
   "cell_type": "code",
   "execution_count": 28,
   "id": "56cd761a-a79d-43fb-bd7e-09351706da25",
   "metadata": {},
   "outputs": [
    {
     "data": {
      "text/plain": [
       "['sun',\n",
       " 'mon',\n",
       " 'tue',\n",
       " 'wed',\n",
       " 'thurs',\n",
       " 'Fri',\n",
       " 'Saturday',\n",
       " 'Saturday',\n",
       " 'Saturday',\n",
       " 'sat']"
      ]
     },
     "execution_count": 28,
     "metadata": {},
     "output_type": "execute_result"
    }
   ],
   "source": [
    "days_of_week[5:6]=[\"Fri\",\"Saturday\"] #same as days_of_week[5]=[\"Fri\",\"Saturday\"]\n",
    "days_of_week"
   ]
  },
  {
   "cell_type": "code",
   "execution_count": 25,
   "id": "397192ad-8bfe-4d83-b397-33fdc78417b0",
   "metadata": {},
   "outputs": [],
   "source": [
    "#fri and Saturday occupied the 5 th position and Saturday occupied the 6th "
   ]
  },
  {
   "cell_type": "code",
   "execution_count": 27,
   "id": "f1c3615e-6bf0-46d8-913c-3bd7c797fdfc",
   "metadata": {},
   "outputs": [
    {
     "data": {
      "text/plain": [
       "['sun', 'mon', 'tue', 'wed', 'thurs', 'Fri', 'Saturday', 'Saturday', 'sat']"
      ]
     },
     "execution_count": 27,
     "metadata": {},
     "output_type": "execute_result"
    }
   ],
   "source": [
    "days_of_week"
   ]
  },
  {
   "cell_type": "code",
   "execution_count": 29,
   "id": "9d14b8e6-528a-4a02-81d7-cd334c33a3c0",
   "metadata": {},
   "outputs": [],
   "source": [
    "days_of_week[1:3]=[\"Mondi\"] "
   ]
  },
  {
   "cell_type": "code",
   "execution_count": 30,
   "id": "6c905596-595b-44a0-b5ef-02f6f82e8944",
   "metadata": {},
   "outputs": [
    {
     "data": {
      "text/plain": [
       "['sun',\n",
       " 'Mondi',\n",
       " 'wed',\n",
       " 'thurs',\n",
       " 'Fri',\n",
       " 'Saturday',\n",
       " 'Saturday',\n",
       " 'Saturday',\n",
       " 'sat']"
      ]
     },
     "execution_count": 30,
     "metadata": {},
     "output_type": "execute_result"
    }
   ],
   "source": [
    "days_of_week"
   ]
  },
  {
   "cell_type": "markdown",
   "id": "2cafd57f-e6fa-41a4-a188-3d5a36b034d8",
   "metadata": {},
   "source": [
    "##### 1st and 2nd positions are now into one position and then replaced by Mondi here"
   ]
  },
  {
   "cell_type": "code",
   "execution_count": 31,
   "id": "cc77d4ea-f45b-40f4-ae6f-f59a022a480e",
   "metadata": {},
   "outputs": [
    {
     "data": {
      "text/plain": [
       "[1, 'inserted', 2, 3]"
      ]
     },
     "execution_count": 31,
     "metadata": {},
     "output_type": "execute_result"
    }
   ],
   "source": [
    "my_list=[1,2,3]\n",
    "my_list.insert(1, \"inserted\")\n",
    "my_list"
   ]
  },
  {
   "cell_type": "markdown",
   "id": "3e113e70-dbd7-44eb-9996-ba38372951ea",
   "metadata": {},
   "source": [
    "#### my_list kaam garne, . operation, insert kaam"
   ]
  },
  {
   "cell_type": "code",
   "execution_count": 32,
   "id": "56865d6a-4c7b-4aab-9f8e-1cfa6076d7da",
   "metadata": {},
   "outputs": [
    {
     "data": {
      "text/plain": [
       "[1, 'inserted', 2, 3, 'End of list']"
      ]
     },
     "execution_count": 32,
     "metadata": {},
     "output_type": "execute_result"
    }
   ],
   "source": [
    "my_list.insert(4,\"End of list\")\n",
    "my_list"
   ]
  },
  {
   "cell_type": "code",
   "execution_count": 33,
   "id": "7a2177da-fc82-4592-81f9-063f816f5ee3",
   "metadata": {},
   "outputs": [
    {
     "data": {
      "text/plain": [
       "[1, 'inserted', 2, 3, 'End end of list', 'End of list']"
      ]
     },
     "execution_count": 33,
     "metadata": {},
     "output_type": "execute_result"
    }
   ],
   "source": [
    "my_list.insert(-1, \"End end of list\")\n",
    "my_list"
   ]
  },
  {
   "cell_type": "code",
   "execution_count": 34,
   "id": "e618a5f7-6a17-451d-9322-4bd561a9f7a3",
   "metadata": {},
   "outputs": [
    {
     "data": {
      "text/plain": [
       "['End end of list', 1, 'inserted', 2, 3, 'End end of list', 'End of list']"
      ]
     },
     "execution_count": 34,
     "metadata": {},
     "output_type": "execute_result"
    }
   ],
   "source": [
    "my_list.insert(0, \"End end of list\")\n",
    "my_list"
   ]
  },
  {
   "cell_type": "code",
   "execution_count": 35,
   "id": "3c089a45-44d1-4d39-8877-50e409ef53cf",
   "metadata": {},
   "outputs": [
    {
     "data": {
      "text/plain": [
       "[1, 2, 3, 4]"
      ]
     },
     "execution_count": 35,
     "metadata": {},
     "output_type": "execute_result"
    }
   ],
   "source": [
    "my_list=[1,2,3]\n",
    "my_list.append(4)\n",
    "my_list"
   ]
  },
  {
   "cell_type": "code",
   "execution_count": 36,
   "id": "2d3f0a71-089a-4f74-ac97-afaac44dbb2d",
   "metadata": {},
   "outputs": [
    {
     "ename": "TypeError",
     "evalue": "list.extend() takes exactly one argument (2 given)",
     "output_type": "error",
     "traceback": [
      "\u001b[1;31m---------------------------------------------------------------------------\u001b[0m",
      "\u001b[1;31mTypeError\u001b[0m                                 Traceback (most recent call last)",
      "Cell \u001b[1;32mIn[36], line 1\u001b[0m\n\u001b[1;32m----> 1\u001b[0m \u001b[43mmy_list\u001b[49m\u001b[38;5;241;43m.\u001b[39;49m\u001b[43mextend\u001b[49m\u001b[43m(\u001b[49m\u001b[38;5;241;43m100\u001b[39;49m\u001b[43m,\u001b[49m\u001b[38;5;241;43m200\u001b[39;49m\u001b[43m)\u001b[49m\n\u001b[0;32m      2\u001b[0m my_list\n",
      "\u001b[1;31mTypeError\u001b[0m: list.extend() takes exactly one argument (2 given)"
     ]
    }
   ],
   "source": [
    "my_list.extend(100,200)\n",
    "my_list"
   ]
  },
  {
   "cell_type": "code",
   "execution_count": 37,
   "id": "0304d907-f80d-4a59-a6ab-26f486787c42",
   "metadata": {},
   "outputs": [
    {
     "data": {
      "text/plain": [
       "[1, 2, 3, 4, '100', '200']"
      ]
     },
     "execution_count": 37,
     "metadata": {},
     "output_type": "execute_result"
    }
   ],
   "source": [
    "add_to_list=[\"100\",\"200\"]\n",
    "my_list.extend(add_to_list)\n",
    "my_list"
   ]
  },
  {
   "cell_type": "code",
   "execution_count": 38,
   "id": "a0ca9c90-2a45-448a-a222-d375c5088174",
   "metadata": {},
   "outputs": [
    {
     "data": {
      "text/plain": [
       "[1, 2, 3, 4, '100', '200', ['100', '200']]"
      ]
     },
     "execution_count": 38,
     "metadata": {},
     "output_type": "execute_result"
    }
   ],
   "source": [
    "my_list.append(add_to_list)\n",
    "my_list"
   ]
  },
  {
   "cell_type": "markdown",
   "id": "714c37e3-f034-4c36-82b9-9d0cab475c19",
   "metadata": {},
   "source": [
    "#### Remove List Items"
   ]
  },
  {
   "cell_type": "code",
   "execution_count": 39,
   "id": "492d4973-98a6-4acd-af72-15a5ef4f9d07",
   "metadata": {},
   "outputs": [
    {
     "data": {
      "text/plain": [
       "['one', 'three']"
      ]
     },
     "execution_count": 39,
     "metadata": {},
     "output_type": "execute_result"
    }
   ],
   "source": [
    "my_list=[\"one\", \"two\", \"three\"]\n",
    "my_list.remove(\"two\")\n",
    "my_list"
   ]
  },
  {
   "cell_type": "code",
   "execution_count": 40,
   "id": "adaa4e40-25bd-4707-b5f8-b3df77b244da",
   "metadata": {},
   "outputs": [
    {
     "data": {
      "text/plain": [
       "['one', 'three', 'two', 'three', 'two']"
      ]
     },
     "execution_count": 40,
     "metadata": {},
     "output_type": "execute_result"
    }
   ],
   "source": [
    "my_list=[\"one\", \"two\", \"three\", \"two\", \"three\", \"two\"]\n",
    "my_list.remove(\"two\")\n",
    "my_list"
   ]
  },
  {
   "cell_type": "code",
   "execution_count": 41,
   "id": "1f8521aa-2d15-47d9-a91c-77ca5bef64f4",
   "metadata": {},
   "outputs": [
    {
     "data": {
      "text/plain": [
       "['one', 'three', 'three', 'two']"
      ]
     },
     "execution_count": 41,
     "metadata": {},
     "output_type": "execute_result"
    }
   ],
   "source": [
    "my_list=[\"one\", \"two\", \"three\", \"two\", \"three\", \"two\"]\n",
    "my_list.remove(\"two\")\n",
    "my_list\n",
    "my_list.remove(\"two\")\n",
    "my_list"
   ]
  },
  {
   "cell_type": "code",
   "execution_count": 42,
   "id": "1b5618bd-376d-409f-af3b-ae8ee8567221",
   "metadata": {},
   "outputs": [
    {
     "name": "stdout",
     "output_type": "stream",
     "text": [
      "['one', 'three', 'two', 'three', 'two']\n",
      "['one', 'three', 'three', 'two']\n"
     ]
    }
   ],
   "source": [
    "my_list=[\"one\", \"two\", \"three\", \"two\", \"three\", \"two\"]\n",
    "my_list.remove(\"two\")\n",
    "print(my_list)\n",
    "my_list.remove(\"two\")\n",
    "print(my_list)"
   ]
  },
  {
   "cell_type": "code",
   "execution_count": 43,
   "id": "a7f2434c-cb7a-4a14-b4c0-797b87619b53",
   "metadata": {},
   "outputs": [
    {
     "data": {
      "text/plain": [
       "[1, 3]"
      ]
     },
     "execution_count": 43,
     "metadata": {},
     "output_type": "execute_result"
    }
   ],
   "source": [
    "my_list=[1,2,3]\n",
    "my_list.pop(1)\n",
    "my_list"
   ]
  },
  {
   "cell_type": "code",
   "execution_count": 44,
   "id": "0a8deb5a-8073-40a4-b94d-49071eb75ac2",
   "metadata": {},
   "outputs": [
    {
     "data": {
      "text/plain": [
       "[1, 2]"
      ]
     },
     "execution_count": 44,
     "metadata": {},
     "output_type": "execute_result"
    }
   ],
   "source": [
    "my_list=[1,2,3]\n",
    "my_list.pop()\n",
    "my_list"
   ]
  },
  {
   "cell_type": "markdown",
   "id": "80ff6b4b-5c74-49ce-906a-fe34d0949b7b",
   "metadata": {},
   "source": [
    "#### last element hapaucha pop without any arguments"
   ]
  },
  {
   "cell_type": "code",
   "execution_count": 45,
   "id": "6d087807-e03a-4096-ada1-df835037a401",
   "metadata": {},
   "outputs": [
    {
     "ename": "TypeError",
     "evalue": "list indices must be integers or slices, not tuple",
     "output_type": "error",
     "traceback": [
      "\u001b[1;31m---------------------------------------------------------------------------\u001b[0m",
      "\u001b[1;31mTypeError\u001b[0m                                 Traceback (most recent call last)",
      "Cell \u001b[1;32mIn[45], line 2\u001b[0m\n\u001b[0;32m      1\u001b[0m my_list\u001b[38;5;241m=\u001b[39m[\u001b[38;5;241m1\u001b[39m,\u001b[38;5;241m2\u001b[39m,\u001b[38;5;241m3\u001b[39m]\n\u001b[1;32m----> 2\u001b[0m \u001b[38;5;28;01mdel\u001b[39;00m \u001b[43mmy_list\u001b[49m\u001b[43m[\u001b[49m\u001b[38;5;241;43m0\u001b[39;49m\u001b[43m,\u001b[49m\u001b[38;5;241;43m1\u001b[39;49m\u001b[43m]\u001b[49m\n\u001b[0;32m      3\u001b[0m my_list\n",
      "\u001b[1;31mTypeError\u001b[0m: list indices must be integers or slices, not tuple"
     ]
    }
   ],
   "source": [
    "my_list=[1,2,3]\n",
    "del my_list[0,1]\n",
    "my_list"
   ]
  },
  {
   "cell_type": "code",
   "execution_count": 46,
   "id": "f520356e-d0cf-407c-8248-db2bcea8c934",
   "metadata": {},
   "outputs": [
    {
     "data": {
      "text/plain": [
       "[1, 4, 5]"
      ]
     },
     "execution_count": 46,
     "metadata": {},
     "output_type": "execute_result"
    }
   ],
   "source": [
    "my_list=[1,2,3,4,5]\n",
    "del my_list[1:3]\n",
    "my_list"
   ]
  },
  {
   "cell_type": "code",
   "execution_count": 47,
   "id": "5cf420ef-5ca3-40e7-9b9d-1b0711a2bcc4",
   "metadata": {},
   "outputs": [
    {
     "ename": "NameError",
     "evalue": "name 'num_list' is not defined",
     "output_type": "error",
     "traceback": [
      "\u001b[1;31m---------------------------------------------------------------------------\u001b[0m",
      "\u001b[1;31mNameError\u001b[0m                                 Traceback (most recent call last)",
      "Cell \u001b[1;32mIn[47], line 3\u001b[0m\n\u001b[0;32m      1\u001b[0m num_list\u001b[38;5;241m=\u001b[39m[\u001b[38;5;241m1\u001b[39m,\u001b[38;5;241m2\u001b[39m,\u001b[38;5;241m3\u001b[39m]\n\u001b[0;32m      2\u001b[0m \u001b[38;5;28;01mdel\u001b[39;00m num_list\n\u001b[1;32m----> 3\u001b[0m \u001b[43mnum_list\u001b[49m\n",
      "\u001b[1;31mNameError\u001b[0m: name 'num_list' is not defined"
     ]
    }
   ],
   "source": [
    "num_list=[1,2,3]\n",
    "del num_list\n",
    "num_list"
   ]
  },
  {
   "cell_type": "markdown",
   "id": "a328c192-de17-4732-845f-b3d2c858b10e",
   "metadata": {},
   "source": [
    "#### list was deleted and hence not defined"
   ]
  },
  {
   "cell_type": "code",
   "execution_count": 48,
   "id": "2213558b-8924-4130-971e-8d530d63606a",
   "metadata": {},
   "outputs": [
    {
     "data": {
      "text/plain": [
       "[]"
      ]
     },
     "execution_count": 48,
     "metadata": {},
     "output_type": "execute_result"
    }
   ],
   "source": [
    "my_list=[1,2,3]\n",
    "my_list.clear()\n",
    "my_list"
   ]
  },
  {
   "cell_type": "markdown",
   "id": "6a3020c3-53fb-4c91-a457-d126193a0932",
   "metadata": {},
   "source": [
    "#### Sort List"
   ]
  },
  {
   "cell_type": "code",
   "execution_count": 50,
   "id": "f4e1e383-9539-4065-85ae-31c70f99e373",
   "metadata": {},
   "outputs": [
    {
     "data": {
      "text/plain": [
       "['Feb', 'apr', 'feb', 'jan', 'mar']"
      ]
     },
     "execution_count": 50,
     "metadata": {},
     "output_type": "execute_result"
    }
   ],
   "source": [
    "month_list=[\"jan\", \"feb\", \"Feb\", \"mar\", \"apr\"]\n",
    "month_list.sort()\n",
    "month_list"
   ]
  },
  {
   "cell_type": "markdown",
   "id": "c383085d-3fa5-4927-a9f6-7ca6319f5129",
   "metadata": {},
   "source": [
    "#### sort is different because of case sensitivity"
   ]
  },
  {
   "cell_type": "code",
   "execution_count": 51,
   "id": "2d21baa0-fb49-469d-8169-3dd962697372",
   "metadata": {},
   "outputs": [
    {
     "data": {
      "text/plain": [
       "[340, 1999, 2000, 8372]"
      ]
     },
     "execution_count": 51,
     "metadata": {},
     "output_type": "execute_result"
    }
   ],
   "source": [
    "year_list=[1999, 2000, 340, 8372]\n",
    "year_list.sort()\n",
    "year_list"
   ]
  },
  {
   "cell_type": "code",
   "execution_count": 52,
   "id": "d4adf597-9462-4d0f-849d-717c8cf6464b",
   "metadata": {},
   "outputs": [
    {
     "data": {
      "text/plain": [
       "[8372, 2000, 1999, 340]"
      ]
     },
     "execution_count": 52,
     "metadata": {},
     "output_type": "execute_result"
    }
   ],
   "source": [
    "year_list.sort(reverse=True)\n",
    "year_list"
   ]
  },
  {
   "cell_type": "code",
   "execution_count": 53,
   "id": "fceb0b6d-b9c0-4bb4-92f6-8ad66f8f6ae0",
   "metadata": {},
   "outputs": [
    {
     "data": {
      "text/plain": [
       "['Bhaktapur', 'Kathmandu', 'Lalitpur', 'kathmandu', 'lalitpur']"
      ]
     },
     "execution_count": 53,
     "metadata": {},
     "output_type": "execute_result"
    }
   ],
   "source": [
    "cities_list=['kathmandu', 'lalitpur', 'Kathmandu', 'Lalitpur', 'Bhaktapur']\n",
    "cities_list.sort()\n",
    "cities_list"
   ]
  },
  {
   "cell_type": "markdown",
   "id": "57f057a1-6ea9-4dbd-8c52-219f0da0e94e",
   "metadata": {},
   "source": [
    "#### homework is to check why the capitals are first than non capitals."
   ]
  },
  {
   "cell_type": "code",
   "execution_count": null,
   "id": "e0c3adf0-76aa-4c3f-87a8-2818dd537969",
   "metadata": {},
   "outputs": [],
   "source": []
  }
 ],
 "metadata": {
  "kernelspec": {
   "display_name": "Python 3 (ipykernel)",
   "language": "python",
   "name": "python3"
  },
  "language_info": {
   "codemirror_mode": {
    "name": "ipython",
    "version": 3
   },
   "file_extension": ".py",
   "mimetype": "text/x-python",
   "name": "python",
   "nbconvert_exporter": "python",
   "pygments_lexer": "ipython3",
   "version": "3.12.5"
  }
 },
 "nbformat": 4,
 "nbformat_minor": 5
}
