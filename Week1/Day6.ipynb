{
 "cells": [
  {
   "cell_type": "code",
   "execution_count": null,
   "id": "64fd2fbc-77a4-4d66-9114-c7e53fa05e73",
   "metadata": {},
   "outputs": [],
   "source": [
    "city_pop = {\"Chicago\": 3.5, \"New York\": 7, \"LA\": 6}"
   ]
  },
  {
   "cell_type": "code",
   "execution_count": null,
   "id": "b73c070d-b993-4797-a77a-2324ab7d13e6",
   "metadata": {},
   "outputs": [
    {
     "data": {
      "text/plain": [
       "{'Chicago': 3.5, 'New York': 7, 'LA': 6}"
      ]
     },
     "execution_count": 2,
     "metadata": {},
     "output_type": "execute_result"
    }
   ],
   "source": [
    "city_pop"
   ]
  },
  {
   "cell_type": "code",
   "execution_count": null,
   "id": "eaef1050-768e-41ae-8af9-c59f94e03b6e",
   "metadata": {},
   "outputs": [
    {
     "ename": "KeyError",
     "evalue": "0",
     "output_type": "error",
     "traceback": [
      "\u001b[1;31m---------------------------------------------------------------------------\u001b[0m",
      "\u001b[1;31mKeyError\u001b[0m                                  Traceback (most recent call last)",
      "File \u001b[1;32mc:\\Users\\salis\\Desktop\\python\\Day6.py:1\u001b[0m\n\u001b[1;32m----> 1\u001b[0m city_pop[\u001b[39m0\u001b[39;49m]\n",
      "\u001b[1;31mKeyError\u001b[0m: 0"
     ]
    }
   ],
   "source": [
    "city_pop[0]"
   ]
  },
  {
   "cell_type": "code",
   "execution_count": null,
   "id": "a66e9148-9643-4cc7-a893-e34040b81c5a",
   "metadata": {},
   "outputs": [
    {
     "data": {
      "text/plain": [
       "3.5"
      ]
     },
     "execution_count": 4,
     "metadata": {},
     "output_type": "execute_result"
    }
   ],
   "source": [
    "city_pop[\"Chicago\"]"
   ]
  },
  {
   "cell_type": "code",
   "execution_count": null,
   "id": "63f1cbe3-45f4-432c-88ac-74a7f8f9eeab",
   "metadata": {},
   "outputs": [],
   "source": [
    "# should have keys for indexing, not 0,1,2 here \"chicago\" is used to find it's value\n",
    "# it's mutable, and ordered"
   ]
  },
  {
   "cell_type": "code",
   "execution_count": null,
   "id": "42fe51c1-dccf-4f65-9bf1-6ae944adf54d",
   "metadata": {},
   "outputs": [
    {
     "data": {
      "text/plain": [
       "6"
      ]
     },
     "execution_count": 6,
     "metadata": {},
     "output_type": "execute_result"
    }
   ],
   "source": [
    "city_pop.get(\"LA\")"
   ]
  },
  {
   "cell_type": "code",
   "execution_count": null,
   "id": "5b276257-908d-4839-b659-d5aa50444774",
   "metadata": {},
   "outputs": [
    {
     "data": {
      "text/plain": [
       "dict_keys(['Chicago', 'New York', 'LA'])"
      ]
     },
     "execution_count": 7,
     "metadata": {},
     "output_type": "execute_result"
    }
   ],
   "source": [
    "city_pop.keys()"
   ]
  },
  {
   "cell_type": "code",
   "execution_count": null,
   "id": "a630ecb4-49e8-4301-973d-32669c9d22ee",
   "metadata": {},
   "outputs": [
    {
     "data": {
      "text/plain": [
       "<function dict.values>"
      ]
     },
     "execution_count": 8,
     "metadata": {},
     "output_type": "execute_result"
    }
   ],
   "source": [
    "city_pop.values"
   ]
  },
  {
   "cell_type": "code",
   "execution_count": null,
   "id": "7f768427-13de-4d95-a41b-17b4a0ae5cac",
   "metadata": {},
   "outputs": [
    {
     "data": {
      "text/plain": [
       "dict_values([3.5, 7, 6])"
      ]
     },
     "execution_count": 9,
     "metadata": {},
     "output_type": "execute_result"
    }
   ],
   "source": [
    "city_pop.values()"
   ]
  },
  {
   "cell_type": "code",
   "execution_count": null,
   "id": "c78d69e0-6772-4b49-ade3-061245a742e4",
   "metadata": {},
   "outputs": [
    {
     "data": {
      "text/plain": [
       "dict_items([('Chicago', 3.5), ('New York', 7), ('LA', 6)])"
      ]
     },
     "execution_count": 10,
     "metadata": {},
     "output_type": "execute_result"
    }
   ],
   "source": [
    "city_pop.items()"
   ]
  },
  {
   "cell_type": "code",
   "execution_count": null,
   "id": "31da6791-987c-4af3-8ccf-732216b7cb7d",
   "metadata": {},
   "outputs": [
    {
     "data": {
      "text/plain": [
       "True"
      ]
     },
     "execution_count": 11,
     "metadata": {},
     "output_type": "execute_result"
    }
   ],
   "source": [
    "\"Chicago\" in city_pop"
   ]
  },
  {
   "cell_type": "code",
   "execution_count": null,
   "id": "2c2859bb-2124-4938-9c8b-d847b16f1055",
   "metadata": {},
   "outputs": [
    {
     "data": {
      "text/plain": [
       "False"
      ]
     },
     "execution_count": 12,
     "metadata": {},
     "output_type": "execute_result"
    }
   ],
   "source": [
    "\"San Francisco\" in city_pop"
   ]
  },
  {
   "cell_type": "code",
   "execution_count": null,
   "id": "8216a18c-d482-4933-8f23-3c9acd766701",
   "metadata": {},
   "outputs": [],
   "source": [
    "city_pop[\"LA\"] = 20"
   ]
  },
  {
   "cell_type": "code",
   "execution_count": null,
   "id": "46ae3ee4-da14-4e86-a0b3-279ef34bb70b",
   "metadata": {},
   "outputs": [
    {
     "data": {
      "text/plain": [
       "20"
      ]
     },
     "execution_count": 14,
     "metadata": {},
     "output_type": "execute_result"
    }
   ],
   "source": [
    "city_pop[\"LA\"]"
   ]
  },
  {
   "cell_type": "code",
   "execution_count": null,
   "id": "d13315ef-b489-4532-95b1-0287d5502691",
   "metadata": {},
   "outputs": [
    {
     "data": {
      "text/plain": [
       "{'Chicago': 3.5, 'New York': 7, 'LA': 20}"
      ]
     },
     "execution_count": 15,
     "metadata": {},
     "output_type": "execute_result"
    }
   ],
   "source": [
    "city_pop"
   ]
  },
  {
   "cell_type": "code",
   "execution_count": null,
   "id": "a3c3d2eb-8420-4268-b930-255d5efae1c6",
   "metadata": {},
   "outputs": [],
   "source": [
    "#dict[key]= value"
   ]
  },
  {
   "cell_type": "code",
   "execution_count": null,
   "id": "f00f3fcf-bb69-4664-86ad-8aea1f452f7c",
   "metadata": {},
   "outputs": [],
   "source": [
    "city_pop.update({\"Chicago\": 30})"
   ]
  },
  {
   "cell_type": "code",
   "execution_count": null,
   "id": "8bb8a7db-e4dc-4e66-ac60-9584e37bff1e",
   "metadata": {},
   "outputs": [],
   "source": [
    "city_pop.update({\"Chicago\": 30})"
   ]
  },
  {
   "cell_type": "code",
   "execution_count": null,
   "id": "42bd1eb7-58a0-40ba-ac20-aef19b50a48e",
   "metadata": {},
   "outputs": [
    {
     "data": {
      "text/plain": [
       "{'Chicago': 30, 'New York': 7, 'LA': 20}"
      ]
     },
     "execution_count": 19,
     "metadata": {},
     "output_type": "execute_result"
    }
   ],
   "source": [
    "city_pop"
   ]
  },
  {
   "cell_type": "code",
   "execution_count": null,
   "id": "60c930c1-7027-496e-8d58-fb1556580e8d",
   "metadata": {},
   "outputs": [],
   "source": [
    "# add new items in dict, don't have duplicate keys though\n",
    "\n",
    "city_pop[\"Kathmandu\"] = 2.5"
   ]
  },
  {
   "cell_type": "code",
   "execution_count": null,
   "id": "36a03e17-fbe2-4b40-981a-11d3cb3e5dd2",
   "metadata": {},
   "outputs": [
    {
     "data": {
      "text/plain": [
       "{'Chicago': 30, 'New York': 7, 'LA': 20, 'Kathmandu': 2.5}"
      ]
     },
     "execution_count": 21,
     "metadata": {},
     "output_type": "execute_result"
    }
   ],
   "source": [
    "city_pop"
   ]
  },
  {
   "cell_type": "code",
   "execution_count": null,
   "id": "cd313843-c336-4c24-9e3b-b0583d906549",
   "metadata": {},
   "outputs": [
    {
     "data": {
      "text/plain": [
       "30"
      ]
     },
     "execution_count": 22,
     "metadata": {},
     "output_type": "execute_result"
    }
   ],
   "source": [
    "# remove items\n",
    "city_pop.pop(\"Chicago\")"
   ]
  },
  {
   "cell_type": "code",
   "execution_count": null,
   "id": "b90f13c5-c2cd-4d05-b6ef-2f498517442b",
   "metadata": {},
   "outputs": [
    {
     "data": {
      "text/plain": [
       "{'New York': 7, 'LA': 20, 'Kathmandu': 2.5}"
      ]
     },
     "execution_count": 23,
     "metadata": {},
     "output_type": "execute_result"
    }
   ],
   "source": [
    "city_pop"
   ]
  },
  {
   "cell_type": "code",
   "execution_count": null,
   "id": "d0b3073f-320b-4f59-81d7-60d9915601f2",
   "metadata": {},
   "outputs": [],
   "source": [
    "city_pop.clear()"
   ]
  },
  {
   "cell_type": "code",
   "execution_count": null,
   "id": "3c515b8e-0bff-4a75-8d76-dd3292c5dbc5",
   "metadata": {},
   "outputs": [
    {
     "data": {
      "text/plain": [
       "{}"
      ]
     },
     "execution_count": 25,
     "metadata": {},
     "output_type": "execute_result"
    }
   ],
   "source": [
    "city_pop"
   ]
  },
  {
   "cell_type": "code",
   "execution_count": null,
   "id": "9f8b4d46-8256-4271-a953-c42df278a985",
   "metadata": {},
   "outputs": [],
   "source": [
    "# clear, empties the dictionary\n",
    "# delete chai dictionary lai nei delete gardincha"
   ]
  },
  {
   "cell_type": "code",
   "execution_count": null,
   "id": "1aa2e444-3490-4e52-b3d6-a974021c001e",
   "metadata": {},
   "outputs": [],
   "source": [
    "del city_pop"
   ]
  },
  {
   "cell_type": "code",
   "execution_count": null,
   "id": "6eef93c0-4a43-4081-aefe-357a34583794",
   "metadata": {},
   "outputs": [
    {
     "ename": "NameError",
     "evalue": "name 'city_pop' is not defined",
     "output_type": "error",
     "traceback": [
      "\u001b[1;31m---------------------------------------------------------------------------\u001b[0m",
      "\u001b[1;31mNameError\u001b[0m                                 Traceback (most recent call last)",
      "File \u001b[1;32mc:\\Users\\salis\\Desktop\\python\\Day6.py:1\u001b[0m\n\u001b[1;32m----> 1\u001b[0m city_pop\n",
      "\u001b[1;31mNameError\u001b[0m: name 'city_pop' is not defined"
     ]
    }
   ],
   "source": [
    "city_pop"
   ]
  },
  {
   "cell_type": "code",
   "execution_count": null,
   "id": "07a44e7d-172b-401f-96dd-159b1c0e04ac",
   "metadata": {},
   "outputs": [],
   "source": [
    "# OOP concepts"
   ]
  },
  {
   "cell_type": "code",
   "execution_count": null,
   "id": "45c3a070-3887-4fa2-9373-ab5a24aa6a7a",
   "metadata": {},
   "outputs": [],
   "source": [
    "# object priority high? then mathi run vairako code lai chai run nagari sabai run garcha"
   ]
  },
  {
   "cell_type": "code",
   "execution_count": null,
   "id": "d8e2fee0-80cc-4249-bcbc-a3158781761e",
   "metadata": {},
   "outputs": [],
   "source": [
    "# error vaye pani run huncha tala ko"
   ]
  },
  {
   "cell_type": "code",
   "execution_count": null,
   "id": "5f7565d6-f7e8-4980-b4d2-de63019ea719",
   "metadata": {},
   "outputs": [],
   "source": [
    "#class and objects are imp"
   ]
  },
  {
   "cell_type": "code",
   "execution_count": null,
   "id": "c0e6907d-eff1-46b3-8eeb-a3098e13af5a",
   "metadata": {},
   "outputs": [],
   "source": [
    "# class has it's own properties, we need to define it using objects."
   ]
  },
  {
   "cell_type": "code",
   "execution_count": null,
   "id": "ce9cca34-3885-419d-926b-93b7247b75c3",
   "metadata": {},
   "outputs": [],
   "source": [
    "# class has data and functions, class chalauna object chaicha"
   ]
  },
  {
   "cell_type": "code",
   "execution_count": null,
   "id": "307f8d3f-d742-4655-a3d1-ba3fc3dd3c7f",
   "metadata": {},
   "outputs": [],
   "source": [
    "# everything is an object in python"
   ]
  },
  {
   "cell_type": "code",
   "execution_count": null,
   "id": "28619d15-77b0-41e6-b7b0-80171a4ffcff",
   "metadata": {},
   "outputs": [],
   "source": [
    "# int, str, list, tuple, dict everything is an object"
   ]
  },
  {
   "cell_type": "code",
   "execution_count": null,
   "id": "92af2995-0f42-46c5-a9d0-4916e0ea203e",
   "metadata": {},
   "outputs": [],
   "source": [
    "# class is like a blueprint for building objects"
   ]
  },
  {
   "cell_type": "code",
   "execution_count": null,
   "id": "2fbd7c0c-649a-4e59-86ee-aa076f3893a4",
   "metadata": {},
   "outputs": [],
   "source": [
    "# \"copies\" of the blueprint are called object instances"
   ]
  },
  {
   "cell_type": "code",
   "execution_count": null,
   "id": "513479a6-0d4a-4e13-9801-256e9d34f760",
   "metadata": {},
   "outputs": [],
   "source": [
    "class Student:  # class ko first letter should always be capital\n",
    "    pass  # pass means to do nothing"
   ]
  },
  {
   "cell_type": "code",
   "execution_count": null,
   "id": "a7f68ce9-da5b-4efa-9de7-c03a6b76fc7a",
   "metadata": {},
   "outputs": [
    {
     "name": "stdout",
     "output_type": "stream",
     "text": [
      "<class '__main__.Student'>\n"
     ]
    }
   ],
   "source": [
    "student1 = Student()  # instance of the class Student\n",
    "student2 = Student()  # can have multiple objects of the same class\n",
    "print(type(student1))"
   ]
  },
  {
   "cell_type": "code",
   "execution_count": null,
   "id": "35816063-87ec-49e1-a1bc-9c6e34d236c5",
   "metadata": {},
   "outputs": [
    {
     "data": {
      "text/plain": [
       "1945944160848"
      ]
     },
     "execution_count": 43,
     "metadata": {},
     "output_type": "execute_result"
    }
   ],
   "source": [
    "id(student1)"
   ]
  },
  {
   "cell_type": "code",
   "execution_count": null,
   "id": "8bc97efb-40cb-4391-b594-d49622a72ac1",
   "metadata": {},
   "outputs": [
    {
     "data": {
      "text/plain": [
       "1945944150480"
      ]
     },
     "execution_count": 44,
     "metadata": {},
     "output_type": "execute_result"
    }
   ],
   "source": [
    "id(student2)"
   ]
  },
  {
   "cell_type": "code",
   "execution_count": null,
   "id": "1904f1d5-2850-4d41-9212-24df8651e9aa",
   "metadata": {},
   "outputs": [],
   "source": [
    "# data in class can be defined as variable\n",
    "\n",
    "\n",
    "class Student:\n",
    "    # class variable\n",
    "    school = \"School of Data Science\""
   ]
  },
  {
   "cell_type": "code",
   "execution_count": null,
   "id": "d537fd7d-7743-4a1d-80b1-553137d9f822",
   "metadata": {},
   "outputs": [
    {
     "name": "stdout",
     "output_type": "stream",
     "text": [
      "School of Data Science\n",
      "School of Data Science\n"
     ]
    }
   ],
   "source": [
    "student1 = Student()\n",
    "student2 = Student()\n",
    "print(student1.school)\n",
    "print(student2.school)"
   ]
  },
  {
   "cell_type": "code",
   "execution_count": null,
   "id": "96166531-990c-4781-924d-0359d5895981",
   "metadata": {},
   "outputs": [],
   "source": [
    "class Student:\n",
    "    # constructor is a function\n",
    "    def __init__(self, name, level):  # self vaneko yei class bhitra garirachau vanera\n",
    "        # instance variables\n",
    "        self.name = name\n",
    "        self.level = level"
   ]
  },
  {
   "cell_type": "code",
   "execution_count": null,
   "id": "776b9608-9810-47c6-850c-a19a5baeca12",
   "metadata": {},
   "outputs": [],
   "source": [
    "# self is reserved"
   ]
  },
  {
   "cell_type": "code",
   "execution_count": null,
   "id": "36a35248-72eb-4731-9190-91a847856c4e",
   "metadata": {},
   "outputs": [],
   "source": [
    "student1 = Student(\"Salish Shakya\", 1)\n",
    "student2 = Student(\"Silex Shakya\", 2)"
   ]
  },
  {
   "cell_type": "code",
   "execution_count": null,
   "id": "2d48d349-e065-46ff-8d06-c7da6e895de0",
   "metadata": {},
   "outputs": [
    {
     "data": {
      "text/plain": [
       "<__main__.Student at 0x1c51353ba10>"
      ]
     },
     "execution_count": 50,
     "metadata": {},
     "output_type": "execute_result"
    }
   ],
   "source": [
    "student1"
   ]
  },
  {
   "cell_type": "code",
   "execution_count": null,
   "id": "892f6b08-f338-442a-878a-84d1e269259c",
   "metadata": {},
   "outputs": [
    {
     "data": {
      "text/plain": [
       "'Salish Shakya'"
      ]
     },
     "execution_count": 51,
     "metadata": {},
     "output_type": "execute_result"
    }
   ],
   "source": [
    "student1.name"
   ]
  },
  {
   "cell_type": "code",
   "execution_count": null,
   "id": "6efa4f56-6c80-4868-ae74-fccd34faf0a4",
   "metadata": {},
   "outputs": [
    {
     "data": {
      "text/plain": [
       "2"
      ]
     },
     "execution_count": 52,
     "metadata": {},
     "output_type": "execute_result"
    }
   ],
   "source": [
    "student2.level"
   ]
  },
  {
   "cell_type": "code",
   "execution_count": null,
   "id": "763dac68-1a78-47f6-b8d9-e27aefb1b094",
   "metadata": {},
   "outputs": [],
   "source": [
    "# __init__ and __str__ default constructors are called auto, but ones that we define need to be called separately"
   ]
  },
  {
   "cell_type": "code",
   "execution_count": null,
   "id": "c54a3aba-f439-4a03-b132-123a5a299544",
   "metadata": {},
   "outputs": [],
   "source": [
    "class Student:\n",
    "    def __init__(self, name, level):  # self vaneko yei class bhitra garirachau vanera\n",
    "        # instance variables\n",
    "        self.name = name\n",
    "        self.level = level\n",
    "\n",
    "    # regular constructor\n",
    "    def level_up(self):\n",
    "        self.level += 1"
   ]
  },
  {
   "cell_type": "code",
   "execution_count": null,
   "id": "6c0fc655-e6ea-407d-a628-e9d00c7f86ad",
   "metadata": {},
   "outputs": [
    {
     "name": "stdout",
     "output_type": "stream",
     "text": [
      "<__main__.Student object at 0x000001C5134F4850>\n"
     ]
    }
   ],
   "source": [
    "sam = Student(\"Sam Smith\" , 1)\n",
    "print(sam)"
   ]
  },
  {
   "cell_type": "code",
   "execution_count": null,
   "id": "73ba7f0e-0370-4397-b781-81c344d97998",
   "metadata": {},
   "outputs": [],
   "source": [
    "class Student:\n",
    "    # constructor\n",
    "    def __init__(self, name, level):\n",
    "        self.name = name\n",
    "        self.level = level\n",
    "\n",
    "    def __str__(self):\n",
    "        return \"{} studies at level {}\".format(self.name, self.level)\n",
    "\n",
    "    # regular method\n",
    "    def level_up(self):\n",
    "        self.level += 1"
   ]
  },
  {
   "cell_type": "code",
   "execution_count": null,
   "id": "eda47823-8a73-49f5-83d7-1be9f514ffb0",
   "metadata": {},
   "outputs": [
    {
     "name": "stdout",
     "output_type": "stream",
     "text": [
      "Sam Smith studies at level 1\n",
      "Tom Cruise studies at level 3\n"
     ]
    }
   ],
   "source": [
    "sam = Student(\"Sam Smith\", 1)\n",
    "tom = Student(\"Tom Cruise\", 3)\n",
    "print(sam)\n",
    "print(tom)"
   ]
  },
  {
   "cell_type": "code",
   "execution_count": null,
   "id": "936805e4-0930-40dc-8304-87c814e77eb4",
   "metadata": {},
   "outputs": [],
   "source": [
    "sam.level_up()"
   ]
  },
  {
   "cell_type": "code",
   "execution_count": null,
   "id": "8cfbd458-247f-46b7-87ae-64ff8c496c4d",
   "metadata": {},
   "outputs": [
    {
     "name": "stdout",
     "output_type": "stream",
     "text": [
      "Sam Smith studies at level 2\n"
     ]
    }
   ],
   "source": [
    "print(sam)"
   ]
  },
  {
   "cell_type": "code",
   "execution_count": null,
   "id": "359bf2d2-5197-40ec-867e-4847d71500fc",
   "metadata": {},
   "outputs": [
    {
     "name": "stdout",
     "output_type": "stream",
     "text": [
      "Tom Cruise studies at level 3\n"
     ]
    }
   ],
   "source": [
    "print(tom)"
   ]
  }
 ],
 "metadata": {
  "language_info": {
   "codemirror_mode": {
    "name": "ipython",
    "version": 3
   },
   "file_extension": ".py",
   "mimetype": "text/x-python",
   "name": "python",
   "nbconvert_exporter": "python",
   "pygments_lexer": "ipython3",
   "version": 3
  }
 },
 "nbformat": 4,
 "nbformat_minor": 2
}
