{
 "cells": [
  {
   "cell_type": "code",
   "execution_count": 1,
   "id": "550593e9-6f81-4980-85fd-831c8cb0463c",
   "metadata": {},
   "outputs": [
    {
     "data": {
      "text/plain": [
       "['Bhaktapur', 'Kathmandu', 'Lalitpur', 'kathmandu', 'lalitpur']"
      ]
     },
     "execution_count": 1,
     "metadata": {},
     "output_type": "execute_result"
    }
   ],
   "source": [
    "cities_list=['kathmandu', 'lalitpur', 'Kathmandu', 'Lalitpur', 'Bhaktapur']\n",
    "cities_list.sort()\n",
    "cities_list"
   ]
  },
  {
   "cell_type": "code",
   "execution_count": 2,
   "id": "785587ea-6f51-4310-9524-ecada0f0912e",
   "metadata": {},
   "outputs": [
    {
     "data": {
      "text/plain": [
       "['Bhaktapur', 'Kathmandu', 'kathmandu', 'Lalitpur', 'lalitpur']"
      ]
     },
     "execution_count": 2,
     "metadata": {},
     "output_type": "execute_result"
    }
   ],
   "source": [
    "cities_list.sort(key=str.lower)\n",
    "cities_list"
   ]
  },
  {
   "cell_type": "code",
   "execution_count": 3,
   "id": "e8e58273-8821-458c-bf73-ae0e97019d97",
   "metadata": {},
   "outputs": [
    {
     "data": {
      "text/plain": [
       "['Bhaktapur', 'Kathmandu', 'kathmandu', 'Lalitpur', 'lalitpur']"
      ]
     },
     "execution_count": 3,
     "metadata": {},
     "output_type": "execute_result"
    }
   ],
   "source": [
    "list_1 = cities_list.copy()\n",
    "list_1"
   ]
  },
  {
   "cell_type": "code",
   "execution_count": 4,
   "id": "c81f98b2-06f6-441a-9421-e8d9cb47a546",
   "metadata": {},
   "outputs": [
    {
     "name": "stdout",
     "output_type": "stream",
     "text": [
      "[1, 2, 3]\n",
      "[1, 2, 3, 'hi', 'there', 1, 2, 3]\n"
     ]
    }
   ],
   "source": [
    "list_1=[1,2,3]\n",
    "list_2=[\"hi\",\"there\"]\n",
    "list_12=list_1+list_2+list_1\n",
    "print(list_1)\n",
    "print(list_12)"
   ]
  },
  {
   "cell_type": "code",
   "execution_count": 5,
   "id": "095e123a-9ae1-4206-b283-d6e6c7f4e5d5",
   "metadata": {},
   "outputs": [
    {
     "data": {
      "text/plain": [
       "[1, 2, 3, 'hi', 'there']"
      ]
     },
     "execution_count": 5,
     "metadata": {},
     "output_type": "execute_result"
    }
   ],
   "source": [
    "list_1.extend(list_2)\n",
    "list_1"
   ]
  },
  {
   "cell_type": "markdown",
   "id": "e2254ed0-9574-42e3-93ce-3a43d63ad72d",
   "metadata": {},
   "source": [
    "# Python Conditionals"
   ]
  },
  {
   "cell_type": "markdown",
   "id": "d96bc611-5817-4e83-b0c6-10bc513598a1",
   "metadata": {},
   "source": [
    "#### if else"
   ]
  },
  {
   "cell_type": "code",
   "execution_count": 8,
   "id": "fd3bade2-0059-4a28-88d4-76d9cba0b4da",
   "metadata": {},
   "outputs": [
    {
     "name": "stdout",
     "output_type": "stream",
     "text": [
      "x is greater than 5\n"
     ]
    }
   ],
   "source": [
    "x=7\n",
    "if x>5: # colon says that code is continued, semi colon says this code is done.\n",
    "     print(\"x is greater than 5\") #indent"
   ]
  },
  {
   "cell_type": "code",
   "execution_count": 9,
   "id": "4d24c760-f605-46a2-994b-4e3bd629e2b0",
   "metadata": {},
   "outputs": [
    {
     "name": "stdout",
     "output_type": "stream",
     "text": [
      "x is less than 5\n"
     ]
    }
   ],
   "source": [
    "x=2\n",
    "if x<5: # colon says that code is continued, semi colon says this code is done.\n",
    "     print(\"x is less than 5\") #indent\n",
    "else:\n",
    "    print(\"x is greater than 5\")"
   ]
  },
  {
   "cell_type": "code",
   "execution_count": 10,
   "id": "a9807975-68a0-4640-a1b5-d167f4ef7825",
   "metadata": {},
   "outputs": [
    {
     "name": "stdout",
     "output_type": "stream",
     "text": [
      "x is greater than 5\n"
     ]
    }
   ],
   "source": [
    "x=8\n",
    "if x<5: # colon says that code is continued, semi colon says this code is done.\n",
    "     print(\"x is less than 5\") #indent\n",
    "else:\n",
    "    print(\"x is greater than 5\")"
   ]
  },
  {
   "cell_type": "code",
   "execution_count": 11,
   "id": "8e64b915-3751-40fc-a918-ef502523a8be",
   "metadata": {},
   "outputs": [
    {
     "name": "stdout",
     "output_type": "stream",
     "text": [
      "x is greater than 1\n"
     ]
    }
   ],
   "source": [
    "# ladder statements => if\n",
    "x=2\n",
    "\n",
    "if x > 5:\n",
    "    print(\"x is greater than 5\")\n",
    "elif x>3:\n",
    "    print(\"x is greater than 3\")\n",
    "elif x>1:\n",
    "    print(\"x is greater than 1\")"
   ]
  },
  {
   "cell_type": "code",
   "execution_count": 12,
   "id": "c47247d0-84df-4f19-8b7e-99efa140a5d0",
   "metadata": {},
   "outputs": [
    {
     "name": "stdout",
     "output_type": "stream",
     "text": [
      "x is greater than 5\n"
     ]
    }
   ],
   "source": [
    "# ladder statements => if\n",
    "x=6\n",
    "\n",
    "if x > 5:\n",
    "    print(\"x is greater than 5\")\n",
    "elif x>3:\n",
    "    print(\"x is greater than 3\")\n",
    "elif x>1:\n",
    "    print(\"x is greater than 1\")"
   ]
  },
  {
   "cell_type": "code",
   "execution_count": 13,
   "id": "a104d59f-dfac-496d-9839-63e5e8f93026",
   "metadata": {},
   "outputs": [
    {
     "name": "stdout",
     "output_type": "stream",
     "text": [
      "x is less than or equal to 1\n"
     ]
    }
   ],
   "source": [
    "# default or else\n",
    "x=1\n",
    "\n",
    "if x > 5:\n",
    "    print(\"x is greater than 5\")\n",
    "elif x>3:\n",
    "    print(\"x is greater than 3\")\n",
    "elif x>1:\n",
    "    print(\"x is greater than 1\")\n",
    "else:\n",
    "    print(\"x is less than or equal to 1\")"
   ]
  },
  {
   "cell_type": "code",
   "execution_count": 14,
   "id": "27eb9dca-5a03-49da-a6da-a408e223efd0",
   "metadata": {},
   "outputs": [
    {
     "name": "stdout",
     "output_type": "stream",
     "text": [
      "x is equal to 2\n"
     ]
    }
   ],
   "source": [
    "x = 2\n",
    "print(\"x is equal to 2\") if x == 2 else print(\"x is not equal to 2\")"
   ]
  },
  {
   "cell_type": "code",
   "execution_count": 20,
   "id": "d3fa5dd7-ae20-4878-ba88-b6cc1efbe0a9",
   "metadata": {},
   "outputs": [
    {
     "name": "stdout",
     "output_type": "stream",
     "text": [
      "x is greater than 10\n",
      "and x is greater than 30\n"
     ]
    }
   ],
   "source": [
    "x = 35\n",
    "if x > 10:\n",
    "    print(\"x is greater than 10\")\n",
    "    if x < 30:\n",
    "              print(\"but x is less than 30\")\n",
    "    else:\n",
    "        print(\"and x is greater than 30\")"
   ]
  },
  {
   "cell_type": "code",
   "execution_count": 21,
   "id": "282525ec-1067-4257-bcff-9ddfeb140adb",
   "metadata": {},
   "outputs": [
    {
     "name": "stdout",
     "output_type": "stream",
     "text": [
      "Get citizenship\n"
     ]
    }
   ],
   "source": [
    "age = 18\n",
    "if age > 18:\n",
    "    print(\"Vote\")\n",
    "elif age < 18:\n",
    "    print(\"Can't vote\")\n",
    "else:\n",
    "    print(\"Get citizenship\")"
   ]
  },
  {
   "cell_type": "code",
   "execution_count": 23,
   "id": "66bafc58-2ebf-4c3b-9aa0-e63da790382e",
   "metadata": {},
   "outputs": [
    {
     "name": "stdin",
     "output_type": "stream",
     "text": [
      "Enter your age 18\n"
     ]
    },
    {
     "ename": "TypeError",
     "evalue": "'>' not supported between instances of 'str' and 'int'",
     "output_type": "error",
     "traceback": [
      "\u001b[1;31m---------------------------------------------------------------------------\u001b[0m",
      "\u001b[1;31mTypeError\u001b[0m                                 Traceback (most recent call last)",
      "Cell \u001b[1;32mIn[23], line 7\u001b[0m\n\u001b[0;32m      4\u001b[0m \u001b[38;5;28;01mexcept\u001b[39;00m \u001b[38;5;167;01mValueError\u001b[39;00m:\n\u001b[0;32m      5\u001b[0m     \u001b[38;5;28mprint\u001b[39m(\u001b[38;5;124m\"\u001b[39m\u001b[38;5;124mThis is not an number. Please enter a valid number.\u001b[39m\u001b[38;5;124m\"\u001b[39m)\n\u001b[1;32m----> 7\u001b[0m \u001b[38;5;28;01mif\u001b[39;00m \u001b[43mage\u001b[49m\u001b[43m \u001b[49m\u001b[38;5;241;43m>\u001b[39;49m\u001b[43m \u001b[49m\u001b[38;5;241;43m18\u001b[39;49m:\n\u001b[0;32m      8\u001b[0m     \u001b[38;5;28mprint\u001b[39m(\u001b[38;5;124m\"\u001b[39m\u001b[38;5;124mVote\u001b[39m\u001b[38;5;124m\"\u001b[39m)\n\u001b[0;32m      9\u001b[0m \u001b[38;5;28;01melif\u001b[39;00m age \u001b[38;5;241m<\u001b[39m \u001b[38;5;241m18\u001b[39m:\n",
      "\u001b[1;31mTypeError\u001b[0m: '>' not supported between instances of 'str' and 'int'"
     ]
    }
   ],
   "source": [
    "age = input(\"Enter your age\")\n",
    "try:\n",
    "    number = int(age)\n",
    "except ValueError:\n",
    "    print(\"This is not an number. Please enter a valid number.\")\n",
    "\n",
    "if age > 18:\n",
    "    print(\"Vote\")\n",
    "elif age < 18:\n",
    "    print(\"Can't vote\")\n",
    "else:\n",
    "    print(\"Get citizenship\")"
   ]
  },
  {
   "cell_type": "code",
   "execution_count": 24,
   "id": "8d8ce169-7999-4f73-84f8-e4a3064ac7b9",
   "metadata": {},
   "outputs": [
    {
     "name": "stdin",
     "output_type": "stream",
     "text": [
      "Enter your age 18\n"
     ]
    },
    {
     "name": "stdout",
     "output_type": "stream",
     "text": [
      "Get citizenship\n"
     ]
    }
   ],
   "source": [
    "age = int(input(\"Enter your age\"))\n",
    "try:\n",
    "    number = int(age)\n",
    "except ValueError:\n",
    "    print(\"This is not an number. Please enter a valid number.\")\n",
    "\n",
    "if age > 18:\n",
    "    print(\"Vote\")\n",
    "elif age < 18:\n",
    "    print(\"Can't vote\")\n",
    "else:\n",
    "    print(\"Get citizenship\")"
   ]
  },
  {
   "cell_type": "code",
   "execution_count": 26,
   "id": "f4321bc0-5111-4fc4-a5fb-6bc53d19640d",
   "metadata": {},
   "outputs": [
    {
     "name": "stdin",
     "output_type": "stream",
     "text": [
      "Enter your age sasa\n"
     ]
    },
    {
     "ename": "ValueError",
     "evalue": "invalid literal for int() with base 10: 'sasa'",
     "output_type": "error",
     "traceback": [
      "\u001b[1;31m---------------------------------------------------------------------------\u001b[0m",
      "\u001b[1;31mValueError\u001b[0m                                Traceback (most recent call last)",
      "Cell \u001b[1;32mIn[26], line 1\u001b[0m\n\u001b[1;32m----> 1\u001b[0m age \u001b[38;5;241m=\u001b[39m \u001b[38;5;28;43mint\u001b[39;49m\u001b[43m(\u001b[49m\u001b[38;5;28;43minput\u001b[39;49m\u001b[43m(\u001b[49m\u001b[38;5;124;43m\"\u001b[39;49m\u001b[38;5;124;43mEnter your age\u001b[39;49m\u001b[38;5;124;43m\"\u001b[39;49m\u001b[43m)\u001b[49m\u001b[43m)\u001b[49m \u001b[38;5;66;03m#input is by default string\u001b[39;00m\n\u001b[0;32m      2\u001b[0m \u001b[38;5;28;01mtry\u001b[39;00m:\n\u001b[0;32m      3\u001b[0m     number \u001b[38;5;241m=\u001b[39m \u001b[38;5;28mint\u001b[39m(age)\n",
      "\u001b[1;31mValueError\u001b[0m: invalid literal for int() with base 10: 'sasa'"
     ]
    }
   ],
   "source": [
    "age = int(input(\"Enter your age\")) #input is by default string\n",
    "try:\n",
    "    number = int(age)\n",
    "except ValueError:\n",
    "    print(\"This is not an number. Please enter a valid number.\")\n",
    "\n",
    "if age > 18:\n",
    "    print(\"Vote\")\n",
    "elif age < 18:\n",
    "    print(\"Can't vote\")\n",
    "else:\n",
    "    print(\"Get citizenship\")"
   ]
  },
  {
   "cell_type": "code",
   "execution_count": 28,
   "id": "3d1ea4ab-7508-4c86-a05d-00893fbcb5c2",
   "metadata": {},
   "outputs": [
    {
     "name": "stdout",
     "output_type": "stream",
     "text": [
      "0\n",
      "1\n",
      "2\n",
      "3\n",
      "4\n"
     ]
    }
   ],
   "source": [
    "x=0\n",
    "while x < 5:\n",
    "    print(x)\n",
    "    x += 1"
   ]
  },
  {
   "cell_type": "code",
   "execution_count": 29,
   "id": "57d533f0-959a-4b5e-9551-db2b84fb2a26",
   "metadata": {},
   "outputs": [
    {
     "name": "stdout",
     "output_type": "stream",
     "text": [
      "0\n",
      "2\n",
      "4\n"
     ]
    }
   ],
   "source": [
    "x = 0\n",
    "while x < 5: \n",
    "    print(x)\n",
    "    x += 2\n",
    "    if x == 3:\n",
    "        break"
   ]
  },
  {
   "cell_type": "code",
   "execution_count": 30,
   "id": "16da0f00-6ac6-494c-bc5c-7c4aedcdd5ae",
   "metadata": {},
   "outputs": [
    {
     "name": "stdout",
     "output_type": "stream",
     "text": [
      "0\n",
      "1\n"
     ]
    }
   ],
   "source": [
    "x = 0\n",
    "while x < 5: \n",
    "    print(x)\n",
    "    x += 1\n",
    "    if x == 2:\n",
    "        break"
   ]
  },
  {
   "cell_type": "code",
   "execution_count": 32,
   "id": "f15ceba4-851a-42b5-b07c-e94f3b0ec3f0",
   "metadata": {},
   "outputs": [
    {
     "name": "stdout",
     "output_type": "stream",
     "text": [
      "0\n",
      "1\n",
      "2\n",
      "3\n",
      "4\n",
      "5\n"
     ]
    }
   ],
   "source": [
    "x = 0\n",
    "while x <= 5: \n",
    "    print(x)\n",
    "    x += 1\n",
    "    if x == 5:\n",
    "        continue\n",
    "        x += 5"
   ]
  },
  {
   "cell_type": "code",
   "execution_count": 33,
   "id": "f703a51d-c815-45d3-9585-37b7bc0b2b38",
   "metadata": {},
   "outputs": [
    {
     "name": "stdout",
     "output_type": "stream",
     "text": [
      "0\n",
      "1\n",
      "2\n",
      "3\n",
      "4\n",
      "5\n"
     ]
    }
   ],
   "source": [
    "x = 0\n",
    "while x <= 5: \n",
    "    print(x)\n",
    "    x += 1\n",
    "    if x == 6:\n",
    "        continue\n",
    "        x += 5"
   ]
  },
  {
   "cell_type": "code",
   "execution_count": 34,
   "id": "6be288b3-ed85-4fdf-ac35-335f4f85dcd4",
   "metadata": {
    "scrolled": true
   },
   "outputs": [
    {
     "name": "stdout",
     "output_type": "stream",
     "text": [
      "0\n",
      "1\n",
      "2\n",
      "3\n",
      "4\n",
      "5\n",
      "6\n",
      "7\n",
      "8\n",
      "9\n"
     ]
    }
   ],
   "source": [
    "x = 0\n",
    "while x < 10: \n",
    "    print(x)\n",
    "    x += 1\n",
    "    if x == 6:\n",
    "        continue"
   ]
  },
  {
   "cell_type": "code",
   "execution_count": 37,
   "id": "eeebc049-9a72-4a8f-a631-187175326139",
   "metadata": {},
   "outputs": [
    {
     "name": "stdout",
     "output_type": "stream",
     "text": [
      "1\n",
      "2\n",
      "3\n",
      "4\n",
      "5\n",
      "7\n",
      "8\n",
      "9\n",
      "10\n"
     ]
    }
   ],
   "source": [
    "x = 0\n",
    "while x < 10: \n",
    "    x += 1\n",
    "    if x == 6:\n",
    "        continue\n",
    "    print(x)"
   ]
  },
  {
   "cell_type": "code",
   "execution_count": null,
   "id": "fe9c2183-71cc-4c1a-bfd3-15cec4905aea",
   "metadata": {},
   "outputs": [],
   "source": []
  }
 ],
 "metadata": {
  "kernelspec": {
   "display_name": "Python 3 (ipykernel)",
   "language": "python",
   "name": "python3"
  },
  "language_info": {
   "codemirror_mode": {
    "name": "ipython",
    "version": 3
   },
   "file_extension": ".py",
   "mimetype": "text/x-python",
   "name": "python",
   "nbconvert_exporter": "python",
   "pygments_lexer": "ipython3",
   "version": "3.12.5"
  }
 },
 "nbformat": 4,
 "nbformat_minor": 5
}
