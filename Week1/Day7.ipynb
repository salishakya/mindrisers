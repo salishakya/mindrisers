{
 "cells": [
  {
   "cell_type": "code",
   "execution_count": null,
   "id": "4bf50a3f-c1aa-4ed0-8913-e03d34f72fbc",
   "metadata": {},
   "outputs": [],
   "source": [
    "import Fibo"
   ]
  },
  {
   "cell_type": "code",
   "execution_count": null,
   "id": "da622b8f-ff15-46d1-9d92-17ebc40f5d15",
   "metadata": {},
   "outputs": [
    {
     "ename": "SyntaxError",
     "evalue": "invalid syntax (<ipython-input-2-583ad99acdd2>, line 1)",
     "output_type": "error",
     "traceback": [
      "\u001b[1;36m  Cell \u001b[1;32mIn[2], line 1\u001b[1;36m\u001b[0m\n\u001b[1;33m    retun a-b\u001b[0m\n\u001b[1;37m          ^\u001b[0m\n\u001b[1;31mSyntaxError\u001b[0m\u001b[1;31m:\u001b[0m invalid syntax\n"
     ]
    }
   ],
   "source": [
    "retun a-b"
   ]
  },
  {
   "cell_type": "code",
   "execution_count": null,
   "id": "6431644d-c78c-462f-af2a-6d3b3af2f947",
   "metadata": {},
   "outputs": [
    {
     "name": "stdout",
     "output_type": "stream",
     "text": [
      "0\n",
      "1\n",
      "1\n",
      "2\n",
      "3\n",
      "5\n",
      "8\n",
      "13\n",
      "21\n",
      "34\n",
      "55\n",
      "89\n"
     ]
    }
   ],
   "source": [
    "Fibo.fib(100)"
   ]
  },
  {
   "cell_type": "code",
   "execution_count": null,
   "id": "1905061d-e63e-4c4f-88d7-c19087935a5f",
   "metadata": {},
   "outputs": [],
   "source": [
    "import num"
   ]
  },
  {
   "cell_type": "code",
   "execution_count": null,
   "id": "e3ba35da-2573-455c-b47b-17bc09cc8d9b",
   "metadata": {},
   "outputs": [
    {
     "data": {
      "text/plain": [
       "99"
      ]
     },
     "execution_count": 6,
     "metadata": {},
     "output_type": "execute_result"
    }
   ],
   "source": [
    "num.sub(100,1)"
   ]
  },
  {
   "cell_type": "code",
   "execution_count": null,
   "id": "938fa5e7-4cc8-46b2-be70-a62af1c7af74",
   "metadata": {},
   "outputs": [
    {
     "data": {
      "text/plain": [
       "101"
      ]
     },
     "execution_count": 7,
     "metadata": {},
     "output_type": "execute_result"
    }
   ],
   "source": [
    "num.sum(100,1)"
   ]
  },
  {
   "cell_type": "code",
   "execution_count": null,
   "id": "691e61e0-9bea-4b2a-ba75-9df368db8b21",
   "metadata": {},
   "outputs": [],
   "source": [
    "from Fibo import fib"
   ]
  },
  {
   "cell_type": "code",
   "execution_count": null,
   "id": "1f833b35-0428-4e35-8704-c19b02312437",
   "metadata": {},
   "outputs": [
    {
     "name": "stdout",
     "output_type": "stream",
     "text": [
      "0\n",
      "1\n",
      "1\n",
      "2\n",
      "3\n",
      "5\n",
      "8\n",
      "13\n",
      "21\n",
      "34\n",
      "55\n",
      "89\n"
     ]
    }
   ],
   "source": [
    "Fibo.fib(100)"
   ]
  },
  {
   "cell_type": "code",
   "execution_count": null,
   "id": "24de86b2-a370-44c7-a70f-66971e7d072b",
   "metadata": {},
   "outputs": [
    {
     "ename": "AttributeError",
     "evalue": "'function' object has no attribute 'fib'",
     "output_type": "error",
     "traceback": [
      "\u001b[1;31m---------------------------------------------------------------------------\u001b[0m",
      "\u001b[1;31mAttributeError\u001b[0m                            Traceback (most recent call last)",
      "File \u001b[1;32mc:\\Users\\salis\\Desktop\\python\\Day7.py:1\u001b[0m\n\u001b[1;32m----> 1\u001b[0m fib\u001b[39m.\u001b[39;49mfib(\u001b[39m100\u001b[39m)\n",
      "\u001b[1;31mAttributeError\u001b[0m: 'function' object has no attribute 'fib'"
     ]
    }
   ],
   "source": [
    "fib.fib(100)"
   ]
  },
  {
   "cell_type": "code",
   "execution_count": null,
   "id": "94f81506-ac30-4f1a-b5c1-84a67ba56d9e",
   "metadata": {},
   "outputs": [],
   "source": [
    "import Fibo as fib"
   ]
  },
  {
   "cell_type": "code",
   "execution_count": null,
   "id": "1673becf-34e7-4fed-9ad1-2eed3c6b99a3",
   "metadata": {},
   "outputs": [
    {
     "name": "stdout",
     "output_type": "stream",
     "text": [
      "0\n",
      "1\n",
      "1\n",
      "2\n",
      "3\n",
      "5\n",
      "8\n",
      "13\n",
      "21\n",
      "34\n",
      "55\n",
      "89\n"
     ]
    }
   ],
   "source": [
    "fib.fib(100)"
   ]
  },
  {
   "cell_type": "code",
   "execution_count": null,
   "id": "00236faf-8659-4f12-898a-9ed21e6bf192",
   "metadata": {},
   "outputs": [],
   "source": [
    "#module directory bhitra gayera khojcha"
   ]
  },
  {
   "cell_type": "code",
   "execution_count": null,
   "id": "9a4f9656-7cfb-4203-82b0-0e2210bd36c5",
   "metadata": {},
   "outputs": [
    {
     "data": {
      "text/plain": [
       "['__builtins__',\n",
       " '__cached__',\n",
       " '__doc__',\n",
       " '__file__',\n",
       " '__loader__',\n",
       " '__name__',\n",
       " '__package__',\n",
       " '__spec__',\n",
       " 'fib',\n",
       " 'fib2']"
      ]
     },
     "execution_count": 14,
     "metadata": {},
     "output_type": "execute_result"
    }
   ],
   "source": [
    "dir(fib)"
   ]
  },
  {
   "cell_type": "code",
   "execution_count": null,
   "id": "98ca4d8a-3221-4b7c-a486-448e04223cfe",
   "metadata": {},
   "outputs": [],
   "source": [
    "#dir le yo file bhitra k k cha vanera"
   ]
  },
  {
   "cell_type": "code",
   "execution_count": null,
   "id": "b39cb7a7-82fc-43ab-8547-bcf17523fe32",
   "metadata": {},
   "outputs": [],
   "source": [
    "#first library that we use is numpy"
   ]
  },
  {
   "cell_type": "code",
   "execution_count": null,
   "id": "623c6515-2761-4f01-bbf0-7c1d3623aa93",
   "metadata": {},
   "outputs": [],
   "source": [
    "#numpy for numericals, pandas for visualization, matplot, seaborn for graph"
   ]
  },
  {
   "cell_type": "code",
   "execution_count": null,
   "id": "a741c035-f0f5-4934-900a-317ca796f04c",
   "metadata": {},
   "outputs": [],
   "source": [
    "#install numpy, pandas, matplotlib using pip install"
   ]
  },
  {
   "cell_type": "code",
   "execution_count": null,
   "id": "741be02e-b578-4aa9-b8be-76ef0d4f5b97",
   "metadata": {},
   "outputs": [],
   "source": [
    "#numpy alias is np"
   ]
  },
  {
   "cell_type": "code",
   "execution_count": null,
   "id": "593194aa-b7c7-4f66-b64a-4753c85d29bc",
   "metadata": {},
   "outputs": [],
   "source": [
    "import numpy as np"
   ]
  },
  {
   "cell_type": "code",
   "execution_count": null,
   "id": "0b0aff1e-1e3d-4eec-8aed-56c1328b7a3f",
   "metadata": {},
   "outputs": [
    {
     "data": {
      "text/plain": [
       "'2.1.0'"
      ]
     },
     "execution_count": 22,
     "metadata": {},
     "output_type": "execute_result"
    }
   ],
   "source": [
    "np.__version__"
   ]
  },
  {
   "cell_type": "code",
   "execution_count": null,
   "id": "44d176a9-12ce-4afc-9575-a4cbc5c359ff",
   "metadata": {},
   "outputs": [],
   "source": [
    "# numpy is np, pandas is pd, matplot is plt"
   ]
  },
  {
   "cell_type": "code",
   "execution_count": null,
   "id": "b0a202e8-c3b2-4df4-a3c0-256ff83c9144",
   "metadata": {},
   "outputs": [],
   "source": [
    "# numpy arrays are list but are more efficient storage and operations on data than python lists"
   ]
  },
  {
   "cell_type": "code",
   "execution_count": null,
   "id": "7225fcda-d81e-4848-9c30-3cc6849c1c1a",
   "metadata": {},
   "outputs": [],
   "source": [
    "my_arr = np.array([2,4,8,16])"
   ]
  },
  {
   "cell_type": "code",
   "execution_count": null,
   "id": "74b6b94d-2c19-40a4-8482-68613bcb00f7",
   "metadata": {},
   "outputs": [],
   "source": [
    "# numpy ko input sabai array mei kaam garcha not in list"
   ]
  },
  {
   "cell_type": "code",
   "execution_count": null,
   "id": "94d85a84-b970-477e-b5ad-f7226d63fe4f",
   "metadata": {},
   "outputs": [
    {
     "data": {
      "text/plain": [
       "array([ 2,  4,  8, 16])"
      ]
     },
     "execution_count": 28,
     "metadata": {},
     "output_type": "execute_result"
    }
   ],
   "source": [
    "my_arr"
   ]
  },
  {
   "cell_type": "code",
   "execution_count": null,
   "id": "fe83495a-b280-4a3d-bda5-ca1faa8ffbc7",
   "metadata": {},
   "outputs": [
    {
     "data": {
      "text/plain": [
       "numpy.ndarray"
      ]
     },
     "execution_count": 29,
     "metadata": {},
     "output_type": "execute_result"
    }
   ],
   "source": [
    "type(my_arr)"
   ]
  },
  {
   "cell_type": "code",
   "execution_count": null,
   "id": "0dca8559-89d0-4f9d-a768-fbf87ff79ea2",
   "metadata": {},
   "outputs": [
    {
     "data": {
      "text/plain": [
       "array([1. , 2.4, 3. , 4. , 5. ])"
      ]
     },
     "execution_count": 30,
     "metadata": {},
     "output_type": "execute_result"
    }
   ],
   "source": [
    "np.array([1, 2.4, 3, 4, 5])"
   ]
  },
  {
   "cell_type": "code",
   "execution_count": null,
   "id": "66f97d16-32ce-4421-9af2-75f11903f2c8",
   "metadata": {},
   "outputs": [],
   "source": [
    "# everything on float, only takes one data type and changes type forcefully to the more storage one"
   ]
  },
  {
   "cell_type": "code",
   "execution_count": null,
   "id": "6cdc7ca3-e047-4663-aea3-c6ed38b79281",
   "metadata": {},
   "outputs": [
    {
     "data": {
      "text/plain": [
       "array(['string', '1', '2.0'], dtype='<U32')"
      ]
     },
     "execution_count": 32,
     "metadata": {},
     "output_type": "execute_result"
    }
   ],
   "source": [
    "np.array(['string', 1, 2.0])"
   ]
  },
  {
   "cell_type": "code",
   "execution_count": null,
   "id": "07626947-f422-4890-99ca-eccda3ddd72e",
   "metadata": {},
   "outputs": [],
   "source": [
    "# dtype='<U32' string type is universal 32 bit"
   ]
  },
  {
   "cell_type": "code",
   "execution_count": null,
   "id": "591b85a5-74f1-46df-b22e-e8fdc5b0e0ee",
   "metadata": {},
   "outputs": [
    {
     "data": {
      "text/plain": [
       "array([1, 2, 3, 3], dtype=int16)"
      ]
     },
     "execution_count": 35,
     "metadata": {},
     "output_type": "execute_result"
    }
   ],
   "source": [
    "np.array([1, 2, 3, 3.5], dtype=\"int16\")"
   ]
  },
  {
   "cell_type": "code",
   "execution_count": null,
   "id": "2e45ee96-6c86-497e-9ddf-62d88e7929ea",
   "metadata": {},
   "outputs": [],
   "source": [
    "#forcefully int ma lageko with dtype"
   ]
  },
  {
   "cell_type": "code",
   "execution_count": null,
   "id": "ba977717-bd9f-4903-b5de-498191c03d54",
   "metadata": {},
   "outputs": [],
   "source": [
    "#multi-dimensional array"
   ]
  },
  {
   "cell_type": "code",
   "execution_count": null,
   "id": "de34e910-451d-4829-9499-c5265ce27421",
   "metadata": {},
   "outputs": [
    {
     "data": {
      "text/plain": [
       "array([[1, 2, 3],\n",
       "       [4, 5, 6],\n",
       "       [7, 8, 9]])"
      ]
     },
     "execution_count": 39,
     "metadata": {},
     "output_type": "execute_result"
    }
   ],
   "source": [
    "np.array(\n",
    "    [\n",
    "        # 3 by 3 array\n",
    "        [1, 2, 3],\n",
    "        [4, 5, 6],\n",
    "        [7, 8, 9],\n",
    "    ]\n",
    ")"
   ]
  },
  {
   "cell_type": "code",
   "execution_count": null,
   "id": "c580e6fe-f7f1-400e-b740-26c3bf0de795",
   "metadata": {},
   "outputs": [
    {
     "data": {
      "text/plain": [
       "array([0, 0, 0, 0, 0])"
      ]
     },
     "execution_count": 40,
     "metadata": {},
     "output_type": "execute_result"
    }
   ],
   "source": [
    "np.zeros(5, dtype='int')"
   ]
  },
  {
   "cell_type": "code",
   "execution_count": null,
   "id": "1cccf601-3466-4cfe-93e5-8927c7902806",
   "metadata": {},
   "outputs": [
    {
     "data": {
      "text/plain": [
       "array([[[1., 1.],\n",
       "        [1., 1.],\n",
       "        [1., 1.],\n",
       "        [1., 1.],\n",
       "        [1., 1.]],\n",
       "\n",
       "       [[1., 1.],\n",
       "        [1., 1.],\n",
       "        [1., 1.],\n",
       "        [1., 1.],\n",
       "        [1., 1.]],\n",
       "\n",
       "       [[1., 1.],\n",
       "        [1., 1.],\n",
       "        [1., 1.],\n",
       "        [1., 1.],\n",
       "        [1., 1.]]])"
      ]
     },
     "execution_count": 42,
     "metadata": {},
     "output_type": "execute_result"
    }
   ],
   "source": [
    "#here x,y,z huncha\n",
    "np.ones((3, 5, 2), dtype=float)"
   ]
  },
  {
   "cell_type": "code",
   "execution_count": null,
   "id": "4c58b910-cea8-4fad-82f9-87e285f74cc7",
   "metadata": {},
   "outputs": [
    {
     "data": {
      "text/plain": [
       "array([ 1,  4,  7, 10, 13, 16, 19, 22, 25, 28])"
      ]
     },
     "execution_count": 43,
     "metadata": {},
     "output_type": "execute_result"
    }
   ],
   "source": [
    "np.arange(1, 31, 3)"
   ]
  },
  {
   "cell_type": "code",
   "execution_count": null,
   "id": "b5b8837d-0169-4335-902f-45a21f6fc8d9",
   "metadata": {},
   "outputs": [],
   "source": [
    "#python ko range, numpy ko arange"
   ]
  },
  {
   "cell_type": "code",
   "execution_count": null,
   "id": "076f9cbc-e953-44e6-ae6f-a71aca1c491a",
   "metadata": {},
   "outputs": [
    {
     "data": {
      "text/plain": [
       "array([0.  , 0.25, 0.5 , 0.75, 1.  ])"
      ]
     },
     "execution_count": 46,
     "metadata": {},
     "output_type": "execute_result"
    }
   ],
   "source": [
    "np.linspace(0, 1, 5)"
   ]
  },
  {
   "cell_type": "code",
   "execution_count": null,
   "id": "b6d024fa-3705-4a1c-a3af-139f4da25502",
   "metadata": {},
   "outputs": [],
   "source": [
    "# linear spacing"
   ]
  },
  {
   "cell_type": "code",
   "execution_count": null,
   "id": "b4c0234f-e8e6-4e33-bf14-712d4972f6ca",
   "metadata": {},
   "outputs": [],
   "source": [
    "# numpy standard data types check in notes"
   ]
  }
 ],
 "metadata": {
  "language_info": {
   "codemirror_mode": {
    "name": "ipython",
    "version": 3
   },
   "file_extension": ".py",
   "mimetype": "text/x-python",
   "name": "python",
   "nbconvert_exporter": "python",
   "pygments_lexer": "ipython3",
   "version": 3
  }
 },
 "nbformat": 4,
 "nbformat_minor": 2
}
