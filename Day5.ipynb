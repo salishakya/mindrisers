{
 "cells": [
  {
   "cell_type": "code",
   "execution_count": null,
   "id": "ae1be2c5-90d0-4441-8d92-89e54d9f47c2",
   "metadata": {},
   "outputs": [
    {
     "name": "stdout",
     "output_type": "stream",
     "text": [
      "red chair\n",
      "red table\n",
      "red house\n",
      "blue chair\n",
      "blue table\n",
      "blue house\n",
      "green chair\n",
      "green table\n",
      "green house\n"
     ]
    }
   ],
   "source": [
    "colors = [\"red\", \"blue\", \"green\"]\n",
    "objects = [\"chair\", \"table\", \"house\"]\n",
    "\n",
    "for i in colors:\n",
    "    for j in objects:\n",
    "        print(i, j)"
   ]
  },
  {
   "cell_type": "code",
   "execution_count": null,
   "id": "9b4a7d05-f849-49e9-9a77-19df7e3e76e5",
   "metadata": {},
   "outputs": [
    {
     "name": "stdout",
     "output_type": "stream",
     "text": [
      "1 x 1 = 1\n",
      "1 x 2 = 2\n",
      "1 x 3 = 3\n",
      "1 x 4 = 4\n",
      "1 x 5 = 5\n",
      "1 x 6 = 6\n",
      "1 x 7 = 7\n",
      "1 x 8 = 8\n",
      "1 x 9 = 9\n",
      "1 x 10 = 10\n",
      "2 x 1 = 2\n",
      "2 x 2 = 4\n",
      "2 x 3 = 6\n",
      "2 x 4 = 8\n",
      "2 x 5 = 10\n",
      "2 x 6 = 12\n",
      "2 x 7 = 14\n",
      "2 x 8 = 16\n",
      "2 x 9 = 18\n",
      "2 x 10 = 20\n",
      "3 x 1 = 3\n",
      "3 x 2 = 6\n",
      "3 x 3 = 9\n",
      "3 x 4 = 12\n",
      "3 x 5 = 15\n",
      "3 x 6 = 18\n",
      "3 x 7 = 21\n",
      "3 x 8 = 24\n",
      "3 x 9 = 27\n",
      "3 x 10 = 30\n",
      "4 x 1 = 4\n",
      "4 x 2 = 8\n",
      "4 x 3 = 12\n",
      "4 x 4 = 16\n",
      "4 x 5 = 20\n",
      "4 x 6 = 24\n",
      "4 x 7 = 28\n",
      "4 x 8 = 32\n",
      "4 x 9 = 36\n",
      "4 x 10 = 40\n",
      "5 x 1 = 5\n",
      "5 x 2 = 10\n",
      "5 x 3 = 15\n",
      "5 x 4 = 20\n",
      "5 x 5 = 25\n",
      "5 x 6 = 30\n",
      "5 x 7 = 35\n",
      "5 x 8 = 40\n",
      "5 x 9 = 45\n",
      "5 x 10 = 50\n"
     ]
    }
   ],
   "source": [
    "# multiplication from 1 to 5\n",
    "for i in range(1, 6):  # 6 is excluded here\n",
    "    for j in range(1, 11):  # 11 is excluded here\n",
    "        print(i, \"x\", j, \"=\", i * j)"
   ]
  },
  {
   "cell_type": "code",
   "execution_count": null,
   "id": "d1f72f36-5093-40da-b8eb-5bd2761a278c",
   "metadata": {},
   "outputs": [
    {
     "data": {
      "text/plain": [
       "7"
      ]
     },
     "execution_count": 30,
     "metadata": {},
     "output_type": "execute_result"
    }
   ],
   "source": [
    "# python functions\n",
    "\n",
    "# function definition\n",
    "\n",
    "\n",
    "def add(x, y):  # add is function name, x and y are parameters\n",
    "    return x + y  # returns the sum of x and y\n",
    "\n",
    "\n",
    "# calling the function\n",
    "add(2, 5)  # 2 and 3 are inputs / arguments"
   ]
  },
  {
   "cell_type": "code",
   "execution_count": null,
   "id": "d02be010-b1f2-431b-870d-1ac37a0d8fde",
   "metadata": {},
   "outputs": [
    {
     "ename": "TypeError",
     "evalue": "add() takes 2 positional arguments but 3 were given",
     "output_type": "error",
     "traceback": [
      "\u001b[1;31m---------------------------------------------------------------------------\u001b[0m",
      "\u001b[1;31mTypeError\u001b[0m                                 Traceback (most recent call last)",
      "File \u001b[1;32mc:\\Users\\salis\\Desktop\\python\\Day5.py:1\u001b[0m\n\u001b[1;32m----> 1\u001b[0m add(\u001b[39m2\u001b[39;49m, \u001b[39m5\u001b[39;49m, \u001b[39m3\u001b[39;49m)\n",
      "\u001b[1;31mTypeError\u001b[0m: add() takes 2 positional arguments but 3 were given"
     ]
    }
   ],
   "source": [
    "add(2, 5, 3)"
   ]
  },
  {
   "cell_type": "code",
   "execution_count": null,
   "id": "7d2d86e4-9390-49af-9bcd-25ae31ffc1a0",
   "metadata": {},
   "outputs": [
    {
     "ename": "TypeError",
     "evalue": "add() missing 1 required positional argument: 'y'",
     "output_type": "error",
     "traceback": [
      "\u001b[1;31m---------------------------------------------------------------------------\u001b[0m",
      "\u001b[1;31mTypeError\u001b[0m                                 Traceback (most recent call last)",
      "File \u001b[1;32mc:\\Users\\salis\\Desktop\\python\\Day5.py:1\u001b[0m\n\u001b[1;32m----> 1\u001b[0m add(\u001b[39m2\u001b[39;49m)\n",
      "\u001b[1;31mTypeError\u001b[0m: add() missing 1 required positional argument: 'y'"
     ]
    }
   ],
   "source": [
    "add(2)"
   ]
  },
  {
   "cell_type": "code",
   "execution_count": null,
   "id": "801724d7-17d9-4a8c-a343-bb459f5c79fc",
   "metadata": {},
   "outputs": [
    {
     "data": {
      "text/plain": [
       "2"
      ]
     },
     "execution_count": 33,
     "metadata": {},
     "output_type": "execute_result"
    }
   ],
   "source": [
    "def multiplication(x, y):\n",
    "    return x * y\n",
    "\n",
    "\n",
    "multiplication(1, 2)"
   ]
  },
  {
   "cell_type": "code",
   "execution_count": null,
   "id": "81a79002-5ad9-4177-ab4d-2198a1bb2698",
   "metadata": {},
   "outputs": [
    {
     "data": {
      "text/plain": [
       "10"
      ]
     },
     "execution_count": 34,
     "metadata": {},
     "output_type": "execute_result"
    }
   ],
   "source": [
    "# arbitraty arguments - we don't define how many arguments we have, it will figure out yourself\n",
    "def add(*nums):\n",
    "    sum = 0\n",
    "    for i in nums:\n",
    "        sum += i\n",
    "    return sum\n",
    "\n",
    "\n",
    "add(1, 2, 3, 4)"
   ]
  },
  {
   "cell_type": "code",
   "execution_count": null,
   "id": "cb192698-435c-4dbe-84be-193f555f35ed",
   "metadata": {},
   "outputs": [
    {
     "data": {
      "text/plain": [
       "12"
      ]
     },
     "execution_count": 35,
     "metadata": {},
     "output_type": "execute_result"
    }
   ],
   "source": [
    "# default parameter values\n",
    "def mul(x, y=3):\n",
    "    return x * y\n",
    "\n",
    "\n",
    "mul(4)"
   ]
  },
  {
   "cell_type": "code",
   "execution_count": null,
   "id": "0e01330b-cceb-42bc-8ad0-c5d8c7084620",
   "metadata": {},
   "outputs": [
    {
     "data": {
      "text/plain": [
       "16"
      ]
     },
     "execution_count": 36,
     "metadata": {},
     "output_type": "execute_result"
    }
   ],
   "source": [
    "# argument ko priority badi huncha define gareko thau vanda\n",
    "mul(4, 4)"
   ]
  },
  {
   "cell_type": "code",
   "execution_count": null,
   "id": "26cb3c76-9510-4274-b256-44c47ae5e2d8",
   "metadata": {},
   "outputs": [
    {
     "ename": "SyntaxError",
     "evalue": "non-default argument follows default argument (<ipython-input-37-d05f5d07a269>, line 1)",
     "output_type": "error",
     "traceback": [
      "\u001b[1;36m  Cell \u001b[1;32mIn[37], line 1\u001b[1;36m\u001b[0m\n\u001b[1;33m    def substract(x=3,y):\u001b[0m\n\u001b[1;37m                      ^\u001b[0m\n\u001b[1;31mSyntaxError\u001b[0m\u001b[1;31m:\u001b[0m non-default argument follows default argument\n"
     ]
    }
   ],
   "source": [
    "def substract(x=3,y):\n",
    "    return x-y\n",
    "\n",
    "substract(y=4)\n",
    "\n",
    "# check keyword argument (homework)"
   ]
  },
  {
   "cell_type": "code",
   "execution_count": null,
   "id": "e417f059-8384-4d9e-9cea-73e2f7a14395",
   "metadata": {},
   "outputs": [
    {
     "data": {
      "text/plain": [
       "6"
      ]
     },
     "execution_count": 38,
     "metadata": {},
     "output_type": "execute_result"
    }
   ],
   "source": [
    "# lambda functions (for small functions, it's a default function, has no names, any number of arguments, only one expression)\n",
    "# syntax: lambda arguments: expression\n",
    "\n",
    "sum = lambda x, y, z: x + y + z\n",
    "\n",
    "sum(1, 2, 3)"
   ]
  },
  {
   "cell_type": "code",
   "execution_count": null,
   "id": "c896a331-ea75-4585-9774-9323b0194526",
   "metadata": {},
   "outputs": [
    {
     "data": {
      "text/plain": [
       "(1, 2, 3, 1, 2, 3, 1, 2, 3)"
      ]
     },
     "execution_count": 39,
     "metadata": {},
     "output_type": "execute_result"
    }
   ],
   "source": [
    "### Python tuples\n",
    "\n",
    "# example of tuples = can store multiple values, closed by parenthesis, immutable, allows duplicate values, ordered\n",
    "\n",
    "# difference between list and tuple is list is mutable and tuple is immutable\n",
    "\n",
    "# all the same operations of list can be done in tuple\n",
    "\n",
    "# multiply tuples\n",
    "\n",
    "(1, 2, 3) * 3"
   ]
  },
  {
   "cell_type": "code",
   "execution_count": null,
   "id": "563b2d6f-1e5a-4b8c-b9c3-cc9a63f467c6",
   "metadata": {},
   "outputs": [
    {
     "ename": "TypeError",
     "evalue": "'tuple' object does not support item assignment",
     "output_type": "error",
     "traceback": [
      "\u001b[1;31m---------------------------------------------------------------------------\u001b[0m",
      "\u001b[1;31mTypeError\u001b[0m                                 Traceback (most recent call last)",
      "File \u001b[1;32mc:\\Users\\salis\\Desktop\\python\\Day5.py:3\u001b[0m\n\u001b[0;32m      1\u001b[0m \u001b[39m# tuples value cannot be changed, immutable\u001b[39;00m\n\u001b[0;32m      2\u001b[0m test \u001b[39m=\u001b[39m (\u001b[39m1\u001b[39m, \u001b[39m2\u001b[39m, \u001b[39m3\u001b[39m)\n\u001b[1;32m----> 3\u001b[0m test[\u001b[39m0\u001b[39;49m] \u001b[39m=\u001b[39m \u001b[39m5\u001b[39m\n",
      "\u001b[1;31mTypeError\u001b[0m: 'tuple' object does not support item assignment"
     ]
    }
   ],
   "source": [
    "# tuples value cannot be changed, immutable\n",
    "test = (1, 2, 3)\n",
    "test[0] = 5"
   ]
  },
  {
   "cell_type": "code",
   "execution_count": null,
   "id": "03a779f3-227d-45a9-a3a7-c4a86e3b436b",
   "metadata": {},
   "outputs": [],
   "source": [
    "# python sets\n",
    "# sets are unordered, unindexed, doesn't allow duplicates, immutable, {}, not used extensively\n",
    "\n",
    "# duplicates aren't retained\n",
    "set_1 = {1, 2, \"hi\", 3, \"hi\"}"
   ]
  },
  {
   "cell_type": "code",
   "execution_count": null,
   "id": "b9aca82a-d252-45e7-b9c0-1983f34fe332",
   "metadata": {},
   "outputs": [
    {
     "data": {
      "text/plain": [
       "{1, 2, 3, 'hi'}"
      ]
     },
     "execution_count": 42,
     "metadata": {},
     "output_type": "execute_result"
    }
   ],
   "source": [
    "set_1"
   ]
  },
  {
   "cell_type": "code",
   "execution_count": null,
   "id": "ab7cd8f5-06ec-4050-97e7-04fc601062cd",
   "metadata": {},
   "outputs": [],
   "source": [
    "# python dictionary = key and values"
   ]
  },
  {
   "cell_type": "code",
   "execution_count": 2,
   "metadata": {},
   "outputs": [
    {
     "name": "stdout",
     "output_type": "stream",
     "text": [
      "one\n",
      "two\n",
      "three\n"
     ]
    }
   ],
   "source": [
    " # iterate over a list\n",
    "lst = [\"one\", \"two\", \"three\"]\n",
    "for num in lst:\n",
    "    print(num)"
   ]
  },
  {
   "cell_type": "code",
   "execution_count": 3,
   "metadata": {},
   "outputs": [
    {
     "name": "stdout",
     "output_type": "stream",
     "text": [
      "p\n",
      "y\n",
      "t\n",
      "h\n",
      "o\n",
      "n\n"
     ]
    }
   ],
   "source": [
    "# iterate over a string (strings are sequence of characters)\n",
    "for i in \"python\":\n",
    "    print(i)\n"
   ]
  },
  {
   "cell_type": "code",
   "execution_count": 4,
   "metadata": {},
   "outputs": [
    {
     "name": "stdout",
     "output_type": "stream",
     "text": [
      "p\n",
      "y\n",
      "t\n",
      "h\n",
      "o\n"
     ]
    }
   ],
   "source": [
    "for i in \"python\":\n",
    "    print(i)\n",
    "    if i == \"o\":\n",
    "        break"
   ]
  },
  {
   "cell_type": "code",
   "execution_count": 5,
   "metadata": {},
   "outputs": [
    {
     "name": "stdout",
     "output_type": "stream",
     "text": [
      "2\n",
      "5\n",
      "8\n"
     ]
    }
   ],
   "source": [
    "for i in range(2, 10, 3):\n",
    "    print(i)"
   ]
  },
  {
   "cell_type": "code",
   "execution_count": 6,
   "metadata": {},
   "outputs": [
    {
     "name": "stdout",
     "output_type": "stream",
     "text": [
      "2\n",
      "3\n",
      "4\n",
      "5\n",
      "6\n"
     ]
    }
   ],
   "source": [
    "for i in range(2, 7):\n",
    "    print(i)"
   ]
  },
  {
   "cell_type": "code",
   "execution_count": null,
   "metadata": {},
   "outputs": [],
   "source": [
    "    "
   ]
  }
 ],
 "metadata": {
  "kernelspec": {
   "display_name": "Python 3",
   "language": "python",
   "name": "python3"
  },
  "language_info": {
   "codemirror_mode": {
    "name": "ipython",
    "version": 3
   },
   "file_extension": ".py",
   "mimetype": "text/x-python",
   "name": "python",
   "nbconvert_exporter": "python",
   "pygments_lexer": "ipython3",
   "version": "3.11.9"
  }
 },
 "nbformat": 4,
 "nbformat_minor": 2
}
