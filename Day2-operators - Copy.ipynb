{
 "cells": [
  {
   "cell_type": "code",
   "execution_count": null,
   "id": "e4a6d916-abb1-498b-b5f2-e8529f1ad6f9",
   "metadata": {},
   "outputs": [],
   "source": [
    "#Operators Class"
   ]
  },
  {
   "cell_type": "markdown",
   "id": "1d85eef8-3ffa-4489-9d09-104bb7f04b76",
   "metadata": {},
   "source": [
    "Day-2 Operators' Class"
   ]
  },
  {
   "cell_type": "markdown",
   "id": "3d4f3df9-5ff9-4489-84d1-887f00f0f14b",
   "metadata": {},
   "source": [
    "#Day 2 Operators Class"
   ]
  },
  {
   "cell_type": "code",
   "execution_count": null,
   "id": "40d3b93c-691d-49d8-a355-ff561b6eb8d8",
   "metadata": {},
   "outputs": [],
   "source": [
    "\"\"\"Arithmetic Operators\n",
    "Add, subs, multiplication. division, modulus(%), exponentiation (**), floor division (//)\"\"\"\n",
    "\n",
    "4%3 #gives remainder"
   ]
  },
  {
   "cell_type": "code",
   "execution_count": null,
   "id": "145dd71c-db38-4eb7-9928-3c9abfbe61a3",
   "metadata": {},
   "outputs": [],
   "source": [
    "2**3 #(2 power to 3)"
   ]
  },
  {
   "cell_type": "code",
   "execution_count": null,
   "id": "473aeaa4-5ad7-424d-902f-73d26356736e",
   "metadata": {},
   "outputs": [],
   "source": [
    "5//3 #quotient, ignores the decimal part, should have been 1.6666666...7"
   ]
  },
  {
   "cell_type": "code",
   "execution_count": null,
   "id": "094a15ec-01f1-474e-b0d4-14de37268ff1",
   "metadata": {},
   "outputs": [],
   "source": [
    "x=7*(3+8-4)/6"
   ]
  },
  {
   "cell_type": "code",
   "execution_count": null,
   "id": "be5ea65a-c97d-4e1e-baec-0c022bf7295a",
   "metadata": {},
   "outputs": [],
   "source": [
    "x"
   ]
  },
  {
   "cell_type": "code",
   "execution_count": null,
   "id": "1137561d-0006-4267-994b-dc940fd1abeb",
   "metadata": {},
   "outputs": [],
   "source": [
    "y = int(x) // 2"
   ]
  },
  {
   "cell_type": "code",
   "execution_count": null,
   "id": "e5d3dda4-5fcc-43ac-ab91-dba192bdc179",
   "metadata": {},
   "outputs": [],
   "source": [
    "y"
   ]
  },
  {
   "cell_type": "code",
   "execution_count": null,
   "id": "0016295c-48c0-40ab-b92c-d3fee3ab1867",
   "metadata": {},
   "outputs": [],
   "source": [
    "x=8.1666667"
   ]
  },
  {
   "cell_type": "code",
   "execution_count": null,
   "id": "aeb06326-8a5a-45ee-a446-1afc3b128265",
   "metadata": {},
   "outputs": [],
   "source": [
    "y = int(x) % 2"
   ]
  },
  {
   "cell_type": "code",
   "execution_count": null,
   "id": "95f5bd7d-daab-4365-bdbb-63e65dfc0047",
   "metadata": {},
   "outputs": [],
   "source": [
    "y"
   ]
  },
  {
   "cell_type": "code",
   "execution_count": null,
   "id": "e47f47b9-da57-4feb-9033-5ffc945aa82f",
   "metadata": {},
   "outputs": [],
   "source": [
    "y ** 3"
   ]
  },
  {
   "cell_type": "code",
   "execution_count": null,
   "id": "fc037894-4206-445b-bd80-db35f8de2cd3",
   "metadata": {},
   "outputs": [],
   "source": [
    "int(x) ** 3"
   ]
  },
  {
   "cell_type": "code",
   "execution_count": null,
   "id": "8cbec7be-7662-4e45-bf11-4e06475e1ead",
   "metadata": {},
   "outputs": [],
   "source": [
    "z // 3"
   ]
  },
  {
   "cell_type": "code",
   "execution_count": null,
   "id": "7191328e-c6ae-434e-8137-44aee04725e0",
   "metadata": {},
   "outputs": [],
   "source": [
    "z = int(x) ** 3"
   ]
  },
  {
   "cell_type": "code",
   "execution_count": null,
   "id": "52aed88b-4dbe-43a0-8c7c-37af401c4ddc",
   "metadata": {},
   "outputs": [],
   "source": [
    "z // 3"
   ]
  },
  {
   "cell_type": "code",
   "execution_count": null,
   "id": "a84baeab-6fed-4d85-bea1-672804ee1bb2",
   "metadata": {},
   "outputs": [],
   "source": [
    "\"\"\"assignment operators is =, x += 3 => x = x+3, \n",
    "x -= 3 => x = x-3\"\"\""
   ]
  },
  {
   "cell_type": "code",
   "execution_count": null,
   "id": "4dc3a24d-b2b3-4885-becb-e0bd0d8512cc",
   "metadata": {},
   "outputs": [],
   "source": [
    "#comparison operators ==, !=, >, < , <=, >="
   ]
  },
  {
   "cell_type": "code",
   "execution_count": null,
   "id": "1e980e80-81a7-4d31-9942-109d92c9b05a",
   "metadata": {},
   "outputs": [],
   "source": [
    "2!=3"
   ]
  },
  {
   "cell_type": "code",
   "execution_count": null,
   "id": "e7d972b0-8cf3-484a-a035-06393bf458a0",
   "metadata": {},
   "outputs": [],
   "source": [
    "#logical operators AND, OR, NOT => "
   ]
  },
  {
   "cell_type": "code",
   "execution_count": null,
   "id": "c120ce7a-33de-4927-a418-43da73a0963f",
   "metadata": {},
   "outputs": [],
   "source": [
    "a = 2"
   ]
  },
  {
   "cell_type": "code",
   "execution_count": null,
   "id": "a4d1c0a9-dfe7-41ca-bd55-7f866139ce45",
   "metadata": {},
   "outputs": [],
   "source": [
    "b=3"
   ]
  },
  {
   "cell_type": "code",
   "execution_count": null,
   "id": "f805674f-3688-443c-a939-7add5fa9cba3",
   "metadata": {},
   "outputs": [],
   "source": [
    "a > 2 and b > 2"
   ]
  },
  {
   "cell_type": "code",
   "execution_count": null,
   "id": "0f584355-402b-4acf-833f-b6e49e14bb89",
   "metadata": {},
   "outputs": [],
   "source": [
    "a >= 2 and b > 2"
   ]
  },
  {
   "cell_type": "code",
   "execution_count": null,
   "id": "b13d9dda-ccb7-479f-9f55-1602a8670360",
   "metadata": {},
   "outputs": [],
   "source": [
    "a > 2 or b > 2"
   ]
  },
  {
   "cell_type": "code",
   "execution_count": null,
   "id": "e59f3ca9-d439-4ea9-9fa6-f2900a0f8bfb",
   "metadata": {},
   "outputs": [],
   "source": [
    "not a > 1"
   ]
  },
  {
   "cell_type": "code",
   "execution_count": null,
   "id": "52db3e74-11ec-447b-a484-69da1ee88690",
   "metadata": {},
   "outputs": [],
   "source": [
    "' ' and whatever #'' empty string is a boolean false"
   ]
  },
  {
   "cell_type": "code",
   "execution_count": null,
   "id": "06459048-4843-47f8-9fa4-b30130db2f2e",
   "metadata": {},
   "outputs": [],
   "source": [
    "'hello' or whatever"
   ]
  },
  {
   "cell_type": "code",
   "execution_count": null,
   "id": "41870281-edab-4e8f-b485-6116b85fc12c",
   "metadata": {},
   "outputs": [],
   "source": [
    "\"\"\"precedence rules not then and then or\"\"\""
   ]
  },
  {
   "cell_type": "code",
   "execution_count": null,
   "id": "0c9f9be2-f4db-4f40-ab9e-cf6639fa3c47",
   "metadata": {},
   "outputs": [],
   "source": [
    "False or True and not True"
   ]
  },
  {
   "cell_type": "code",
   "execution_count": null,
   "id": "256f2a8f-2840-4bb6-809f-bc4f6cf67652",
   "metadata": {},
   "outputs": [],
   "source": [
    "#Identity Operator => is "
   ]
  },
  {
   "cell_type": "code",
   "execution_count": null,
   "id": "a5f9df18-b878-429a-9b6b-013ba3679e54",
   "metadata": {},
   "outputs": [],
   "source": [
    "x=3"
   ]
  },
  {
   "cell_type": "code",
   "execution_count": null,
   "id": "b3a2c273-9138-48b2-ad0a-208bc40150a7",
   "metadata": {},
   "outputs": [],
   "source": [
    "type(x) is int"
   ]
  },
  {
   "cell_type": "code",
   "execution_count": null,
   "id": "82ad1886-956b-4f49-823c-496f03d510f4",
   "metadata": {},
   "outputs": [],
   "source": [
    "type(x) is float"
   ]
  },
  {
   "cell_type": "code",
   "execution_count": null,
   "id": "c9834c67-3213-4ac2-8527-8bb95958f37a",
   "metadata": {},
   "outputs": [],
   "source": [
    "#membership operators "
   ]
  },
  {
   "cell_type": "code",
   "execution_count": null,
   "id": "689a4d23-d5bd-42d5-993d-a5b5d296e14c",
   "metadata": {},
   "outputs": [],
   "source": [
    "'h' in 'hello'"
   ]
  },
  {
   "cell_type": "code",
   "execution_count": null,
   "id": "acc68514-bee8-47d6-a3f3-2cee2ffcaf1d",
   "metadata": {},
   "outputs": [],
   "source": [
    "'ell' in 'hello'"
   ]
  },
  {
   "cell_type": "code",
   "execution_count": null,
   "id": "181d5a58-e876-418b-9508-bdd68b545b88",
   "metadata": {},
   "outputs": [],
   "source": [
    "'eo' in 'hello'"
   ]
  },
  {
   "cell_type": "code",
   "execution_count": null,
   "id": "28c622ac-dab0-4b29-8de6-264b40fbffc8",
   "metadata": {},
   "outputs": [],
   "source": [
    "'g' in 'hello'"
   ]
  },
  {
   "cell_type": "code",
   "execution_count": null,
   "id": "8ba7a8b7-7b41-4464-bbb3-ed999bc1df39",
   "metadata": {},
   "outputs": [],
   "source": [
    "'elo' in 'hello'"
   ]
  },
  {
   "cell_type": "code",
   "execution_count": null,
   "id": "99532c51-6c4c-4a7f-9e15-e7ab168492b1",
   "metadata": {},
   "outputs": [],
   "source": [
    "'E' in 'hello'"
   ]
  },
  {
   "cell_type": "code",
   "execution_count": null,
   "id": "5919f259-d577-44a6-a293-70424c7f9366",
   "metadata": {},
   "outputs": [],
   "source": [
    "#bitwise operators &"
   ]
  },
  {
   "cell_type": "code",
   "execution_count": null,
   "id": "050bffdb-f7d8-43b9-9e22-dab72d327136",
   "metadata": {},
   "outputs": [],
   "source": [
    "#2&3 is 10&11"
   ]
  },
  {
   "cell_type": "code",
   "execution_count": null,
   "id": "88349d81-6edb-4375-9df8-a717ba794840",
   "metadata": {},
   "outputs": [],
   "source": [
    "2&3"
   ]
  },
  {
   "cell_type": "code",
   "execution_count": null,
   "id": "7c7c8474-eab1-4b5b-9608-fc7412256b05",
   "metadata": {},
   "outputs": [],
   "source": [
    "#10 & 11 => 10"
   ]
  },
  {
   "cell_type": "code",
   "execution_count": null,
   "id": "a16eb3d3-2b33-40c6-a4c4-3e861f0daa20",
   "metadata": {},
   "outputs": [],
   "source": [
    "2 and 3"
   ]
  },
  {
   "cell_type": "code",
   "execution_count": null,
   "id": "c6c07fba-c28e-4851-9413-dabd97abeda1",
   "metadata": {},
   "outputs": [],
   "source": [
    "5 and 6"
   ]
  },
  {
   "cell_type": "code",
   "execution_count": null,
   "id": "b86c9da7-3404-4e60-b2e6-01f7204ec102",
   "metadata": {},
   "outputs": [],
   "source": [
    "6 and 5"
   ]
  },
  {
   "cell_type": "code",
   "execution_count": null,
   "id": "ceea5bf3-517b-4393-9807-b76c7ba21b57",
   "metadata": {},
   "outputs": [],
   "source": [
    "#bitwirse or |"
   ]
  },
  {
   "cell_type": "code",
   "execution_count": null,
   "id": "87077af4-3d30-4803-a230-f4a8d2ac7c93",
   "metadata": {},
   "outputs": [],
   "source": [
    "2|3"
   ]
  },
  {
   "cell_type": "code",
   "execution_count": null,
   "id": "d6ebdf77-91ed-4a1a-b5fa-40f046ab231f",
   "metadata": {},
   "outputs": [],
   "source": [
    "#Python List"
   ]
  },
  {
   "cell_type": "code",
   "execution_count": null,
   "id": "581a51cf-16b5-47bb-9f9d-4c767880baa6",
   "metadata": {},
   "outputs": [],
   "source": [
    "days_of_week=[\"sunday\", \"monday\",\"tuesday\", \"wednesday\", thursday\", \"friday\",\"saturday\"]"
   ]
  },
  {
   "cell_type": "code",
   "execution_count": null,
   "id": "3dfdf097-fe03-442b-8019-fa0b0587b6ab",
   "metadata": {},
   "outputs": [],
   "source": [
    "days_of_week=[\"sunday\", \"monday\",\"tuesday\", \"wednesday\", thursday\", \"friday\",\"saturday\" ]"
   ]
  },
  {
   "cell_type": "code",
   "execution_count": null,
   "id": "dbe67a9a-3334-4618-9396-55c1bfa76a0a",
   "metadata": {},
   "outputs": [],
   "source": [
    "days_of_week=[\"sunday\", \"monday\",\"tuesday\", \"wednesday\", \"thursday\", \"friday\",\"saturday\" ]"
   ]
  },
  {
   "cell_type": "code",
   "execution_count": null,
   "id": "38867b42-a4b9-4510-97fc-87756ac5380e",
   "metadata": {},
   "outputs": [],
   "source": [
    "days_of_week"
   ]
  },
  {
   "cell_type": "code",
   "execution_count": null,
   "id": "38584295-3890-40a6-8af5-675940d749ff",
   "metadata": {},
   "outputs": [],
   "source": [
    "len(days_of_week)"
   ]
  },
  {
   "cell_type": "code",
   "execution_count": null,
   "id": "df021433-1162-4f10-a4db-977cd8076195",
   "metadata": {},
   "outputs": [],
   "source": [
    "list = [1, 3.0, 'hello', True] #don't use this"
   ]
  },
  {
   "cell_type": "code",
   "execution_count": null,
   "id": "bce7b62d-5132-44d6-a335-1cb2374f3efd",
   "metadata": {},
   "outputs": [],
   "source": [
    "list"
   ]
  },
  {
   "cell_type": "code",
   "execution_count": null,
   "id": "393e3a7d-afe7-415a-aaa8-902eb6d4f336",
   "metadata": {},
   "outputs": [],
   "source": [
    "#access list items"
   ]
  },
  {
   "cell_type": "code",
   "execution_count": null,
   "id": "bbf94980-39d8-411b-9559-99b559db5ec4",
   "metadata": {},
   "outputs": [],
   "source": [
    "print(days_of_week[0])"
   ]
  },
  {
   "cell_type": "code",
   "execution_count": null,
   "id": "bd4bc214-5e40-43c1-a8eb-92fb1eec12d4",
   "metadata": {},
   "outputs": [],
   "source": [
    "print(days_of_week[6])"
   ]
  },
  {
   "cell_type": "code",
   "execution_count": null,
   "id": "8ed0a590-8bf3-4e12-875a-890da4ec407d",
   "metadata": {},
   "outputs": [],
   "source": [
    "#\"data tanda\" big bracket nei chaicha"
   ]
  },
  {
   "cell_type": "code",
   "execution_count": null,
   "id": "70558018-6239-4868-9053-aca331c9552f",
   "metadata": {},
   "outputs": [],
   "source": [
    "2 and 3\n"
   ]
  },
  {
   "cell_type": "code",
   "execution_count": null,
   "id": "9e45f341-89da-42b0-a82c-c1c85b38a20b",
   "metadata": {},
   "outputs": [],
   "source": [
    "2 and whatever"
   ]
  },
  {
   "cell_type": "code",
   "execution_count": null,
   "id": "0b7854b7-40bf-48a7-a57a-e50c660debf5",
   "metadata": {},
   "outputs": [],
   "source": [
    "true and whatever"
   ]
  },
  {
   "cell_type": "code",
   "execution_count": null,
   "id": "d6069b54-2d5b-4c02-96ae-3f533e78b14e",
   "metadata": {},
   "outputs": [],
   "source": [
    "True and whatever"
   ]
  },
  {
   "cell_type": "code",
   "execution_count": null,
   "id": "a9f4028b-7da6-4aed-b846-fa3064a40f83",
   "metadata": {},
   "outputs": [],
   "source": [
    "True and whatever"
   ]
  },
  {
   "cell_type": "code",
   "execution_count": 1,
   "id": "3856d9f9-6fce-4991-ad35-e12021b64d3b",
   "metadata": {},
   "outputs": [
    {
     "ename": "NameError",
     "evalue": "name 'whatever' is not defined",
     "output_type": "error",
     "traceback": [
      "\u001b[1;31m---------------------------------------------------------------------------\u001b[0m",
      "\u001b[1;31mNameError\u001b[0m                                 Traceback (most recent call last)",
      "Cell \u001b[1;32mIn[1], line 1\u001b[0m\n\u001b[1;32m----> 1\u001b[0m \u001b[38;5;28;01mTrue\u001b[39;00m \u001b[38;5;129;01mand\u001b[39;00m \u001b[43mwhatever\u001b[49m\n",
      "\u001b[1;31mNameError\u001b[0m: name 'whatever' is not defined"
     ]
    }
   ],
   "source": [
    "True and whatever"
   ]
  },
  {
   "cell_type": "code",
   "execution_count": null,
   "id": "d5a044f9-c4fd-4fec-8b59-3673af8cbb54",
   "metadata": {},
   "outputs": [],
   "source": []
  }
 ],
 "metadata": {
  "kernelspec": {
   "display_name": "Python 3 (ipykernel)",
   "language": "python",
   "name": "python3"
  },
  "language_info": {
   "codemirror_mode": {
    "name": "ipython",
    "version": 3
   },
   "file_extension": ".py",
   "mimetype": "text/x-python",
   "name": "python",
   "nbconvert_exporter": "python",
   "pygments_lexer": "ipython3",
   "version": "3.12.5"
  }
 },
 "nbformat": 4,
 "nbformat_minor": 5
}
