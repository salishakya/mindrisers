{
 "cells": [
  {
   "cell_type": "code",
   "execution_count": null,
   "id": "af351461-ad23-4224-9d94-268f8ece0d38",
   "metadata": {},
   "outputs": [
    {
     "data": {
      "text/plain": [
       "Index(['Customer_ID', 'Gender', 'Age', 'Country', 'Purchase_Amount',\n",
       "       'Purchase_Category', 'Transaction_Timestamp'],\n",
       "      dtype='object')"
      ]
     },
     "execution_count": 1,
     "metadata": {},
     "output_type": "execute_result"
    }
   ],
   "source": [
    "import pandas as pd\n",
    "\n",
    "\n",
    "data = pd.read_csv(\"ecommerce_data.csv\")\n",
    "data.columns"
   ]
  },
  {
   "cell_type": "code",
   "execution_count": null,
   "id": "263355f7-c0b6-4028-b3c4-a7e2007f1152",
   "metadata": {},
   "outputs": [
    {
     "data": {
      "text/plain": [
       "np.float64(252.27082380000002)"
      ]
     },
     "execution_count": 2,
     "metadata": {},
     "output_type": "execute_result"
    }
   ],
   "source": [
    "data[\"Purchase_Amount\"].mean()"
   ]
  },
  {
   "cell_type": "code",
   "execution_count": null,
   "id": "81eeea56-8ebe-4521-83af-734ba68dd902",
   "metadata": {},
   "outputs": [
    {
     "data": {
      "text/plain": [
       "np.float64(252.385)"
      ]
     },
     "execution_count": 4,
     "metadata": {},
     "output_type": "execute_result"
    }
   ],
   "source": [
    "data[\"Purchase_Amount\"].median()"
   ]
  },
  {
   "cell_type": "code",
   "execution_count": null,
   "id": "ee6401d6-3890-429d-82c7-a826a73a6303",
   "metadata": {},
   "outputs": [
    {
     "data": {
      "text/plain": [
       "0    67.79\n",
       "Name: Purchase_Amount, dtype: float64"
      ]
     },
     "execution_count": 5,
     "metadata": {},
     "output_type": "execute_result"
    }
   ],
   "source": [
    "data[\"Purchase_Amount\"].mode()"
   ]
  },
  {
   "cell_type": "code",
   "execution_count": null,
   "id": "ad977c77-22a3-4768-8087-109599707138",
   "metadata": {},
   "outputs": [
    {
     "data": {
      "text/plain": [
       "0    124.25\n",
       "1    498.91\n",
       "2    210.59\n",
       "3    256.43\n",
       "4    354.97\n",
       "Name: Purchase_Amount, dtype: float64"
      ]
     },
     "execution_count": 6,
     "metadata": {},
     "output_type": "execute_result"
    }
   ],
   "source": [
    "data[\"Purchase_Amount\"].head(5)"
   ]
  },
  {
   "cell_type": "code",
   "execution_count": null,
   "id": "deb7b7b3-3d71-4afe-a88b-65c023d2df37",
   "metadata": {},
   "outputs": [
    {
     "data": {
      "text/plain": [
       "np.float64(143.05835345315657)"
      ]
     },
     "execution_count": 7,
     "metadata": {},
     "output_type": "execute_result"
    }
   ],
   "source": [
    "data[\"Purchase_Amount\"].std()"
   ]
  },
  {
   "cell_type": "code",
   "execution_count": null,
   "id": "b3482a4b-0f36-4c62-b45f-d66f1daa1eae",
   "metadata": {},
   "outputs": [
    {
     "data": {
      "text/plain": [
       "np.float64(20465.692492728278)"
      ]
     },
     "execution_count": 8,
     "metadata": {},
     "output_type": "execute_result"
    }
   ],
   "source": [
    "data[\"Purchase_Amount\"].var()"
   ]
  },
  {
   "cell_type": "code",
   "execution_count": null,
   "id": "3cb35d77-f3ef-4379-bf15-2050b98dfa0e",
   "metadata": {},
   "outputs": [
    {
     "data": {
      "text/html": [
       "<div>\n",
       "<style scoped>\n",
       "    .dataframe tbody tr th:only-of-type {\n",
       "        vertical-align: middle;\n",
       "    }\n",
       "\n",
       "    .dataframe tbody tr th {\n",
       "        vertical-align: top;\n",
       "    }\n",
       "\n",
       "    .dataframe thead th {\n",
       "        text-align: right;\n",
       "    }\n",
       "</style>\n",
       "<table border=\"1\" class=\"dataframe\">\n",
       "  <thead>\n",
       "    <tr style=\"text-align: right;\">\n",
       "      <th></th>\n",
       "      <th>Customer_ID</th>\n",
       "      <th>Gender</th>\n",
       "      <th>Age</th>\n",
       "      <th>Country</th>\n",
       "      <th>Purchase_Amount</th>\n",
       "      <th>Purchase_Category</th>\n",
       "      <th>Transaction_Timestamp</th>\n",
       "    </tr>\n",
       "  </thead>\n",
       "  <tbody>\n",
       "    <tr>\n",
       "      <th>0</th>\n",
       "      <td>1</td>\n",
       "      <td>Male</td>\n",
       "      <td>26</td>\n",
       "      <td>UK</td>\n",
       "      <td>124.25</td>\n",
       "      <td>Fashion</td>\n",
       "      <td>2023-01-01 00:00:00</td>\n",
       "    </tr>\n",
       "    <tr>\n",
       "      <th>1</th>\n",
       "      <td>2</td>\n",
       "      <td>Female</td>\n",
       "      <td>53</td>\n",
       "      <td>USA</td>\n",
       "      <td>498.91</td>\n",
       "      <td>Groceries</td>\n",
       "      <td>2023-01-01 00:01:00</td>\n",
       "    </tr>\n",
       "    <tr>\n",
       "      <th>2</th>\n",
       "      <td>3</td>\n",
       "      <td>Male</td>\n",
       "      <td>23</td>\n",
       "      <td>Germany</td>\n",
       "      <td>210.59</td>\n",
       "      <td>Furniture</td>\n",
       "      <td>2023-01-01 00:02:00</td>\n",
       "    </tr>\n",
       "    <tr>\n",
       "      <th>3</th>\n",
       "      <td>4</td>\n",
       "      <td>Male</td>\n",
       "      <td>41</td>\n",
       "      <td>India</td>\n",
       "      <td>256.43</td>\n",
       "      <td>Electronics</td>\n",
       "      <td>2023-01-01 00:03:00</td>\n",
       "    </tr>\n",
       "    <tr>\n",
       "      <th>4</th>\n",
       "      <td>5</td>\n",
       "      <td>Male</td>\n",
       "      <td>43</td>\n",
       "      <td>Germany</td>\n",
       "      <td>354.97</td>\n",
       "      <td>Fashion</td>\n",
       "      <td>2023-01-01 00:04:00</td>\n",
       "    </tr>\n",
       "  </tbody>\n",
       "</table>\n",
       "</div>"
      ],
      "text/plain": [
       "   Customer_ID  Gender  Age  Country  Purchase_Amount Purchase_Category  \\\n",
       "0            1    Male   26       UK           124.25           Fashion   \n",
       "1            2  Female   53      USA           498.91         Groceries   \n",
       "2            3    Male   23  Germany           210.59         Furniture   \n",
       "3            4    Male   41    India           256.43       Electronics   \n",
       "4            5    Male   43  Germany           354.97           Fashion   \n",
       "\n",
       "  Transaction_Timestamp  \n",
       "0   2023-01-01 00:00:00  \n",
       "1   2023-01-01 00:01:00  \n",
       "2   2023-01-01 00:02:00  \n",
       "3   2023-01-01 00:03:00  \n",
       "4   2023-01-01 00:04:00  "
      ]
     },
     "execution_count": 9,
     "metadata": {},
     "output_type": "execute_result"
    }
   ],
   "source": [
    "data[\"Age\"].mean()\n",
    "data.head()"
   ]
  },
  {
   "cell_type": "code",
   "execution_count": null,
   "id": "355465f3-82d8-463d-a82c-23baed277c7d",
   "metadata": {},
   "outputs": [],
   "source": [
    "# quartiles of Age"
   ]
  },
  {
   "cell_type": "code",
   "execution_count": null,
   "id": "b68dd8ab-be04-4a5f-901a-3e4919a846a3",
   "metadata": {},
   "outputs": [
    {
     "data": {
      "text/plain": [
       "np.float64(31.0)"
      ]
     },
     "execution_count": 12,
     "metadata": {},
     "output_type": "execute_result"
    }
   ],
   "source": [
    "data[\"Age\"].quantile(0.25)"
   ]
  },
  {
   "cell_type": "code",
   "execution_count": null,
   "id": "e404aabf-60e8-45e0-afc7-b7d9979c0931",
   "metadata": {},
   "outputs": [
    {
     "data": {
      "text/plain": [
       "np.float64(43.0)"
      ]
     },
     "execution_count": 13,
     "metadata": {},
     "output_type": "execute_result"
    }
   ],
   "source": [
    "data[\"Age\"].quantile(0.5)"
   ]
  },
  {
   "cell_type": "code",
   "execution_count": null,
   "id": "90ada7b7-a2c3-4843-bc6d-7587e2d55852",
   "metadata": {},
   "outputs": [
    {
     "data": {
      "text/plain": [
       "np.float64(56.0)"
      ]
     },
     "execution_count": 14,
     "metadata": {},
     "output_type": "execute_result"
    }
   ],
   "source": [
    "data[\"Age\"].quantile(0.75)"
   ]
  },
  {
   "cell_type": "code",
   "execution_count": null,
   "id": "2ae76c1c-30a8-4f5f-a2d8-2ae4d0d731ce",
   "metadata": {},
   "outputs": [
    {
     "data": {
      "text/plain": [
       "np.int64(51)"
      ]
     },
     "execution_count": 15,
     "metadata": {},
     "output_type": "execute_result"
    }
   ],
   "source": [
    "data_range = data[\"Age\"].max() - data[\"Age\"].min()\n",
    "data_range"
   ]
  },
  {
   "cell_type": "code",
   "execution_count": null,
   "id": "79d3178a-b8e0-431c-8a05-9cecbc0ada91",
   "metadata": {},
   "outputs": [
    {
     "data": {
      "text/plain": [
       "0        Fashion\n",
       "1      Groceries\n",
       "2      Furniture\n",
       "3    Electronics\n",
       "4        Fashion\n",
       "Name: Purchase_Category, dtype: object"
      ]
     },
     "execution_count": 16,
     "metadata": {},
     "output_type": "execute_result"
    }
   ],
   "source": [
    "data[\"Purchase_Category\"].head()"
   ]
  },
  {
   "cell_type": "code",
   "execution_count": null,
   "id": "370b387a-f1cd-4783-8022-633811def0b0",
   "metadata": {},
   "outputs": [],
   "source": [
    "# counting the categories"
   ]
  },
  {
   "cell_type": "code",
   "execution_count": null,
   "id": "29002d4b-c0a0-4ef0-9cbf-d62211b2bef2",
   "metadata": {},
   "outputs": [
    {
     "name": "stdout",
     "output_type": "stream",
     "text": [
      "Purchase_Category\n",
      "Furniture      20203\n",
      "Groceries      20095\n",
      "Fashion        19970\n",
      "Books          19926\n",
      "Electronics    19806\n",
      "Name: count, dtype: int64\n"
     ]
    }
   ],
   "source": [
    "category_count = data[\"Purchase_Category\"].value_counts()\n",
    "print(category_count)"
   ]
  },
  {
   "cell_type": "code",
   "execution_count": null,
   "id": "ef6a2e4c-ac67-4dc9-9d83-7d02da66b920",
   "metadata": {},
   "outputs": [
    {
     "data": {
      "text/plain": [
       "(100000, 7)"
      ]
     },
     "execution_count": 19,
     "metadata": {},
     "output_type": "execute_result"
    }
   ],
   "source": [
    "data.shape"
   ]
  },
  {
   "cell_type": "code",
   "execution_count": null,
   "id": "32e582e1-a21c-48f2-bc0b-504d5d121b92",
   "metadata": {},
   "outputs": [
    {
     "data": {
      "text/plain": [
       "<Axes: >"
      ]
     },
     "execution_count": 20,
     "metadata": {},
     "output_type": "execute_result"
    },
    {
     "data": {
      "image/png": "[encoded data removed]",
      "text/plain": [
       "<Figure size 640x480 with 1 Axes>"
      ]
     },
     "metadata": {},
     "output_type": "display_data"
    }
   ],
   "source": [
    "data.boxplot(column=\"Purchase_Amount\")"
   ]
  },
  {
   "cell_type": "code",
   "execution_count": null,
   "id": "ddb3ba45-a459-4246-9c27-7e0e7528c498",
   "metadata": {},
   "outputs": [
    {
     "data": {
      "text/plain": [
       "array([[<Axes: title={'center': 'Purchase_Amount'}>]], dtype=object)"
      ]
     },
     "execution_count": 21,
     "metadata": {},
     "output_type": "execute_result"
    }
   ],
   "source": [
    "data.hist(column=\"Purchase_Amount\")"
   ]
  },
  {
   "cell_type": "code",
   "execution_count": null,
   "id": "27067475-768e-4625-a2de-02146fe2add2",
   "metadata": {},
   "outputs": [],
   "source": [
    "# Simple Random Sampling: Select 10% of the customers\n",
    "simple_random_sample = data.sample(frac=0.1, random_state=42)"
   ]
  },
  {
   "cell_type": "code",
   "execution_count": null,
   "id": "0d6fdaae-9813-4e8c-a193-bc4f3e13988c",
   "metadata": {},
   "outputs": [
    {
     "name": "stderr",
     "output_type": "stream",
     "text": [
      "<ipython-input-23-47b0bc785185>:2: DeprecationWarning: DataFrameGroupBy.apply operated on the grouping columns. This behavior is deprecated, and in a future version of pandas the grouping columns will be excluded from the operation. Either pass `include_groups=False` to exclude the groupings or explicitly select the grouping columns after groupby to silence this warning.\n",
      "  stratified_sample = data.groupby(\"Purchase_Category\", group_keys=False).apply(\n"
     ]
    }
   ],
   "source": [
    "# Stratified Sampling: : Select a sample based on Purchase_Category, ensuring each category is proportionally represented.\n",
    "stratified_sample = data.groupby(\"Purchase_Category\", group_keys=False).apply(\n",
    "    lambda x: x.sample(frac=0.01, random_state=42)\n",
    ")"
   ]
  },
  {
   "cell_type": "code",
   "execution_count": null,
   "id": "d0668dd6-a835-4a28-9510-4e98ef61020f",
   "metadata": {},
   "outputs": [
    {
     "data": {
      "text/plain": [
       "RangeIndex(start=0, stop=100000, step=1)"
      ]
     },
     "execution_count": 24,
     "metadata": {},
     "output_type": "execute_result"
    }
   ],
   "source": [
    "data.index"
   ]
  },
  {
   "cell_type": "code",
   "execution_count": null,
   "id": "f81daab0-a259-446b-9a54-6c2685321edc",
   "metadata": {},
   "outputs": [
    {
     "data": {
      "text/plain": [
       "100000"
      ]
     },
     "execution_count": 25,
     "metadata": {},
     "output_type": "execute_result"
    }
   ],
   "source": [
    "len(data)"
   ]
  },
  {
   "cell_type": "code",
   "execution_count": null,
   "id": "0b763912-536c-4f14-b784-fc7a1738baff",
   "metadata": {},
   "outputs": [
    {
     "data": {
      "text/html": [
       "<div>\n",
       "<style scoped>\n",
       "    .dataframe tbody tr th:only-of-type {\n",
       "        vertical-align: middle;\n",
       "    }\n",
       "\n",
       "    .dataframe tbody tr th {\n",
       "        vertical-align: top;\n",
       "    }\n",
       "\n",
       "    .dataframe thead th {\n",
       "        text-align: right;\n",
       "    }\n",
       "</style>\n",
       "<table border=\"1\" class=\"dataframe\">\n",
       "  <thead>\n",
       "    <tr style=\"text-align: right;\">\n",
       "      <th></th>\n",
       "      <th>Customer_ID</th>\n",
       "      <th>Gender</th>\n",
       "      <th>Age</th>\n",
       "      <th>Country</th>\n",
       "      <th>Purchase_Amount</th>\n",
       "      <th>Purchase_Category</th>\n",
       "      <th>Transaction_Timestamp</th>\n",
       "    </tr>\n",
       "  </thead>\n",
       "  <tbody>\n",
       "    <tr>\n",
       "      <th>0</th>\n",
       "      <td>1</td>\n",
       "      <td>Male</td>\n",
       "      <td>26</td>\n",
       "      <td>UK</td>\n",
       "      <td>124.25</td>\n",
       "      <td>Fashion</td>\n",
       "      <td>2023-01-01 00:00:00</td>\n",
       "    </tr>\n",
       "    <tr>\n",
       "      <th>1</th>\n",
       "      <td>2</td>\n",
       "      <td>Female</td>\n",
       "      <td>53</td>\n",
       "      <td>USA</td>\n",
       "      <td>498.91</td>\n",
       "      <td>Groceries</td>\n",
       "      <td>2023-01-01 00:01:00</td>\n",
       "    </tr>\n",
       "    <tr>\n",
       "      <th>2</th>\n",
       "      <td>3</td>\n",
       "      <td>Male</td>\n",
       "      <td>23</td>\n",
       "      <td>Germany</td>\n",
       "      <td>210.59</td>\n",
       "      <td>Furniture</td>\n",
       "      <td>2023-01-01 00:02:00</td>\n",
       "    </tr>\n",
       "    <tr>\n",
       "      <th>3</th>\n",
       "      <td>4</td>\n",
       "      <td>Male</td>\n",
       "      <td>41</td>\n",
       "      <td>India</td>\n",
       "      <td>256.43</td>\n",
       "      <td>Electronics</td>\n",
       "      <td>2023-01-01 00:03:00</td>\n",
       "    </tr>\n",
       "    <tr>\n",
       "      <th>4</th>\n",
       "      <td>5</td>\n",
       "      <td>Male</td>\n",
       "      <td>43</td>\n",
       "      <td>Germany</td>\n",
       "      <td>354.97</td>\n",
       "      <td>Fashion</td>\n",
       "      <td>2023-01-01 00:04:00</td>\n",
       "    </tr>\n",
       "    <tr>\n",
       "      <th>...</th>\n",
       "      <td>...</td>\n",
       "      <td>...</td>\n",
       "      <td>...</td>\n",
       "      <td>...</td>\n",
       "      <td>...</td>\n",
       "      <td>...</td>\n",
       "      <td>...</td>\n",
       "    </tr>\n",
       "    <tr>\n",
       "      <th>99995</th>\n",
       "      <td>99996</td>\n",
       "      <td>Male</td>\n",
       "      <td>66</td>\n",
       "      <td>UK</td>\n",
       "      <td>106.20</td>\n",
       "      <td>Groceries</td>\n",
       "      <td>2023-03-11 10:35:00</td>\n",
       "    </tr>\n",
       "    <tr>\n",
       "      <th>99996</th>\n",
       "      <td>99997</td>\n",
       "      <td>Female</td>\n",
       "      <td>30</td>\n",
       "      <td>UK</td>\n",
       "      <td>360.93</td>\n",
       "      <td>Electronics</td>\n",
       "      <td>2023-03-11 10:36:00</td>\n",
       "    </tr>\n",
       "    <tr>\n",
       "      <th>99997</th>\n",
       "      <td>99998</td>\n",
       "      <td>Male</td>\n",
       "      <td>25</td>\n",
       "      <td>India</td>\n",
       "      <td>343.62</td>\n",
       "      <td>Fashion</td>\n",
       "      <td>2023-03-11 10:37:00</td>\n",
       "    </tr>\n",
       "    <tr>\n",
       "      <th>99998</th>\n",
       "      <td>99999</td>\n",
       "      <td>Female</td>\n",
       "      <td>49</td>\n",
       "      <td>USA</td>\n",
       "      <td>293.98</td>\n",
       "      <td>Electronics</td>\n",
       "      <td>2023-03-11 10:38:00</td>\n",
       "    </tr>\n",
       "    <tr>\n",
       "      <th>99999</th>\n",
       "      <td>100000</td>\n",
       "      <td>Female</td>\n",
       "      <td>29</td>\n",
       "      <td>France</td>\n",
       "      <td>375.30</td>\n",
       "      <td>Groceries</td>\n",
       "      <td>2023-03-11 10:39:00</td>\n",
       "    </tr>\n",
       "  </tbody>\n",
       "</table>\n",
       "<p>100000 rows × 7 columns</p>\n",
       "</div>"
      ],
      "text/plain": [
       "       Customer_ID  Gender  Age  Country  Purchase_Amount Purchase_Category  \\\n",
       "0                1    Male   26       UK           124.25           Fashion   \n",
       "1                2  Female   53      USA           498.91         Groceries   \n",
       "2                3    Male   23  Germany           210.59         Furniture   \n",
       "3                4    Male   41    India           256.43       Electronics   \n",
       "4                5    Male   43  Germany           354.97           Fashion   \n",
       "...            ...     ...  ...      ...              ...               ...   \n",
       "99995        99996    Male   66       UK           106.20         Groceries   \n",
       "99996        99997  Female   30       UK           360.93       Electronics   \n",
       "99997        99998    Male   25    India           343.62           Fashion   \n",
       "99998        99999  Female   49      USA           293.98       Electronics   \n",
       "99999       100000  Female   29   France           375.30         Groceries   \n",
       "\n",
       "      Transaction_Timestamp  \n",
       "0       2023-01-01 00:00:00  \n",
       "1       2023-01-01 00:01:00  \n",
       "2       2023-01-01 00:02:00  \n",
       "3       2023-01-01 00:03:00  \n",
       "4       2023-01-01 00:04:00  \n",
       "...                     ...  \n",
       "99995   2023-03-11 10:35:00  \n",
       "99996   2023-03-11 10:36:00  \n",
       "99997   2023-03-11 10:37:00  \n",
       "99998   2023-03-11 10:38:00  \n",
       "99999   2023-03-11 10:39:00  \n",
       "\n",
       "[100000 rows x 7 columns]"
      ]
     },
     "execution_count": 26,
     "metadata": {},
     "output_type": "execute_result"
    }
   ],
   "source": [
    "systematic_sample_list = []\n",
    "for i in range(len(data)):\n",
    "    systematic_sample_list.append(data.iloc[i])\n",
    "    i = i + 10\n",
    "systematic_sample_df = pd.DataFrame(systematic_sample_list)\n",
    "systematic_sample_df"
   ]
  },
  {
   "cell_type": "code",
   "execution_count": null,
   "id": "a7f2e546-440e-4ea1-944f-b053a6e7f7a4",
   "metadata": {},
   "outputs": [],
   "source": [
    "# The issue code is that the line i = i + 10 inside the loop doesn’t affect the range(len(data)) iteration. It only modifies the local variable i, not the loop’s progression."
   ]
  },
  {
   "cell_type": "code",
   "execution_count": null,
   "id": "982d0823-8b12-4296-9932-4677a49d2f60",
   "metadata": {},
   "outputs": [],
   "source": [
    "systematic_sample_list = []\n",
    "for i in range(0, len(data), 10):  # Step by 10\n",
    "    systematic_sample_list.append(data.iloc[i])"
   ]
  },
  {
   "cell_type": "code",
   "execution_count": null,
   "id": "113a302e-2d19-4df9-b15b-116419789bb3",
   "metadata": {},
   "outputs": [
    {
     "data": {
      "text/html": [
       "<div>\n",
       "<style scoped>\n",
       "    .dataframe tbody tr th:only-of-type {\n",
       "        vertical-align: middle;\n",
       "    }\n",
       "\n",
       "    .dataframe tbody tr th {\n",
       "        vertical-align: top;\n",
       "    }\n",
       "\n",
       "    .dataframe thead th {\n",
       "        text-align: right;\n",
       "    }\n",
       "</style>\n",
       "<table border=\"1\" class=\"dataframe\">\n",
       "  <thead>\n",
       "    <tr style=\"text-align: right;\">\n",
       "      <th></th>\n",
       "      <th>Customer_ID</th>\n",
       "      <th>Gender</th>\n",
       "      <th>Age</th>\n",
       "      <th>Country</th>\n",
       "      <th>Purchase_Amount</th>\n",
       "      <th>Purchase_Category</th>\n",
       "      <th>Transaction_Timestamp</th>\n",
       "    </tr>\n",
       "  </thead>\n",
       "  <tbody>\n",
       "    <tr>\n",
       "      <th>0</th>\n",
       "      <td>1</td>\n",
       "      <td>Male</td>\n",
       "      <td>26</td>\n",
       "      <td>UK</td>\n",
       "      <td>124.25</td>\n",
       "      <td>Fashion</td>\n",
       "      <td>2023-01-01 00:00:00</td>\n",
       "    </tr>\n",
       "    <tr>\n",
       "      <th>10</th>\n",
       "      <td>11</td>\n",
       "      <td>Male</td>\n",
       "      <td>54</td>\n",
       "      <td>UK</td>\n",
       "      <td>187.60</td>\n",
       "      <td>Books</td>\n",
       "      <td>2023-01-01 00:10:00</td>\n",
       "    </tr>\n",
       "    <tr>\n",
       "      <th>20</th>\n",
       "      <td>21</td>\n",
       "      <td>Female</td>\n",
       "      <td>53</td>\n",
       "      <td>Germany</td>\n",
       "      <td>203.72</td>\n",
       "      <td>Books</td>\n",
       "      <td>2023-01-01 00:20:00</td>\n",
       "    </tr>\n",
       "    <tr>\n",
       "      <th>30</th>\n",
       "      <td>31</td>\n",
       "      <td>Male</td>\n",
       "      <td>55</td>\n",
       "      <td>China</td>\n",
       "      <td>110.40</td>\n",
       "      <td>Electronics</td>\n",
       "      <td>2023-01-01 00:30:00</td>\n",
       "    </tr>\n",
       "    <tr>\n",
       "      <th>40</th>\n",
       "      <td>41</td>\n",
       "      <td>Male</td>\n",
       "      <td>42</td>\n",
       "      <td>France</td>\n",
       "      <td>262.37</td>\n",
       "      <td>Electronics</td>\n",
       "      <td>2023-01-01 00:40:00</td>\n",
       "    </tr>\n",
       "    <tr>\n",
       "      <th>...</th>\n",
       "      <td>...</td>\n",
       "      <td>...</td>\n",
       "      <td>...</td>\n",
       "      <td>...</td>\n",
       "      <td>...</td>\n",
       "      <td>...</td>\n",
       "      <td>...</td>\n",
       "    </tr>\n",
       "    <tr>\n",
       "      <th>99950</th>\n",
       "      <td>99951</td>\n",
       "      <td>Male</td>\n",
       "      <td>41</td>\n",
       "      <td>UK</td>\n",
       "      <td>187.84</td>\n",
       "      <td>Fashion</td>\n",
       "      <td>2023-03-11 09:50:00</td>\n",
       "    </tr>\n",
       "    <tr>\n",
       "      <th>99960</th>\n",
       "      <td>99961</td>\n",
       "      <td>Female</td>\n",
       "      <td>38</td>\n",
       "      <td>India</td>\n",
       "      <td>167.21</td>\n",
       "      <td>Electronics</td>\n",
       "      <td>2023-03-11 10:00:00</td>\n",
       "    </tr>\n",
       "    <tr>\n",
       "      <th>99970</th>\n",
       "      <td>99971</td>\n",
       "      <td>Female</td>\n",
       "      <td>52</td>\n",
       "      <td>France</td>\n",
       "      <td>242.58</td>\n",
       "      <td>Fashion</td>\n",
       "      <td>2023-03-11 10:10:00</td>\n",
       "    </tr>\n",
       "    <tr>\n",
       "      <th>99980</th>\n",
       "      <td>99981</td>\n",
       "      <td>Female</td>\n",
       "      <td>58</td>\n",
       "      <td>India</td>\n",
       "      <td>229.80</td>\n",
       "      <td>Books</td>\n",
       "      <td>2023-03-11 10:20:00</td>\n",
       "    </tr>\n",
       "    <tr>\n",
       "      <th>99990</th>\n",
       "      <td>99991</td>\n",
       "      <td>Female</td>\n",
       "      <td>51</td>\n",
       "      <td>India</td>\n",
       "      <td>106.44</td>\n",
       "      <td>Books</td>\n",
       "      <td>2023-03-11 10:30:00</td>\n",
       "    </tr>\n",
       "  </tbody>\n",
       "</table>\n",
       "<p>10000 rows × 7 columns</p>\n",
       "</div>"
      ],
      "text/plain": [
       "       Customer_ID  Gender  Age  Country  Purchase_Amount Purchase_Category  \\\n",
       "0                1    Male   26       UK           124.25           Fashion   \n",
       "10              11    Male   54       UK           187.60             Books   \n",
       "20              21  Female   53  Germany           203.72             Books   \n",
       "30              31    Male   55    China           110.40       Electronics   \n",
       "40              41    Male   42   France           262.37       Electronics   \n",
       "...            ...     ...  ...      ...              ...               ...   \n",
       "99950        99951    Male   41       UK           187.84           Fashion   \n",
       "99960        99961  Female   38    India           167.21       Electronics   \n",
       "99970        99971  Female   52   France           242.58           Fashion   \n",
       "99980        99981  Female   58    India           229.80             Books   \n",
       "99990        99991  Female   51    India           106.44             Books   \n",
       "\n",
       "      Transaction_Timestamp  \n",
       "0       2023-01-01 00:00:00  \n",
       "10      2023-01-01 00:10:00  \n",
       "20      2023-01-01 00:20:00  \n",
       "30      2023-01-01 00:30:00  \n",
       "40      2023-01-01 00:40:00  \n",
       "...                     ...  \n",
       "99950   2023-03-11 09:50:00  \n",
       "99960   2023-03-11 10:00:00  \n",
       "99970   2023-03-11 10:10:00  \n",
       "99980   2023-03-11 10:20:00  \n",
       "99990   2023-03-11 10:30:00  \n",
       "\n",
       "[10000 rows x 7 columns]"
      ]
     },
     "execution_count": 29,
     "metadata": {},
     "output_type": "execute_result"
    }
   ],
   "source": [
    "systematic_sample_df = pd.DataFrame(systematic_sample_list)\n",
    "systematic_sample_df"
   ]
  },
  {
   "cell_type": "code",
   "execution_count": null,
   "id": "3f00be25-5ad4-4f08-a4ee-6a8e15823997",
   "metadata": {},
   "outputs": [
    {
     "data": {
      "text/plain": [
       "Index(['Customer_ID', 'Gender', 'Age', 'Country', 'Purchase_Amount',\n",
       "       'Purchase_Category', 'Transaction_Timestamp'],\n",
       "      dtype='object')"
      ]
     },
     "execution_count": 30,
     "metadata": {},
     "output_type": "execute_result"
    }
   ],
   "source": [
    "data.columns"
   ]
  },
  {
   "cell_type": "code",
   "execution_count": null,
   "id": "b8bfcef3-7667-4038-92b1-e465390fe521",
   "metadata": {},
   "outputs": [
    {
     "data": {
      "text/plain": [
       "array(['UK', 'USA', 'Germany', 'India', 'France', 'China'], dtype=object)"
      ]
     },
     "execution_count": 31,
     "metadata": {},
     "output_type": "execute_result"
    }
   ],
   "source": [
    "data['Country'].unique()"
   ]
  },
  {
   "cell_type": "code",
   "execution_count": null,
   "id": "4be0cc68-9a3e-4292-9dca-5bee17c5f993",
   "metadata": {},
   "outputs": [],
   "source": [
    "countries_sampled = data[\"Country\"].sample(n=3, random_state=42).unique()"
   ]
  },
  {
   "cell_type": "code",
   "execution_count": null,
   "id": "ca80e2f3-5f08-4d29-a67c-b283072c9767",
   "metadata": {},
   "outputs": [
    {
     "data": {
      "text/plain": [
       "array(['USA', 'France', 'China'], dtype=object)"
      ]
     },
     "execution_count": 33,
     "metadata": {},
     "output_type": "execute_result"
    }
   ],
   "source": [
    "countries_sampled"
   ]
  },
  {
   "cell_type": "code",
   "execution_count": null,
   "id": "de9c4be2-68f7-42f3-8bff-beca225b9820",
   "metadata": {},
   "outputs": [],
   "source": [
    "cluster_sample = data[data['Country'].isin(countries_sampled)]"
   ]
  },
  {
   "cell_type": "code",
   "execution_count": null,
   "id": "86beae92-4972-44ff-bf1e-fbb2fe069310",
   "metadata": {},
   "outputs": [
    {
     "data": {
      "text/html": [
       "<div>\n",
       "<style scoped>\n",
       "    .dataframe tbody tr th:only-of-type {\n",
       "        vertical-align: middle;\n",
       "    }\n",
       "\n",
       "    .dataframe tbody tr th {\n",
       "        vertical-align: top;\n",
       "    }\n",
       "\n",
       "    .dataframe thead th {\n",
       "        text-align: right;\n",
       "    }\n",
       "</style>\n",
       "<table border=\"1\" class=\"dataframe\">\n",
       "  <thead>\n",
       "    <tr style=\"text-align: right;\">\n",
       "      <th></th>\n",
       "      <th>Customer_ID</th>\n",
       "      <th>Gender</th>\n",
       "      <th>Age</th>\n",
       "      <th>Country</th>\n",
       "      <th>Purchase_Amount</th>\n",
       "      <th>Purchase_Category</th>\n",
       "      <th>Transaction_Timestamp</th>\n",
       "    </tr>\n",
       "  </thead>\n",
       "  <tbody>\n",
       "    <tr>\n",
       "      <th>1</th>\n",
       "      <td>2</td>\n",
       "      <td>Female</td>\n",
       "      <td>53</td>\n",
       "      <td>USA</td>\n",
       "      <td>498.91</td>\n",
       "      <td>Groceries</td>\n",
       "      <td>2023-01-01 00:01:00</td>\n",
       "    </tr>\n",
       "    <tr>\n",
       "      <th>7</th>\n",
       "      <td>8</td>\n",
       "      <td>Male</td>\n",
       "      <td>40</td>\n",
       "      <td>USA</td>\n",
       "      <td>8.83</td>\n",
       "      <td>Electronics</td>\n",
       "      <td>2023-01-01 00:07:00</td>\n",
       "    </tr>\n",
       "    <tr>\n",
       "      <th>8</th>\n",
       "      <td>9</td>\n",
       "      <td>Male</td>\n",
       "      <td>34</td>\n",
       "      <td>France</td>\n",
       "      <td>148.27</td>\n",
       "      <td>Furniture</td>\n",
       "      <td>2023-01-01 00:08:00</td>\n",
       "    </tr>\n",
       "    <tr>\n",
       "      <th>11</th>\n",
       "      <td>12</td>\n",
       "      <td>Male</td>\n",
       "      <td>67</td>\n",
       "      <td>France</td>\n",
       "      <td>117.53</td>\n",
       "      <td>Electronics</td>\n",
       "      <td>2023-01-01 00:11:00</td>\n",
       "    </tr>\n",
       "    <tr>\n",
       "      <th>12</th>\n",
       "      <td>13</td>\n",
       "      <td>Male</td>\n",
       "      <td>62</td>\n",
       "      <td>USA</td>\n",
       "      <td>85.77</td>\n",
       "      <td>Groceries</td>\n",
       "      <td>2023-01-01 00:12:00</td>\n",
       "    </tr>\n",
       "  </tbody>\n",
       "</table>\n",
       "</div>"
      ],
      "text/plain": [
       "    Customer_ID  Gender  Age Country  Purchase_Amount Purchase_Category  \\\n",
       "1             2  Female   53     USA           498.91         Groceries   \n",
       "7             8    Male   40     USA             8.83       Electronics   \n",
       "8             9    Male   34  France           148.27         Furniture   \n",
       "11           12    Male   67  France           117.53       Electronics   \n",
       "12           13    Male   62     USA            85.77         Groceries   \n",
       "\n",
       "   Transaction_Timestamp  \n",
       "1    2023-01-01 00:01:00  \n",
       "7    2023-01-01 00:07:00  \n",
       "8    2023-01-01 00:08:00  \n",
       "11   2023-01-01 00:11:00  \n",
       "12   2023-01-01 00:12:00  "
      ]
     },
     "execution_count": 35,
     "metadata": {},
     "output_type": "execute_result"
    }
   ],
   "source": [
    "cluster_sample.head()"
   ]
  }
 ],
 "metadata": {
  "language_info": {
   "codemirror_mode": {
    "name": "ipython",
    "version": 3
   },
   "file_extension": ".py",
   "mimetype": "text/x-python",
   "name": "python",
   "nbconvert_exporter": "python",
   "pygments_lexer": "ipython3",
   "version": 3
  }
 },
 "nbformat": 4,
 "nbformat_minor": 2
}
