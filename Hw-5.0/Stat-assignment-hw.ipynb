{
 "cells": [
  {
   "cell_type": "code",
   "execution_count": null,
   "id": "9ea9b2fb-3ef4-4431-a748-b977b88facb6",
   "metadata": {},
   "outputs": [
    {
     "data": {
      "text/plain": [
       "Index(['Customer_ID', 'Gender', 'Age', 'Country', 'Purchase_Amount',\n",
       "       'Purchase_Category', 'Transaction_Timestamp'],\n",
       "      dtype='object')"
      ]
     },
     "execution_count": 1,
     "metadata": {},
     "output_type": "execute_result"
    }
   ],
   "source": [
    "import pandas as pd\n",
    "\n",
    "\n",
    "data = pd.read_csv(\"ecommerce_data.csv\")\n",
    "data.columns"
   ]
  },
  {
   "cell_type": "code",
   "execution_count": null,
   "id": "09ab844e-3b99-4f05-b469-d12f8926e205",
   "metadata": {},
   "outputs": [
    {
     "data": {
      "text/plain": [
       "np.float64(252.27082380000002)"
      ]
     },
     "execution_count": 2,
     "metadata": {},
     "output_type": "execute_result"
    }
   ],
   "source": [
    "data[\"Purchase_Amount\"].mean()"
   ]
  },
  {
   "cell_type": "code",
   "execution_count": null,
   "id": "7b7d3578-7067-4c09-b4b5-fe034e8feb1f",
   "metadata": {},
   "outputs": [
    {
     "data": {
      "text/plain": [
       "np.float64(252.385)"
      ]
     },
     "execution_count": 3,
     "metadata": {},
     "output_type": "execute_result"
    }
   ],
   "source": [
    "data[\"Purchase_Amount\"].median()"
   ]
  },
  {
   "cell_type": "code",
   "execution_count": null,
   "id": "fec6f1db-90b0-4114-9ae2-6cf437b883be",
   "metadata": {},
   "outputs": [
    {
     "data": {
      "text/plain": [
       "0    67.79\n",
       "Name: Purchase_Amount, dtype: float64"
      ]
     },
     "execution_count": 4,
     "metadata": {},
     "output_type": "execute_result"
    }
   ],
   "source": [
    "data[\"Purchase_Amount\"].mode()"
   ]
  },
  {
   "cell_type": "code",
   "execution_count": null,
   "id": "983d6885-a48c-493b-917a-3100fc3bd2f3",
   "metadata": {},
   "outputs": [
    {
     "data": {
      "text/plain": [
       "0    124.25\n",
       "1    498.91\n",
       "2    210.59\n",
       "3    256.43\n",
       "4    354.97\n",
       "Name: Purchase_Amount, dtype: float64"
      ]
     },
     "execution_count": 5,
     "metadata": {},
     "output_type": "execute_result"
    }
   ],
   "source": [
    "data[\"Purchase_Amount\"].head(5)"
   ]
  },
  {
   "cell_type": "code",
   "execution_count": null,
   "id": "fe20de08-93a5-4559-a618-2d3d0108dc22",
   "metadata": {},
   "outputs": [
    {
     "data": {
      "text/plain": [
       "np.float64(143.05835345315657)"
      ]
     },
     "execution_count": 6,
     "metadata": {},
     "output_type": "execute_result"
    }
   ],
   "source": [
    "data[\"Purchase_Amount\"].std()"
   ]
  },
  {
   "cell_type": "code",
   "execution_count": null,
   "id": "c3674421-3486-463f-846a-6466ecd0f9f3",
   "metadata": {},
   "outputs": [
    {
     "data": {
      "text/plain": [
       "np.float64(20465.692492728278)"
      ]
     },
     "execution_count": 7,
     "metadata": {},
     "output_type": "execute_result"
    }
   ],
   "source": [
    "data[\"Purchase_Amount\"].var()"
   ]
  },
  {
   "cell_type": "code",
   "execution_count": null,
   "id": "2da56f1f-a6c0-4421-a651-18b38368b9e6",
   "metadata": {},
   "outputs": [
    {
     "data": {
      "text/html": [
       "<div>\n",
       "<style scoped>\n",
       "    .dataframe tbody tr th:only-of-type {\n",
       "        vertical-align: middle;\n",
       "    }\n",
       "\n",
       "    .dataframe tbody tr th {\n",
       "        vertical-align: top;\n",
       "    }\n",
       "\n",
       "    .dataframe thead th {\n",
       "        text-align: right;\n",
       "    }\n",
       "</style>\n",
       "<table border=\"1\" class=\"dataframe\">\n",
       "  <thead>\n",
       "    <tr style=\"text-align: right;\">\n",
       "      <th></th>\n",
       "      <th>Customer_ID</th>\n",
       "      <th>Gender</th>\n",
       "      <th>Age</th>\n",
       "      <th>Country</th>\n",
       "      <th>Purchase_Amount</th>\n",
       "      <th>Purchase_Category</th>\n",
       "      <th>Transaction_Timestamp</th>\n",
       "    </tr>\n",
       "  </thead>\n",
       "  <tbody>\n",
       "    <tr>\n",
       "      <th>0</th>\n",
       "      <td>1</td>\n",
       "      <td>Male</td>\n",
       "      <td>26</td>\n",
       "      <td>UK</td>\n",
       "      <td>124.25</td>\n",
       "      <td>Fashion</td>\n",
       "      <td>2023-01-01 00:00:00</td>\n",
       "    </tr>\n",
       "    <tr>\n",
       "      <th>1</th>\n",
       "      <td>2</td>\n",
       "      <td>Female</td>\n",
       "      <td>53</td>\n",
       "      <td>USA</td>\n",
       "      <td>498.91</td>\n",
       "      <td>Groceries</td>\n",
       "      <td>2023-01-01 00:01:00</td>\n",
       "    </tr>\n",
       "    <tr>\n",
       "      <th>2</th>\n",
       "      <td>3</td>\n",
       "      <td>Male</td>\n",
       "      <td>23</td>\n",
       "      <td>Germany</td>\n",
       "      <td>210.59</td>\n",
       "      <td>Furniture</td>\n",
       "      <td>2023-01-01 00:02:00</td>\n",
       "    </tr>\n",
       "    <tr>\n",
       "      <th>3</th>\n",
       "      <td>4</td>\n",
       "      <td>Male</td>\n",
       "      <td>41</td>\n",
       "      <td>India</td>\n",
       "      <td>256.43</td>\n",
       "      <td>Electronics</td>\n",
       "      <td>2023-01-01 00:03:00</td>\n",
       "    </tr>\n",
       "    <tr>\n",
       "      <th>4</th>\n",
       "      <td>5</td>\n",
       "      <td>Male</td>\n",
       "      <td>43</td>\n",
       "      <td>Germany</td>\n",
       "      <td>354.97</td>\n",
       "      <td>Fashion</td>\n",
       "      <td>2023-01-01 00:04:00</td>\n",
       "    </tr>\n",
       "  </tbody>\n",
       "</table>\n",
       "</div>"
      ],
      "text/plain": [
       "   Customer_ID  Gender  Age  Country  Purchase_Amount Purchase_Category  \\\n",
       "0            1    Male   26       UK           124.25           Fashion   \n",
       "1            2  Female   53      USA           498.91         Groceries   \n",
       "2            3    Male   23  Germany           210.59         Furniture   \n",
       "3            4    Male   41    India           256.43       Electronics   \n",
       "4            5    Male   43  Germany           354.97           Fashion   \n",
       "\n",
       "  Transaction_Timestamp  \n",
       "0   2023-01-01 00:00:00  \n",
       "1   2023-01-01 00:01:00  \n",
       "2   2023-01-01 00:02:00  \n",
       "3   2023-01-01 00:03:00  \n",
       "4   2023-01-01 00:04:00  "
      ]
     },
     "execution_count": 9,
     "metadata": {},
     "output_type": "execute_result"
    }
   ],
   "source": [
    "data.head()"
   ]
  },
  {
   "cell_type": "code",
   "execution_count": null,
   "id": "b80dbac8-99d8-4a2c-847c-15ddb4a798af",
   "metadata": {},
   "outputs": [
    {
     "data": {
      "text/plain": [
       "np.float64(43.46592)"
      ]
     },
     "execution_count": 11,
     "metadata": {},
     "output_type": "execute_result"
    }
   ],
   "source": [
    "data[\"Age\"].mean()"
   ]
  },
  {
   "cell_type": "code",
   "execution_count": null,
   "id": "d1ae9c08-bc06-4a6f-9893-c28d6566452d",
   "metadata": {},
   "outputs": [
    {
     "data": {
      "text/plain": [
       "np.float64(31.0)"
      ]
     },
     "execution_count": 13,
     "metadata": {},
     "output_type": "execute_result"
    }
   ],
   "source": [
    "data[\"Age\"].quantile(0.25)"
   ]
  },
  {
   "cell_type": "code",
   "execution_count": null,
   "id": "23c0e958-a1bc-4569-9506-0a1352cf4d78",
   "metadata": {},
   "outputs": [
    {
     "data": {
      "text/plain": [
       "np.float64(43.0)"
      ]
     },
     "execution_count": 14,
     "metadata": {},
     "output_type": "execute_result"
    }
   ],
   "source": [
    "data[\"Age\"].quantile(0.5)"
   ]
  },
  {
   "cell_type": "code",
   "execution_count": null,
   "id": "f3cd326d-87f8-43dd-b6a9-24ca25323e60",
   "metadata": {},
   "outputs": [
    {
     "data": {
      "text/plain": [
       "np.float64(56.0)"
      ]
     },
     "execution_count": 15,
     "metadata": {},
     "output_type": "execute_result"
    }
   ],
   "source": [
    "data[\"Age\"].quantile(0.75)"
   ]
  },
  {
   "cell_type": "code",
   "execution_count": null,
   "id": "9623d1bb-ae6c-41f9-9afb-4f8730e0976b",
   "metadata": {},
   "outputs": [],
   "source": [
    "# quartiles of Age"
   ]
  },
  {
   "cell_type": "code",
   "execution_count": null,
   "id": "10828bb7-e02c-42e1-933e-09a853bdbc93",
   "metadata": {},
   "outputs": [
    {
     "data": {
      "text/plain": [
       "np.int64(51)"
      ]
     },
     "execution_count": 17,
     "metadata": {},
     "output_type": "execute_result"
    }
   ],
   "source": [
    "data_range = data[\"Age\"].max() - data[\"Age\"].min()\n",
    "data_range"
   ]
  },
  {
   "cell_type": "code",
   "execution_count": null,
   "id": "57d61a41-abe0-4813-a418-1669fe467ad3",
   "metadata": {},
   "outputs": [
    {
     "data": {
      "text/plain": [
       "0        Fashion\n",
       "1      Groceries\n",
       "2      Furniture\n",
       "3    Electronics\n",
       "4        Fashion\n",
       "Name: Purchase_Category, dtype: object"
      ]
     },
     "execution_count": 18,
     "metadata": {},
     "output_type": "execute_result"
    }
   ],
   "source": [
    "data[\"Purchase_Category\"].head()"
   ]
  },
  {
   "cell_type": "code",
   "execution_count": null,
   "id": "587faa54-be15-4065-bd1d-a526ea0e5d85",
   "metadata": {},
   "outputs": [
    {
     "name": "stdout",
     "output_type": "stream",
     "text": [
      "Purchase_Category\n",
      "Furniture      20203\n",
      "Groceries      20095\n",
      "Fashion        19970\n",
      "Books          19926\n",
      "Electronics    19806\n",
      "Name: count, dtype: int64\n"
     ]
    }
   ],
   "source": [
    "# counting the categories\n",
    "\n",
    "category_count = data[\"Purchase_Category\"].value_counts()\n",
    "print(category_count)"
   ]
  },
  {
   "cell_type": "code",
   "execution_count": null,
   "id": "5d2edcc7-2fb2-4102-b283-a819ba1546f2",
   "metadata": {},
   "outputs": [
    {
     "data": {
      "text/plain": [
       "(100000, 7)"
      ]
     },
     "execution_count": 21,
     "metadata": {},
     "output_type": "execute_result"
    }
   ],
   "source": [
    "data.shape"
   ]
  },
  {
   "cell_type": "code",
   "execution_count": null,
   "id": "da4d8a8b-4535-4d65-8aea-f4b95d7cacb8",
   "metadata": {},
   "outputs": [
    {
     "data": {
      "text/plain": [
       "<Axes: >"
      ]
     },
     "execution_count": 24,
     "metadata": {},
     "output_type": "execute_result"
    },
    {
     "data": {
      "image/png": "[encoded data removed]",
      "text/plain": [
       "<Figure size 640x480 with 1 Axes>"
      ]
     },
     "metadata": {},
     "output_type": "display_data"
    }
   ],
   "source": [
    "data.boxplot(column=\"Purchase_Amount\")"
   ]
  },
  {
   "cell_type": "code",
   "execution_count": null,
   "id": "2fa06280-4b71-4642-9d59-c9ec8a4ddf79",
   "metadata": {},
   "outputs": [
    {
     "data": {
      "text/plain": [
       "array([[<Axes: title={'center': 'Purchase_Amount'}>]], dtype=object)"
      ]
     },
     "execution_count": 25,
     "metadata": {},
     "output_type": "execute_result"
    },
    {
     "data": {
      "image/png": "[encoded data removed]",
      "text/plain": [
       "<Figure size 640x480 with 1 Axes>"
      ]
     },
     "metadata": {},
     "output_type": "display_data"
    }
   ],
   "source": [
    "data.hist(column=\"Purchase_Amount\")"
   ]
  },
  {
   "cell_type": "code",
   "execution_count": null,
   "id": "8a98859b-1387-4176-9179-8cfa908e8c69",
   "metadata": {},
   "outputs": [],
   "source": [
    "# Simple Random Sampling: Select 10% of the customers\n",
    "simple_random_sample = data.sample(frac=0.1, random_state=42)"
   ]
  },
  {
   "cell_type": "code",
   "execution_count": null,
   "id": "edf46759-5d7a-4025-8f20-fe077d509519",
   "metadata": {},
   "outputs": [
    {
     "name": "stderr",
     "output_type": "stream",
     "text": [
      "<ipython-input-33-47b0bc785185>:2: DeprecationWarning: DataFrameGroupBy.apply operated on the grouping columns. This behavior is deprecated, and in a future version of pandas the grouping columns will be excluded from the operation. Either pass `include_groups=False` to exclude the groupings or explicitly select the grouping columns after groupby to silence this warning.\n",
      "  stratified_sample = data.groupby(\"Purchase_Category\", group_keys=False).apply(\n"
     ]
    }
   ],
   "source": [
    "# Stratified Sampling: : Select a sample based on Purchase_Category, ensuring each category is proportionally represented.\n",
    "stratified_sample = data.groupby(\"Purchase_Category\", group_keys=False).apply(\n",
    "    lambda x: x.sample(frac=0.01, random_state=42)\n",
    ")"
   ]
  },
  {
   "cell_type": "code",
   "execution_count": null,
   "id": "b100ca54-1819-4ac0-b818-5af9e88f566d",
   "metadata": {},
   "outputs": [
    {
     "data": {
      "text/plain": [
       "RangeIndex(start=0, stop=100000, step=1)"
      ]
     },
     "execution_count": 36,
     "metadata": {},
     "output_type": "execute_result"
    }
   ],
   "source": [
    "data.index"
   ]
  },
  {
   "cell_type": "code",
   "execution_count": null,
   "id": "217b9adb-059f-447b-9062-b0928cd98fef",
   "metadata": {},
   "outputs": [
    {
     "data": {
      "text/plain": [
       "100000"
      ]
     },
     "execution_count": 37,
     "metadata": {},
     "output_type": "execute_result"
    }
   ],
   "source": [
    "len(data)"
   ]
  },
  {
   "cell_type": "code",
   "execution_count": null,
   "id": "ead590cd-2aad-4f92-b7da-93da521446d3",
   "metadata": {},
   "outputs": [
    {
     "data": {
      "text/html": [
       "<div>\n",
       "<style scoped>\n",
       "    .dataframe tbody tr th:only-of-type {\n",
       "        vertical-align: middle;\n",
       "    }\n",
       "\n",
       "    .dataframe tbody tr th {\n",
       "        vertical-align: top;\n",
       "    }\n",
       "\n",
       "    .dataframe thead th {\n",
       "        text-align: right;\n",
       "    }\n",
       "</style>\n",
       "<table border=\"1\" class=\"dataframe\">\n",
       "  <thead>\n",
       "    <tr style=\"text-align: right;\">\n",
       "      <th></th>\n",
       "      <th>Customer_ID</th>\n",
       "      <th>Gender</th>\n",
       "      <th>Age</th>\n",
       "      <th>Country</th>\n",
       "      <th>Purchase_Amount</th>\n",
       "      <th>Purchase_Category</th>\n",
       "      <th>Transaction_Timestamp</th>\n",
       "    </tr>\n",
       "  </thead>\n",
       "  <tbody>\n",
       "    <tr>\n",
       "      <th>0</th>\n",
       "      <td>1</td>\n",
       "      <td>Male</td>\n",
       "      <td>26</td>\n",
       "      <td>UK</td>\n",
       "      <td>124.25</td>\n",
       "      <td>Fashion</td>\n",
       "      <td>2023-01-01 00:00:00</td>\n",
       "    </tr>\n",
       "    <tr>\n",
       "      <th>1</th>\n",
       "      <td>2</td>\n",
       "      <td>Female</td>\n",
       "      <td>53</td>\n",
       "      <td>USA</td>\n",
       "      <td>498.91</td>\n",
       "      <td>Groceries</td>\n",
       "      <td>2023-01-01 00:01:00</td>\n",
       "    </tr>\n",
       "    <tr>\n",
       "      <th>2</th>\n",
       "      <td>3</td>\n",
       "      <td>Male</td>\n",
       "      <td>23</td>\n",
       "      <td>Germany</td>\n",
       "      <td>210.59</td>\n",
       "      <td>Furniture</td>\n",
       "      <td>2023-01-01 00:02:00</td>\n",
       "    </tr>\n",
       "    <tr>\n",
       "      <th>3</th>\n",
       "      <td>4</td>\n",
       "      <td>Male</td>\n",
       "      <td>41</td>\n",
       "      <td>India</td>\n",
       "      <td>256.43</td>\n",
       "      <td>Electronics</td>\n",
       "      <td>2023-01-01 00:03:00</td>\n",
       "    </tr>\n",
       "    <tr>\n",
       "      <th>4</th>\n",
       "      <td>5</td>\n",
       "      <td>Male</td>\n",
       "      <td>43</td>\n",
       "      <td>Germany</td>\n",
       "      <td>354.97</td>\n",
       "      <td>Fashion</td>\n",
       "      <td>2023-01-01 00:04:00</td>\n",
       "    </tr>\n",
       "    <tr>\n",
       "      <th>...</th>\n",
       "      <td>...</td>\n",
       "      <td>...</td>\n",
       "      <td>...</td>\n",
       "      <td>...</td>\n",
       "      <td>...</td>\n",
       "      <td>...</td>\n",
       "      <td>...</td>\n",
       "    </tr>\n",
       "    <tr>\n",
       "      <th>99995</th>\n",
       "      <td>99996</td>\n",
       "      <td>Male</td>\n",
       "      <td>66</td>\n",
       "      <td>UK</td>\n",
       "      <td>106.20</td>\n",
       "      <td>Groceries</td>\n",
       "      <td>2023-03-11 10:35:00</td>\n",
       "    </tr>\n",
       "    <tr>\n",
       "      <th>99996</th>\n",
       "      <td>99997</td>\n",
       "      <td>Female</td>\n",
       "      <td>30</td>\n",
       "      <td>UK</td>\n",
       "      <td>360.93</td>\n",
       "      <td>Electronics</td>\n",
       "      <td>2023-03-11 10:36:00</td>\n",
       "    </tr>\n",
       "    <tr>\n",
       "      <th>99997</th>\n",
       "      <td>99998</td>\n",
       "      <td>Male</td>\n",
       "      <td>25</td>\n",
       "      <td>India</td>\n",
       "      <td>343.62</td>\n",
       "      <td>Fashion</td>\n",
       "      <td>2023-03-11 10:37:00</td>\n",
       "    </tr>\n",
       "    <tr>\n",
       "      <th>99998</th>\n",
       "      <td>99999</td>\n",
       "      <td>Female</td>\n",
       "      <td>49</td>\n",
       "      <td>USA</td>\n",
       "      <td>293.98</td>\n",
       "      <td>Electronics</td>\n",
       "      <td>2023-03-11 10:38:00</td>\n",
       "    </tr>\n",
       "    <tr>\n",
       "      <th>99999</th>\n",
       "      <td>100000</td>\n",
       "      <td>Female</td>\n",
       "      <td>29</td>\n",
       "      <td>France</td>\n",
       "      <td>375.30</td>\n",
       "      <td>Groceries</td>\n",
       "      <td>2023-03-11 10:39:00</td>\n",
       "    </tr>\n",
       "  </tbody>\n",
       "</table>\n",
       "<p>100000 rows × 7 columns</p>\n",
       "</div>"
      ],
      "text/plain": [
       "       Customer_ID  Gender  Age  Country  Purchase_Amount Purchase_Category  \\\n",
       "0                1    Male   26       UK           124.25           Fashion   \n",
       "1                2  Female   53      USA           498.91         Groceries   \n",
       "2                3    Male   23  Germany           210.59         Furniture   \n",
       "3                4    Male   41    India           256.43       Electronics   \n",
       "4                5    Male   43  Germany           354.97           Fashion   \n",
       "...            ...     ...  ...      ...              ...               ...   \n",
       "99995        99996    Male   66       UK           106.20         Groceries   \n",
       "99996        99997  Female   30       UK           360.93       Electronics   \n",
       "99997        99998    Male   25    India           343.62           Fashion   \n",
       "99998        99999  Female   49      USA           293.98       Electronics   \n",
       "99999       100000  Female   29   France           375.30         Groceries   \n",
       "\n",
       "      Transaction_Timestamp  \n",
       "0       2023-01-01 00:00:00  \n",
       "1       2023-01-01 00:01:00  \n",
       "2       2023-01-01 00:02:00  \n",
       "3       2023-01-01 00:03:00  \n",
       "4       2023-01-01 00:04:00  \n",
       "...                     ...  \n",
       "99995   2023-03-11 10:35:00  \n",
       "99996   2023-03-11 10:36:00  \n",
       "99997   2023-03-11 10:37:00  \n",
       "99998   2023-03-11 10:38:00  \n",
       "99999   2023-03-11 10:39:00  \n",
       "\n",
       "[100000 rows x 7 columns]"
      ]
     },
     "execution_count": 38,
     "metadata": {},
     "output_type": "execute_result"
    }
   ],
   "source": [
    "systematic_sample_list = []\n",
    "for i in range(len(data)):\n",
    "    systematic_sample_list.append(data.iloc[i])\n",
    "    i = i + 10\n",
    "systematic_sample_df = pd.DataFrame(systematic_sample_list)\n",
    "systematic_sample_df"
   ]
  },
  {
   "cell_type": "code",
   "execution_count": null,
   "id": "ce80336f-aadd-446d-b71b-c183b08c8c56",
   "metadata": {},
   "outputs": [],
   "source": [
    "# The issue code is that the line i = i + 10 inside the loop doesn’t affect the range(len(data)) iteration. It only modifies the local variable i, not the loop’s progression."
   ]
  },
  {
   "cell_type": "code",
   "execution_count": null,
   "id": "be11b3a2-4a15-4817-94df-f6947be4996f",
   "metadata": {},
   "outputs": [
    {
     "data": {
      "text/html": [
       "<div>\n",
       "<style scoped>\n",
       "    .dataframe tbody tr th:only-of-type {\n",
       "        vertical-align: middle;\n",
       "    }\n",
       "\n",
       "    .dataframe tbody tr th {\n",
       "        vertical-align: top;\n",
       "    }\n",
       "\n",
       "    .dataframe thead th {\n",
       "        text-align: right;\n",
       "    }\n",
       "</style>\n",
       "<table border=\"1\" class=\"dataframe\">\n",
       "  <thead>\n",
       "    <tr style=\"text-align: right;\">\n",
       "      <th></th>\n",
       "      <th>Customer_ID</th>\n",
       "      <th>Gender</th>\n",
       "      <th>Age</th>\n",
       "      <th>Country</th>\n",
       "      <th>Purchase_Amount</th>\n",
       "      <th>Purchase_Category</th>\n",
       "      <th>Transaction_Timestamp</th>\n",
       "    </tr>\n",
       "  </thead>\n",
       "  <tbody>\n",
       "    <tr>\n",
       "      <th>0</th>\n",
       "      <td>1</td>\n",
       "      <td>Male</td>\n",
       "      <td>26</td>\n",
       "      <td>UK</td>\n",
       "      <td>124.25</td>\n",
       "      <td>Fashion</td>\n",
       "      <td>2023-01-01 00:00:00</td>\n",
       "    </tr>\n",
       "    <tr>\n",
       "      <th>10</th>\n",
       "      <td>11</td>\n",
       "      <td>Male</td>\n",
       "      <td>54</td>\n",
       "      <td>UK</td>\n",
       "      <td>187.60</td>\n",
       "      <td>Books</td>\n",
       "      <td>2023-01-01 00:10:00</td>\n",
       "    </tr>\n",
       "    <tr>\n",
       "      <th>20</th>\n",
       "      <td>21</td>\n",
       "      <td>Female</td>\n",
       "      <td>53</td>\n",
       "      <td>Germany</td>\n",
       "      <td>203.72</td>\n",
       "      <td>Books</td>\n",
       "      <td>2023-01-01 00:20:00</td>\n",
       "    </tr>\n",
       "    <tr>\n",
       "      <th>30</th>\n",
       "      <td>31</td>\n",
       "      <td>Male</td>\n",
       "      <td>55</td>\n",
       "      <td>China</td>\n",
       "      <td>110.40</td>\n",
       "      <td>Electronics</td>\n",
       "      <td>2023-01-01 00:30:00</td>\n",
       "    </tr>\n",
       "    <tr>\n",
       "      <th>40</th>\n",
       "      <td>41</td>\n",
       "      <td>Male</td>\n",
       "      <td>42</td>\n",
       "      <td>France</td>\n",
       "      <td>262.37</td>\n",
       "      <td>Electronics</td>\n",
       "      <td>2023-01-01 00:40:00</td>\n",
       "    </tr>\n",
       "    <tr>\n",
       "      <th>...</th>\n",
       "      <td>...</td>\n",
       "      <td>...</td>\n",
       "      <td>...</td>\n",
       "      <td>...</td>\n",
       "      <td>...</td>\n",
       "      <td>...</td>\n",
       "      <td>...</td>\n",
       "    </tr>\n",
       "    <tr>\n",
       "      <th>99950</th>\n",
       "      <td>99951</td>\n",
       "      <td>Male</td>\n",
       "      <td>41</td>\n",
       "      <td>UK</td>\n",
       "      <td>187.84</td>\n",
       "      <td>Fashion</td>\n",
       "      <td>2023-03-11 09:50:00</td>\n",
       "    </tr>\n",
       "    <tr>\n",
       "      <th>99960</th>\n",
       "      <td>99961</td>\n",
       "      <td>Female</td>\n",
       "      <td>38</td>\n",
       "      <td>India</td>\n",
       "      <td>167.21</td>\n",
       "      <td>Electronics</td>\n",
       "      <td>2023-03-11 10:00:00</td>\n",
       "    </tr>\n",
       "    <tr>\n",
       "      <th>99970</th>\n",
       "      <td>99971</td>\n",
       "      <td>Female</td>\n",
       "      <td>52</td>\n",
       "      <td>France</td>\n",
       "      <td>242.58</td>\n",
       "      <td>Fashion</td>\n",
       "      <td>2023-03-11 10:10:00</td>\n",
       "    </tr>\n",
       "    <tr>\n",
       "      <th>99980</th>\n",
       "      <td>99981</td>\n",
       "      <td>Female</td>\n",
       "      <td>58</td>\n",
       "      <td>India</td>\n",
       "      <td>229.80</td>\n",
       "      <td>Books</td>\n",
       "      <td>2023-03-11 10:20:00</td>\n",
       "    </tr>\n",
       "    <tr>\n",
       "      <th>99990</th>\n",
       "      <td>99991</td>\n",
       "      <td>Female</td>\n",
       "      <td>51</td>\n",
       "      <td>India</td>\n",
       "      <td>106.44</td>\n",
       "      <td>Books</td>\n",
       "      <td>2023-03-11 10:30:00</td>\n",
       "    </tr>\n",
       "  </tbody>\n",
       "</table>\n",
       "<p>10000 rows × 7 columns</p>\n",
       "</div>"
      ],
      "text/plain": [
       "       Customer_ID  Gender  Age  Country  Purchase_Amount Purchase_Category  \\\n",
       "0                1    Male   26       UK           124.25           Fashion   \n",
       "10              11    Male   54       UK           187.60             Books   \n",
       "20              21  Female   53  Germany           203.72             Books   \n",
       "30              31    Male   55    China           110.40       Electronics   \n",
       "40              41    Male   42   France           262.37       Electronics   \n",
       "...            ...     ...  ...      ...              ...               ...   \n",
       "99950        99951    Male   41       UK           187.84           Fashion   \n",
       "99960        99961  Female   38    India           167.21       Electronics   \n",
       "99970        99971  Female   52   France           242.58           Fashion   \n",
       "99980        99981  Female   58    India           229.80             Books   \n",
       "99990        99991  Female   51    India           106.44             Books   \n",
       "\n",
       "      Transaction_Timestamp  \n",
       "0       2023-01-01 00:00:00  \n",
       "10      2023-01-01 00:10:00  \n",
       "20      2023-01-01 00:20:00  \n",
       "30      2023-01-01 00:30:00  \n",
       "40      2023-01-01 00:40:00  \n",
       "...                     ...  \n",
       "99950   2023-03-11 09:50:00  \n",
       "99960   2023-03-11 10:00:00  \n",
       "99970   2023-03-11 10:10:00  \n",
       "99980   2023-03-11 10:20:00  \n",
       "99990   2023-03-11 10:30:00  \n",
       "\n",
       "[10000 rows x 7 columns]"
      ]
     },
     "execution_count": 40,
     "metadata": {},
     "output_type": "execute_result"
    }
   ],
   "source": [
    "systematic_sample_list = []\n",
    "for i in range(0, len(data), 10):  # Step by 10\n",
    "    systematic_sample_list.append(data.iloc[i])\n",
    "\n",
    "systematic_sample_df = pd.DataFrame(systematic_sample_list)\n",
    "systematic_sample_df"
   ]
  },
  {
   "cell_type": "code",
   "execution_count": null,
   "id": "a12e3836-7227-40e8-9614-ea6c36e67d9c",
   "metadata": {},
   "outputs": [
    {
     "data": {
      "text/plain": [
       "Index(['Customer_ID', 'Gender', 'Age', 'Country', 'Purchase_Amount',\n",
       "       'Purchase_Category', 'Transaction_Timestamp'],\n",
       "      dtype='object')"
      ]
     },
     "execution_count": 41,
     "metadata": {},
     "output_type": "execute_result"
    }
   ],
   "source": [
    "data.columns"
   ]
  }
 ],
 "metadata": {
  "language_info": {
   "codemirror_mode": {
    "name": "ipython",
    "version": 3
   },
   "file_extension": ".py",
   "mimetype": "text/x-python",
   "name": "python",
   "nbconvert_exporter": "python",
   "pygments_lexer": "ipython3",
   "version": 3
  }
 },
 "nbformat": 4,
 "nbformat_minor": 2
}
