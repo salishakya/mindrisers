{
 "cells": [
  {
   "cell_type": "code",
   "execution_count": 1,
   "id": "e4a6d916-abb1-498b-b5f2-e8529f1ad6f9",
   "metadata": {},
   "outputs": [],
   "source": [
    "#Operators Class"
   ]
  },
  {
   "cell_type": "markdown",
   "id": "1d85eef8-3ffa-4489-9d09-104bb7f04b76",
   "metadata": {},
   "source": [
    "Day-2 Operators' Class"
   ]
  },
  {
   "cell_type": "markdown",
   "id": "3d4f3df9-5ff9-4489-84d1-887f00f0f14b",
   "metadata": {},
   "source": [
    "#Day 2 Operators Class"
   ]
  },
  {
   "cell_type": "code",
   "execution_count": 11,
   "id": "40d3b93c-691d-49d8-a355-ff561b6eb8d8",
   "metadata": {},
   "outputs": [
    {
     "data": {
      "text/plain": [
       "1"
      ]
     },
     "execution_count": 11,
     "metadata": {},
     "output_type": "execute_result"
    }
   ],
   "source": [
    "\"\"\"Arithmetic Operators\n",
    "Add, subs, multiplication. division, modulus(%), exponentiation (**), floor division (//)\"\"\"\n",
    "\n",
    "4%3 #gives remainder"
   ]
  },
  {
   "cell_type": "code",
   "execution_count": 10,
   "id": "145dd71c-db38-4eb7-9928-3c9abfbe61a3",
   "metadata": {},
   "outputs": [
    {
     "data": {
      "text/plain": [
       "8"
      ]
     },
     "execution_count": 10,
     "metadata": {},
     "output_type": "execute_result"
    }
   ],
   "source": [
    "2**3 #(2 power to 3)"
   ]
  },
  {
   "cell_type": "code",
   "execution_count": 13,
   "id": "473aeaa4-5ad7-424d-902f-73d26356736e",
   "metadata": {},
   "outputs": [
    {
     "data": {
      "text/plain": [
       "1"
      ]
     },
     "execution_count": 13,
     "metadata": {},
     "output_type": "execute_result"
    }
   ],
   "source": [
    "5//3 #quotient, ignores the decimal part, should have been 1.6666666...7"
   ]
  },
  {
   "cell_type": "code",
   "execution_count": 14,
   "id": "094a15ec-01f1-474e-b0d4-14de37268ff1",
   "metadata": {},
   "outputs": [],
   "source": [
    "x=7*(3+8-4)/6"
   ]
  },
  {
   "cell_type": "code",
   "execution_count": 16,
   "id": "be5ea65a-c97d-4e1e-baec-0c022bf7295a",
   "metadata": {},
   "outputs": [
    {
     "data": {
      "text/plain": [
       "8.166666666666666"
      ]
     },
     "execution_count": 16,
     "metadata": {},
     "output_type": "execute_result"
    }
   ],
   "source": [
    "x"
   ]
  },
  {
   "cell_type": "code",
   "execution_count": 17,
   "id": "1137561d-0006-4267-994b-dc940fd1abeb",
   "metadata": {},
   "outputs": [],
   "source": [
    "y = int(x) // 2"
   ]
  },
  {
   "cell_type": "code",
   "execution_count": 18,
   "id": "e5d3dda4-5fcc-43ac-ab91-dba192bdc179",
   "metadata": {},
   "outputs": [
    {
     "data": {
      "text/plain": [
       "4"
      ]
     },
     "execution_count": 18,
     "metadata": {},
     "output_type": "execute_result"
    }
   ],
   "source": [
    "y"
   ]
  },
  {
   "cell_type": "code",
   "execution_count": 20,
   "id": "0016295c-48c0-40ab-b92c-d3fee3ab1867",
   "metadata": {},
   "outputs": [],
   "source": [
    "x=8.1666667"
   ]
  },
  {
   "cell_type": "code",
   "execution_count": 21,
   "id": "aeb06326-8a5a-45ee-a446-1afc3b128265",
   "metadata": {},
   "outputs": [],
   "source": [
    "y = int(x) % 2"
   ]
  },
  {
   "cell_type": "code",
   "execution_count": 22,
   "id": "95f5bd7d-daab-4365-bdbb-63e65dfc0047",
   "metadata": {},
   "outputs": [
    {
     "data": {
      "text/plain": [
       "0"
      ]
     },
     "execution_count": 22,
     "metadata": {},
     "output_type": "execute_result"
    }
   ],
   "source": [
    "y"
   ]
  },
  {
   "cell_type": "code",
   "execution_count": 23,
   "id": "e47f47b9-da57-4feb-9033-5ffc945aa82f",
   "metadata": {},
   "outputs": [
    {
     "data": {
      "text/plain": [
       "0"
      ]
     },
     "execution_count": 23,
     "metadata": {},
     "output_type": "execute_result"
    }
   ],
   "source": [
    "y ** 3"
   ]
  },
  {
   "cell_type": "code",
   "execution_count": 24,
   "id": "fc037894-4206-445b-bd80-db35f8de2cd3",
   "metadata": {},
   "outputs": [
    {
     "data": {
      "text/plain": [
       "512"
      ]
     },
     "execution_count": 24,
     "metadata": {},
     "output_type": "execute_result"
    }
   ],
   "source": [
    "int(x) ** 3"
   ]
  },
  {
   "cell_type": "code",
   "execution_count": 25,
   "id": "8cbec7be-7662-4e45-bf11-4e06475e1ead",
   "metadata": {},
   "outputs": [
    {
     "ename": "NameError",
     "evalue": "name 'z' is not defined",
     "output_type": "error",
     "traceback": [
      "\u001b[1;31m---------------------------------------------------------------------------\u001b[0m",
      "\u001b[1;31mNameError\u001b[0m                                 Traceback (most recent call last)",
      "Cell \u001b[1;32mIn[25], line 1\u001b[0m\n\u001b[1;32m----> 1\u001b[0m \u001b[43mz\u001b[49m \u001b[38;5;241m/\u001b[39m\u001b[38;5;241m/\u001b[39m \u001b[38;5;241m3\u001b[39m\n",
      "\u001b[1;31mNameError\u001b[0m: name 'z' is not defined"
     ]
    }
   ],
   "source": [
    "z // 3"
   ]
  },
  {
   "cell_type": "code",
   "execution_count": 26,
   "id": "7191328e-c6ae-434e-8137-44aee04725e0",
   "metadata": {},
   "outputs": [],
   "source": [
    "z = int(x) ** 3"
   ]
  },
  {
   "cell_type": "code",
   "execution_count": 27,
   "id": "52aed88b-4dbe-43a0-8c7c-37af401c4ddc",
   "metadata": {},
   "outputs": [
    {
     "data": {
      "text/plain": [
       "170"
      ]
     },
     "execution_count": 27,
     "metadata": {},
     "output_type": "execute_result"
    }
   ],
   "source": [
    "z // 3"
   ]
  },
  {
   "cell_type": "code",
   "execution_count": 1,
   "id": "a84baeab-6fed-4d85-bea1-672804ee1bb2",
   "metadata": {},
   "outputs": [
    {
     "data": {
      "text/plain": [
       "'assignment operators is =, x += 3 => x = x+3, \\nx -= 3 => x = x-3'"
      ]
     },
     "execution_count": 1,
     "metadata": {},
     "output_type": "execute_result"
    }
   ],
   "source": [
    "\"\"\"assignment operators is =, x += 3 => x = x+3, \n",
    "x -= 3 => x = x-3\"\"\""
   ]
  },
  {
   "cell_type": "code",
   "execution_count": 4,
   "id": "4dc3a24d-b2b3-4885-becb-e0bd0d8512cc",
   "metadata": {},
   "outputs": [],
   "source": [
    "#comparison operators ==, !=, >, < , <=, >="
   ]
  },
  {
   "cell_type": "code",
   "execution_count": 3,
   "id": "1e980e80-81a7-4d31-9942-109d92c9b05a",
   "metadata": {},
   "outputs": [
    {
     "data": {
      "text/plain": [
       "True"
      ]
     },
     "execution_count": 3,
     "metadata": {},
     "output_type": "execute_result"
    }
   ],
   "source": [
    "2!=3"
   ]
  },
  {
   "cell_type": "code",
   "execution_count": 6,
   "id": "e7d972b0-8cf3-484a-a035-06393bf458a0",
   "metadata": {},
   "outputs": [],
   "source": [
    "#logical operators AND, OR, NOT => "
   ]
  },
  {
   "cell_type": "code",
   "execution_count": 7,
   "id": "c120ce7a-33de-4927-a418-43da73a0963f",
   "metadata": {},
   "outputs": [],
   "source": [
    "a = 2"
   ]
  },
  {
   "cell_type": "code",
   "execution_count": 8,
   "id": "a4d1c0a9-dfe7-41ca-bd55-7f866139ce45",
   "metadata": {},
   "outputs": [],
   "source": [
    "b=3"
   ]
  },
  {
   "cell_type": "code",
   "execution_count": 9,
   "id": "f805674f-3688-443c-a939-7add5fa9cba3",
   "metadata": {},
   "outputs": [
    {
     "data": {
      "text/plain": [
       "False"
      ]
     },
     "execution_count": 9,
     "metadata": {},
     "output_type": "execute_result"
    }
   ],
   "source": [
    "a > 2 and b > 2"
   ]
  },
  {
   "cell_type": "code",
   "execution_count": 10,
   "id": "0f584355-402b-4acf-833f-b6e49e14bb89",
   "metadata": {},
   "outputs": [
    {
     "data": {
      "text/plain": [
       "True"
      ]
     },
     "execution_count": 10,
     "metadata": {},
     "output_type": "execute_result"
    }
   ],
   "source": [
    "a >= 2 and b > 2"
   ]
  },
  {
   "cell_type": "code",
   "execution_count": 11,
   "id": "b13d9dda-ccb7-479f-9f55-1602a8670360",
   "metadata": {},
   "outputs": [
    {
     "data": {
      "text/plain": [
       "True"
      ]
     },
     "execution_count": 11,
     "metadata": {},
     "output_type": "execute_result"
    }
   ],
   "source": [
    "a > 2 or b > 2"
   ]
  },
  {
   "cell_type": "code",
   "execution_count": 12,
   "id": "e59f3ca9-d439-4ea9-9fa6-f2900a0f8bfb",
   "metadata": {},
   "outputs": [
    {
     "data": {
      "text/plain": [
       "False"
      ]
     },
     "execution_count": 12,
     "metadata": {},
     "output_type": "execute_result"
    }
   ],
   "source": [
    "not a > 1"
   ]
  },
  {
   "cell_type": "code",
   "execution_count": 14,
   "id": "52db3e74-11ec-447b-a484-69da1ee88690",
   "metadata": {},
   "outputs": [
    {
     "ename": "NameError",
     "evalue": "name 'whatever' is not defined",
     "output_type": "error",
     "traceback": [
      "\u001b[1;31m---------------------------------------------------------------------------\u001b[0m",
      "\u001b[1;31mNameError\u001b[0m                                 Traceback (most recent call last)",
      "Cell \u001b[1;32mIn[14], line 1\u001b[0m\n\u001b[1;32m----> 1\u001b[0m \u001b[38;5;124m'\u001b[39m\u001b[38;5;124m \u001b[39m\u001b[38;5;124m'\u001b[39m \u001b[38;5;129;01mand\u001b[39;00m \u001b[43mwhatever\u001b[49m \u001b[38;5;66;03m#'' empty string is a boolean false\u001b[39;00m\n",
      "\u001b[1;31mNameError\u001b[0m: name 'whatever' is not defined"
     ]
    }
   ],
   "source": [
    "' ' and whatever #'' empty string is a boolean false"
   ]
  },
  {
   "cell_type": "code",
   "execution_count": 15,
   "id": "06459048-4843-47f8-9fa4-b30130db2f2e",
   "metadata": {},
   "outputs": [
    {
     "data": {
      "text/plain": [
       "'hello'"
      ]
     },
     "execution_count": 15,
     "metadata": {},
     "output_type": "execute_result"
    }
   ],
   "source": [
    "'hello' or whatever"
   ]
  },
  {
   "cell_type": "code",
   "execution_count": 20,
   "id": "41870281-edab-4e8f-b485-6116b85fc12c",
   "metadata": {},
   "outputs": [
    {
     "data": {
      "text/plain": [
       "'precedence rules not then and then or'"
      ]
     },
     "execution_count": 20,
     "metadata": {},
     "output_type": "execute_result"
    }
   ],
   "source": [
    "\"\"\"precedence rules not then and then or\"\"\""
   ]
  },
  {
   "cell_type": "code",
   "execution_count": 19,
   "id": "0c9f9be2-f4db-4f40-ab9e-cf6639fa3c47",
   "metadata": {},
   "outputs": [
    {
     "data": {
      "text/plain": [
       "False"
      ]
     },
     "execution_count": 19,
     "metadata": {},
     "output_type": "execute_result"
    }
   ],
   "source": [
    "False or True and not True"
   ]
  },
  {
   "cell_type": "code",
   "execution_count": 21,
   "id": "256f2a8f-2840-4bb6-809f-bc4f6cf67652",
   "metadata": {},
   "outputs": [],
   "source": [
    "#Identity Operator => is "
   ]
  },
  {
   "cell_type": "code",
   "execution_count": 22,
   "id": "a5f9df18-b878-429a-9b6b-013ba3679e54",
   "metadata": {},
   "outputs": [],
   "source": [
    "x=3"
   ]
  },
  {
   "cell_type": "code",
   "execution_count": 23,
   "id": "b3a2c273-9138-48b2-ad0a-208bc40150a7",
   "metadata": {},
   "outputs": [
    {
     "data": {
      "text/plain": [
       "True"
      ]
     },
     "execution_count": 23,
     "metadata": {},
     "output_type": "execute_result"
    }
   ],
   "source": [
    "type(x) is int"
   ]
  },
  {
   "cell_type": "code",
   "execution_count": 24,
   "id": "82ad1886-956b-4f49-823c-496f03d510f4",
   "metadata": {},
   "outputs": [
    {
     "data": {
      "text/plain": [
       "False"
      ]
     },
     "execution_count": 24,
     "metadata": {},
     "output_type": "execute_result"
    }
   ],
   "source": [
    "type(x) is float"
   ]
  },
  {
   "cell_type": "code",
   "execution_count": 25,
   "id": "c9834c67-3213-4ac2-8527-8bb95958f37a",
   "metadata": {},
   "outputs": [],
   "source": [
    "#membership operators "
   ]
  },
  {
   "cell_type": "code",
   "execution_count": 26,
   "id": "689a4d23-d5bd-42d5-993d-a5b5d296e14c",
   "metadata": {},
   "outputs": [
    {
     "data": {
      "text/plain": [
       "True"
      ]
     },
     "execution_count": 26,
     "metadata": {},
     "output_type": "execute_result"
    }
   ],
   "source": [
    "'h' in 'hello'"
   ]
  },
  {
   "cell_type": "code",
   "execution_count": 27,
   "id": "acc68514-bee8-47d6-a3f3-2cee2ffcaf1d",
   "metadata": {},
   "outputs": [
    {
     "data": {
      "text/plain": [
       "True"
      ]
     },
     "execution_count": 27,
     "metadata": {},
     "output_type": "execute_result"
    }
   ],
   "source": [
    "'ell' in 'hello'"
   ]
  },
  {
   "cell_type": "code",
   "execution_count": 28,
   "id": "181d5a58-e876-418b-9508-bdd68b545b88",
   "metadata": {},
   "outputs": [
    {
     "data": {
      "text/plain": [
       "False"
      ]
     },
     "execution_count": 28,
     "metadata": {},
     "output_type": "execute_result"
    }
   ],
   "source": [
    "'eo' in 'hello'"
   ]
  },
  {
   "cell_type": "code",
   "execution_count": 29,
   "id": "28c622ac-dab0-4b29-8de6-264b40fbffc8",
   "metadata": {},
   "outputs": [
    {
     "data": {
      "text/plain": [
       "False"
      ]
     },
     "execution_count": 29,
     "metadata": {},
     "output_type": "execute_result"
    }
   ],
   "source": [
    "'g' in 'hello'"
   ]
  },
  {
   "cell_type": "code",
   "execution_count": 30,
   "id": "8ba7a8b7-7b41-4464-bbb3-ed999bc1df39",
   "metadata": {},
   "outputs": [
    {
     "data": {
      "text/plain": [
       "False"
      ]
     },
     "execution_count": 30,
     "metadata": {},
     "output_type": "execute_result"
    }
   ],
   "source": [
    "'elo' in 'hello'"
   ]
  },
  {
   "cell_type": "code",
   "execution_count": 31,
   "id": "99532c51-6c4c-4a7f-9e15-e7ab168492b1",
   "metadata": {},
   "outputs": [
    {
     "data": {
      "text/plain": [
       "False"
      ]
     },
     "execution_count": 31,
     "metadata": {},
     "output_type": "execute_result"
    }
   ],
   "source": [
    "'E' in 'hello'"
   ]
  },
  {
   "cell_type": "code",
   "execution_count": 32,
   "id": "5919f259-d577-44a6-a293-70424c7f9366",
   "metadata": {},
   "outputs": [],
   "source": [
    "#bitwise operators &"
   ]
  },
  {
   "cell_type": "code",
   "execution_count": 33,
   "id": "050bffdb-f7d8-43b9-9e22-dab72d327136",
   "metadata": {},
   "outputs": [],
   "source": [
    "#2&3 is 10&11"
   ]
  },
  {
   "cell_type": "code",
   "execution_count": 34,
   "id": "88349d81-6edb-4375-9df8-a717ba794840",
   "metadata": {},
   "outputs": [
    {
     "data": {
      "text/plain": [
       "2"
      ]
     },
     "execution_count": 34,
     "metadata": {},
     "output_type": "execute_result"
    }
   ],
   "source": [
    "2&3"
   ]
  },
  {
   "cell_type": "code",
   "execution_count": 35,
   "id": "7c7c8474-eab1-4b5b-9608-fc7412256b05",
   "metadata": {},
   "outputs": [],
   "source": [
    "#10 & 11 => 10"
   ]
  },
  {
   "cell_type": "code",
   "execution_count": 36,
   "id": "a16eb3d3-2b33-40c6-a4c4-3e861f0daa20",
   "metadata": {},
   "outputs": [
    {
     "data": {
      "text/plain": [
       "3"
      ]
     },
     "execution_count": 36,
     "metadata": {},
     "output_type": "execute_result"
    }
   ],
   "source": [
    "2 and 3"
   ]
  },
  {
   "cell_type": "code",
   "execution_count": 37,
   "id": "c6c07fba-c28e-4851-9413-dabd97abeda1",
   "metadata": {},
   "outputs": [
    {
     "data": {
      "text/plain": [
       "6"
      ]
     },
     "execution_count": 37,
     "metadata": {},
     "output_type": "execute_result"
    }
   ],
   "source": [
    "5 and 6"
   ]
  },
  {
   "cell_type": "code",
   "execution_count": 38,
   "id": "b86c9da7-3404-4e60-b2e6-01f7204ec102",
   "metadata": {},
   "outputs": [
    {
     "data": {
      "text/plain": [
       "5"
      ]
     },
     "execution_count": 38,
     "metadata": {},
     "output_type": "execute_result"
    }
   ],
   "source": [
    "6 and 5"
   ]
  },
  {
   "cell_type": "code",
   "execution_count": 39,
   "id": "ceea5bf3-517b-4393-9807-b76c7ba21b57",
   "metadata": {},
   "outputs": [],
   "source": [
    "#bitwirse or |"
   ]
  },
  {
   "cell_type": "code",
   "execution_count": 40,
   "id": "87077af4-3d30-4803-a230-f4a8d2ac7c93",
   "metadata": {},
   "outputs": [
    {
     "data": {
      "text/plain": [
       "3"
      ]
     },
     "execution_count": 40,
     "metadata": {},
     "output_type": "execute_result"
    }
   ],
   "source": [
    "2|3"
   ]
  },
  {
   "cell_type": "code",
   "execution_count": 41,
   "id": "d6ebdf77-91ed-4a1a-b5fa-40f046ab231f",
   "metadata": {},
   "outputs": [],
   "source": [
    "#Python List"
   ]
  },
  {
   "cell_type": "code",
   "execution_count": 42,
   "id": "581a51cf-16b5-47bb-9f9d-4c767880baa6",
   "metadata": {},
   "outputs": [
    {
     "ename": "SyntaxError",
     "evalue": "unterminated string literal (detected at line 1) (2967790853.py, line 1)",
     "output_type": "error",
     "traceback": [
      "\u001b[1;36m  Cell \u001b[1;32mIn[42], line 1\u001b[1;36m\u001b[0m\n\u001b[1;33m    days_of_week=[\"sunday\", \"monday\",\"tuesday\", \"wednesday\", thursday\", \"friday\",\"saturday\"]\u001b[0m\n\u001b[1;37m                                                                                          ^\u001b[0m\n\u001b[1;31mSyntaxError\u001b[0m\u001b[1;31m:\u001b[0m unterminated string literal (detected at line 1)\n"
     ]
    }
   ],
   "source": [
    "days_of_week=[\"sunday\", \"monday\",\"tuesday\", \"wednesday\", thursday\", \"friday\",\"saturday\"]"
   ]
  },
  {
   "cell_type": "code",
   "execution_count": 43,
   "id": "3dfdf097-fe03-442b-8019-fa0b0587b6ab",
   "metadata": {},
   "outputs": [
    {
     "ename": "SyntaxError",
     "evalue": "unterminated string literal (detected at line 1) (135733336.py, line 1)",
     "output_type": "error",
     "traceback": [
      "\u001b[1;36m  Cell \u001b[1;32mIn[43], line 1\u001b[1;36m\u001b[0m\n\u001b[1;33m    days_of_week=[\"sunday\", \"monday\",\"tuesday\", \"wednesday\", thursday\", \"friday\",\"saturday\" ]\u001b[0m\n\u001b[1;37m                                                                                          ^\u001b[0m\n\u001b[1;31mSyntaxError\u001b[0m\u001b[1;31m:\u001b[0m unterminated string literal (detected at line 1)\n"
     ]
    }
   ],
   "source": [
    "days_of_week=[\"sunday\", \"monday\",\"tuesday\", \"wednesday\", thursday\", \"friday\",\"saturday\" ]"
   ]
  },
  {
   "cell_type": "code",
   "execution_count": 44,
   "id": "dbe67a9a-3334-4618-9396-55c1bfa76a0a",
   "metadata": {},
   "outputs": [],
   "source": [
    "days_of_week=[\"sunday\", \"monday\",\"tuesday\", \"wednesday\", \"thursday\", \"friday\",\"saturday\" ]"
   ]
  },
  {
   "cell_type": "code",
   "execution_count": 45,
   "id": "38867b42-a4b9-4510-97fc-87756ac5380e",
   "metadata": {},
   "outputs": [
    {
     "data": {
      "text/plain": [
       "['sunday', 'monday', 'tuesday', 'wednesday', 'thursday', 'friday', 'saturday']"
      ]
     },
     "execution_count": 45,
     "metadata": {},
     "output_type": "execute_result"
    }
   ],
   "source": [
    "days_of_week"
   ]
  },
  {
   "cell_type": "code",
   "execution_count": 47,
   "id": "38584295-3890-40a6-8af5-675940d749ff",
   "metadata": {},
   "outputs": [
    {
     "data": {
      "text/plain": [
       "7"
      ]
     },
     "execution_count": 47,
     "metadata": {},
     "output_type": "execute_result"
    }
   ],
   "source": [
    "len(days_of_week)"
   ]
  },
  {
   "cell_type": "code",
   "execution_count": 48,
   "id": "df021433-1162-4f10-a4db-977cd8076195",
   "metadata": {},
   "outputs": [],
   "source": [
    "list = [1, 3.0, 'hello', True] #don't use this"
   ]
  },
  {
   "cell_type": "code",
   "execution_count": 49,
   "id": "bce7b62d-5132-44d6-a335-1cb2374f3efd",
   "metadata": {},
   "outputs": [
    {
     "data": {
      "text/plain": [
       "[1, 3.0, 'hello', True]"
      ]
     },
     "execution_count": 49,
     "metadata": {},
     "output_type": "execute_result"
    }
   ],
   "source": [
    "list"
   ]
  },
  {
   "cell_type": "code",
   "execution_count": 50,
   "id": "393e3a7d-afe7-415a-aaa8-902eb6d4f336",
   "metadata": {},
   "outputs": [],
   "source": [
    "#access list items"
   ]
  },
  {
   "cell_type": "code",
   "execution_count": 51,
   "id": "bbf94980-39d8-411b-9559-99b559db5ec4",
   "metadata": {},
   "outputs": [
    {
     "name": "stdout",
     "output_type": "stream",
     "text": [
      "sunday\n"
     ]
    }
   ],
   "source": [
    "print(days_of_week[0])"
   ]
  },
  {
   "cell_type": "code",
   "execution_count": 52,
   "id": "bd4bc214-5e40-43c1-a8eb-92fb1eec12d4",
   "metadata": {},
   "outputs": [
    {
     "name": "stdout",
     "output_type": "stream",
     "text": [
      "saturday\n"
     ]
    }
   ],
   "source": [
    "print(days_of_week[6])"
   ]
  },
  {
   "cell_type": "code",
   "execution_count": 53,
   "id": "8ed0a590-8bf3-4e12-875a-890da4ec407d",
   "metadata": {},
   "outputs": [],
   "source": [
    "#\"data tanda\" big bracket nei chaicha"
   ]
  },
  {
   "cell_type": "code",
   "execution_count": null,
   "id": "70558018-6239-4868-9053-aca331c9552f",
   "metadata": {},
   "outputs": [],
   "source": []
  }
 ],
 "metadata": {
  "kernelspec": {
   "display_name": "Python 3 (ipykernel)",
   "language": "python",
   "name": "python3"
  },
  "language_info": {
   "codemirror_mode": {
    "name": "ipython",
    "version": 3
   },
   "file_extension": ".py",
   "mimetype": "text/x-python",
   "name": "python",
   "nbconvert_exporter": "python",
   "pygments_lexer": "ipython3",
   "version": "3.12.5"
  }
 },
 "nbformat": 4,
 "nbformat_minor": 5
}
